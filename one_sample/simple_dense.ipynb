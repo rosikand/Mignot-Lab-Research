{
  "nbformat": 4,
  "nbformat_minor": 0,
  "metadata": {
    "colab": {
      "name": "simple_dense.ipynb",
      "provenance": []
    },
    "kernelspec": {
      "name": "python3",
      "display_name": "Python 3"
    },
    "accelerator": "GPU"
  },
  "cells": [
    {
      "cell_type": "markdown",
      "metadata": {
        "id": "VnQkuRY2lG4O"
      },
      "source": [
        "# Simple Dense Neural Network\n",
        "This is a full end-to-end experiment for classifying sounds as speech vs. no speech. See the other notebooks/scripts for data preprocessing. In summary, the raw audio files were converted into Mel Spectrograms. These Mel Spectrograms are what is to be fed into the neural network. In this experiment, a simple shallow dense neural network is used. "
      ]
    },
    {
      "cell_type": "markdown",
      "metadata": {
        "id": "p7MYUKsyldcK"
      },
      "source": [
        "## Load in Data"
      ]
    },
    {
      "cell_type": "code",
      "metadata": {
        "colab": {
          "base_uri": "https://localhost:8080/"
        },
        "id": "lQpHt7kyk_53",
        "outputId": "4994f03d-18d6-4738-fa35-1858938cf9e5"
      },
      "source": [
        "from google.colab import drive\n",
        "drive.mount('/content/drive')"
      ],
      "execution_count": 3,
      "outputs": [
        {
          "output_type": "stream",
          "text": [
            "Drive already mounted at /content/drive; to attempt to forcibly remount, call drive.mount(\"/content/drive\", force_remount=True).\n"
          ],
          "name": "stdout"
        }
      ]
    },
    {
      "cell_type": "code",
      "metadata": {
        "id": "oHCHXvjilqYw"
      },
      "source": [
        "import pickle\n",
        "\n",
        "# load in labels and samples for the training subset\n",
        "training_samples_file = open('path/training_samples.pkl', 'rb')\n",
        "training_labels_file = open('path/training_labels.pkl', 'rb')\n",
        "\n",
        "# load in labels and samples for the test subset\n",
        "test_samples_file = open('path/test_samples.pkl', 'rb')\n",
        "test_labels_file = open('path/test_labels.pkl', 'rb')"
      ],
      "execution_count": 4,
      "outputs": []
    },
    {
      "cell_type": "code",
      "metadata": {
        "id": "jrTG4GZEmBa5"
      },
      "source": [
        "# training\n",
        "X = pickle.load(training_samples_file)\n",
        "y = pickle.load(training_labels_file)\n",
        "\n",
        "# test\n",
        "test_samples = pickle.load(test_samples_file)\n",
        "test_labels = pickle.load(test_labels_file)"
      ],
      "execution_count": 5,
      "outputs": []
    },
    {
      "cell_type": "code",
      "metadata": {
        "id": "C1GMvSaBmWdQ"
      },
      "source": [
        "# convert X to Numpy array since I forgot to in training data preprocessing \n",
        "import numpy as np \n",
        "X = np.array(X)"
      ],
      "execution_count": 6,
      "outputs": []
    },
    {
      "cell_type": "markdown",
      "metadata": {
        "id": "5afZF7CxmkBm"
      },
      "source": [
        "## Build the Model"
      ]
    },
    {
      "cell_type": "code",
      "metadata": {
        "id": "f6pU1ywkmmvL"
      },
      "source": [
        "import tensorflow as tf\n",
        "\n",
        "model = tf.keras.Sequential([\n",
        "    tf.keras.layers.Flatten(input_shape=(128, 431)),\n",
        "    tf.keras.layers.Dense(128, activation='relu'),\n",
        "    tf.keras.layers.Dense(2, activation='softmax')\n",
        "]) # inspired by https://www.tensorflow.org/tutorials/keras/classification"
      ],
      "execution_count": 7,
      "outputs": []
    },
    {
      "cell_type": "code",
      "metadata": {
        "colab": {
          "base_uri": "https://localhost:8080/"
        },
        "id": "x3cCX9MvmpXN",
        "outputId": "5a6c451e-9614-4f1f-91f1-a14e9d1c6a17"
      },
      "source": [
        "model.summary()"
      ],
      "execution_count": 8,
      "outputs": [
        {
          "output_type": "stream",
          "text": [
            "Model: \"sequential\"\n",
            "_________________________________________________________________\n",
            "Layer (type)                 Output Shape              Param #   \n",
            "=================================================================\n",
            "flatten (Flatten)            (None, 55168)             0         \n",
            "_________________________________________________________________\n",
            "dense (Dense)                (None, 128)               7061632   \n",
            "_________________________________________________________________\n",
            "dense_1 (Dense)              (None, 2)                 258       \n",
            "=================================================================\n",
            "Total params: 7,061,890\n",
            "Trainable params: 7,061,890\n",
            "Non-trainable params: 0\n",
            "_________________________________________________________________\n"
          ],
          "name": "stdout"
        }
      ]
    },
    {
      "cell_type": "code",
      "metadata": {
        "id": "c3qxUPyEmsAZ"
      },
      "source": [
        "model.compile(optimizer='adam',\n",
        "              loss=tf.keras.losses.SparseCategoricalCrossentropy(from_logits=True),\n",
        "              metrics=['accuracy'])"
      ],
      "execution_count": 9,
      "outputs": []
    },
    {
      "cell_type": "code",
      "metadata": {
        "colab": {
          "base_uri": "https://localhost:8080/"
        },
        "id": "s2y0wcF6m32A",
        "outputId": "4826b746-3d55-404e-c087-561b52b49e57"
      },
      "source": [
        "history = model.fit(X, y, epochs=250)"
      ],
      "execution_count": 11,
      "outputs": [
        {
          "output_type": "stream",
          "text": [
            "Epoch 1/250\n",
            "92/92 [==============================] - 4s 46ms/step - loss: 0.0208 - accuracy: 0.9952\n",
            "Epoch 2/250\n",
            "92/92 [==============================] - 4s 46ms/step - loss: 0.0163 - accuracy: 0.9969\n",
            "Epoch 3/250\n",
            "92/92 [==============================] - 4s 46ms/step - loss: 0.0145 - accuracy: 0.9973\n",
            "Epoch 4/250\n",
            "92/92 [==============================] - 4s 48ms/step - loss: 0.0135 - accuracy: 0.9973\n",
            "Epoch 5/250\n",
            "92/92 [==============================] - 4s 47ms/step - loss: 0.0124 - accuracy: 0.9976\n",
            "Epoch 6/250\n",
            "92/92 [==============================] - 4s 46ms/step - loss: 0.0115 - accuracy: 0.9976\n",
            "Epoch 7/250\n",
            "92/92 [==============================] - 4s 46ms/step - loss: 0.0105 - accuracy: 0.9976\n",
            "Epoch 8/250\n",
            "92/92 [==============================] - 4s 45ms/step - loss: 0.0097 - accuracy: 0.9976\n",
            "Epoch 9/250\n",
            "92/92 [==============================] - 4s 46ms/step - loss: 0.0089 - accuracy: 0.9976\n",
            "Epoch 10/250\n",
            "92/92 [==============================] - 4s 46ms/step - loss: 0.0082 - accuracy: 0.9976\n",
            "Epoch 11/250\n",
            "92/92 [==============================] - 4s 46ms/step - loss: 0.0072 - accuracy: 0.9980\n",
            "Epoch 12/250\n",
            "92/92 [==============================] - 4s 46ms/step - loss: 0.0066 - accuracy: 0.9983\n",
            "Epoch 13/250\n",
            "92/92 [==============================] - 4s 46ms/step - loss: 0.0059 - accuracy: 0.9983\n",
            "Epoch 14/250\n",
            "92/92 [==============================] - 4s 47ms/step - loss: 0.0142 - accuracy: 0.9966\n",
            "Epoch 15/250\n",
            "92/92 [==============================] - 4s 46ms/step - loss: 0.0229 - accuracy: 0.9969\n",
            "Epoch 16/250\n",
            "92/92 [==============================] - 4s 46ms/step - loss: 0.0174 - accuracy: 0.9949\n",
            "Epoch 17/250\n",
            "92/92 [==============================] - 4s 45ms/step - loss: 0.0206 - accuracy: 0.9963\n",
            "Epoch 18/250\n",
            "92/92 [==============================] - 4s 46ms/step - loss: 0.0050 - accuracy: 0.9990\n",
            "Epoch 19/250\n",
            "92/92 [==============================] - 4s 46ms/step - loss: 0.0041 - accuracy: 0.9990\n",
            "Epoch 20/250\n",
            "92/92 [==============================] - 4s 46ms/step - loss: 0.0037 - accuracy: 0.9990\n",
            "Epoch 21/250\n",
            "92/92 [==============================] - 4s 46ms/step - loss: 0.0033 - accuracy: 0.9990\n",
            "Epoch 22/250\n",
            "92/92 [==============================] - 4s 46ms/step - loss: 0.0029 - accuracy: 0.9990\n",
            "Epoch 23/250\n",
            "92/92 [==============================] - 4s 47ms/step - loss: 0.0026 - accuracy: 0.9990\n",
            "Epoch 24/250\n",
            "92/92 [==============================] - 4s 46ms/step - loss: 0.0023 - accuracy: 0.9990\n",
            "Epoch 25/250\n",
            "92/92 [==============================] - 4s 46ms/step - loss: 0.0020 - accuracy: 0.9990\n",
            "Epoch 26/250\n",
            "92/92 [==============================] - 4s 46ms/step - loss: 0.0018 - accuracy: 0.9993\n",
            "Epoch 27/250\n",
            "92/92 [==============================] - 4s 48ms/step - loss: 0.0016 - accuracy: 0.9993\n",
            "Epoch 28/250\n",
            "92/92 [==============================] - 4s 47ms/step - loss: 0.0014 - accuracy: 1.0000\n",
            "Epoch 29/250\n",
            "92/92 [==============================] - 4s 46ms/step - loss: 0.0013 - accuracy: 0.9997\n",
            "Epoch 30/250\n",
            "92/92 [==============================] - 4s 46ms/step - loss: 0.0011 - accuracy: 1.0000\n",
            "Epoch 31/250\n",
            "92/92 [==============================] - 4s 46ms/step - loss: 0.0011 - accuracy: 1.0000\n",
            "Epoch 32/250\n",
            "92/92 [==============================] - 4s 46ms/step - loss: 8.8892e-04 - accuracy: 1.0000\n",
            "Epoch 33/250\n",
            "92/92 [==============================] - 4s 46ms/step - loss: 8.1412e-04 - accuracy: 1.0000\n",
            "Epoch 34/250\n",
            "92/92 [==============================] - 4s 46ms/step - loss: 7.4170e-04 - accuracy: 1.0000\n",
            "Epoch 35/250\n",
            "92/92 [==============================] - 4s 46ms/step - loss: 6.7381e-04 - accuracy: 1.0000\n",
            "Epoch 36/250\n",
            "92/92 [==============================] - 4s 46ms/step - loss: 5.9603e-04 - accuracy: 1.0000\n",
            "Epoch 37/250\n",
            "92/92 [==============================] - 4s 46ms/step - loss: 0.0383 - accuracy: 0.9976\n",
            "Epoch 38/250\n",
            "92/92 [==============================] - 4s 46ms/step - loss: 0.5027 - accuracy: 0.9806\n",
            "Epoch 39/250\n",
            "92/92 [==============================] - 4s 46ms/step - loss: 0.4713 - accuracy: 0.9871\n",
            "Epoch 40/250\n",
            "92/92 [==============================] - 4s 46ms/step - loss: 0.0523 - accuracy: 0.9956\n",
            "Epoch 41/250\n",
            "92/92 [==============================] - 4s 47ms/step - loss: 0.0072 - accuracy: 0.9980\n",
            "Epoch 42/250\n",
            "92/92 [==============================] - 4s 46ms/step - loss: 0.0028 - accuracy: 0.9990\n",
            "Epoch 43/250\n",
            "92/92 [==============================] - 4s 46ms/step - loss: 0.0022 - accuracy: 0.9990\n",
            "Epoch 44/250\n",
            "92/92 [==============================] - 4s 47ms/step - loss: 0.0019 - accuracy: 0.9993\n",
            "Epoch 45/250\n",
            "92/92 [==============================] - 4s 47ms/step - loss: 0.0016 - accuracy: 0.9993\n",
            "Epoch 46/250\n",
            "92/92 [==============================] - 4s 47ms/step - loss: 0.0014 - accuracy: 0.9993\n",
            "Epoch 47/250\n",
            "92/92 [==============================] - 4s 47ms/step - loss: 0.0013 - accuracy: 0.9997\n",
            "Epoch 48/250\n",
            "92/92 [==============================] - 4s 46ms/step - loss: 0.0012 - accuracy: 0.9997\n",
            "Epoch 49/250\n",
            "92/92 [==============================] - 4s 47ms/step - loss: 0.0011 - accuracy: 1.0000\n",
            "Epoch 50/250\n",
            "92/92 [==============================] - 4s 47ms/step - loss: 9.9017e-04 - accuracy: 1.0000\n",
            "Epoch 51/250\n",
            "92/92 [==============================] - 4s 48ms/step - loss: 8.8791e-04 - accuracy: 1.0000\n",
            "Epoch 52/250\n",
            "92/92 [==============================] - 4s 48ms/step - loss: 8.4058e-04 - accuracy: 1.0000\n",
            "Epoch 53/250\n",
            "92/92 [==============================] - 4s 46ms/step - loss: 7.7765e-04 - accuracy: 1.0000\n",
            "Epoch 54/250\n",
            "92/92 [==============================] - 4s 46ms/step - loss: 7.2343e-04 - accuracy: 1.0000\n",
            "Epoch 55/250\n",
            "92/92 [==============================] - 4s 47ms/step - loss: 6.8070e-04 - accuracy: 1.0000\n",
            "Epoch 56/250\n",
            "92/92 [==============================] - 4s 46ms/step - loss: 6.4079e-04 - accuracy: 1.0000\n",
            "Epoch 57/250\n",
            "92/92 [==============================] - 4s 46ms/step - loss: 5.9332e-04 - accuracy: 1.0000\n",
            "Epoch 58/250\n",
            "92/92 [==============================] - 4s 46ms/step - loss: 5.6213e-04 - accuracy: 1.0000\n",
            "Epoch 59/250\n",
            "92/92 [==============================] - 4s 47ms/step - loss: 5.1691e-04 - accuracy: 1.0000\n",
            "Epoch 60/250\n",
            "92/92 [==============================] - 4s 47ms/step - loss: 5.1103e-04 - accuracy: 1.0000\n",
            "Epoch 61/250\n",
            "92/92 [==============================] - 4s 47ms/step - loss: 4.7301e-04 - accuracy: 1.0000\n",
            "Epoch 62/250\n",
            "92/92 [==============================] - 4s 47ms/step - loss: 4.4549e-04 - accuracy: 1.0000\n",
            "Epoch 63/250\n",
            "92/92 [==============================] - 4s 47ms/step - loss: 4.2154e-04 - accuracy: 1.0000\n",
            "Epoch 64/250\n",
            "92/92 [==============================] - 4s 47ms/step - loss: 4.0135e-04 - accuracy: 1.0000\n",
            "Epoch 65/250\n",
            "92/92 [==============================] - 4s 46ms/step - loss: 3.7507e-04 - accuracy: 1.0000\n",
            "Epoch 66/250\n",
            "92/92 [==============================] - 4s 47ms/step - loss: 3.6823e-04 - accuracy: 1.0000\n",
            "Epoch 67/250\n",
            "92/92 [==============================] - 4s 46ms/step - loss: 3.4664e-04 - accuracy: 1.0000\n",
            "Epoch 68/250\n",
            "92/92 [==============================] - 4s 47ms/step - loss: 3.2830e-04 - accuracy: 1.0000\n",
            "Epoch 69/250\n",
            "92/92 [==============================] - 4s 47ms/step - loss: 3.1058e-04 - accuracy: 1.0000\n",
            "Epoch 70/250\n",
            "92/92 [==============================] - 4s 47ms/step - loss: 2.9322e-04 - accuracy: 1.0000\n",
            "Epoch 71/250\n",
            "92/92 [==============================] - 4s 46ms/step - loss: 2.8297e-04 - accuracy: 1.0000\n",
            "Epoch 72/250\n",
            "92/92 [==============================] - 4s 46ms/step - loss: 2.7011e-04 - accuracy: 1.0000\n",
            "Epoch 73/250\n",
            "92/92 [==============================] - 4s 46ms/step - loss: 2.5339e-04 - accuracy: 1.0000\n",
            "Epoch 74/250\n",
            "92/92 [==============================] - 4s 47ms/step - loss: 2.3847e-04 - accuracy: 1.0000\n",
            "Epoch 75/250\n",
            "92/92 [==============================] - 4s 46ms/step - loss: 2.3021e-04 - accuracy: 1.0000\n",
            "Epoch 76/250\n",
            "92/92 [==============================] - 4s 48ms/step - loss: 2.1654e-04 - accuracy: 1.0000\n",
            "Epoch 77/250\n",
            "92/92 [==============================] - 4s 47ms/step - loss: 2.0762e-04 - accuracy: 1.0000\n",
            "Epoch 78/250\n",
            "92/92 [==============================] - 4s 46ms/step - loss: 1.9725e-04 - accuracy: 1.0000\n",
            "Epoch 79/250\n",
            "92/92 [==============================] - 4s 46ms/step - loss: 1.8621e-04 - accuracy: 1.0000\n",
            "Epoch 80/250\n",
            "92/92 [==============================] - 4s 47ms/step - loss: 1.8194e-04 - accuracy: 1.0000\n",
            "Epoch 81/250\n",
            "92/92 [==============================] - 4s 46ms/step - loss: 1.7522e-04 - accuracy: 1.0000\n",
            "Epoch 82/250\n",
            "92/92 [==============================] - 4s 47ms/step - loss: 1.6561e-04 - accuracy: 1.0000\n",
            "Epoch 83/250\n",
            "92/92 [==============================] - 4s 47ms/step - loss: 1.5758e-04 - accuracy: 1.0000\n",
            "Epoch 84/250\n",
            "92/92 [==============================] - 4s 47ms/step - loss: 1.5057e-04 - accuracy: 1.0000\n",
            "Epoch 85/250\n",
            "92/92 [==============================] - 4s 46ms/step - loss: 1.3972e-04 - accuracy: 1.0000\n",
            "Epoch 86/250\n",
            "92/92 [==============================] - 4s 46ms/step - loss: 1.3445e-04 - accuracy: 1.0000\n",
            "Epoch 87/250\n",
            "92/92 [==============================] - 4s 45ms/step - loss: 1.3109e-04 - accuracy: 1.0000\n",
            "Epoch 88/250\n",
            "92/92 [==============================] - 4s 46ms/step - loss: 1.2121e-04 - accuracy: 1.0000\n",
            "Epoch 89/250\n",
            "92/92 [==============================] - 4s 46ms/step - loss: 1.1477e-04 - accuracy: 1.0000\n",
            "Epoch 90/250\n",
            "92/92 [==============================] - 4s 47ms/step - loss: 1.1012e-04 - accuracy: 1.0000\n",
            "Epoch 91/250\n",
            "92/92 [==============================] - 4s 47ms/step - loss: 1.0930e-04 - accuracy: 1.0000\n",
            "Epoch 92/250\n",
            "92/92 [==============================] - 4s 47ms/step - loss: 1.0079e-04 - accuracy: 1.0000\n",
            "Epoch 93/250\n",
            "92/92 [==============================] - 4s 47ms/step - loss: 9.4988e-05 - accuracy: 1.0000\n",
            "Epoch 94/250\n",
            "92/92 [==============================] - 4s 47ms/step - loss: 9.0257e-05 - accuracy: 1.0000\n",
            "Epoch 95/250\n",
            "92/92 [==============================] - 4s 47ms/step - loss: 8.5706e-05 - accuracy: 1.0000\n",
            "Epoch 96/250\n",
            "92/92 [==============================] - 4s 46ms/step - loss: 8.2196e-05 - accuracy: 1.0000\n",
            "Epoch 97/250\n",
            "92/92 [==============================] - 4s 47ms/step - loss: 7.8218e-05 - accuracy: 1.0000\n",
            "Epoch 98/250\n",
            "92/92 [==============================] - 4s 47ms/step - loss: 7.5665e-05 - accuracy: 1.0000\n",
            "Epoch 99/250\n",
            "92/92 [==============================] - 4s 47ms/step - loss: 7.3155e-05 - accuracy: 1.0000\n",
            "Epoch 100/250\n",
            "92/92 [==============================] - 4s 47ms/step - loss: 6.8183e-05 - accuracy: 1.0000\n",
            "Epoch 101/250\n",
            "92/92 [==============================] - 4s 47ms/step - loss: 6.3386e-05 - accuracy: 1.0000\n",
            "Epoch 102/250\n",
            "92/92 [==============================] - 4s 48ms/step - loss: 6.2318e-05 - accuracy: 1.0000\n",
            "Epoch 103/250\n",
            "92/92 [==============================] - 4s 46ms/step - loss: 5.8205e-05 - accuracy: 1.0000\n",
            "Epoch 104/250\n",
            "92/92 [==============================] - 4s 46ms/step - loss: 5.5929e-05 - accuracy: 1.0000\n",
            "Epoch 105/250\n",
            "92/92 [==============================] - 4s 47ms/step - loss: 5.3230e-05 - accuracy: 1.0000\n",
            "Epoch 106/250\n",
            "92/92 [==============================] - 4s 47ms/step - loss: 4.9963e-05 - accuracy: 1.0000\n",
            "Epoch 107/250\n",
            "92/92 [==============================] - 4s 46ms/step - loss: 4.8941e-05 - accuracy: 1.0000\n",
            "Epoch 108/250\n",
            "92/92 [==============================] - 4s 47ms/step - loss: 4.5367e-05 - accuracy: 1.0000\n",
            "Epoch 109/250\n",
            "92/92 [==============================] - 4s 47ms/step - loss: 4.2914e-05 - accuracy: 1.0000\n",
            "Epoch 110/250\n",
            "92/92 [==============================] - 4s 47ms/step - loss: 4.2156e-05 - accuracy: 1.0000\n",
            "Epoch 111/250\n",
            "92/92 [==============================] - 4s 47ms/step - loss: 4.0059e-05 - accuracy: 1.0000\n",
            "Epoch 112/250\n",
            "92/92 [==============================] - 4s 47ms/step - loss: 3.8836e-05 - accuracy: 1.0000\n",
            "Epoch 113/250\n",
            "92/92 [==============================] - 4s 46ms/step - loss: 3.4793e-05 - accuracy: 1.0000\n",
            "Epoch 114/250\n",
            "92/92 [==============================] - 4s 46ms/step - loss: 3.4446e-05 - accuracy: 1.0000\n",
            "Epoch 115/250\n",
            "92/92 [==============================] - 4s 47ms/step - loss: 3.2986e-05 - accuracy: 1.0000\n",
            "Epoch 116/250\n",
            "92/92 [==============================] - 4s 46ms/step - loss: 3.0548e-05 - accuracy: 1.0000\n",
            "Epoch 117/250\n",
            "92/92 [==============================] - 4s 46ms/step - loss: 2.9683e-05 - accuracy: 1.0000\n",
            "Epoch 118/250\n",
            "92/92 [==============================] - 4s 47ms/step - loss: 2.7432e-05 - accuracy: 1.0000\n",
            "Epoch 119/250\n",
            "92/92 [==============================] - 4s 46ms/step - loss: 2.6409e-05 - accuracy: 1.0000\n",
            "Epoch 120/250\n",
            "92/92 [==============================] - 4s 47ms/step - loss: 2.5602e-05 - accuracy: 1.0000\n",
            "Epoch 121/250\n",
            "92/92 [==============================] - 4s 47ms/step - loss: 2.3573e-05 - accuracy: 1.0000\n",
            "Epoch 122/250\n",
            "92/92 [==============================] - 4s 47ms/step - loss: 2.3326e-05 - accuracy: 1.0000\n",
            "Epoch 123/250\n",
            "92/92 [==============================] - 4s 48ms/step - loss: 2.1607e-05 - accuracy: 1.0000\n",
            "Epoch 124/250\n",
            "92/92 [==============================] - 4s 48ms/step - loss: 2.0582e-05 - accuracy: 1.0000\n",
            "Epoch 125/250\n",
            "92/92 [==============================] - 4s 47ms/step - loss: 2.0045e-05 - accuracy: 1.0000\n",
            "Epoch 126/250\n",
            "92/92 [==============================] - 4s 48ms/step - loss: 1.8655e-05 - accuracy: 1.0000\n",
            "Epoch 127/250\n",
            "92/92 [==============================] - 4s 47ms/step - loss: 1.8270e-05 - accuracy: 1.0000\n",
            "Epoch 128/250\n",
            "92/92 [==============================] - 4s 47ms/step - loss: 1.6956e-05 - accuracy: 1.0000\n",
            "Epoch 129/250\n",
            "92/92 [==============================] - 4s 46ms/step - loss: 1.6239e-05 - accuracy: 1.0000\n",
            "Epoch 130/250\n",
            "92/92 [==============================] - 4s 47ms/step - loss: 1.5609e-05 - accuracy: 1.0000\n",
            "Epoch 131/250\n",
            "92/92 [==============================] - 4s 47ms/step - loss: 1.4813e-05 - accuracy: 1.0000\n",
            "Epoch 132/250\n",
            "92/92 [==============================] - 4s 47ms/step - loss: 1.4114e-05 - accuracy: 1.0000\n",
            "Epoch 133/250\n",
            "92/92 [==============================] - 4s 46ms/step - loss: 1.3560e-05 - accuracy: 1.0000\n",
            "Epoch 134/250\n",
            "92/92 [==============================] - 4s 47ms/step - loss: 1.2786e-05 - accuracy: 1.0000\n",
            "Epoch 135/250\n",
            "92/92 [==============================] - 4s 46ms/step - loss: 1.2125e-05 - accuracy: 1.0000\n",
            "Epoch 136/250\n",
            "92/92 [==============================] - 4s 46ms/step - loss: 1.1577e-05 - accuracy: 1.0000\n",
            "Epoch 137/250\n",
            "92/92 [==============================] - 4s 46ms/step - loss: 1.0971e-05 - accuracy: 1.0000\n",
            "Epoch 138/250\n",
            "92/92 [==============================] - 4s 47ms/step - loss: 1.0629e-05 - accuracy: 1.0000\n",
            "Epoch 139/250\n",
            "92/92 [==============================] - 4s 47ms/step - loss: 9.9405e-06 - accuracy: 1.0000\n",
            "Epoch 140/250\n",
            "92/92 [==============================] - 4s 47ms/step - loss: 9.3783e-06 - accuracy: 1.0000\n",
            "Epoch 141/250\n",
            "92/92 [==============================] - 4s 47ms/step - loss: 9.3191e-06 - accuracy: 1.0000\n",
            "Epoch 142/250\n",
            "92/92 [==============================] - 4s 47ms/step - loss: 8.7800e-06 - accuracy: 1.0000\n",
            "Epoch 143/250\n",
            "92/92 [==============================] - 4s 47ms/step - loss: 8.1701e-06 - accuracy: 1.0000\n",
            "Epoch 144/250\n",
            "92/92 [==============================] - 4s 47ms/step - loss: 8.3477e-06 - accuracy: 1.0000\n",
            "Epoch 145/250\n",
            "92/92 [==============================] - 4s 48ms/step - loss: 7.4832e-06 - accuracy: 1.0000\n",
            "Epoch 146/250\n",
            "92/92 [==============================] - 4s 48ms/step - loss: 7.0781e-06 - accuracy: 1.0000\n",
            "Epoch 147/250\n",
            "92/92 [==============================] - 4s 49ms/step - loss: 6.7634e-06 - accuracy: 1.0000\n",
            "Epoch 148/250\n",
            "92/92 [==============================] - 4s 48ms/step - loss: 6.4888e-06 - accuracy: 1.0000\n",
            "Epoch 149/250\n",
            "92/92 [==============================] - 4s 47ms/step - loss: 6.0064e-06 - accuracy: 1.0000\n",
            "Epoch 150/250\n",
            "92/92 [==============================] - 4s 47ms/step - loss: 5.8964e-06 - accuracy: 1.0000\n",
            "Epoch 151/250\n",
            "92/92 [==============================] - 4s 46ms/step - loss: 5.6889e-06 - accuracy: 1.0000\n",
            "Epoch 152/250\n",
            "92/92 [==============================] - 4s 47ms/step - loss: 5.2529e-06 - accuracy: 1.0000\n",
            "Epoch 153/250\n",
            "92/92 [==============================] - 4s 47ms/step - loss: 5.0734e-06 - accuracy: 1.0000\n",
            "Epoch 154/250\n",
            "92/92 [==============================] - 4s 46ms/step - loss: 4.8674e-06 - accuracy: 1.0000\n",
            "Epoch 155/250\n",
            "92/92 [==============================] - 4s 47ms/step - loss: 4.7280e-06 - accuracy: 1.0000\n",
            "Epoch 156/250\n",
            "92/92 [==============================] - 4s 46ms/step - loss: 4.3624e-06 - accuracy: 1.0000\n",
            "Epoch 157/250\n",
            "92/92 [==============================] - 4s 46ms/step - loss: 4.1192e-06 - accuracy: 1.0000\n",
            "Epoch 158/250\n",
            "92/92 [==============================] - 4s 47ms/step - loss: 4.0323e-06 - accuracy: 1.0000\n",
            "Epoch 159/250\n",
            "92/92 [==============================] - 4s 46ms/step - loss: 3.7507e-06 - accuracy: 1.0000\n",
            "Epoch 160/250\n",
            "92/92 [==============================] - 4s 46ms/step - loss: 3.5531e-06 - accuracy: 1.0000\n",
            "Epoch 161/250\n",
            "92/92 [==============================] - 4s 46ms/step - loss: 3.4699e-06 - accuracy: 1.0000\n",
            "Epoch 162/250\n",
            "92/92 [==============================] - 4s 46ms/step - loss: 3.1834e-06 - accuracy: 1.0000\n",
            "Epoch 163/250\n",
            "92/92 [==============================] - 4s 47ms/step - loss: 3.2936e-06 - accuracy: 1.0000\n",
            "Epoch 164/250\n",
            "92/92 [==============================] - 4s 47ms/step - loss: 2.9424e-06 - accuracy: 1.0000\n",
            "Epoch 165/250\n",
            "92/92 [==============================] - 4s 47ms/step - loss: 2.8382e-06 - accuracy: 1.0000\n",
            "Epoch 166/250\n",
            "92/92 [==============================] - 4s 47ms/step - loss: 2.7423e-06 - accuracy: 1.0000\n",
            "Epoch 167/250\n",
            "92/92 [==============================] - 4s 48ms/step - loss: 2.5936e-06 - accuracy: 1.0000\n",
            "Epoch 168/250\n",
            "92/92 [==============================] - 4s 48ms/step - loss: 2.4420e-06 - accuracy: 1.0000\n",
            "Epoch 169/250\n",
            "92/92 [==============================] - 4s 46ms/step - loss: 2.3353e-06 - accuracy: 1.0000\n",
            "Epoch 170/250\n",
            "92/92 [==============================] - 4s 47ms/step - loss: 2.2330e-06 - accuracy: 1.0000\n",
            "Epoch 171/250\n",
            "92/92 [==============================] - 4s 47ms/step - loss: 2.1741e-06 - accuracy: 1.0000\n",
            "Epoch 172/250\n",
            "92/92 [==============================] - 4s 47ms/step - loss: 2.0540e-06 - accuracy: 1.0000\n",
            "Epoch 173/250\n",
            "92/92 [==============================] - 4s 48ms/step - loss: 1.9801e-06 - accuracy: 1.0000\n",
            "Epoch 174/250\n",
            "92/92 [==============================] - 4s 47ms/step - loss: 1.8691e-06 - accuracy: 1.0000\n",
            "Epoch 175/250\n",
            "92/92 [==============================] - 4s 47ms/step - loss: 1.8175e-06 - accuracy: 1.0000\n",
            "Epoch 176/250\n",
            "92/92 [==============================] - 4s 47ms/step - loss: 1.7123e-06 - accuracy: 1.0000\n",
            "Epoch 177/250\n",
            "92/92 [==============================] - 4s 47ms/step - loss: 1.6279e-06 - accuracy: 1.0000\n",
            "Epoch 178/250\n",
            "92/92 [==============================] - 4s 47ms/step - loss: 1.5969e-06 - accuracy: 1.0000\n",
            "Epoch 179/250\n",
            "92/92 [==============================] - 4s 47ms/step - loss: 1.4876e-06 - accuracy: 1.0000\n",
            "Epoch 180/250\n",
            "92/92 [==============================] - 4s 47ms/step - loss: 1.4490e-06 - accuracy: 1.0000\n",
            "Epoch 181/250\n",
            "92/92 [==============================] - 4s 48ms/step - loss: 1.3616e-06 - accuracy: 1.0000\n",
            "Epoch 182/250\n",
            "92/92 [==============================] - 4s 47ms/step - loss: 1.3165e-06 - accuracy: 1.0000\n",
            "Epoch 183/250\n",
            "92/92 [==============================] - 4s 47ms/step - loss: 1.3088e-06 - accuracy: 1.0000\n",
            "Epoch 184/250\n",
            "92/92 [==============================] - 4s 47ms/step - loss: 1.2274e-06 - accuracy: 1.0000\n",
            "Epoch 185/250\n",
            "92/92 [==============================] - 4s 47ms/step - loss: 1.1362e-06 - accuracy: 1.0000\n",
            "Epoch 186/250\n",
            "92/92 [==============================] - 4s 47ms/step - loss: 1.1042e-06 - accuracy: 1.0000\n",
            "Epoch 187/250\n",
            "92/92 [==============================] - 4s 47ms/step - loss: 1.0393e-06 - accuracy: 1.0000\n",
            "Epoch 188/250\n",
            "92/92 [==============================] - 4s 46ms/step - loss: 1.0275e-06 - accuracy: 1.0000\n",
            "Epoch 189/250\n",
            "92/92 [==============================] - 4s 46ms/step - loss: 9.9402e-07 - accuracy: 1.0000\n",
            "Epoch 190/250\n",
            "92/92 [==============================] - 4s 47ms/step - loss: 9.4391e-07 - accuracy: 1.0000\n",
            "Epoch 191/250\n",
            "92/92 [==============================] - 4s 47ms/step - loss: 8.9575e-07 - accuracy: 1.0000\n",
            "Epoch 192/250\n",
            "92/92 [==============================] - 4s 47ms/step - loss: 8.4114e-07 - accuracy: 1.0000\n",
            "Epoch 193/250\n",
            "92/92 [==============================] - 4s 46ms/step - loss: 8.2211e-07 - accuracy: 1.0000\n",
            "Epoch 194/250\n",
            "92/92 [==============================] - 4s 47ms/step - loss: 7.8183e-07 - accuracy: 1.0000\n",
            "Epoch 195/250\n",
            "92/92 [==============================] - 4s 47ms/step - loss: 7.3966e-07 - accuracy: 1.0000\n",
            "Epoch 196/250\n",
            "92/92 [==============================] - 4s 47ms/step - loss: 7.1359e-07 - accuracy: 1.0000\n",
            "Epoch 197/250\n",
            "92/92 [==============================] - 4s 47ms/step - loss: 6.8963e-07 - accuracy: 1.0000\n",
            "Epoch 198/250\n",
            "92/92 [==============================] - 4s 48ms/step - loss: 6.5761e-07 - accuracy: 1.0000\n",
            "Epoch 199/250\n",
            "92/92 [==============================] - 4s 48ms/step - loss: 6.2675e-07 - accuracy: 1.0000\n",
            "Epoch 200/250\n",
            "92/92 [==============================] - 4s 48ms/step - loss: 6.1191e-07 - accuracy: 1.0000\n",
            "Epoch 201/250\n",
            "92/92 [==============================] - 4s 49ms/step - loss: 5.8438e-07 - accuracy: 1.0000\n",
            "Epoch 202/250\n",
            "92/92 [==============================] - 4s 47ms/step - loss: 5.5499e-07 - accuracy: 1.0000\n",
            "Epoch 203/250\n",
            "92/92 [==============================] - 4s 47ms/step - loss: 5.3018e-07 - accuracy: 1.0000\n",
            "Epoch 204/250\n",
            "92/92 [==============================] - 4s 47ms/step - loss: 5.1315e-07 - accuracy: 1.0000\n",
            "Epoch 205/250\n",
            "92/92 [==============================] - 4s 47ms/step - loss: 5.0450e-07 - accuracy: 1.0000\n",
            "Epoch 206/250\n",
            "92/92 [==============================] - 4s 47ms/step - loss: 4.6368e-07 - accuracy: 1.0000\n",
            "Epoch 207/250\n",
            "92/92 [==============================] - 4s 47ms/step - loss: 4.6238e-07 - accuracy: 1.0000\n",
            "Epoch 208/250\n",
            "92/92 [==============================] - 4s 47ms/step - loss: 4.3153e-07 - accuracy: 1.0000\n",
            "Epoch 209/250\n",
            "92/92 [==============================] - 4s 47ms/step - loss: 4.1410e-07 - accuracy: 1.0000\n",
            "Epoch 210/250\n",
            "92/92 [==============================] - 4s 46ms/step - loss: 4.0335e-07 - accuracy: 1.0000\n",
            "Epoch 211/250\n",
            "92/92 [==============================] - 4s 47ms/step - loss: 3.8146e-07 - accuracy: 1.0000\n",
            "Epoch 212/250\n",
            "92/92 [==============================] - 4s 47ms/step - loss: 3.7092e-07 - accuracy: 1.0000\n",
            "Epoch 213/250\n",
            "92/92 [==============================] - 4s 47ms/step - loss: 3.5158e-07 - accuracy: 1.0000\n",
            "Epoch 214/250\n",
            "92/92 [==============================] - 4s 47ms/step - loss: 3.3982e-07 - accuracy: 1.0000\n",
            "Epoch 215/250\n",
            "92/92 [==============================] - 4s 47ms/step - loss: 3.2826e-07 - accuracy: 1.0000\n",
            "Epoch 216/250\n",
            "92/92 [==============================] - 4s 48ms/step - loss: 3.0840e-07 - accuracy: 1.0000\n",
            "Epoch 217/250\n",
            "92/92 [==============================] - 4s 47ms/step - loss: 3.0033e-07 - accuracy: 1.0000\n",
            "Epoch 218/250\n",
            "92/92 [==============================] - 5s 49ms/step - loss: 2.8403e-07 - accuracy: 1.0000\n",
            "Epoch 219/250\n",
            "92/92 [==============================] - 4s 48ms/step - loss: 2.7681e-07 - accuracy: 1.0000\n",
            "Epoch 220/250\n",
            "92/92 [==============================] - 4s 47ms/step - loss: 2.6363e-07 - accuracy: 1.0000\n",
            "Epoch 221/250\n",
            "92/92 [==============================] - 4s 47ms/step - loss: 2.5110e-07 - accuracy: 1.0000\n",
            "Epoch 222/250\n",
            "92/92 [==============================] - 4s 47ms/step - loss: 2.4519e-07 - accuracy: 1.0000\n",
            "Epoch 223/250\n",
            "92/92 [==============================] - 4s 48ms/step - loss: 2.3314e-07 - accuracy: 1.0000\n",
            "Epoch 224/250\n",
            "92/92 [==============================] - 4s 47ms/step - loss: 2.2588e-07 - accuracy: 1.0000\n",
            "Epoch 225/250\n",
            "92/92 [==============================] - 4s 47ms/step - loss: 2.1729e-07 - accuracy: 1.0000\n",
            "Epoch 226/250\n",
            "92/92 [==============================] - 4s 47ms/step - loss: 2.0492e-07 - accuracy: 1.0000\n",
            "Epoch 227/250\n",
            "92/92 [==============================] - 4s 47ms/step - loss: 1.9742e-07 - accuracy: 1.0000\n",
            "Epoch 228/250\n",
            "92/92 [==============================] - 4s 48ms/step - loss: 1.9126e-07 - accuracy: 1.0000\n",
            "Epoch 229/250\n",
            "92/92 [==============================] - 4s 48ms/step - loss: 1.8501e-07 - accuracy: 1.0000\n",
            "Epoch 230/250\n",
            "92/92 [==============================] - 4s 48ms/step - loss: 1.7334e-07 - accuracy: 1.0000\n",
            "Epoch 231/250\n",
            "92/92 [==============================] - 4s 48ms/step - loss: 1.6851e-07 - accuracy: 1.0000\n",
            "Epoch 232/250\n",
            "92/92 [==============================] - 4s 47ms/step - loss: 1.6280e-07 - accuracy: 1.0000\n",
            "Epoch 233/250\n",
            "92/92 [==============================] - 4s 47ms/step - loss: 1.5477e-07 - accuracy: 1.0000\n",
            "Epoch 234/250\n",
            "92/92 [==============================] - 4s 47ms/step - loss: 1.4954e-07 - accuracy: 1.0000\n",
            "Epoch 235/250\n",
            "92/92 [==============================] - 4s 48ms/step - loss: 1.4532e-07 - accuracy: 1.0000\n",
            "Epoch 236/250\n",
            "92/92 [==============================] - 4s 48ms/step - loss: 1.3749e-07 - accuracy: 1.0000\n",
            "Epoch 237/250\n",
            "92/92 [==============================] - 4s 48ms/step - loss: 1.3263e-07 - accuracy: 1.0000\n",
            "Epoch 238/250\n",
            "92/92 [==============================] - 4s 48ms/step - loss: 1.2732e-07 - accuracy: 1.0000\n",
            "Epoch 239/250\n",
            "92/92 [==============================] - 4s 47ms/step - loss: 1.2209e-07 - accuracy: 1.0000\n",
            "Epoch 240/250\n",
            "92/92 [==============================] - 4s 47ms/step - loss: 1.1759e-07 - accuracy: 1.0000\n",
            "Epoch 241/250\n",
            "92/92 [==============================] - 4s 47ms/step - loss: 1.1422e-07 - accuracy: 1.0000\n",
            "Epoch 242/250\n",
            "92/92 [==============================] - 4s 48ms/step - loss: 1.0749e-07 - accuracy: 1.0000\n",
            "Epoch 243/250\n",
            "92/92 [==============================] - 4s 47ms/step - loss: 1.0494e-07 - accuracy: 1.0000\n",
            "Epoch 244/250\n",
            "92/92 [==============================] - 4s 49ms/step - loss: 1.0019e-07 - accuracy: 1.0000\n",
            "Epoch 245/250\n",
            "92/92 [==============================] - 4s 47ms/step - loss: 9.6299e-08 - accuracy: 1.0000\n",
            "Epoch 246/250\n",
            "92/92 [==============================] - 4s 48ms/step - loss: 9.1312e-08 - accuracy: 1.0000\n",
            "Epoch 247/250\n",
            "92/92 [==============================] - 4s 48ms/step - loss: 9.0055e-08 - accuracy: 1.0000\n",
            "Epoch 248/250\n",
            "92/92 [==============================] - 4s 48ms/step - loss: 8.5149e-08 - accuracy: 1.0000\n",
            "Epoch 249/250\n",
            "92/92 [==============================] - 5s 50ms/step - loss: 8.1581e-08 - accuracy: 1.0000\n",
            "Epoch 250/250\n",
            "92/92 [==============================] - 4s 48ms/step - loss: 7.8661e-08 - accuracy: 1.0000\n"
          ],
          "name": "stdout"
        }
      ]
    },
    {
      "cell_type": "code",
      "metadata": {
        "colab": {
          "base_uri": "https://localhost:8080/"
        },
        "id": "9KcL0fyMnO_m",
        "outputId": "0d5f4b94-723c-4c74-fc08-6ec436e6d320"
      },
      "source": [
        "history_dict = history.history\n",
        "print(history_dict.keys())\n",
        "# to keep for later \n",
        "%store history_dict"
      ],
      "execution_count": 12,
      "outputs": [
        {
          "output_type": "stream",
          "text": [
            "dict_keys(['loss', 'accuracy'])\n",
            "Stored 'history_dict' (dict)\n"
          ],
          "name": "stdout"
        }
      ]
    },
    {
      "cell_type": "markdown",
      "metadata": {
        "id": "YFqhnkIXne-9"
      },
      "source": [
        "#### Plot graphs"
      ]
    },
    {
      "cell_type": "code",
      "metadata": {
        "id": "Pf0xeNOdnhhD"
      },
      "source": [
        "# imports \n",
        "import matplotlib.pyplot as plt \n",
        "import matplotlib.image as mpimg"
      ],
      "execution_count": 13,
      "outputs": []
    },
    {
      "cell_type": "code",
      "metadata": {
        "id": "NVaC-sTknS3y"
      },
      "source": [
        "# function to plot training given history dictionary \n",
        "def plot_training(history_dict):\n",
        "\t\"\"\"\n",
        "\tPlots the training accuracy and loss graphs for a Keras model (validation graphs not included). \n",
        "\tParameters:\n",
        "\t\t- history_dict: a dictionary of \"history\" object from Keras \n",
        "\t\"\"\"\n",
        "\t# plot training accuracy graph \n",
        "\tplt.plot(history_dict['accuracy'])\n",
        "\tplt.title('Training Accuracy')\n",
        "\tplt.ylabel('accuracy')\n",
        "\tplt.xlabel('epoch')\n",
        "\tplt.legend(['train'], loc='upper left')\n",
        "\tplt.show()\n",
        "\n",
        "\t# plot training loss graph \n",
        "\tplt.plot(history_dict['loss'])\n",
        "\tplt.title('Training Loss')\n",
        "\tplt.ylabel('loss')\n",
        "\tplt.xlabel('epoch')\n",
        "\tplt.legend(['train'], loc='upper left')\n",
        "\tplt.show() "
      ],
      "execution_count": 14,
      "outputs": []
    },
    {
      "cell_type": "code",
      "metadata": {
        "colab": {
          "base_uri": "https://localhost:8080/",
          "height": 573
        },
        "id": "LUUUhK4InwHZ",
        "outputId": "7b156078-a734-435f-bec9-fd4235a77cb0"
      },
      "source": [
        "plot_training(history_dict)"
      ],
      "execution_count": 15,
      "outputs": [
        {
          "output_type": "display_data",
          "data": {
            "image/png": "[encoded data removed]",
            "text/plain": [
              "<Figure size 432x288 with 1 Axes>"
            ]
          },
          "metadata": {
            "tags": [],
            "needs_background": "light"
          }
        },
        {
          "output_type": "display_data",
          "data": {
            "image/png": "[encoded data removed]",
            "text/plain": [
              "<Figure size 432x288 with 1 Axes>"
            ]
          },
          "metadata": {
            "tags": [],
            "needs_background": "light"
          }
        }
      ]
    },
    {
      "cell_type": "markdown",
      "metadata": {
        "id": "oErgqyODremz"
      },
      "source": [
        "Something to notice: big spike between epochs 25 and 50. "
      ]
    },
    {
      "cell_type": "markdown",
      "metadata": {
        "id": "GAi8lQ5Qn0L8"
      },
      "source": [
        "## Evaluate on Test Set"
      ]
    },
    {
      "cell_type": "code",
      "metadata": {
        "colab": {
          "base_uri": "https://localhost:8080/"
        },
        "id": "uF2sEa2tn4Zy",
        "outputId": "b2e746f2-e0bc-4293-ecb3-3d723368bc4a"
      },
      "source": [
        "test_loss, test_accuracy = model.evaluate(test_samples,  test_labels, verbose=2)\n",
        "print('Test accuracy:', test_accuracy)"
      ],
      "execution_count": 16,
      "outputs": [
        {
          "output_type": "stream",
          "text": [
            "11/11 - 0s - loss: 3.3646 - accuracy: 0.9448\n",
            "Test accuracy: 0.9447852969169617\n"
          ],
          "name": "stdout"
        }
      ]
    },
    {
      "cell_type": "markdown",
      "metadata": {
        "id": "V3JUuwsCrlJ9"
      },
      "source": [
        "The model's accuracy on the test set is **94.5%**"
      ]
    },
    {
      "cell_type": "markdown",
      "metadata": {
        "id": "_nsxtWuqoxl0"
      },
      "source": [
        "## Predictions"
      ]
    },
    {
      "cell_type": "code",
      "metadata": {
        "id": "3oJFfwsQo0f1"
      },
      "source": [
        "predictions = model.predict(test_samples) # generates a list of predictions "
      ],
      "execution_count": 17,
      "outputs": []
    }
  ]
}