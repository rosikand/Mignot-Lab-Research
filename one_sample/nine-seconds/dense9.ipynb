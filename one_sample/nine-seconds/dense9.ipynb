{
  "nbformat": 4,
  "nbformat_minor": 0,
  "metadata": {
    "colab": {
      "name": "dense9.ipynb",
      "provenance": []
    },
    "kernelspec": {
      "name": "python3",
      "display_name": "Python 3"
    },
    "accelerator": "GPU"
  },
  "cells": [
    {
      "cell_type": "code",
      "metadata": {
        "colab": {
          "base_uri": "https://localhost:8080/"
        },
        "id": "p2wqOi1f-OGu",
        "outputId": "506d367e-4cb4-46ca-c4d1-62389f2743c5"
      },
      "source": [
        "from google.colab import drive\n",
        "drive.mount('/content/drive')"
      ],
      "execution_count": 2,
      "outputs": [
        {
          "output_type": "stream",
          "text": [
            "Mounted at /content/drive\n"
          ],
          "name": "stdout"
        }
      ]
    },
    {
      "cell_type": "code",
      "metadata": {
        "id": "KkFvuXHV-VAF"
      },
      "source": [
        "import pickle\n",
        "\n",
        "# load in labels and samples for the training subset\n",
        "training_samples_file = open('/content/drive/MyDrive/Mignot Lab Research/Experiments/one_sample/nine_seconds/train_samples.pkl', 'rb')\n",
        "training_labels_file = open('/content/drive/MyDrive/Mignot Lab Research/Experiments/one_sample/nine_seconds/train_labels.pkl', 'rb')\n",
        "\n",
        "# load in labels and samples for the test subset\n",
        "test_samples_file = open('/content/drive/MyDrive/Mignot Lab Research/Experiments/one_sample/nine_seconds/test_samples.pkl', 'rb')\n",
        "test_labels_file = open('/content/drive/MyDrive/Mignot Lab Research/Experiments/one_sample/nine_seconds/test_labels.pkl', 'rb')"
      ],
      "execution_count": 3,
      "outputs": []
    },
    {
      "cell_type": "code",
      "metadata": {
        "id": "kF4LjhYE-jN2"
      },
      "source": [
        "# training\n",
        "X = pickle.load(training_samples_file)\n",
        "y = pickle.load(training_labels_file)\n",
        "\n",
        "# test\n",
        "test_samples = pickle.load(test_samples_file)\n",
        "test_labels = pickle.load(test_labels_file)"
      ],
      "execution_count": 4,
      "outputs": []
    },
    {
      "cell_type": "code",
      "metadata": {
        "id": "fJZ4WyVd-lLk"
      },
      "source": [
        "import tensorflow as tf\n",
        "\n",
        "model = tf.keras.Sequential([\n",
        "    tf.keras.layers.Flatten(input_shape=(128, 431)),\n",
        "    tf.keras.layers.Dense(128, activation='relu'),\n",
        "    tf.keras.layers.Dense(2, activation='softmax')\n",
        "]) "
      ],
      "execution_count": 5,
      "outputs": []
    },
    {
      "cell_type": "code",
      "metadata": {
        "colab": {
          "base_uri": "https://localhost:8080/"
        },
        "id": "FRV9wp7E-pkG",
        "outputId": "9846053c-c899-4fa1-e1f6-3fceffaf5334"
      },
      "source": [
        "model.summary()"
      ],
      "execution_count": 6,
      "outputs": [
        {
          "output_type": "stream",
          "text": [
            "Model: \"sequential\"\n",
            "_________________________________________________________________\n",
            "Layer (type)                 Output Shape              Param #   \n",
            "=================================================================\n",
            "flatten (Flatten)            (None, 55168)             0         \n",
            "_________________________________________________________________\n",
            "dense (Dense)                (None, 128)               7061632   \n",
            "_________________________________________________________________\n",
            "dense_1 (Dense)              (None, 2)                 258       \n",
            "=================================================================\n",
            "Total params: 7,061,890\n",
            "Trainable params: 7,061,890\n",
            "Non-trainable params: 0\n",
            "_________________________________________________________________\n"
          ],
          "name": "stdout"
        }
      ]
    },
    {
      "cell_type": "code",
      "metadata": {
        "id": "BZfbTudz-r3S"
      },
      "source": [
        "model.compile(optimizer='adam',\n",
        "              loss=tf.keras.losses.SparseCategoricalCrossentropy(from_logits=True),\n",
        "              metrics=['accuracy'])"
      ],
      "execution_count": 7,
      "outputs": []
    },
    {
      "cell_type": "code",
      "metadata": {
        "colab": {
          "base_uri": "https://localhost:8080/"
        },
        "id": "8PnBRuEK-u3-",
        "outputId": "c59a17c9-cef4-4d98-b51e-56bd2301abcb"
      },
      "source": [
        "history = model.fit(X, y, epochs=250)"
      ],
      "execution_count": 8,
      "outputs": [
        {
          "output_type": "stream",
          "text": [
            "Epoch 1/250\n",
            "92/92 [==============================] - 2s 6ms/step - loss: 0.8222 - accuracy: 0.8915\n",
            "Epoch 2/250\n",
            "92/92 [==============================] - 1s 6ms/step - loss: 0.1436 - accuracy: 0.9789\n",
            "Epoch 3/250\n",
            "92/92 [==============================] - 1s 6ms/step - loss: 0.0387 - accuracy: 0.9948\n",
            "Epoch 4/250\n",
            "92/92 [==============================] - 1s 6ms/step - loss: 0.0157 - accuracy: 0.9978\n",
            "Epoch 5/250\n",
            "92/92 [==============================] - 1s 6ms/step - loss: 0.0113 - accuracy: 0.9980\n",
            "Epoch 6/250\n",
            "92/92 [==============================] - 1s 6ms/step - loss: 0.0096 - accuracy: 0.9976\n",
            "Epoch 7/250\n",
            "92/92 [==============================] - 1s 6ms/step - loss: 0.0074 - accuracy: 0.9990\n",
            "Epoch 8/250\n",
            "92/92 [==============================] - 1s 6ms/step - loss: 0.0091 - accuracy: 0.9976\n",
            "Epoch 9/250\n",
            "92/92 [==============================] - 1s 6ms/step - loss: 0.0034 - accuracy: 0.9998\n",
            "Epoch 10/250\n",
            "92/92 [==============================] - 1s 6ms/step - loss: 0.0025 - accuracy: 0.9998\n",
            "Epoch 11/250\n",
            "92/92 [==============================] - 1s 6ms/step - loss: 0.0016 - accuracy: 0.9998\n",
            "Epoch 12/250\n",
            "92/92 [==============================] - 1s 6ms/step - loss: 0.0013 - accuracy: 1.0000\n",
            "Epoch 13/250\n",
            "92/92 [==============================] - 1s 6ms/step - loss: 9.4650e-04 - accuracy: 1.0000\n",
            "Epoch 14/250\n",
            "92/92 [==============================] - 1s 6ms/step - loss: 6.9022e-04 - accuracy: 1.0000\n",
            "Epoch 15/250\n",
            "92/92 [==============================] - 1s 6ms/step - loss: 7.8440e-04 - accuracy: 1.0000\n",
            "Epoch 16/250\n",
            "92/92 [==============================] - 1s 6ms/step - loss: 5.9518e-04 - accuracy: 1.0000\n",
            "Epoch 17/250\n",
            "92/92 [==============================] - 1s 6ms/step - loss: 5.8730e-04 - accuracy: 1.0000\n",
            "Epoch 18/250\n",
            "92/92 [==============================] - 1s 6ms/step - loss: 4.6587e-04 - accuracy: 1.0000\n",
            "Epoch 19/250\n",
            "92/92 [==============================] - 1s 6ms/step - loss: 4.2203e-04 - accuracy: 1.0000\n",
            "Epoch 20/250\n",
            "92/92 [==============================] - 0s 5ms/step - loss: 3.1771e-04 - accuracy: 1.0000\n",
            "Epoch 21/250\n",
            "92/92 [==============================] - 1s 6ms/step - loss: 3.0646e-04 - accuracy: 1.0000\n",
            "Epoch 22/250\n",
            "92/92 [==============================] - 1s 6ms/step - loss: 1.8582e-04 - accuracy: 1.0000\n",
            "Epoch 23/250\n",
            "92/92 [==============================] - 1s 6ms/step - loss: 2.7021e-04 - accuracy: 1.0000\n",
            "Epoch 24/250\n",
            "92/92 [==============================] - 1s 6ms/step - loss: 3.0320e-04 - accuracy: 1.0000\n",
            "Epoch 25/250\n",
            "92/92 [==============================] - 1s 6ms/step - loss: 1.4834e-04 - accuracy: 1.0000\n",
            "Epoch 26/250\n",
            "92/92 [==============================] - 1s 6ms/step - loss: 1.9797e-04 - accuracy: 1.0000\n",
            "Epoch 27/250\n",
            "92/92 [==============================] - 1s 6ms/step - loss: 1.3517e-04 - accuracy: 1.0000\n",
            "Epoch 28/250\n",
            "92/92 [==============================] - 1s 6ms/step - loss: 1.4710e-04 - accuracy: 1.0000\n",
            "Epoch 29/250\n",
            "92/92 [==============================] - 1s 6ms/step - loss: 2.7346e-04 - accuracy: 1.0000\n",
            "Epoch 30/250\n",
            "92/92 [==============================] - 1s 6ms/step - loss: 1.7543e-04 - accuracy: 1.0000\n",
            "Epoch 31/250\n",
            "92/92 [==============================] - 1s 6ms/step - loss: 7.5490e-05 - accuracy: 1.0000\n",
            "Epoch 32/250\n",
            "92/92 [==============================] - 1s 6ms/step - loss: 6.9801e-05 - accuracy: 1.0000\n",
            "Epoch 33/250\n",
            "92/92 [==============================] - 1s 6ms/step - loss: 2.1966e-04 - accuracy: 1.0000\n",
            "Epoch 34/250\n",
            "92/92 [==============================] - 1s 6ms/step - loss: 5.3810e-05 - accuracy: 1.0000\n",
            "Epoch 35/250\n",
            "92/92 [==============================] - 1s 6ms/step - loss: 1.1443e-04 - accuracy: 1.0000\n",
            "Epoch 36/250\n",
            "92/92 [==============================] - 1s 6ms/step - loss: 1.0824e-04 - accuracy: 1.0000\n",
            "Epoch 37/250\n",
            "92/92 [==============================] - 1s 6ms/step - loss: 7.5334e-05 - accuracy: 1.0000\n",
            "Epoch 38/250\n",
            "92/92 [==============================] - 1s 6ms/step - loss: 8.9176e-05 - accuracy: 1.0000\n",
            "Epoch 39/250\n",
            "92/92 [==============================] - 1s 6ms/step - loss: 1.3821e-04 - accuracy: 1.0000\n",
            "Epoch 40/250\n",
            "92/92 [==============================] - 1s 6ms/step - loss: 8.9495e-05 - accuracy: 1.0000\n",
            "Epoch 41/250\n",
            "92/92 [==============================] - 1s 6ms/step - loss: 6.2635e-05 - accuracy: 1.0000\n",
            "Epoch 42/250\n",
            "92/92 [==============================] - 1s 6ms/step - loss: 7.3575e-05 - accuracy: 1.0000\n",
            "Epoch 43/250\n",
            "92/92 [==============================] - 1s 6ms/step - loss: 8.5393e-05 - accuracy: 1.0000\n",
            "Epoch 44/250\n",
            "92/92 [==============================] - 1s 6ms/step - loss: 4.3851e-05 - accuracy: 1.0000\n",
            "Epoch 45/250\n",
            "92/92 [==============================] - 1s 6ms/step - loss: 6.5651e-05 - accuracy: 1.0000\n",
            "Epoch 46/250\n",
            "92/92 [==============================] - 1s 6ms/step - loss: 6.9368e-05 - accuracy: 1.0000\n",
            "Epoch 47/250\n",
            "92/92 [==============================] - 1s 6ms/step - loss: 4.3284e-05 - accuracy: 1.0000\n",
            "Epoch 48/250\n",
            "92/92 [==============================] - 1s 6ms/step - loss: 4.4420e-05 - accuracy: 1.0000\n",
            "Epoch 49/250\n",
            "92/92 [==============================] - 1s 6ms/step - loss: 4.6715e-05 - accuracy: 1.0000\n",
            "Epoch 50/250\n",
            "92/92 [==============================] - 1s 6ms/step - loss: 6.5486e-05 - accuracy: 1.0000\n",
            "Epoch 51/250\n",
            "92/92 [==============================] - 1s 6ms/step - loss: 4.5931e-05 - accuracy: 1.0000\n",
            "Epoch 52/250\n",
            "92/92 [==============================] - 1s 6ms/step - loss: 4.8116e-05 - accuracy: 1.0000\n",
            "Epoch 53/250\n",
            "92/92 [==============================] - 1s 6ms/step - loss: 6.8612e-05 - accuracy: 1.0000\n",
            "Epoch 54/250\n",
            "92/92 [==============================] - 1s 6ms/step - loss: 5.0798e-05 - accuracy: 1.0000\n",
            "Epoch 55/250\n",
            "92/92 [==============================] - 1s 6ms/step - loss: 3.3409e-05 - accuracy: 1.0000\n",
            "Epoch 56/250\n",
            "92/92 [==============================] - 1s 6ms/step - loss: 4.0656e-05 - accuracy: 1.0000\n",
            "Epoch 57/250\n",
            "92/92 [==============================] - 1s 6ms/step - loss: 3.4637e-05 - accuracy: 1.0000\n",
            "Epoch 58/250\n",
            "92/92 [==============================] - 1s 6ms/step - loss: 5.7473e-05 - accuracy: 1.0000\n",
            "Epoch 59/250\n",
            "92/92 [==============================] - 1s 6ms/step - loss: 2.5501e-05 - accuracy: 1.0000\n",
            "Epoch 60/250\n",
            "92/92 [==============================] - 1s 6ms/step - loss: 3.6762e-05 - accuracy: 1.0000\n",
            "Epoch 61/250\n",
            "92/92 [==============================] - 1s 6ms/step - loss: 4.3903e-05 - accuracy: 1.0000\n",
            "Epoch 62/250\n",
            "92/92 [==============================] - 1s 6ms/step - loss: 2.9111e-05 - accuracy: 1.0000\n",
            "Epoch 63/250\n",
            "92/92 [==============================] - 1s 6ms/step - loss: 1.9939e-05 - accuracy: 1.0000\n",
            "Epoch 64/250\n",
            "92/92 [==============================] - 1s 6ms/step - loss: 1.3888e-05 - accuracy: 1.0000\n",
            "Epoch 65/250\n",
            "92/92 [==============================] - 1s 6ms/step - loss: 2.2950e-05 - accuracy: 1.0000\n",
            "Epoch 66/250\n",
            "92/92 [==============================] - 1s 6ms/step - loss: 2.4109e-05 - accuracy: 1.0000\n",
            "Epoch 67/250\n",
            "92/92 [==============================] - 1s 6ms/step - loss: 1.0127e-05 - accuracy: 1.0000\n",
            "Epoch 68/250\n",
            "92/92 [==============================] - 1s 6ms/step - loss: 1.1000e-05 - accuracy: 1.0000\n",
            "Epoch 69/250\n",
            "92/92 [==============================] - 1s 6ms/step - loss: 1.6144e-05 - accuracy: 1.0000\n",
            "Epoch 70/250\n",
            "92/92 [==============================] - 1s 6ms/step - loss: 2.2325e-05 - accuracy: 1.0000\n",
            "Epoch 71/250\n",
            "92/92 [==============================] - 1s 6ms/step - loss: 6.4543e-06 - accuracy: 1.0000\n",
            "Epoch 72/250\n",
            "92/92 [==============================] - 1s 6ms/step - loss: 8.2316e-06 - accuracy: 1.0000\n",
            "Epoch 73/250\n",
            "92/92 [==============================] - 1s 6ms/step - loss: 1.9844e-05 - accuracy: 1.0000\n",
            "Epoch 74/250\n",
            "92/92 [==============================] - 1s 6ms/step - loss: 1.1863e-05 - accuracy: 1.0000\n",
            "Epoch 75/250\n",
            "92/92 [==============================] - 1s 6ms/step - loss: 1.8094e-05 - accuracy: 1.0000\n",
            "Epoch 76/250\n",
            "92/92 [==============================] - 1s 6ms/step - loss: 8.3913e-06 - accuracy: 1.0000\n",
            "Epoch 77/250\n",
            "92/92 [==============================] - 1s 6ms/step - loss: 1.8734e-05 - accuracy: 1.0000\n",
            "Epoch 78/250\n",
            "92/92 [==============================] - 1s 6ms/step - loss: 5.4977e-06 - accuracy: 1.0000\n",
            "Epoch 79/250\n",
            "92/92 [==============================] - 1s 6ms/step - loss: 4.3001e-06 - accuracy: 1.0000\n",
            "Epoch 80/250\n",
            "92/92 [==============================] - 1s 6ms/step - loss: 8.8093e-06 - accuracy: 1.0000\n",
            "Epoch 81/250\n",
            "92/92 [==============================] - 1s 6ms/step - loss: 9.3872e-06 - accuracy: 1.0000\n",
            "Epoch 82/250\n",
            "92/92 [==============================] - 1s 6ms/step - loss: 5.2949e-06 - accuracy: 1.0000\n",
            "Epoch 83/250\n",
            "92/92 [==============================] - 1s 6ms/step - loss: 5.6869e-06 - accuracy: 1.0000\n",
            "Epoch 84/250\n",
            "92/92 [==============================] - 1s 6ms/step - loss: 7.3477e-06 - accuracy: 1.0000\n",
            "Epoch 85/250\n",
            "92/92 [==============================] - 1s 6ms/step - loss: 7.3664e-06 - accuracy: 1.0000\n",
            "Epoch 86/250\n",
            "92/92 [==============================] - 1s 6ms/step - loss: 4.4341e-06 - accuracy: 1.0000\n",
            "Epoch 87/250\n",
            "92/92 [==============================] - 1s 6ms/step - loss: 8.2526e-06 - accuracy: 1.0000\n",
            "Epoch 88/250\n",
            "92/92 [==============================] - 1s 6ms/step - loss: 8.6098e-06 - accuracy: 1.0000\n",
            "Epoch 89/250\n",
            "92/92 [==============================] - 1s 6ms/step - loss: 8.1545e-06 - accuracy: 1.0000\n",
            "Epoch 90/250\n",
            "92/92 [==============================] - 1s 6ms/step - loss: 6.3131e-06 - accuracy: 1.0000\n",
            "Epoch 91/250\n",
            "92/92 [==============================] - 1s 6ms/step - loss: 6.0372e-06 - accuracy: 1.0000\n",
            "Epoch 92/250\n",
            "92/92 [==============================] - 1s 6ms/step - loss: 6.8221e-06 - accuracy: 1.0000\n",
            "Epoch 93/250\n",
            "92/92 [==============================] - 1s 5ms/step - loss: 5.9251e-06 - accuracy: 1.0000\n",
            "Epoch 94/250\n",
            "92/92 [==============================] - 1s 6ms/step - loss: 1.1823e-05 - accuracy: 1.0000\n",
            "Epoch 95/250\n",
            "92/92 [==============================] - 1s 6ms/step - loss: 1.6284e-06 - accuracy: 1.0000\n",
            "Epoch 96/250\n",
            "92/92 [==============================] - 1s 6ms/step - loss: 3.2676e-06 - accuracy: 1.0000\n",
            "Epoch 97/250\n",
            "92/92 [==============================] - 1s 6ms/step - loss: 5.8277e-07 - accuracy: 1.0000\n",
            "Epoch 98/250\n",
            "92/92 [==============================] - 1s 6ms/step - loss: 6.5364e-06 - accuracy: 1.0000\n",
            "Epoch 99/250\n",
            "92/92 [==============================] - 1s 6ms/step - loss: 2.1448e-06 - accuracy: 1.0000\n",
            "Epoch 100/250\n",
            "92/92 [==============================] - 1s 6ms/step - loss: 2.8482e-06 - accuracy: 1.0000\n",
            "Epoch 101/250\n",
            "92/92 [==============================] - 1s 6ms/step - loss: 1.8371e-06 - accuracy: 1.0000\n",
            "Epoch 102/250\n",
            "92/92 [==============================] - 1s 6ms/step - loss: 2.1955e-06 - accuracy: 1.0000\n",
            "Epoch 103/250\n",
            "92/92 [==============================] - 1s 6ms/step - loss: 2.0762e-06 - accuracy: 1.0000\n",
            "Epoch 104/250\n",
            "92/92 [==============================] - 1s 6ms/step - loss: 1.6284e-06 - accuracy: 1.0000\n",
            "Epoch 105/250\n",
            "92/92 [==============================] - 1s 6ms/step - loss: 1.6474e-06 - accuracy: 1.0000\n",
            "Epoch 106/250\n",
            "92/92 [==============================] - 1s 6ms/step - loss: 2.7714e-06 - accuracy: 1.0000\n",
            "Epoch 107/250\n",
            "92/92 [==============================] - 1s 6ms/step - loss: 3.4332e-06 - accuracy: 1.0000\n",
            "Epoch 108/250\n",
            "92/92 [==============================] - 1s 6ms/step - loss: 1.1035e-06 - accuracy: 1.0000\n",
            "Epoch 109/250\n",
            "92/92 [==============================] - 1s 6ms/step - loss: 1.5962e-06 - accuracy: 1.0000\n",
            "Epoch 110/250\n",
            "92/92 [==============================] - 1s 6ms/step - loss: 1.8432e-06 - accuracy: 1.0000\n",
            "Epoch 111/250\n",
            "92/92 [==============================] - 1s 6ms/step - loss: 1.7341e-06 - accuracy: 1.0000\n",
            "Epoch 112/250\n",
            "92/92 [==============================] - 1s 6ms/step - loss: 2.0971e-06 - accuracy: 1.0000\n",
            "Epoch 113/250\n",
            "92/92 [==============================] - 1s 6ms/step - loss: 1.0776e-06 - accuracy: 1.0000\n",
            "Epoch 114/250\n",
            "92/92 [==============================] - 1s 6ms/step - loss: 1.3947e-06 - accuracy: 1.0000\n",
            "Epoch 115/250\n",
            "92/92 [==============================] - 1s 6ms/step - loss: 9.9664e-07 - accuracy: 1.0000\n",
            "Epoch 116/250\n",
            "92/92 [==============================] - 1s 6ms/step - loss: 1.5868e-06 - accuracy: 1.0000\n",
            "Epoch 117/250\n",
            "92/92 [==============================] - 1s 6ms/step - loss: 1.3398e-06 - accuracy: 1.0000\n",
            "Epoch 118/250\n",
            "92/92 [==============================] - 1s 6ms/step - loss: 6.5048e-07 - accuracy: 1.0000\n",
            "Epoch 119/250\n",
            "92/92 [==============================] - 1s 6ms/step - loss: 1.0096e-06 - accuracy: 1.0000\n",
            "Epoch 120/250\n",
            "92/92 [==============================] - 1s 6ms/step - loss: 1.1081e-06 - accuracy: 1.0000\n",
            "Epoch 121/250\n",
            "92/92 [==============================] - 1s 6ms/step - loss: 1.6363e-06 - accuracy: 1.0000\n",
            "Epoch 122/250\n",
            "92/92 [==============================] - 1s 6ms/step - loss: 1.0348e-06 - accuracy: 1.0000\n",
            "Epoch 123/250\n",
            "92/92 [==============================] - 1s 6ms/step - loss: 7.2701e-07 - accuracy: 1.0000\n",
            "Epoch 124/250\n",
            "92/92 [==============================] - 1s 6ms/step - loss: 1.1165e-06 - accuracy: 1.0000\n",
            "Epoch 125/250\n",
            "92/92 [==============================] - 1s 6ms/step - loss: 3.8082e-07 - accuracy: 1.0000\n",
            "Epoch 126/250\n",
            "92/92 [==============================] - 1s 6ms/step - loss: 5.6647e-07 - accuracy: 1.0000\n",
            "Epoch 127/250\n",
            "92/92 [==============================] - 1s 6ms/step - loss: 8.9645e-07 - accuracy: 1.0000\n",
            "Epoch 128/250\n",
            "92/92 [==============================] - 1s 6ms/step - loss: 7.0193e-07 - accuracy: 1.0000\n",
            "Epoch 129/250\n",
            "92/92 [==============================] - 1s 6ms/step - loss: 4.9190e-07 - accuracy: 1.0000\n",
            "Epoch 130/250\n",
            "92/92 [==============================] - 1s 6ms/step - loss: 1.0768e-06 - accuracy: 1.0000\n",
            "Epoch 131/250\n",
            "92/92 [==============================] - 1s 6ms/step - loss: 5.4671e-07 - accuracy: 1.0000\n",
            "Epoch 132/250\n",
            "92/92 [==============================] - 1s 6ms/step - loss: 1.1171e-06 - accuracy: 1.0000\n",
            "Epoch 133/250\n",
            "92/92 [==============================] - 1s 6ms/step - loss: 7.0171e-07 - accuracy: 1.0000\n",
            "Epoch 134/250\n",
            "92/92 [==============================] - 1s 6ms/step - loss: 6.2997e-07 - accuracy: 1.0000\n",
            "Epoch 135/250\n",
            "92/92 [==============================] - 1s 6ms/step - loss: 4.5367e-07 - accuracy: 1.0000\n",
            "Epoch 136/250\n",
            "92/92 [==============================] - 1s 6ms/step - loss: 2.7187e-07 - accuracy: 1.0000\n",
            "Epoch 137/250\n",
            "92/92 [==============================] - 1s 6ms/step - loss: 4.5229e-07 - accuracy: 1.0000\n",
            "Epoch 138/250\n",
            "92/92 [==============================] - 1s 6ms/step - loss: 2.2184e-07 - accuracy: 1.0000\n",
            "Epoch 139/250\n",
            "92/92 [==============================] - 1s 6ms/step - loss: 3.4626e-07 - accuracy: 1.0000\n",
            "Epoch 140/250\n",
            "92/92 [==============================] - 1s 6ms/step - loss: 3.0758e-07 - accuracy: 1.0000\n",
            "Epoch 141/250\n",
            "92/92 [==============================] - 1s 6ms/step - loss: 8.0428e-07 - accuracy: 1.0000\n",
            "Epoch 142/250\n",
            "92/92 [==============================] - 1s 6ms/step - loss: 4.5017e-07 - accuracy: 1.0000\n",
            "Epoch 143/250\n",
            "92/92 [==============================] - 1s 6ms/step - loss: 5.4188e-07 - accuracy: 1.0000\n",
            "Epoch 144/250\n",
            "92/92 [==============================] - 1s 6ms/step - loss: 3.0065e-07 - accuracy: 1.0000\n",
            "Epoch 145/250\n",
            "92/92 [==============================] - 1s 6ms/step - loss: 2.6363e-07 - accuracy: 1.0000\n",
            "Epoch 146/250\n",
            "92/92 [==============================] - 1s 6ms/step - loss: 1.9133e-07 - accuracy: 1.0000\n",
            "Epoch 147/250\n",
            "92/92 [==============================] - 1s 6ms/step - loss: 4.2391e-07 - accuracy: 1.0000\n",
            "Epoch 148/250\n",
            "92/92 [==============================] - 1s 6ms/step - loss: 1.7922e-07 - accuracy: 1.0000\n",
            "Epoch 149/250\n",
            "92/92 [==============================] - 1s 6ms/step - loss: 4.2314e-07 - accuracy: 1.0000\n",
            "Epoch 150/250\n",
            "92/92 [==============================] - 1s 6ms/step - loss: 1.6962e-07 - accuracy: 1.0000\n",
            "Epoch 151/250\n",
            "92/92 [==============================] - 1s 6ms/step - loss: 2.3961e-07 - accuracy: 1.0000\n",
            "Epoch 152/250\n",
            "92/92 [==============================] - 1s 6ms/step - loss: 2.0401e-07 - accuracy: 1.0000\n",
            "Epoch 153/250\n",
            "92/92 [==============================] - 1s 6ms/step - loss: 2.4258e-07 - accuracy: 1.0000\n",
            "Epoch 154/250\n",
            "92/92 [==============================] - 1s 5ms/step - loss: 3.6123e-07 - accuracy: 1.0000\n",
            "Epoch 155/250\n",
            "92/92 [==============================] - 1s 6ms/step - loss: 3.1709e-07 - accuracy: 1.0000\n",
            "Epoch 156/250\n",
            "92/92 [==============================] - 1s 6ms/step - loss: 3.1385e-07 - accuracy: 1.0000\n",
            "Epoch 157/250\n",
            "92/92 [==============================] - 1s 6ms/step - loss: 1.6056e-07 - accuracy: 1.0000\n",
            "Epoch 158/250\n",
            "92/92 [==============================] - 1s 6ms/step - loss: 1.2928e-07 - accuracy: 1.0000\n",
            "Epoch 159/250\n",
            "92/92 [==============================] - 1s 6ms/step - loss: 1.4239e-07 - accuracy: 1.0000\n",
            "Epoch 160/250\n",
            "92/92 [==============================] - 1s 6ms/step - loss: 1.2820e-07 - accuracy: 1.0000\n",
            "Epoch 161/250\n",
            "92/92 [==============================] - 1s 6ms/step - loss: 1.4372e-07 - accuracy: 1.0000\n",
            "Epoch 162/250\n",
            "92/92 [==============================] - 1s 6ms/step - loss: 1.1525e-07 - accuracy: 1.0000\n",
            "Epoch 163/250\n",
            "92/92 [==============================] - 1s 6ms/step - loss: 2.0035e-07 - accuracy: 1.0000\n",
            "Epoch 164/250\n",
            "92/92 [==============================] - 1s 6ms/step - loss: 1.1335e-07 - accuracy: 1.0000\n",
            "Epoch 165/250\n",
            "92/92 [==============================] - 1s 6ms/step - loss: 1.1547e-07 - accuracy: 1.0000\n",
            "Epoch 166/250\n",
            "92/92 [==============================] - 1s 6ms/step - loss: 9.8557e-08 - accuracy: 1.0000\n",
            "Epoch 167/250\n",
            "92/92 [==============================] - 1s 6ms/step - loss: 9.0698e-08 - accuracy: 1.0000\n",
            "Epoch 168/250\n",
            "92/92 [==============================] - 1s 6ms/step - loss: 6.3042e-08 - accuracy: 1.0000\n",
            "Epoch 169/250\n",
            "92/92 [==============================] - 1s 6ms/step - loss: 8.4477e-08 - accuracy: 1.0000\n",
            "Epoch 170/250\n",
            "92/92 [==============================] - 1s 6ms/step - loss: 4.0079e-08 - accuracy: 1.0000\n",
            "Epoch 171/250\n",
            "92/92 [==============================] - 1s 6ms/step - loss: 1.0495e-07 - accuracy: 1.0000\n",
            "Epoch 172/250\n",
            "92/92 [==============================] - 1s 6ms/step - loss: 1.0582e-07 - accuracy: 1.0000\n",
            "Epoch 173/250\n",
            "92/92 [==============================] - 1s 6ms/step - loss: 1.2164e-07 - accuracy: 1.0000\n",
            "Epoch 174/250\n",
            "92/92 [==============================] - 1s 6ms/step - loss: 5.6921e-08 - accuracy: 1.0000\n",
            "Epoch 175/250\n",
            "92/92 [==============================] - 1s 6ms/step - loss: 4.8921e-08 - accuracy: 1.0000\n",
            "Epoch 176/250\n",
            "92/92 [==============================] - 1s 6ms/step - loss: 2.9653e-08 - accuracy: 1.0000\n",
            "Epoch 177/250\n",
            "92/92 [==============================] - 1s 6ms/step - loss: 1.1873e-07 - accuracy: 1.0000\n",
            "Epoch 178/250\n",
            "92/92 [==============================] - 1s 6ms/step - loss: 3.9277e-08 - accuracy: 1.0000\n",
            "Epoch 179/250\n",
            "92/92 [==============================] - 1s 6ms/step - loss: 7.2803e-08 - accuracy: 1.0000\n",
            "Epoch 180/250\n",
            "92/92 [==============================] - 1s 6ms/step - loss: 3.3982e-08 - accuracy: 1.0000\n",
            "Epoch 181/250\n",
            "92/92 [==============================] - 1s 6ms/step - loss: 9.6039e-08 - accuracy: 1.0000\n",
            "Epoch 182/250\n",
            "92/92 [==============================] - 1s 6ms/step - loss: 3.2903e-08 - accuracy: 1.0000\n",
            "Epoch 183/250\n",
            "92/92 [==============================] - 1s 6ms/step - loss: 5.0349e-08 - accuracy: 1.0000\n",
            "Epoch 184/250\n",
            "92/92 [==============================] - 1s 6ms/step - loss: 3.3146e-08 - accuracy: 1.0000\n",
            "Epoch 185/250\n",
            "92/92 [==============================] - 1s 6ms/step - loss: 4.2924e-08 - accuracy: 1.0000\n",
            "Epoch 186/250\n",
            "92/92 [==============================] - 1s 6ms/step - loss: 1.8038e-08 - accuracy: 1.0000\n",
            "Epoch 187/250\n",
            "92/92 [==============================] - 1s 6ms/step - loss: 1.3006e-08 - accuracy: 1.0000\n",
            "Epoch 188/250\n",
            "92/92 [==============================] - 1s 6ms/step - loss: 3.6485e-08 - accuracy: 1.0000\n",
            "Epoch 189/250\n",
            "92/92 [==============================] - 1s 6ms/step - loss: 6.0980e-08 - accuracy: 1.0000\n",
            "Epoch 190/250\n",
            "92/92 [==============================] - 1s 6ms/step - loss: 1.9429e-08 - accuracy: 1.0000\n",
            "Epoch 191/250\n",
            "92/92 [==============================] - 1s 6ms/step - loss: 6.2914e-08 - accuracy: 1.0000\n",
            "Epoch 192/250\n",
            "92/92 [==============================] - 1s 6ms/step - loss: 3.8208e-08 - accuracy: 1.0000\n",
            "Epoch 193/250\n",
            "92/92 [==============================] - 1s 6ms/step - loss: 4.1134e-08 - accuracy: 1.0000\n",
            "Epoch 194/250\n",
            "92/92 [==============================] - 1s 6ms/step - loss: 2.4544e-08 - accuracy: 1.0000\n",
            "Epoch 195/250\n",
            "92/92 [==============================] - 1s 6ms/step - loss: 2.7767e-08 - accuracy: 1.0000\n",
            "Epoch 196/250\n",
            "92/92 [==============================] - 1s 6ms/step - loss: 9.7732e-09 - accuracy: 1.0000\n",
            "Epoch 197/250\n",
            "92/92 [==============================] - 1s 6ms/step - loss: 9.0793e-09 - accuracy: 1.0000\n",
            "Epoch 198/250\n",
            "92/92 [==============================] - 1s 6ms/step - loss: 2.1558e-08 - accuracy: 1.0000\n",
            "Epoch 199/250\n",
            "92/92 [==============================] - 1s 6ms/step - loss: 9.6890e-09 - accuracy: 1.0000\n",
            "Epoch 200/250\n",
            "92/92 [==============================] - 1s 6ms/step - loss: 1.7964e-08 - accuracy: 1.0000\n",
            "Epoch 201/250\n",
            "92/92 [==============================] - 1s 6ms/step - loss: 4.3501e-08 - accuracy: 1.0000\n",
            "Epoch 202/250\n",
            "92/92 [==============================] - 1s 6ms/step - loss: 2.4830e-08 - accuracy: 1.0000\n",
            "Epoch 203/250\n",
            "92/92 [==============================] - 1s 6ms/step - loss: 1.8385e-08 - accuracy: 1.0000\n",
            "Epoch 204/250\n",
            "92/92 [==============================] - 1s 6ms/step - loss: 2.3044e-08 - accuracy: 1.0000\n",
            "Epoch 205/250\n",
            "92/92 [==============================] - 1s 6ms/step - loss: 1.2627e-08 - accuracy: 1.0000\n",
            "Epoch 206/250\n",
            "92/92 [==============================] - 1s 6ms/step - loss: 2.7283e-08 - accuracy: 1.0000\n",
            "Epoch 207/250\n",
            "92/92 [==============================] - 1s 6ms/step - loss: 1.8317e-08 - accuracy: 1.0000\n",
            "Epoch 208/250\n",
            "92/92 [==============================] - 1s 6ms/step - loss: 1.5612e-08 - accuracy: 1.0000\n",
            "Epoch 209/250\n",
            "92/92 [==============================] - 1s 6ms/step - loss: 1.3369e-08 - accuracy: 1.0000\n",
            "Epoch 210/250\n",
            "92/92 [==============================] - 1s 6ms/step - loss: 2.5299e-08 - accuracy: 1.0000\n",
            "Epoch 211/250\n",
            "92/92 [==============================] - 1s 6ms/step - loss: 2.1139e-08 - accuracy: 1.0000\n",
            "Epoch 212/250\n",
            "92/92 [==============================] - 1s 6ms/step - loss: 2.0099e-08 - accuracy: 1.0000\n",
            "Epoch 213/250\n",
            "92/92 [==============================] - 1s 6ms/step - loss: 1.2030e-08 - accuracy: 1.0000\n",
            "Epoch 214/250\n",
            "92/92 [==============================] - 1s 6ms/step - loss: 1.2951e-08 - accuracy: 1.0000\n",
            "Epoch 215/250\n",
            "92/92 [==============================] - 1s 6ms/step - loss: 9.6950e-09 - accuracy: 1.0000\n",
            "Epoch 216/250\n",
            "92/92 [==============================] - 1s 6ms/step - loss: 8.6349e-09 - accuracy: 1.0000\n",
            "Epoch 217/250\n",
            "92/92 [==============================] - 1s 6ms/step - loss: 1.4101e-08 - accuracy: 1.0000\n",
            "Epoch 218/250\n",
            "92/92 [==============================] - 1s 6ms/step - loss: 3.0280e-09 - accuracy: 1.0000\n",
            "Epoch 219/250\n",
            "92/92 [==============================] - 1s 6ms/step - loss: 7.5412e-09 - accuracy: 1.0000\n",
            "Epoch 220/250\n",
            "92/92 [==============================] - 1s 6ms/step - loss: 1.0811e-08 - accuracy: 1.0000\n",
            "Epoch 221/250\n",
            "92/92 [==============================] - 1s 6ms/step - loss: 2.0824e-09 - accuracy: 1.0000\n",
            "Epoch 222/250\n",
            "92/92 [==============================] - 1s 6ms/step - loss: 3.1721e-09 - accuracy: 1.0000\n",
            "Epoch 223/250\n",
            "92/92 [==============================] - 1s 6ms/step - loss: 1.3086e-08 - accuracy: 1.0000\n",
            "Epoch 224/250\n",
            "92/92 [==============================] - 1s 6ms/step - loss: 7.5809e-09 - accuracy: 1.0000\n",
            "Epoch 225/250\n",
            "92/92 [==============================] - 1s 6ms/step - loss: 8.6281e-09 - accuracy: 1.0000\n",
            "Epoch 226/250\n",
            "92/92 [==============================] - 1s 6ms/step - loss: 4.9579e-09 - accuracy: 1.0000\n",
            "Epoch 227/250\n",
            "92/92 [==============================] - 1s 6ms/step - loss: 6.9715e-09 - accuracy: 1.0000\n",
            "Epoch 228/250\n",
            "92/92 [==============================] - 1s 6ms/step - loss: 2.2952e-09 - accuracy: 1.0000\n",
            "Epoch 229/250\n",
            "92/92 [==============================] - 1s 6ms/step - loss: 9.0933e-09 - accuracy: 1.0000\n",
            "Epoch 230/250\n",
            "92/92 [==============================] - 1s 6ms/step - loss: 1.0531e-08 - accuracy: 1.0000\n",
            "Epoch 231/250\n",
            "92/92 [==============================] - 1s 6ms/step - loss: 1.3117e-08 - accuracy: 1.0000\n",
            "Epoch 232/250\n",
            "92/92 [==============================] - 1s 6ms/step - loss: 2.0118e-09 - accuracy: 1.0000\n",
            "Epoch 233/250\n",
            "92/92 [==============================] - 1s 6ms/step - loss: 3.9793e-09 - accuracy: 1.0000\n",
            "Epoch 234/250\n",
            "92/92 [==============================] - 1s 7ms/step - loss: 5.3743e-09 - accuracy: 1.0000\n",
            "Epoch 235/250\n",
            "92/92 [==============================] - 1s 6ms/step - loss: 5.3983e-09 - accuracy: 1.0000\n",
            "Epoch 236/250\n",
            "92/92 [==============================] - 1s 6ms/step - loss: 7.8111e-09 - accuracy: 1.0000\n",
            "Epoch 237/250\n",
            "92/92 [==============================] - 1s 6ms/step - loss: 4.1099e-09 - accuracy: 1.0000\n",
            "Epoch 238/250\n",
            "92/92 [==============================] - 1s 6ms/step - loss: 3.3979e-09 - accuracy: 1.0000\n",
            "Epoch 239/250\n",
            "92/92 [==============================] - 1s 6ms/step - loss: 6.8906e-09 - accuracy: 1.0000\n",
            "Epoch 240/250\n",
            "92/92 [==============================] - 1s 6ms/step - loss: 5.6998e-09 - accuracy: 1.0000\n",
            "Epoch 241/250\n",
            "92/92 [==============================] - 1s 6ms/step - loss: 2.1280e-09 - accuracy: 1.0000\n",
            "Epoch 242/250\n",
            "92/92 [==============================] - 1s 6ms/step - loss: 5.7554e-09 - accuracy: 1.0000\n",
            "Epoch 243/250\n",
            "92/92 [==============================] - 1s 6ms/step - loss: 5.8656e-09 - accuracy: 1.0000\n",
            "Epoch 244/250\n",
            "92/92 [==============================] - 1s 6ms/step - loss: 2.1974e-09 - accuracy: 1.0000\n",
            "Epoch 245/250\n",
            "92/92 [==============================] - 1s 6ms/step - loss: 3.8462e-09 - accuracy: 1.0000\n",
            "Epoch 246/250\n",
            "92/92 [==============================] - 1s 6ms/step - loss: 4.7643e-09 - accuracy: 1.0000\n",
            "Epoch 247/250\n",
            "92/92 [==============================] - 1s 6ms/step - loss: 2.3625e-09 - accuracy: 1.0000\n",
            "Epoch 248/250\n",
            "92/92 [==============================] - 1s 6ms/step - loss: 5.7047e-09 - accuracy: 1.0000\n",
            "Epoch 249/250\n",
            "92/92 [==============================] - 1s 6ms/step - loss: 3.1035e-09 - accuracy: 1.0000\n",
            "Epoch 250/250\n",
            "92/92 [==============================] - 1s 6ms/step - loss: 2.6890e-09 - accuracy: 1.0000\n"
          ],
          "name": "stdout"
        }
      ]
    },
    {
      "cell_type": "code",
      "metadata": {
        "colab": {
          "base_uri": "https://localhost:8080/"
        },
        "id": "A6BGjnzu-wtp",
        "outputId": "382eb808-85de-45bb-ba4e-f84d0b4b9eee"
      },
      "source": [
        "history_dict = history.history\n",
        "print(history_dict.keys())\n",
        "# to keep for later \n",
        "%store history_dict"
      ],
      "execution_count": 9,
      "outputs": [
        {
          "output_type": "stream",
          "text": [
            "dict_keys(['loss', 'accuracy'])\n",
            "Stored 'history_dict' (dict)\n"
          ],
          "name": "stdout"
        }
      ]
    },
    {
      "cell_type": "code",
      "metadata": {
        "id": "qjHvIqe1-0zr"
      },
      "source": [
        "# imports \n",
        "import matplotlib.pyplot as plt \n",
        "import matplotlib.image as mpimg"
      ],
      "execution_count": 10,
      "outputs": []
    },
    {
      "cell_type": "code",
      "metadata": {
        "id": "M816JvwK-3GJ"
      },
      "source": [
        "# function to plot training given history dictionary \n",
        "def plot_training(history_dict):\n",
        "\t\"\"\"\n",
        "\tPlots the training accuracy and loss graphs for a Keras model (validation graphs not included). \n",
        "\tParameters:\n",
        "\t\t- history_dict: a dictionary of \"history\" object from Keras \n",
        "\t\"\"\"\n",
        "\t# plot training accuracy graph \n",
        "\tplt.plot(history_dict['accuracy'])\n",
        "\tplt.title('Training Accuracy')\n",
        "\tplt.ylabel('accuracy')\n",
        "\tplt.xlabel('epoch')\n",
        "\tplt.legend(['train'], loc='upper left')\n",
        "\tplt.show()\n",
        "\n",
        "\t# plot training loss graph \n",
        "\tplt.plot(history_dict['loss'])\n",
        "\tplt.title('Training Loss')\n",
        "\tplt.ylabel('loss')\n",
        "\tplt.xlabel('epoch')\n",
        "\tplt.legend(['train'], loc='upper left')\n",
        "\tplt.show()"
      ],
      "execution_count": 11,
      "outputs": []
    },
    {
      "cell_type": "code",
      "metadata": {
        "colab": {
          "base_uri": "https://localhost:8080/",
          "height": 573
        },
        "id": "wTeJt4ZD-4u_",
        "outputId": "7792ff5c-625e-4ad4-f22a-ba729fa04115"
      },
      "source": [
        "plot_training(history_dict)"
      ],
      "execution_count": 12,
      "outputs": [
        {
          "output_type": "display_data",
          "data": {
            "image/png": "[encoded data removed]",
            "text/plain": [
              "<Figure size 432x288 with 1 Axes>"
            ]
          },
          "metadata": {
            "tags": [],
            "needs_background": "light"
          }
        },
        {
          "output_type": "display_data",
          "data": {
            "image/png": "[encoded data removed]",
            "text/plain": [
              "<Figure size 432x288 with 1 Axes>"
            ]
          },
          "metadata": {
            "tags": [],
            "needs_background": "light"
          }
        }
      ]
    },
    {
      "cell_type": "code",
      "metadata": {
        "colab": {
          "base_uri": "https://localhost:8080/"
        },
        "id": "sgx89I-e-88c",
        "outputId": "6290c76c-bbcc-4098-f3dc-7276afa0f325"
      },
      "source": [
        "test_loss, test_accuracy = model.evaluate(test_samples,  test_labels, verbose=2)\n",
        "print('Test accuracy:', test_accuracy)"
      ],
      "execution_count": 13,
      "outputs": [
        {
          "output_type": "stream",
          "text": [
            "11/11 - 0s - loss: 2.7907 - accuracy: 0.9541\n",
            "Test accuracy: 0.9541284441947937\n"
          ],
          "name": "stdout"
        }
      ]
    },
    {
      "cell_type": "code",
      "metadata": {
        "colab": {
          "base_uri": "https://localhost:8080/"
        },
        "id": "t7yd5t-U-9Xf",
        "outputId": "1e3f9778-1655-435f-8d7b-61ce9c62fe5d"
      },
      "source": [
        "predictions = model.predict_classes(test_samples) # generates a list of predictions"
      ],
      "execution_count": 14,
      "outputs": [
        {
          "output_type": "stream",
          "text": [
            "/usr/local/lib/python3.7/dist-packages/tensorflow/python/keras/engine/sequential.py:450: UserWarning: `model.predict_classes()` is deprecated and will be removed after 2021-01-01. Please use instead:* `np.argmax(model.predict(x), axis=-1)`,   if your model does multi-class classification   (e.g. if it uses a `softmax` last-layer activation).* `(model.predict(x) > 0.5).astype(\"int32\")`,   if your model does binary classification   (e.g. if it uses a `sigmoid` last-layer activation).\n",
            "  warnings.warn('`model.predict_classes()` is deprecated and '\n"
          ],
          "name": "stderr"
        }
      ]
    },
    {
      "cell_type": "code",
      "metadata": {
        "colab": {
          "base_uri": "https://localhost:8080/"
        },
        "id": "brlBgmRU--5Z",
        "outputId": "fe38934a-d150-4c33-aadd-d7a2e29c0a78"
      },
      "source": [
        "print(\"Test labels: \\n\", test_labels)\n",
        "print(\"Test predictions: \\n\", predictions)"
      ],
      "execution_count": 15,
      "outputs": [
        {
          "output_type": "stream",
          "text": [
            "Test labels: \n",
            " [1 1 1 1 1 1 1 1 1 1 1 1 1 1 1 1 0 0 0 0 0 0 0 0 0 0 0 0 0 0 0 0 0 0 0 0 0\n",
            " 0 0 0 0 0 0 0 0 0 0 0 0 0 0 0 0 0 0 0 0 0 0 0 0 0 0 0 0 0 0 0 0 0 0 0 0 0\n",
            " 0 0 0 0 0 0 0 0 0 0 0 0 0 0 0 0 0 0 0 0 0 0 0 0 0 0 0 0 0 0 0 0 0 0 0 0 0\n",
            " 0 0 0 0 0 0 0 0 0 0 0 0 0 0 0 0 0 0 0 0 0 0 0 0 0 0 0 0 0 0 0 0 0 0 0 0 0\n",
            " 0 0 0 0 0 0 0 0 0 0 0 0 0 0 0 0 0 0 0 0 0 0 0 0 0 0 0 0 0 0 0 0 0 0 0 0 0\n",
            " 0 0 0 0 0 0 0 0 0 0 0 0 0 0 0 0 0 0 0 0 0 0 0 0 0 0 0 0 0 0 0 0 0 0 0 0 0\n",
            " 0 0 0 0 0 0 0 0 0 0 0 0 0 0 0 0 0 0 0 0 0 0 0 0 0 0 0 0 0 0 0 0 0 0 0 0 0\n",
            " 0 0 0 0 0 0 0 0 0 0 0 0 0 0 0 0 0 0 0 0 0 0 0 0 0 0 0 0 0 0 0 0 0 0 0 0 0\n",
            " 0 0 0 0 0 0 0 0 0 0 0 0 0 0 0 0 0 0 0 0 0 0 0 0 0 0 0 0 0 0 0]\n",
            "Test predictions: \n",
            " [1 0 0 0 0 0 0 1 1 0 0 0 0 1 1 1 0 0 0 0 0 0 0 0 0 0 0 0 0 0 0 0 0 0 0 0 0\n",
            " 0 0 0 0 0 0 0 0 1 0 0 0 0 0 0 0 1 0 0 0 0 0 0 0 0 0 0 0 1 0 0 0 0 0 0 0 0\n",
            " 0 0 0 0 0 0 0 0 0 0 0 0 0 0 0 0 0 0 0 0 0 0 0 0 0 0 0 0 0 0 0 0 0 0 0 0 0\n",
            " 0 0 0 0 0 0 0 0 0 0 0 0 0 0 0 0 0 0 0 0 0 0 0 0 0 0 0 0 0 0 0 0 0 0 0 1 0\n",
            " 0 0 0 0 0 0 0 0 0 0 0 0 0 0 0 0 0 0 0 0 0 0 0 0 0 0 0 0 0 0 0 0 0 0 0 0 0\n",
            " 0 0 0 0 0 0 0 0 0 0 0 0 0 0 0 0 0 0 0 0 0 0 0 0 0 0 0 0 0 0 0 0 0 0 0 0 0\n",
            " 0 0 0 0 0 0 0 0 0 0 0 0 0 0 0 0 0 0 0 0 0 0 0 0 0 0 0 0 0 0 0 0 0 0 0 0 0\n",
            " 1 0 0 0 0 0 0 0 0 0 0 0 0 0 0 0 0 0 0 0 0 0 0 0 0 0 0 0 0 0 0 0 0 0 0 0 0\n",
            " 0 0 0 0 0 0 0 0 0 0 0 0 0 0 0 0 0 0 0 0 0 0 0 0 0 0 0 0 0 0 0]\n"
          ],
          "name": "stdout"
        }
      ]
    },
    {
      "cell_type": "code",
      "metadata": {
        "id": "_-1hBrbZ_BXu"
      },
      "source": [
        "correct = 0\n",
        "for i in range(len(predictions)):\n",
        "  if predictions[i] == test_labels[i]:\n",
        "    correct += 1"
      ],
      "execution_count": 16,
      "outputs": []
    },
    {
      "cell_type": "code",
      "metadata": {
        "colab": {
          "base_uri": "https://localhost:8080/"
        },
        "id": "H-1Qo1cg_Fmw",
        "outputId": "05031108-df01-41fe-de94-f2bd09bbf0b8"
      },
      "source": [
        "predictions_accuracy = correct/len(test_labels)\n",
        "predictions_accuracy"
      ],
      "execution_count": 17,
      "outputs": [
        {
          "output_type": "execute_result",
          "data": {
            "text/plain": [
              "0.9541284403669725"
            ]
          },
          "metadata": {
            "tags": []
          },
          "execution_count": 17
        }
      ]
    },
    {
      "cell_type": "code",
      "metadata": {
        "colab": {
          "base_uri": "https://localhost:8080/"
        },
        "id": "UgWb9OpT_IAO",
        "outputId": "b16d7f34-6e75-4d47-cb0a-a67d531020f3"
      },
      "source": [
        "print(\"The accuracy is: \" + str(round(predictions_accuracy * 100, 1)) + \"%\")"
      ],
      "execution_count": 18,
      "outputs": [
        {
          "output_type": "stream",
          "text": [
            "The accuracy is: 95.4%\n"
          ],
          "name": "stdout"
        }
      ]
    },
    {
      "cell_type": "code",
      "metadata": {
        "id": "tGn8qYWV_KOY"
      },
      "source": [
        "speech_correct = 0\n",
        "for i in range(len(test_labels[:16])):\n",
        "    if predictions[i] == test_labels[i]:\n",
        "      speech_correct += 1"
      ],
      "execution_count": 21,
      "outputs": []
    },
    {
      "cell_type": "code",
      "metadata": {
        "colab": {
          "base_uri": "https://localhost:8080/"
        },
        "id": "-Ab7lBOm_NXD",
        "outputId": "c1a62696-da24-439f-ec13-91616625fa0b"
      },
      "source": [
        "speech_correct/len(test_labels[:16])"
      ],
      "execution_count": 22,
      "outputs": [
        {
          "output_type": "execute_result",
          "data": {
            "text/plain": [
              "0.375"
            ]
          },
          "metadata": {
            "tags": []
          },
          "execution_count": 22
        }
      ]
    },
    {
      "cell_type": "markdown",
      "metadata": {
        "id": "FhIgZsgL_hGf"
      },
      "source": [
        "even worse!"
      ]
    }
  ]
}