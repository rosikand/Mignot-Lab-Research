{
  "nbformat": 4,
  "nbformat_minor": 0,
  "metadata": {
    "colab": {
      "name": "class-balance-fix-LSTM2.ipynb",
      "provenance": []
    },
    "kernelspec": {
      "name": "python3",
      "display_name": "Python 3"
    },
    "accelerator": "GPU"
  },
  "cells": [
    {
      "cell_type": "markdown",
      "metadata": {
        "id": "V8c3iCpWCb7S"
      },
      "source": [
        "Same thing as `lstm.ipynb` except the classes are better balanced out. \n",
        "\n"
      ]
    },
    {
      "cell_type": "code",
      "metadata": {
        "colab": {
          "base_uri": "https://localhost:8080/"
        },
        "id": "p2wqOi1f-OGu",
        "outputId": "e4c7edfa-cd95-4946-bfd1-8f5d588a0a89"
      },
      "source": [
        "from google.colab import drive\n",
        "drive.mount('/content/drive')"
      ],
      "execution_count": 1,
      "outputs": [
        {
          "output_type": "stream",
          "text": [
            "Mounted at /content/drive\n"
          ],
          "name": "stdout"
        }
      ]
    },
    {
      "cell_type": "code",
      "metadata": {
        "id": "KkFvuXHV-VAF"
      },
      "source": [
        "import pickle\n",
        "\n",
        "# load in labels and samples for the training subset\n",
        "training_samples_file = open('/content/drive/MyDrive/Mignot Lab Research/Experiments/one_sample/nine_seconds/train_samples.pkl', 'rb')\n",
        "training_labels_file = open('/content/drive/MyDrive/Mignot Lab Research/Experiments/one_sample/nine_seconds/train_labels.pkl', 'rb')\n",
        "\n",
        "# load in labels and samples for the test subset\n",
        "test_samples_file = open('/content/drive/MyDrive/Mignot Lab Research/Experiments/one_sample/nine_seconds/test_samples.pkl', 'rb')\n",
        "test_labels_file = open('/content/drive/MyDrive/Mignot Lab Research/Experiments/one_sample/nine_seconds/test_labels.pkl', 'rb')"
      ],
      "execution_count": 79,
      "outputs": []
    },
    {
      "cell_type": "code",
      "metadata": {
        "id": "kF4LjhYE-jN2"
      },
      "source": [
        "# training\n",
        "X = pickle.load(training_samples_file)\n",
        "y = pickle.load(training_labels_file)\n",
        "\n",
        "# test\n",
        "test_samples = pickle.load(test_samples_file)\n",
        "test_labels = pickle.load(test_labels_file)"
      ],
      "execution_count": 80,
      "outputs": []
    },
    {
      "cell_type": "code",
      "metadata": {
        "colab": {
          "base_uri": "https://localhost:8080/"
        },
        "id": "ZKF_q2XhCqFF",
        "outputId": "bc62eb9f-53b7-4ac1-e0fb-3dd146fe7473"
      },
      "source": [
        "len(X)"
      ],
      "execution_count": 81,
      "outputs": [
        {
          "output_type": "execute_result",
          "data": {
            "text/plain": [
              "2939"
            ]
          },
          "metadata": {
            "tags": []
          },
          "execution_count": 81
        }
      ]
    },
    {
      "cell_type": "code",
      "metadata": {
        "id": "_TAyRC6DC0zb"
      },
      "source": [
        "counter = 0\n",
        "for elem in y:\n",
        "  if elem == 1:\n",
        "    counter += 1"
      ],
      "execution_count": 82,
      "outputs": []
    },
    {
      "cell_type": "code",
      "metadata": {
        "colab": {
          "base_uri": "https://localhost:8080/"
        },
        "id": "SRC4wTwZDCiN",
        "outputId": "7e7996e0-d52a-4533-ca21-d3d95e5ee72f"
      },
      "source": [
        "counter"
      ],
      "execution_count": 83,
      "outputs": [
        {
          "output_type": "execute_result",
          "data": {
            "text/plain": [
              "140"
            ]
          },
          "metadata": {
            "tags": []
          },
          "execution_count": 83
        }
      ]
    },
    {
      "cell_type": "code",
      "metadata": {
        "id": "RKzNp10PCtF7"
      },
      "source": [
        "new_x = X[:280]"
      ],
      "execution_count": 84,
      "outputs": []
    },
    {
      "cell_type": "code",
      "metadata": {
        "colab": {
          "base_uri": "https://localhost:8080/"
        },
        "id": "QjEIcQDlDOnT",
        "outputId": "5b8c5e63-5a3f-4baa-ba07-e3576127d2b6"
      },
      "source": [
        "len(new_x)"
      ],
      "execution_count": 85,
      "outputs": [
        {
          "output_type": "execute_result",
          "data": {
            "text/plain": [
              "280"
            ]
          },
          "metadata": {
            "tags": []
          },
          "execution_count": 85
        }
      ]
    },
    {
      "cell_type": "code",
      "metadata": {
        "id": "6tb-dNrQDSML"
      },
      "source": [
        "new_y = y[:280]"
      ],
      "execution_count": 86,
      "outputs": []
    },
    {
      "cell_type": "code",
      "metadata": {
        "colab": {
          "base_uri": "https://localhost:8080/"
        },
        "id": "wZOc6c97DVgI",
        "outputId": "d6c4abda-07e3-4956-dc95-e601b5b19471"
      },
      "source": [
        "len(new_y)"
      ],
      "execution_count": 87,
      "outputs": [
        {
          "output_type": "execute_result",
          "data": {
            "text/plain": [
              "280"
            ]
          },
          "metadata": {
            "tags": []
          },
          "execution_count": 87
        }
      ]
    },
    {
      "cell_type": "markdown",
      "metadata": {
        "id": "35rtAWlOFrc5"
      },
      "source": [
        "Let us also balance out the test set "
      ]
    },
    {
      "cell_type": "code",
      "metadata": {
        "id": "OnkKKOruFtWe"
      },
      "source": [
        "counter = 0\n",
        "for elem in test_labels:\n",
        "  if elem == 1:\n",
        "    counter += 1"
      ],
      "execution_count": 76,
      "outputs": []
    },
    {
      "cell_type": "code",
      "metadata": {
        "colab": {
          "base_uri": "https://localhost:8080/"
        },
        "id": "I3jJeYGMFxAT",
        "outputId": "29e8a30f-cf70-48ac-b2bf-49faa4d27c43"
      },
      "source": [
        "counter"
      ],
      "execution_count": 77,
      "outputs": [
        {
          "output_type": "execute_result",
          "data": {
            "text/plain": [
              "16"
            ]
          },
          "metadata": {
            "tags": []
          },
          "execution_count": 77
        }
      ]
    },
    {
      "cell_type": "code",
      "metadata": {
        "id": "8ysNsaJMFxrv"
      },
      "source": [
        "test_labels = test_labels[0:32]\n",
        "test_samples = test_samples[0:32]"
      ],
      "execution_count": 78,
      "outputs": []
    },
    {
      "cell_type": "markdown",
      "metadata": {
        "id": "fLKKHhDWFOsq"
      },
      "source": [
        "### LSTM "
      ]
    },
    {
      "cell_type": "code",
      "metadata": {
        "id": "AvUwDlmoFPa_"
      },
      "source": [
        "import tensorflow as tf\n",
        "import keras\n",
        "\n",
        "model = keras.Sequential()\n",
        "model.add(keras.layers.LSTM(64, input_shape=(128, 431), return_sequences=True))\n",
        "model.add(keras.layers.LSTM(64))\n",
        "model.add(keras.layers.Dense(64, activation='relu'))\n",
        "model.add(keras.layers.Dropout(0.3))\n",
        "model.add(keras.layers.Dense(2, activation='softmax'))"
      ],
      "execution_count": 88,
      "outputs": []
    },
    {
      "cell_type": "code",
      "metadata": {
        "colab": {
          "base_uri": "https://localhost:8080/"
        },
        "id": "FRV9wp7E-pkG",
        "outputId": "33d8488f-de03-418e-9378-92c6a84beea3"
      },
      "source": [
        "model.summary()"
      ],
      "execution_count": 89,
      "outputs": [
        {
          "output_type": "stream",
          "text": [
            "Model: \"sequential_3\"\n",
            "_________________________________________________________________\n",
            "Layer (type)                 Output Shape              Param #   \n",
            "=================================================================\n",
            "lstm_4 (LSTM)                (None, 128, 64)           126976    \n",
            "_________________________________________________________________\n",
            "lstm_5 (LSTM)                (None, 64)                33024     \n",
            "_________________________________________________________________\n",
            "dense_6 (Dense)              (None, 64)                4160      \n",
            "_________________________________________________________________\n",
            "dropout_2 (Dropout)          (None, 64)                0         \n",
            "_________________________________________________________________\n",
            "dense_7 (Dense)              (None, 2)                 130       \n",
            "=================================================================\n",
            "Total params: 164,290\n",
            "Trainable params: 164,290\n",
            "Non-trainable params: 0\n",
            "_________________________________________________________________\n"
          ],
          "name": "stdout"
        }
      ]
    },
    {
      "cell_type": "code",
      "metadata": {
        "id": "BZfbTudz-r3S"
      },
      "source": [
        "model.compile(optimizer='adam',\n",
        "              loss=tf.keras.losses.SparseCategoricalCrossentropy(from_logits=True),\n",
        "              metrics=['accuracy'])"
      ],
      "execution_count": 90,
      "outputs": []
    },
    {
      "cell_type": "code",
      "metadata": {
        "colab": {
          "base_uri": "https://localhost:8080/"
        },
        "id": "8PnBRuEK-u3-",
        "outputId": "866daa04-f8b8-484f-ea02-210a10956f27"
      },
      "source": [
        "history = model.fit(new_x, new_y, epochs=100)"
      ],
      "execution_count": 91,
      "outputs": [
        {
          "output_type": "stream",
          "text": [
            "Epoch 1/100\n",
            "9/9 [==============================] - 3s 21ms/step - loss: 0.6916 - accuracy: 0.5857\n",
            "Epoch 2/100\n",
            "9/9 [==============================] - 0s 19ms/step - loss: 0.5608 - accuracy: 0.9469\n",
            "Epoch 3/100\n",
            "9/9 [==============================] - 0s 17ms/step - loss: 0.1818 - accuracy: 0.9755\n",
            "Epoch 4/100\n",
            "9/9 [==============================] - 0s 13ms/step - loss: 0.1596 - accuracy: 0.9580\n",
            "Epoch 5/100\n",
            "9/9 [==============================] - 0s 13ms/step - loss: 0.0371 - accuracy: 0.9951\n",
            "Epoch 6/100\n",
            "9/9 [==============================] - 0s 14ms/step - loss: 0.1002 - accuracy: 0.9852\n",
            "Epoch 7/100\n",
            "9/9 [==============================] - 0s 13ms/step - loss: 0.0481 - accuracy: 0.9933\n",
            "Epoch 8/100\n",
            "9/9 [==============================] - 0s 13ms/step - loss: 0.0811 - accuracy: 0.9851\n",
            "Epoch 9/100\n",
            "9/9 [==============================] - 0s 13ms/step - loss: 0.0605 - accuracy: 0.9907\n",
            "Epoch 10/100\n",
            "9/9 [==============================] - 0s 13ms/step - loss: 0.0583 - accuracy: 0.9913\n",
            "Epoch 11/100\n",
            "9/9 [==============================] - 0s 13ms/step - loss: 0.0261 - accuracy: 0.9969\n",
            "Epoch 12/100\n",
            "9/9 [==============================] - 0s 13ms/step - loss: 0.0388 - accuracy: 0.9953\n",
            "Epoch 13/100\n",
            "9/9 [==============================] - 0s 13ms/step - loss: 0.0552 - accuracy: 0.9917\n",
            "Epoch 14/100\n",
            "9/9 [==============================] - 0s 13ms/step - loss: 0.0358 - accuracy: 0.9944\n",
            "Epoch 15/100\n",
            "9/9 [==============================] - 0s 13ms/step - loss: 0.0349 - accuracy: 0.9950\n",
            "Epoch 16/100\n",
            "9/9 [==============================] - 0s 14ms/step - loss: 0.1308 - accuracy: 0.9721\n",
            "Epoch 17/100\n",
            "9/9 [==============================] - 0s 13ms/step - loss: 0.1754 - accuracy: 0.9552\n",
            "Epoch 18/100\n",
            "9/9 [==============================] - 0s 13ms/step - loss: 0.4225 - accuracy: 0.9367\n",
            "Epoch 19/100\n",
            "9/9 [==============================] - 0s 13ms/step - loss: 0.2113 - accuracy: 0.9404\n",
            "Epoch 20/100\n",
            "9/9 [==============================] - 0s 15ms/step - loss: 0.1931 - accuracy: 0.9659\n",
            "Epoch 21/100\n",
            "9/9 [==============================] - 0s 13ms/step - loss: 0.1299 - accuracy: 0.9799\n",
            "Epoch 22/100\n",
            "9/9 [==============================] - 0s 14ms/step - loss: 0.1053 - accuracy: 0.9792\n",
            "Epoch 23/100\n",
            "9/9 [==============================] - 0s 13ms/step - loss: 0.0943 - accuracy: 0.9818\n",
            "Epoch 24/100\n",
            "9/9 [==============================] - 0s 14ms/step - loss: 0.0710 - accuracy: 0.9864\n",
            "Epoch 25/100\n",
            "9/9 [==============================] - 0s 13ms/step - loss: 0.0548 - accuracy: 0.9904\n",
            "Epoch 26/100\n",
            "9/9 [==============================] - 0s 14ms/step - loss: 0.0752 - accuracy: 0.9842\n",
            "Epoch 27/100\n",
            "9/9 [==============================] - 0s 13ms/step - loss: 0.0947 - accuracy: 0.9814\n",
            "Epoch 28/100\n",
            "9/9 [==============================] - 0s 13ms/step - loss: 0.0510 - accuracy: 0.9927\n",
            "Epoch 29/100\n",
            "9/9 [==============================] - 0s 13ms/step - loss: 0.0982 - accuracy: 0.9801\n",
            "Epoch 30/100\n",
            "9/9 [==============================] - 0s 14ms/step - loss: 0.0941 - accuracy: 0.9787\n",
            "Epoch 31/100\n",
            "9/9 [==============================] - 0s 13ms/step - loss: 0.1038 - accuracy: 0.9770\n",
            "Epoch 32/100\n",
            "9/9 [==============================] - 0s 13ms/step - loss: 0.1185 - accuracy: 0.9731\n",
            "Epoch 33/100\n",
            "9/9 [==============================] - 0s 14ms/step - loss: 0.0950 - accuracy: 0.9802\n",
            "Epoch 34/100\n",
            "9/9 [==============================] - 0s 14ms/step - loss: 0.1292 - accuracy: 0.9744\n",
            "Epoch 35/100\n",
            "9/9 [==============================] - 0s 13ms/step - loss: 0.0810 - accuracy: 0.9821\n",
            "Epoch 36/100\n",
            "9/9 [==============================] - 0s 13ms/step - loss: 0.0803 - accuracy: 0.9829\n",
            "Epoch 37/100\n",
            "9/9 [==============================] - 0s 13ms/step - loss: 0.0492 - accuracy: 0.9915\n",
            "Epoch 38/100\n",
            "9/9 [==============================] - 0s 13ms/step - loss: 0.0886 - accuracy: 0.9809\n",
            "Epoch 39/100\n",
            "9/9 [==============================] - 0s 13ms/step - loss: 0.1033 - accuracy: 0.9792\n",
            "Epoch 40/100\n",
            "9/9 [==============================] - 0s 13ms/step - loss: 0.0886 - accuracy: 0.9822\n",
            "Epoch 41/100\n",
            "9/9 [==============================] - 0s 14ms/step - loss: 0.0584 - accuracy: 0.9875\n",
            "Epoch 42/100\n",
            "9/9 [==============================] - 0s 13ms/step - loss: 0.1071 - accuracy: 0.9762\n",
            "Epoch 43/100\n",
            "9/9 [==============================] - 0s 13ms/step - loss: 0.0841 - accuracy: 0.9780\n",
            "Epoch 44/100\n",
            "9/9 [==============================] - 0s 13ms/step - loss: 0.0712 - accuracy: 0.9821\n",
            "Epoch 45/100\n",
            "9/9 [==============================] - 0s 14ms/step - loss: 0.0656 - accuracy: 0.9865\n",
            "Epoch 46/100\n",
            "9/9 [==============================] - 0s 14ms/step - loss: 0.1093 - accuracy: 0.9751\n",
            "Epoch 47/100\n",
            "9/9 [==============================] - 0s 13ms/step - loss: 0.0561 - accuracy: 0.9884\n",
            "Epoch 48/100\n",
            "9/9 [==============================] - 0s 13ms/step - loss: 0.0896 - accuracy: 0.9801\n",
            "Epoch 49/100\n",
            "9/9 [==============================] - 0s 14ms/step - loss: 0.0645 - accuracy: 0.9876\n",
            "Epoch 50/100\n",
            "9/9 [==============================] - 0s 13ms/step - loss: 0.0382 - accuracy: 0.9941\n",
            "Epoch 51/100\n",
            "9/9 [==============================] - 0s 13ms/step - loss: 0.0375 - accuracy: 0.9939\n",
            "Epoch 52/100\n",
            "9/9 [==============================] - 0s 13ms/step - loss: 0.0397 - accuracy: 0.9924\n",
            "Epoch 53/100\n",
            "9/9 [==============================] - 0s 14ms/step - loss: 0.0385 - accuracy: 0.9944\n",
            "Epoch 54/100\n",
            "9/9 [==============================] - 0s 14ms/step - loss: 0.0297 - accuracy: 0.9954\n",
            "Epoch 55/100\n",
            "9/9 [==============================] - 0s 14ms/step - loss: 0.0443 - accuracy: 0.9924\n",
            "Epoch 56/100\n",
            "9/9 [==============================] - 0s 13ms/step - loss: 0.0250 - accuracy: 0.9958\n",
            "Epoch 57/100\n",
            "9/9 [==============================] - 0s 16ms/step - loss: 0.0350 - accuracy: 0.9938\n",
            "Epoch 58/100\n",
            "9/9 [==============================] - 0s 13ms/step - loss: 0.0520 - accuracy: 0.9894\n",
            "Epoch 59/100\n",
            "9/9 [==============================] - 0s 14ms/step - loss: 0.0237 - accuracy: 0.9964\n",
            "Epoch 60/100\n",
            "9/9 [==============================] - 0s 13ms/step - loss: 0.0415 - accuracy: 0.9928\n",
            "Epoch 61/100\n",
            "9/9 [==============================] - 0s 13ms/step - loss: 0.0882 - accuracy: 0.9847\n",
            "Epoch 62/100\n",
            "9/9 [==============================] - 0s 14ms/step - loss: 0.0507 - accuracy: 0.9897\n",
            "Epoch 63/100\n",
            "9/9 [==============================] - 0s 15ms/step - loss: 0.0442 - accuracy: 0.9924\n",
            "Epoch 64/100\n",
            "9/9 [==============================] - 0s 13ms/step - loss: 0.0383 - accuracy: 0.9938\n",
            "Epoch 65/100\n",
            "9/9 [==============================] - 0s 14ms/step - loss: 0.0234 - accuracy: 0.9966\n",
            "Epoch 66/100\n",
            "9/9 [==============================] - 0s 14ms/step - loss: 0.0392 - accuracy: 0.9928\n",
            "Epoch 67/100\n",
            "9/9 [==============================] - 0s 13ms/step - loss: 0.0239 - accuracy: 0.9973\n",
            "Epoch 68/100\n",
            "9/9 [==============================] - 0s 14ms/step - loss: 0.0231 - accuracy: 0.9973\n",
            "Epoch 69/100\n",
            "9/9 [==============================] - 0s 13ms/step - loss: 0.0179 - accuracy: 0.9973\n",
            "Epoch 70/100\n",
            "9/9 [==============================] - 0s 14ms/step - loss: 0.0480 - accuracy: 0.9892\n",
            "Epoch 71/100\n",
            "9/9 [==============================] - 0s 14ms/step - loss: 0.0421 - accuracy: 0.9910\n",
            "Epoch 72/100\n",
            "9/9 [==============================] - 0s 14ms/step - loss: 0.0263 - accuracy: 0.9946\n",
            "Epoch 73/100\n",
            "9/9 [==============================] - 0s 14ms/step - loss: 0.0169 - accuracy: 0.9948\n",
            "Epoch 74/100\n",
            "9/9 [==============================] - 0s 14ms/step - loss: 0.0141 - accuracy: 0.9969\n",
            "Epoch 75/100\n",
            "9/9 [==============================] - 0s 14ms/step - loss: 0.0255 - accuracy: 0.9948\n",
            "Epoch 76/100\n",
            "9/9 [==============================] - 0s 13ms/step - loss: 0.0193 - accuracy: 0.9959\n",
            "Epoch 77/100\n",
            "9/9 [==============================] - 0s 14ms/step - loss: 0.0246 - accuracy: 0.9955\n",
            "Epoch 78/100\n",
            "9/9 [==============================] - 0s 14ms/step - loss: 0.0194 - accuracy: 0.9965\n",
            "Epoch 79/100\n",
            "9/9 [==============================] - 0s 14ms/step - loss: 0.0187 - accuracy: 0.9979\n",
            "Epoch 80/100\n",
            "9/9 [==============================] - 0s 14ms/step - loss: 0.0521 - accuracy: 0.9908\n",
            "Epoch 81/100\n",
            "9/9 [==============================] - 0s 14ms/step - loss: 0.0157 - accuracy: 0.9979\n",
            "Epoch 82/100\n",
            "9/9 [==============================] - 0s 14ms/step - loss: 0.0122 - accuracy: 0.9989\n",
            "Epoch 83/100\n",
            "9/9 [==============================] - 0s 13ms/step - loss: 0.0187 - accuracy: 0.9973\n",
            "Epoch 84/100\n",
            "9/9 [==============================] - 0s 14ms/step - loss: 0.0124 - accuracy: 0.9989\n",
            "Epoch 85/100\n",
            "9/9 [==============================] - 0s 13ms/step - loss: 0.0145 - accuracy: 0.9984\n",
            "Epoch 86/100\n",
            "9/9 [==============================] - 0s 14ms/step - loss: 0.0048 - accuracy: 1.0000\n",
            "Epoch 87/100\n",
            "9/9 [==============================] - 0s 13ms/step - loss: 0.1557 - accuracy: 0.9410\n",
            "Epoch 88/100\n",
            "9/9 [==============================] - 0s 13ms/step - loss: 0.4566 - accuracy: 0.8773\n",
            "Epoch 89/100\n",
            "9/9 [==============================] - 0s 14ms/step - loss: 0.3988 - accuracy: 0.8240\n",
            "Epoch 90/100\n",
            "9/9 [==============================] - 0s 14ms/step - loss: 0.4758 - accuracy: 0.7652\n",
            "Epoch 91/100\n",
            "9/9 [==============================] - 0s 14ms/step - loss: 0.4682 - accuracy: 0.7726\n",
            "Epoch 92/100\n",
            "9/9 [==============================] - 0s 13ms/step - loss: 0.3559 - accuracy: 0.8491\n",
            "Epoch 93/100\n",
            "9/9 [==============================] - 0s 14ms/step - loss: 0.3983 - accuracy: 0.8173\n",
            "Epoch 94/100\n",
            "9/9 [==============================] - 0s 13ms/step - loss: 0.3900 - accuracy: 0.8274\n",
            "Epoch 95/100\n",
            "9/9 [==============================] - 0s 13ms/step - loss: 0.2946 - accuracy: 0.9007\n",
            "Epoch 96/100\n",
            "9/9 [==============================] - 0s 14ms/step - loss: 0.2283 - accuracy: 0.9293\n",
            "Epoch 97/100\n",
            "9/9 [==============================] - 0s 13ms/step - loss: 0.2474 - accuracy: 0.9163\n",
            "Epoch 98/100\n",
            "9/9 [==============================] - 0s 13ms/step - loss: 0.2121 - accuracy: 0.9322\n",
            "Epoch 99/100\n",
            "9/9 [==============================] - 0s 13ms/step - loss: 0.2163 - accuracy: 0.9330\n",
            "Epoch 100/100\n",
            "9/9 [==============================] - 0s 13ms/step - loss: 0.1847 - accuracy: 0.9457\n"
          ],
          "name": "stdout"
        }
      ]
    },
    {
      "cell_type": "code",
      "metadata": {
        "colab": {
          "base_uri": "https://localhost:8080/"
        },
        "id": "A6BGjnzu-wtp",
        "outputId": "6346f231-f3b4-4ef3-c90e-9ed902387009"
      },
      "source": [
        "history_dict = history.history\n",
        "print(history_dict.keys())\n",
        "# to keep for later \n",
        "%store history_dict"
      ],
      "execution_count": 92,
      "outputs": [
        {
          "output_type": "stream",
          "text": [
            "dict_keys(['loss', 'accuracy'])\n",
            "Stored 'history_dict' (dict)\n"
          ],
          "name": "stdout"
        }
      ]
    },
    {
      "cell_type": "code",
      "metadata": {
        "id": "qjHvIqe1-0zr"
      },
      "source": [
        "# imports \n",
        "import matplotlib.pyplot as plt \n",
        "import matplotlib.image as mpimg"
      ],
      "execution_count": 93,
      "outputs": []
    },
    {
      "cell_type": "code",
      "metadata": {
        "id": "M816JvwK-3GJ"
      },
      "source": [
        "# function to plot training given history dictionary \n",
        "def plot_training(history_dict):\n",
        "\t\"\"\"\n",
        "\tPlots the training accuracy and loss graphs for a Keras model (validation graphs not included). \n",
        "\tParameters:\n",
        "\t\t- history_dict: a dictionary of \"history\" object from Keras \n",
        "\t\"\"\"\n",
        "\t# plot training accuracy graph \n",
        "\tplt.plot(history_dict['accuracy'])\n",
        "\tplt.title('Training Accuracy')\n",
        "\tplt.ylabel('accuracy')\n",
        "\tplt.xlabel('epoch')\n",
        "\tplt.legend(['train'], loc='upper left')\n",
        "\tplt.show()\n",
        "\n",
        "\t# plot training loss graph \n",
        "\tplt.plot(history_dict['loss'])\n",
        "\tplt.title('Training Loss')\n",
        "\tplt.ylabel('loss')\n",
        "\tplt.xlabel('epoch')\n",
        "\tplt.legend(['train'], loc='upper left')\n",
        "\tplt.show()"
      ],
      "execution_count": 94,
      "outputs": []
    },
    {
      "cell_type": "code",
      "metadata": {
        "colab": {
          "base_uri": "https://localhost:8080/",
          "height": 573
        },
        "id": "wTeJt4ZD-4u_",
        "outputId": "89420878-38eb-44ed-cfc4-ebc86283610a"
      },
      "source": [
        "plot_training(history_dict)"
      ],
      "execution_count": 95,
      "outputs": [
        {
          "output_type": "display_data",
          "data": {
            "image/png": "[encoded data removed]",
            "text/plain": [
              "<Figure size 432x288 with 1 Axes>"
            ]
          },
          "metadata": {
            "tags": [],
            "needs_background": "light"
          }
        },
        {
          "output_type": "display_data",
          "data": {
            "image/png": "[encoded data removed]",
            "text/plain": [
              "<Figure size 432x288 with 1 Axes>"
            ]
          },
          "metadata": {
            "tags": [],
            "needs_background": "light"
          }
        }
      ]
    },
    {
      "cell_type": "code",
      "metadata": {
        "colab": {
          "base_uri": "https://localhost:8080/"
        },
        "id": "sgx89I-e-88c",
        "outputId": "12fa2b03-c4e1-4fcd-8a94-f1c257bcb7b3"
      },
      "source": [
        "test_loss, test_accuracy = model.evaluate(test_samples,  test_labels, verbose=2)\n",
        "print('Test accuracy:', test_accuracy)"
      ],
      "execution_count": 96,
      "outputs": [
        {
          "output_type": "stream",
          "text": [
            "11/11 - 1s - loss: 0.9928 - accuracy: 0.9205\n",
            "Test accuracy: 0.9204893112182617\n"
          ],
          "name": "stdout"
        }
      ]
    },
    {
      "cell_type": "code",
      "metadata": {
        "colab": {
          "base_uri": "https://localhost:8080/"
        },
        "id": "t7yd5t-U-9Xf",
        "outputId": "b88b25bf-73dc-4c76-cd02-a6581f8ab5eb"
      },
      "source": [
        "predictions = model.predict_classes(test_samples) # generates a list of predictions"
      ],
      "execution_count": 97,
      "outputs": [
        {
          "output_type": "stream",
          "text": [
            "/usr/local/lib/python3.7/dist-packages/tensorflow/python/keras/engine/sequential.py:450: UserWarning: `model.predict_classes()` is deprecated and will be removed after 2021-01-01. Please use instead:* `np.argmax(model.predict(x), axis=-1)`,   if your model does multi-class classification   (e.g. if it uses a `softmax` last-layer activation).* `(model.predict(x) > 0.5).astype(\"int32\")`,   if your model does binary classification   (e.g. if it uses a `sigmoid` last-layer activation).\n",
            "  warnings.warn('`model.predict_classes()` is deprecated and '\n"
          ],
          "name": "stderr"
        }
      ]
    },
    {
      "cell_type": "code",
      "metadata": {
        "colab": {
          "base_uri": "https://localhost:8080/"
        },
        "id": "brlBgmRU--5Z",
        "outputId": "bd9a4887-77e8-4953-ba60-c6fc7c087b8e"
      },
      "source": [
        "print(\"Test labels: \\n\", test_labels)\n",
        "print(\"Test predictions: \\n\", predictions)"
      ],
      "execution_count": 98,
      "outputs": [
        {
          "output_type": "stream",
          "text": [
            "Test labels: \n",
            " [1 1 1 1 1 1 1 1 1 1 1 1 1 1 1 1 0 0 0 0 0 0 0 0 0 0 0 0 0 0 0 0 0 0 0 0 0\n",
            " 0 0 0 0 0 0 0 0 0 0 0 0 0 0 0 0 0 0 0 0 0 0 0 0 0 0 0 0 0 0 0 0 0 0 0 0 0\n",
            " 0 0 0 0 0 0 0 0 0 0 0 0 0 0 0 0 0 0 0 0 0 0 0 0 0 0 0 0 0 0 0 0 0 0 0 0 0\n",
            " 0 0 0 0 0 0 0 0 0 0 0 0 0 0 0 0 0 0 0 0 0 0 0 0 0 0 0 0 0 0 0 0 0 0 0 0 0\n",
            " 0 0 0 0 0 0 0 0 0 0 0 0 0 0 0 0 0 0 0 0 0 0 0 0 0 0 0 0 0 0 0 0 0 0 0 0 0\n",
            " 0 0 0 0 0 0 0 0 0 0 0 0 0 0 0 0 0 0 0 0 0 0 0 0 0 0 0 0 0 0 0 0 0 0 0 0 0\n",
            " 0 0 0 0 0 0 0 0 0 0 0 0 0 0 0 0 0 0 0 0 0 0 0 0 0 0 0 0 0 0 0 0 0 0 0 0 0\n",
            " 0 0 0 0 0 0 0 0 0 0 0 0 0 0 0 0 0 0 0 0 0 0 0 0 0 0 0 0 0 0 0 0 0 0 0 0 0\n",
            " 0 0 0 0 0 0 0 0 0 0 0 0 0 0 0 0 0 0 0 0 0 0 0 0 0 0 0 0 0 0 0]\n",
            "Test predictions: \n",
            " [1 1 0 1 1 1 1 1 1 0 0 0 1 1 1 1 0 0 0 0 0 0 1 0 0 0 1 0 0 0 0 0 0 0 0 0 0\n",
            " 0 0 0 0 0 0 0 0 1 0 0 0 0 0 0 0 1 0 0 0 0 0 0 0 0 0 0 1 1 0 0 0 0 0 0 0 0\n",
            " 0 0 0 0 0 0 0 0 0 0 0 0 0 1 0 0 0 0 0 0 0 0 0 0 0 0 0 0 0 0 0 0 0 0 0 0 1\n",
            " 0 1 0 0 0 0 0 0 0 0 0 0 0 0 0 0 0 0 0 1 1 0 1 0 0 0 0 0 0 0 0 0 0 0 0 1 0\n",
            " 0 0 0 0 0 0 0 0 0 1 0 0 0 0 0 0 0 0 0 0 0 0 0 1 0 0 0 0 0 0 0 0 0 0 0 0 0\n",
            " 0 0 0 0 0 0 0 0 0 0 0 0 0 0 0 0 0 0 0 0 0 0 0 0 0 0 0 0 0 0 0 0 0 0 0 0 0\n",
            " 0 0 0 0 0 0 0 0 0 0 0 0 0 0 0 0 1 0 0 0 0 0 0 0 0 0 0 0 0 0 0 0 0 1 0 0 0\n",
            " 1 0 0 0 0 0 0 0 0 0 0 0 0 0 0 0 0 0 0 0 0 0 0 0 0 0 0 0 1 0 0 0 0 0 0 0 0\n",
            " 0 0 0 1 0 0 0 0 0 1 1 0 0 0 0 0 0 0 0 0 0 0 0 0 0 0 0 0 0 0 0]\n"
          ],
          "name": "stdout"
        }
      ]
    },
    {
      "cell_type": "code",
      "metadata": {
        "id": "_-1hBrbZ_BXu"
      },
      "source": [
        "correct = 0\n",
        "for i in range(len(predictions)):\n",
        "  if predictions[i] == test_labels[i]:\n",
        "    correct += 1"
      ],
      "execution_count": 99,
      "outputs": []
    },
    {
      "cell_type": "code",
      "metadata": {
        "colab": {
          "base_uri": "https://localhost:8080/"
        },
        "id": "H-1Qo1cg_Fmw",
        "outputId": "c3163104-5fc5-4fac-ddf6-7409bd2c78d3"
      },
      "source": [
        "predictions_accuracy = correct/len(test_labels)\n",
        "predictions_accuracy"
      ],
      "execution_count": 100,
      "outputs": [
        {
          "output_type": "execute_result",
          "data": {
            "text/plain": [
              "0.9204892966360856"
            ]
          },
          "metadata": {
            "tags": []
          },
          "execution_count": 100
        }
      ]
    },
    {
      "cell_type": "code",
      "metadata": {
        "colab": {
          "base_uri": "https://localhost:8080/"
        },
        "id": "UgWb9OpT_IAO",
        "outputId": "4b1ed7f0-084b-4de6-a027-13b56ecc5f83"
      },
      "source": [
        "print(\"The accuracy is: \" + str(round(predictions_accuracy * 100, 1)) + \"%\")"
      ],
      "execution_count": 101,
      "outputs": [
        {
          "output_type": "stream",
          "text": [
            "The accuracy is: 92.0%\n"
          ],
          "name": "stdout"
        }
      ]
    },
    {
      "cell_type": "code",
      "metadata": {
        "id": "tGn8qYWV_KOY"
      },
      "source": [
        "speech_correct = 0\n",
        "for i in range(len(test_labels[:16])):\n",
        "    if predictions[i] == test_labels[i]:\n",
        "      speech_correct += 1"
      ],
      "execution_count": 102,
      "outputs": []
    },
    {
      "cell_type": "code",
      "metadata": {
        "colab": {
          "base_uri": "https://localhost:8080/"
        },
        "id": "-Ab7lBOm_NXD",
        "outputId": "b1a800bd-3f78-4b9c-d757-7f7b66111475"
      },
      "source": [
        "speech_correct/len(test_labels[:16])"
      ],
      "execution_count": 103,
      "outputs": [
        {
          "output_type": "execute_result",
          "data": {
            "text/plain": [
              "0.75"
            ]
          },
          "metadata": {
            "tags": []
          },
          "execution_count": 103
        }
      ]
    },
    {
      "cell_type": "markdown",
      "metadata": {
        "id": "FhIgZsgL_hGf"
      },
      "source": [
        "100%?! "
      ]
    },
    {
      "cell_type": "code",
      "metadata": {
        "id": "gzZhnlXAEVX5"
      },
      "source": [
        "import numpy as np\n",
        "import itertools\n",
        "from sklearn.metrics import confusion_matrix"
      ],
      "execution_count": 104,
      "outputs": []
    },
    {
      "cell_type": "code",
      "metadata": {
        "id": "FD9kccOaEcEo"
      },
      "source": [
        "cm = confusion_matrix(test_labels, predictions)"
      ],
      "execution_count": 105,
      "outputs": []
    },
    {
      "cell_type": "code",
      "metadata": {
        "id": "ldGqcp4MEdwL"
      },
      "source": [
        "def plot_cm(cm, classes, normalize=False, title='Confusion Matrix', cmap=plt.cm.Blues):\n",
        "  plt.imshow(cm, interpolation='nearest', cmap=cmap)\n",
        "  plt.title(title)\n",
        "  plt.colorbar()\n",
        "  tick_marks = np.arange(len(classes))\n",
        "  plt.xticks(tick_marks, classes, rotation=45)\n",
        "  plt.yticks(tick_marks, classes)\n",
        "\n",
        "  if normalize:\n",
        "    cm = cm.astypea('float') / cm.sum(axis=1)[:, np.newaxis]\n",
        "    print('Normalized confusion matrix')\n",
        "  else:\n",
        "    print('Confusion matrix without normalization')\n",
        "\n",
        "  print(cm)\n",
        "\n",
        "  thresh = cm.max()/2.\n",
        "  for i, j in itertools.product(range(cm.shape[0]), range(cm.shape[1])):\n",
        "      plt.text(j, i, cm[i, j],\n",
        "               horizontalalignment=\"center\",\n",
        "               color=\"white\" if cm[i, j] > thresh else \"black\")\n",
        "  \n",
        "  plt.tight_layout()\n",
        "  plt.ylabel('True label')\n",
        "  plt.xlabel('Predicted label')"
      ],
      "execution_count": 106,
      "outputs": []
    },
    {
      "cell_type": "code",
      "metadata": {
        "colab": {
          "base_uri": "https://localhost:8080/",
          "height": 362
        },
        "id": "NL0nExPHEflo",
        "outputId": "5aa31258-5532-41c0-d004-1951fc0f26b3"
      },
      "source": [
        "plot_cm(cm, ['no speech','speech'], title='Test Samples Confusion Matrix')"
      ],
      "execution_count": 107,
      "outputs": [
        {
          "output_type": "stream",
          "text": [
            "Confusion matrix without normalization\n",
            "[[289  22]\n",
            " [  4  12]]\n"
          ],
          "name": "stdout"
        },
        {
          "output_type": "display_data",
          "data": {
            "image/png": "[encoded data removed]",
            "text/plain": [
              "<Figure size 432x288 with 2 Axes>"
            ]
          },
          "metadata": {
            "tags": [],
            "needs_background": "light"
          }
        }
      ]
    }
  ]
}