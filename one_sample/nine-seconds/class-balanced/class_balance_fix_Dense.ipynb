{
  "nbformat": 4,
  "nbformat_minor": 0,
  "metadata": {
    "colab": {
      "name": "class-balance-fix.ipynb",
      "provenance": []
    },
    "kernelspec": {
      "name": "python3",
      "display_name": "Python 3"
    },
    "accelerator": "GPU"
  },
  "cells": [
    {
      "cell_type": "markdown",
      "metadata": {
        "id": "V8c3iCpWCb7S"
      },
      "source": [
        "Same thing as `dense9.ipynb` except the classes are better balanced out. "
      ]
    },
    {
      "cell_type": "code",
      "metadata": {
        "colab": {
          "base_uri": "https://localhost:8080/"
        },
        "id": "p2wqOi1f-OGu",
        "outputId": "9bf02729-8c1e-4dab-fdaf-08332fbb6cba"
      },
      "source": [
        "from google.colab import drive\n",
        "drive.mount('/content/drive')"
      ],
      "execution_count": 1,
      "outputs": [
        {
          "output_type": "stream",
          "text": [
            "Mounted at /content/drive\n"
          ],
          "name": "stdout"
        }
      ]
    },
    {
      "cell_type": "code",
      "metadata": {
        "id": "KkFvuXHV-VAF"
      },
      "source": [
        "import pickle\n",
        "\n",
        "# load in labels and samples for the training subset\n",
        "training_samples_file = open('/content/drive/MyDrive/Mignot Lab Research/Experiments/one_sample/nine_seconds/train_samples.pkl', 'rb')\n",
        "training_labels_file = open('/content/drive/MyDrive/Mignot Lab Research/Experiments/one_sample/nine_seconds/train_labels.pkl', 'rb')\n",
        "\n",
        "# load in labels and samples for the test subset\n",
        "test_samples_file = open('/content/drive/MyDrive/Mignot Lab Research/Experiments/one_sample/nine_seconds/test_samples.pkl', 'rb')\n",
        "test_labels_file = open('/content/drive/MyDrive/Mignot Lab Research/Experiments/one_sample/nine_seconds/test_labels.pkl', 'rb')"
      ],
      "execution_count": 2,
      "outputs": []
    },
    {
      "cell_type": "code",
      "metadata": {
        "id": "kF4LjhYE-jN2"
      },
      "source": [
        "# training\n",
        "X = pickle.load(training_samples_file)\n",
        "y = pickle.load(training_labels_file)\n",
        "\n",
        "# test\n",
        "test_samples = pickle.load(test_samples_file)\n",
        "test_labels = pickle.load(test_labels_file)"
      ],
      "execution_count": 3,
      "outputs": []
    },
    {
      "cell_type": "code",
      "metadata": {
        "colab": {
          "base_uri": "https://localhost:8080/"
        },
        "id": "ZKF_q2XhCqFF",
        "outputId": "f2b1b8ab-0a79-4948-871b-a91e0bb9b0e1"
      },
      "source": [
        "len(X)"
      ],
      "execution_count": 4,
      "outputs": [
        {
          "output_type": "execute_result",
          "data": {
            "text/plain": [
              "2939"
            ]
          },
          "metadata": {
            "tags": []
          },
          "execution_count": 4
        }
      ]
    },
    {
      "cell_type": "code",
      "metadata": {
        "id": "_TAyRC6DC0zb"
      },
      "source": [
        "counter = 0\n",
        "for elem in y:\n",
        "  if elem == 1:\n",
        "    counter += 1"
      ],
      "execution_count": 11,
      "outputs": []
    },
    {
      "cell_type": "code",
      "metadata": {
        "colab": {
          "base_uri": "https://localhost:8080/"
        },
        "id": "SRC4wTwZDCiN",
        "outputId": "ab6a692b-e599-4018-b17c-ef66fcbbf62d"
      },
      "source": [
        "counter"
      ],
      "execution_count": 8,
      "outputs": [
        {
          "output_type": "execute_result",
          "data": {
            "text/plain": [
              "140"
            ]
          },
          "metadata": {
            "tags": []
          },
          "execution_count": 8
        }
      ]
    },
    {
      "cell_type": "code",
      "metadata": {
        "id": "RKzNp10PCtF7"
      },
      "source": [
        "new_x = X[:280]"
      ],
      "execution_count": 14,
      "outputs": []
    },
    {
      "cell_type": "code",
      "metadata": {
        "colab": {
          "base_uri": "https://localhost:8080/"
        },
        "id": "QjEIcQDlDOnT",
        "outputId": "5ed85d9b-c05f-492d-e886-d2b07af46820"
      },
      "source": [
        "len(new_x)"
      ],
      "execution_count": 15,
      "outputs": [
        {
          "output_type": "execute_result",
          "data": {
            "text/plain": [
              "280"
            ]
          },
          "metadata": {
            "tags": []
          },
          "execution_count": 15
        }
      ]
    },
    {
      "cell_type": "code",
      "metadata": {
        "id": "6tb-dNrQDSML"
      },
      "source": [
        "new_y = y[:280]"
      ],
      "execution_count": 16,
      "outputs": []
    },
    {
      "cell_type": "code",
      "metadata": {
        "colab": {
          "base_uri": "https://localhost:8080/"
        },
        "id": "wZOc6c97DVgI",
        "outputId": "879de5af-51d6-4308-e311-3b9514f0e0b2"
      },
      "source": [
        "len(new_y)"
      ],
      "execution_count": 17,
      "outputs": [
        {
          "output_type": "execute_result",
          "data": {
            "text/plain": [
              "280"
            ]
          },
          "metadata": {
            "tags": []
          },
          "execution_count": 17
        }
      ]
    },
    {
      "cell_type": "code",
      "metadata": {
        "id": "fJZ4WyVd-lLk"
      },
      "source": [
        "import tensorflow as tf\n",
        "\n",
        "model = tf.keras.Sequential([\n",
        "    tf.keras.layers.Flatten(input_shape=(128, 431)),\n",
        "    tf.keras.layers.Dense(128, activation='relu'),\n",
        "    tf.keras.layers.Dense(2, activation='softmax')\n",
        "]) "
      ],
      "execution_count": 18,
      "outputs": []
    },
    {
      "cell_type": "code",
      "metadata": {
        "colab": {
          "base_uri": "https://localhost:8080/"
        },
        "id": "FRV9wp7E-pkG",
        "outputId": "73b45686-e984-4692-a76e-f34e91500cdf"
      },
      "source": [
        "model.summary()"
      ],
      "execution_count": 19,
      "outputs": [
        {
          "output_type": "stream",
          "text": [
            "Model: \"sequential\"\n",
            "_________________________________________________________________\n",
            "Layer (type)                 Output Shape              Param #   \n",
            "=================================================================\n",
            "flatten (Flatten)            (None, 55168)             0         \n",
            "_________________________________________________________________\n",
            "dense (Dense)                (None, 128)               7061632   \n",
            "_________________________________________________________________\n",
            "dense_1 (Dense)              (None, 2)                 258       \n",
            "=================================================================\n",
            "Total params: 7,061,890\n",
            "Trainable params: 7,061,890\n",
            "Non-trainable params: 0\n",
            "_________________________________________________________________\n"
          ],
          "name": "stdout"
        }
      ]
    },
    {
      "cell_type": "code",
      "metadata": {
        "id": "BZfbTudz-r3S"
      },
      "source": [
        "model.compile(optimizer='adam',\n",
        "              loss=tf.keras.losses.SparseCategoricalCrossentropy(from_logits=True),\n",
        "              metrics=['accuracy'])"
      ],
      "execution_count": 20,
      "outputs": []
    },
    {
      "cell_type": "code",
      "metadata": {
        "colab": {
          "base_uri": "https://localhost:8080/"
        },
        "id": "8PnBRuEK-u3-",
        "outputId": "57ed4217-25da-4488-f647-a9470667a6b8"
      },
      "source": [
        "history = model.fit(new_x, new_y, epochs=250)"
      ],
      "execution_count": 21,
      "outputs": [
        {
          "output_type": "stream",
          "text": [
            "Epoch 1/250\n",
            "9/9 [==============================] - 2s 6ms/step - loss: 0.5742 - accuracy: 0.4488\n",
            "Epoch 2/250\n",
            "9/9 [==============================] - 0s 6ms/step - loss: 0.3629 - accuracy: 0.9750\n",
            "Epoch 3/250\n",
            "9/9 [==============================] - 0s 6ms/step - loss: 0.3449 - accuracy: 0.9993\n",
            "Epoch 4/250\n",
            "9/9 [==============================] - 0s 6ms/step - loss: 0.3201 - accuracy: 0.9965\n",
            "Epoch 5/250\n",
            "9/9 [==============================] - 0s 6ms/step - loss: 0.3387 - accuracy: 0.9984\n",
            "Epoch 6/250\n",
            "9/9 [==============================] - 0s 6ms/step - loss: 0.3439 - accuracy: 0.9989\n",
            "Epoch 7/250\n",
            "9/9 [==============================] - 0s 6ms/step - loss: 0.3249 - accuracy: 0.9908\n",
            "Epoch 8/250\n",
            "9/9 [==============================] - 0s 6ms/step - loss: 0.3215 - accuracy: 1.0000\n",
            "Epoch 9/250\n",
            "9/9 [==============================] - 0s 5ms/step - loss: 0.2986 - accuracy: 1.0000\n",
            "Epoch 10/250\n",
            "9/9 [==============================] - 0s 6ms/step - loss: 0.3095 - accuracy: 1.0000\n",
            "Epoch 11/250\n",
            "9/9 [==============================] - 0s 7ms/step - loss: 0.2992 - accuracy: 1.0000\n",
            "Epoch 12/250\n",
            "9/9 [==============================] - 0s 6ms/step - loss: 0.3082 - accuracy: 1.0000\n",
            "Epoch 13/250\n",
            "9/9 [==============================] - 0s 6ms/step - loss: 0.3155 - accuracy: 1.0000\n",
            "Epoch 14/250\n",
            "9/9 [==============================] - 0s 6ms/step - loss: 0.3062 - accuracy: 1.0000\n",
            "Epoch 15/250\n",
            "9/9 [==============================] - 0s 6ms/step - loss: 0.2925 - accuracy: 1.0000\n",
            "Epoch 16/250\n",
            "9/9 [==============================] - 0s 7ms/step - loss: 0.2894 - accuracy: 1.0000\n",
            "Epoch 17/250\n",
            "9/9 [==============================] - 0s 6ms/step - loss: 0.2922 - accuracy: 1.0000\n",
            "Epoch 18/250\n",
            "9/9 [==============================] - 0s 6ms/step - loss: 0.2795 - accuracy: 1.0000\n",
            "Epoch 19/250\n",
            "9/9 [==============================] - 0s 6ms/step - loss: 0.2637 - accuracy: 1.0000\n",
            "Epoch 20/250\n",
            "9/9 [==============================] - 0s 6ms/step - loss: 0.2761 - accuracy: 1.0000\n",
            "Epoch 21/250\n",
            "9/9 [==============================] - 0s 6ms/step - loss: 0.2810 - accuracy: 1.0000\n",
            "Epoch 22/250\n",
            "9/9 [==============================] - 0s 6ms/step - loss: 0.2559 - accuracy: 1.0000\n",
            "Epoch 23/250\n",
            "9/9 [==============================] - 0s 6ms/step - loss: 0.2598 - accuracy: 1.0000\n",
            "Epoch 24/250\n",
            "9/9 [==============================] - 0s 6ms/step - loss: 0.2653 - accuracy: 1.0000\n",
            "Epoch 25/250\n",
            "9/9 [==============================] - 0s 6ms/step - loss: 0.2635 - accuracy: 1.0000\n",
            "Epoch 26/250\n",
            "9/9 [==============================] - 0s 6ms/step - loss: 0.2505 - accuracy: 1.0000\n",
            "Epoch 27/250\n",
            "9/9 [==============================] - 0s 5ms/step - loss: 0.2627 - accuracy: 1.0000\n",
            "Epoch 28/250\n",
            "9/9 [==============================] - 0s 6ms/step - loss: 0.2483 - accuracy: 1.0000\n",
            "Epoch 29/250\n",
            "9/9 [==============================] - 0s 5ms/step - loss: 0.2348 - accuracy: 1.0000\n",
            "Epoch 30/250\n",
            "9/9 [==============================] - 0s 6ms/step - loss: 0.2468 - accuracy: 1.0000\n",
            "Epoch 31/250\n",
            "9/9 [==============================] - 0s 5ms/step - loss: 0.2264 - accuracy: 1.0000\n",
            "Epoch 32/250\n",
            "9/9 [==============================] - 0s 6ms/step - loss: 0.2144 - accuracy: 1.0000\n",
            "Epoch 33/250\n",
            "9/9 [==============================] - 0s 6ms/step - loss: 0.2412 - accuracy: 1.0000\n",
            "Epoch 34/250\n",
            "9/9 [==============================] - 0s 7ms/step - loss: 0.2288 - accuracy: 1.0000\n",
            "Epoch 35/250\n",
            "9/9 [==============================] - 0s 6ms/step - loss: 0.2290 - accuracy: 1.0000\n",
            "Epoch 36/250\n",
            "9/9 [==============================] - 0s 6ms/step - loss: 0.2053 - accuracy: 1.0000\n",
            "Epoch 37/250\n",
            "9/9 [==============================] - 0s 6ms/step - loss: 0.2166 - accuracy: 1.0000\n",
            "Epoch 38/250\n",
            "9/9 [==============================] - 0s 6ms/step - loss: 0.2214 - accuracy: 1.0000\n",
            "Epoch 39/250\n",
            "9/9 [==============================] - 0s 6ms/step - loss: 0.2208 - accuracy: 1.0000\n",
            "Epoch 40/250\n",
            "9/9 [==============================] - 0s 6ms/step - loss: 0.2075 - accuracy: 1.0000\n",
            "Epoch 41/250\n",
            "9/9 [==============================] - 0s 6ms/step - loss: 0.2059 - accuracy: 1.0000\n",
            "Epoch 42/250\n",
            "9/9 [==============================] - 0s 6ms/step - loss: 0.2013 - accuracy: 1.0000\n",
            "Epoch 43/250\n",
            "9/9 [==============================] - 0s 6ms/step - loss: 0.1939 - accuracy: 1.0000\n",
            "Epoch 44/250\n",
            "9/9 [==============================] - 0s 6ms/step - loss: 0.2071 - accuracy: 1.0000\n",
            "Epoch 45/250\n",
            "9/9 [==============================] - 0s 6ms/step - loss: 0.1934 - accuracy: 1.0000\n",
            "Epoch 46/250\n",
            "9/9 [==============================] - 0s 6ms/step - loss: 0.2167 - accuracy: 1.0000\n",
            "Epoch 47/250\n",
            "9/9 [==============================] - 0s 6ms/step - loss: 0.1933 - accuracy: 1.0000\n",
            "Epoch 48/250\n",
            "9/9 [==============================] - 0s 6ms/step - loss: 0.1903 - accuracy: 1.0000\n",
            "Epoch 49/250\n",
            "9/9 [==============================] - 0s 6ms/step - loss: 0.1905 - accuracy: 1.0000\n",
            "Epoch 50/250\n",
            "9/9 [==============================] - 0s 6ms/step - loss: 0.1836 - accuracy: 1.0000\n",
            "Epoch 51/250\n",
            "9/9 [==============================] - 0s 5ms/step - loss: 0.1741 - accuracy: 1.0000\n",
            "Epoch 52/250\n",
            "9/9 [==============================] - 0s 7ms/step - loss: 0.1766 - accuracy: 1.0000\n",
            "Epoch 53/250\n",
            "9/9 [==============================] - 0s 6ms/step - loss: 0.1830 - accuracy: 1.0000\n",
            "Epoch 54/250\n",
            "9/9 [==============================] - 0s 6ms/step - loss: 0.2021 - accuracy: 1.0000\n",
            "Epoch 55/250\n",
            "9/9 [==============================] - 0s 6ms/step - loss: 0.1663 - accuracy: 1.0000\n",
            "Epoch 56/250\n",
            "9/9 [==============================] - 0s 6ms/step - loss: 0.1719 - accuracy: 1.0000\n",
            "Epoch 57/250\n",
            "9/9 [==============================] - 0s 5ms/step - loss: 0.1682 - accuracy: 1.0000\n",
            "Epoch 58/250\n",
            "9/9 [==============================] - 0s 6ms/step - loss: 0.1814 - accuracy: 1.0000\n",
            "Epoch 59/250\n",
            "9/9 [==============================] - 0s 5ms/step - loss: 0.1623 - accuracy: 1.0000\n",
            "Epoch 60/250\n",
            "9/9 [==============================] - 0s 5ms/step - loss: 0.1574 - accuracy: 1.0000\n",
            "Epoch 61/250\n",
            "9/9 [==============================] - 0s 6ms/step - loss: 0.1747 - accuracy: 1.0000\n",
            "Epoch 62/250\n",
            "9/9 [==============================] - 0s 6ms/step - loss: 0.1594 - accuracy: 1.0000\n",
            "Epoch 63/250\n",
            "9/9 [==============================] - 0s 6ms/step - loss: 0.1637 - accuracy: 1.0000\n",
            "Epoch 64/250\n",
            "9/9 [==============================] - 0s 6ms/step - loss: 0.1550 - accuracy: 1.0000\n",
            "Epoch 65/250\n",
            "9/9 [==============================] - 0s 6ms/step - loss: 0.1724 - accuracy: 1.0000\n",
            "Epoch 66/250\n",
            "9/9 [==============================] - 0s 6ms/step - loss: 0.1609 - accuracy: 1.0000\n",
            "Epoch 67/250\n",
            "9/9 [==============================] - 0s 5ms/step - loss: 0.1668 - accuracy: 1.0000\n",
            "Epoch 68/250\n",
            "9/9 [==============================] - 0s 6ms/step - loss: 0.1559 - accuracy: 1.0000\n",
            "Epoch 69/250\n",
            "9/9 [==============================] - 0s 6ms/step - loss: 0.1504 - accuracy: 1.0000\n",
            "Epoch 70/250\n",
            "9/9 [==============================] - 0s 6ms/step - loss: 0.1344 - accuracy: 1.0000\n",
            "Epoch 71/250\n",
            "9/9 [==============================] - 0s 5ms/step - loss: 0.1474 - accuracy: 1.0000\n",
            "Epoch 72/250\n",
            "9/9 [==============================] - 0s 5ms/step - loss: 0.1449 - accuracy: 1.0000\n",
            "Epoch 73/250\n",
            "9/9 [==============================] - 0s 5ms/step - loss: 0.1435 - accuracy: 1.0000\n",
            "Epoch 74/250\n",
            "9/9 [==============================] - 0s 6ms/step - loss: 0.1340 - accuracy: 1.0000\n",
            "Epoch 75/250\n",
            "9/9 [==============================] - 0s 5ms/step - loss: 0.1332 - accuracy: 1.0000\n",
            "Epoch 76/250\n",
            "9/9 [==============================] - 0s 6ms/step - loss: 0.1446 - accuracy: 1.0000\n",
            "Epoch 77/250\n",
            "9/9 [==============================] - 0s 6ms/step - loss: 0.1453 - accuracy: 1.0000\n",
            "Epoch 78/250\n",
            "9/9 [==============================] - 0s 5ms/step - loss: 0.1363 - accuracy: 1.0000\n",
            "Epoch 79/250\n",
            "9/9 [==============================] - 0s 6ms/step - loss: 0.1308 - accuracy: 1.0000\n",
            "Epoch 80/250\n",
            "9/9 [==============================] - 0s 5ms/step - loss: 0.1313 - accuracy: 1.0000\n",
            "Epoch 81/250\n",
            "9/9 [==============================] - 0s 5ms/step - loss: 0.1356 - accuracy: 1.0000\n",
            "Epoch 82/250\n",
            "9/9 [==============================] - 0s 6ms/step - loss: 0.1389 - accuracy: 1.0000\n",
            "Epoch 83/250\n",
            "9/9 [==============================] - 0s 5ms/step - loss: 0.1324 - accuracy: 1.0000\n",
            "Epoch 84/250\n",
            "9/9 [==============================] - 0s 6ms/step - loss: 0.1228 - accuracy: 1.0000\n",
            "Epoch 85/250\n",
            "9/9 [==============================] - 0s 5ms/step - loss: 0.1261 - accuracy: 1.0000\n",
            "Epoch 86/250\n",
            "9/9 [==============================] - 0s 5ms/step - loss: 0.1275 - accuracy: 1.0000\n",
            "Epoch 87/250\n",
            "9/9 [==============================] - 0s 6ms/step - loss: 0.1192 - accuracy: 1.0000\n",
            "Epoch 88/250\n",
            "9/9 [==============================] - 0s 6ms/step - loss: 0.1254 - accuracy: 1.0000\n",
            "Epoch 89/250\n",
            "9/9 [==============================] - 0s 5ms/step - loss: 0.1163 - accuracy: 1.0000\n",
            "Epoch 90/250\n",
            "9/9 [==============================] - 0s 6ms/step - loss: 0.1280 - accuracy: 1.0000\n",
            "Epoch 91/250\n",
            "9/9 [==============================] - 0s 5ms/step - loss: 0.1244 - accuracy: 1.0000\n",
            "Epoch 92/250\n",
            "9/9 [==============================] - 0s 6ms/step - loss: 0.1185 - accuracy: 1.0000\n",
            "Epoch 93/250\n",
            "9/9 [==============================] - 0s 5ms/step - loss: 0.1064 - accuracy: 1.0000\n",
            "Epoch 94/250\n",
            "9/9 [==============================] - 0s 6ms/step - loss: 0.1161 - accuracy: 1.0000\n",
            "Epoch 95/250\n",
            "9/9 [==============================] - 0s 6ms/step - loss: 0.1132 - accuracy: 1.0000\n",
            "Epoch 96/250\n",
            "9/9 [==============================] - 0s 6ms/step - loss: 0.1136 - accuracy: 1.0000\n",
            "Epoch 97/250\n",
            "9/9 [==============================] - 0s 5ms/step - loss: 0.1190 - accuracy: 1.0000\n",
            "Epoch 98/250\n",
            "9/9 [==============================] - 0s 6ms/step - loss: 0.1093 - accuracy: 1.0000\n",
            "Epoch 99/250\n",
            "9/9 [==============================] - 0s 6ms/step - loss: 0.1139 - accuracy: 1.0000\n",
            "Epoch 100/250\n",
            "9/9 [==============================] - 0s 6ms/step - loss: 0.1101 - accuracy: 1.0000\n",
            "Epoch 101/250\n",
            "9/9 [==============================] - 0s 6ms/step - loss: 0.1051 - accuracy: 1.0000\n",
            "Epoch 102/250\n",
            "9/9 [==============================] - 0s 6ms/step - loss: 0.1063 - accuracy: 1.0000\n",
            "Epoch 103/250\n",
            "9/9 [==============================] - 0s 5ms/step - loss: 0.1005 - accuracy: 1.0000\n",
            "Epoch 104/250\n",
            "9/9 [==============================] - 0s 6ms/step - loss: 0.1071 - accuracy: 1.0000\n",
            "Epoch 105/250\n",
            "9/9 [==============================] - 0s 6ms/step - loss: 0.1107 - accuracy: 1.0000\n",
            "Epoch 106/250\n",
            "9/9 [==============================] - 0s 5ms/step - loss: 0.1042 - accuracy: 1.0000\n",
            "Epoch 107/250\n",
            "9/9 [==============================] - 0s 6ms/step - loss: 0.1028 - accuracy: 1.0000\n",
            "Epoch 108/250\n",
            "9/9 [==============================] - 0s 5ms/step - loss: 0.1039 - accuracy: 1.0000\n",
            "Epoch 109/250\n",
            "9/9 [==============================] - 0s 5ms/step - loss: 0.0944 - accuracy: 1.0000\n",
            "Epoch 110/250\n",
            "9/9 [==============================] - 0s 6ms/step - loss: 0.0918 - accuracy: 1.0000\n",
            "Epoch 111/250\n",
            "9/9 [==============================] - 0s 5ms/step - loss: 0.1000 - accuracy: 1.0000\n",
            "Epoch 112/250\n",
            "9/9 [==============================] - 0s 6ms/step - loss: 0.0962 - accuracy: 1.0000\n",
            "Epoch 113/250\n",
            "9/9 [==============================] - 0s 5ms/step - loss: 0.0995 - accuracy: 1.0000\n",
            "Epoch 114/250\n",
            "9/9 [==============================] - 0s 6ms/step - loss: 0.0961 - accuracy: 1.0000\n",
            "Epoch 115/250\n",
            "9/9 [==============================] - 0s 6ms/step - loss: 0.0916 - accuracy: 1.0000\n",
            "Epoch 116/250\n",
            "9/9 [==============================] - 0s 5ms/step - loss: 0.0869 - accuracy: 1.0000\n",
            "Epoch 117/250\n",
            "9/9 [==============================] - 0s 5ms/step - loss: 0.0912 - accuracy: 1.0000\n",
            "Epoch 118/250\n",
            "9/9 [==============================] - 0s 6ms/step - loss: 0.0961 - accuracy: 1.0000\n",
            "Epoch 119/250\n",
            "9/9 [==============================] - 0s 6ms/step - loss: 0.0906 - accuracy: 1.0000\n",
            "Epoch 120/250\n",
            "9/9 [==============================] - 0s 6ms/step - loss: 0.0840 - accuracy: 1.0000\n",
            "Epoch 121/250\n",
            "9/9 [==============================] - 0s 6ms/step - loss: 0.0921 - accuracy: 1.0000\n",
            "Epoch 122/250\n",
            "9/9 [==============================] - 0s 6ms/step - loss: 0.0854 - accuracy: 1.0000\n",
            "Epoch 123/250\n",
            "9/9 [==============================] - 0s 7ms/step - loss: 0.0873 - accuracy: 1.0000\n",
            "Epoch 124/250\n",
            "9/9 [==============================] - 0s 5ms/step - loss: 0.0870 - accuracy: 1.0000\n",
            "Epoch 125/250\n",
            "9/9 [==============================] - 0s 6ms/step - loss: 0.0863 - accuracy: 1.0000\n",
            "Epoch 126/250\n",
            "9/9 [==============================] - 0s 5ms/step - loss: 0.0814 - accuracy: 1.0000\n",
            "Epoch 127/250\n",
            "9/9 [==============================] - 0s 6ms/step - loss: 0.0843 - accuracy: 1.0000\n",
            "Epoch 128/250\n",
            "9/9 [==============================] - 0s 6ms/step - loss: 0.0820 - accuracy: 1.0000\n",
            "Epoch 129/250\n",
            "9/9 [==============================] - 0s 6ms/step - loss: 0.0843 - accuracy: 1.0000\n",
            "Epoch 130/250\n",
            "9/9 [==============================] - 0s 5ms/step - loss: 0.0839 - accuracy: 1.0000\n",
            "Epoch 131/250\n",
            "9/9 [==============================] - 0s 6ms/step - loss: 0.0827 - accuracy: 1.0000\n",
            "Epoch 132/250\n",
            "9/9 [==============================] - 0s 5ms/step - loss: 0.0858 - accuracy: 1.0000\n",
            "Epoch 133/250\n",
            "9/9 [==============================] - 0s 6ms/step - loss: 0.0817 - accuracy: 1.0000\n",
            "Epoch 134/250\n",
            "9/9 [==============================] - 0s 6ms/step - loss: 0.0768 - accuracy: 1.0000\n",
            "Epoch 135/250\n",
            "9/9 [==============================] - 0s 5ms/step - loss: 0.0753 - accuracy: 1.0000\n",
            "Epoch 136/250\n",
            "9/9 [==============================] - 0s 6ms/step - loss: 0.0819 - accuracy: 1.0000\n",
            "Epoch 137/250\n",
            "9/9 [==============================] - 0s 6ms/step - loss: 0.0753 - accuracy: 1.0000\n",
            "Epoch 138/250\n",
            "9/9 [==============================] - 0s 6ms/step - loss: 0.0746 - accuracy: 1.0000\n",
            "Epoch 139/250\n",
            "9/9 [==============================] - 0s 6ms/step - loss: 0.0810 - accuracy: 1.0000\n",
            "Epoch 140/250\n",
            "9/9 [==============================] - 0s 6ms/step - loss: 0.0791 - accuracy: 1.0000\n",
            "Epoch 141/250\n",
            "9/9 [==============================] - 0s 6ms/step - loss: 0.0725 - accuracy: 1.0000\n",
            "Epoch 142/250\n",
            "9/9 [==============================] - 0s 6ms/step - loss: 0.0755 - accuracy: 1.0000\n",
            "Epoch 143/250\n",
            "9/9 [==============================] - 0s 6ms/step - loss: 0.0733 - accuracy: 1.0000\n",
            "Epoch 144/250\n",
            "9/9 [==============================] - 0s 6ms/step - loss: 0.0689 - accuracy: 1.0000\n",
            "Epoch 145/250\n",
            "9/9 [==============================] - 0s 6ms/step - loss: 0.0660 - accuracy: 1.0000\n",
            "Epoch 146/250\n",
            "9/9 [==============================] - 0s 6ms/step - loss: 0.0719 - accuracy: 1.0000\n",
            "Epoch 147/250\n",
            "9/9 [==============================] - 0s 6ms/step - loss: 0.0684 - accuracy: 1.0000\n",
            "Epoch 148/250\n",
            "9/9 [==============================] - 0s 5ms/step - loss: 0.0691 - accuracy: 1.0000\n",
            "Epoch 149/250\n",
            "9/9 [==============================] - 0s 5ms/step - loss: 0.0635 - accuracy: 1.0000\n",
            "Epoch 150/250\n",
            "9/9 [==============================] - 0s 6ms/step - loss: 0.0698 - accuracy: 1.0000\n",
            "Epoch 151/250\n",
            "9/9 [==============================] - 0s 6ms/step - loss: 0.0711 - accuracy: 1.0000\n",
            "Epoch 152/250\n",
            "9/9 [==============================] - 0s 6ms/step - loss: 0.0638 - accuracy: 1.0000\n",
            "Epoch 153/250\n",
            "9/9 [==============================] - 0s 6ms/step - loss: 0.0665 - accuracy: 1.0000\n",
            "Epoch 154/250\n",
            "9/9 [==============================] - 0s 6ms/step - loss: 0.0674 - accuracy: 1.0000\n",
            "Epoch 155/250\n",
            "9/9 [==============================] - 0s 6ms/step - loss: 0.0689 - accuracy: 1.0000\n",
            "Epoch 156/250\n",
            "9/9 [==============================] - 0s 5ms/step - loss: 0.0653 - accuracy: 1.0000\n",
            "Epoch 157/250\n",
            "9/9 [==============================] - 0s 6ms/step - loss: 0.0603 - accuracy: 1.0000\n",
            "Epoch 158/250\n",
            "9/9 [==============================] - 0s 5ms/step - loss: 0.0632 - accuracy: 1.0000\n",
            "Epoch 159/250\n",
            "9/9 [==============================] - 0s 7ms/step - loss: 0.0649 - accuracy: 1.0000\n",
            "Epoch 160/250\n",
            "9/9 [==============================] - 0s 6ms/step - loss: 0.0661 - accuracy: 1.0000\n",
            "Epoch 161/250\n",
            "9/9 [==============================] - 0s 6ms/step - loss: 0.0589 - accuracy: 1.0000\n",
            "Epoch 162/250\n",
            "9/9 [==============================] - 0s 6ms/step - loss: 0.0645 - accuracy: 1.0000\n",
            "Epoch 163/250\n",
            "9/9 [==============================] - 0s 5ms/step - loss: 0.0621 - accuracy: 1.0000\n",
            "Epoch 164/250\n",
            "9/9 [==============================] - 0s 6ms/step - loss: 0.0620 - accuracy: 1.0000\n",
            "Epoch 165/250\n",
            "9/9 [==============================] - 0s 5ms/step - loss: 0.0650 - accuracy: 1.0000\n",
            "Epoch 166/250\n",
            "9/9 [==============================] - 0s 5ms/step - loss: 0.0628 - accuracy: 1.0000\n",
            "Epoch 167/250\n",
            "9/9 [==============================] - 0s 6ms/step - loss: 0.0608 - accuracy: 1.0000\n",
            "Epoch 168/250\n",
            "9/9 [==============================] - 0s 6ms/step - loss: 0.0566 - accuracy: 1.0000\n",
            "Epoch 169/250\n",
            "9/9 [==============================] - 0s 6ms/step - loss: 0.0587 - accuracy: 1.0000\n",
            "Epoch 170/250\n",
            "9/9 [==============================] - 0s 5ms/step - loss: 0.0547 - accuracy: 1.0000\n",
            "Epoch 171/250\n",
            "9/9 [==============================] - 0s 6ms/step - loss: 0.0555 - accuracy: 1.0000\n",
            "Epoch 172/250\n",
            "9/9 [==============================] - 0s 6ms/step - loss: 0.0613 - accuracy: 1.0000\n",
            "Epoch 173/250\n",
            "9/9 [==============================] - 0s 6ms/step - loss: 0.0556 - accuracy: 1.0000\n",
            "Epoch 174/250\n",
            "9/9 [==============================] - 0s 7ms/step - loss: 0.0581 - accuracy: 1.0000\n",
            "Epoch 175/250\n",
            "9/9 [==============================] - 0s 6ms/step - loss: 0.0599 - accuracy: 1.0000\n",
            "Epoch 176/250\n",
            "9/9 [==============================] - 0s 6ms/step - loss: 0.0535 - accuracy: 1.0000\n",
            "Epoch 177/250\n",
            "9/9 [==============================] - 0s 6ms/step - loss: 0.0584 - accuracy: 1.0000\n",
            "Epoch 178/250\n",
            "9/9 [==============================] - 0s 6ms/step - loss: 0.0525 - accuracy: 1.0000\n",
            "Epoch 179/250\n",
            "9/9 [==============================] - 0s 5ms/step - loss: 0.0548 - accuracy: 1.0000\n",
            "Epoch 180/250\n",
            "9/9 [==============================] - 0s 7ms/step - loss: 0.0533 - accuracy: 1.0000\n",
            "Epoch 181/250\n",
            "9/9 [==============================] - 0s 7ms/step - loss: 0.0537 - accuracy: 1.0000\n",
            "Epoch 182/250\n",
            "9/9 [==============================] - 0s 6ms/step - loss: 0.0547 - accuracy: 1.0000\n",
            "Epoch 183/250\n",
            "9/9 [==============================] - 0s 6ms/step - loss: 0.0507 - accuracy: 1.0000\n",
            "Epoch 184/250\n",
            "9/9 [==============================] - 0s 6ms/step - loss: 0.0511 - accuracy: 1.0000\n",
            "Epoch 185/250\n",
            "9/9 [==============================] - 0s 6ms/step - loss: 0.0496 - accuracy: 1.0000\n",
            "Epoch 186/250\n",
            "9/9 [==============================] - 0s 5ms/step - loss: 0.0519 - accuracy: 1.0000\n",
            "Epoch 187/250\n",
            "9/9 [==============================] - 0s 6ms/step - loss: 0.0491 - accuracy: 1.0000\n",
            "Epoch 188/250\n",
            "9/9 [==============================] - 0s 6ms/step - loss: 0.0500 - accuracy: 1.0000\n",
            "Epoch 189/250\n",
            "9/9 [==============================] - 0s 6ms/step - loss: 0.0516 - accuracy: 1.0000\n",
            "Epoch 190/250\n",
            "9/9 [==============================] - 0s 7ms/step - loss: 0.0490 - accuracy: 1.0000\n",
            "Epoch 191/250\n",
            "9/9 [==============================] - 0s 7ms/step - loss: 0.0502 - accuracy: 1.0000\n",
            "Epoch 192/250\n",
            "9/9 [==============================] - 0s 6ms/step - loss: 0.0521 - accuracy: 1.0000\n",
            "Epoch 193/250\n",
            "9/9 [==============================] - 0s 6ms/step - loss: 0.0481 - accuracy: 1.0000\n",
            "Epoch 194/250\n",
            "9/9 [==============================] - 0s 6ms/step - loss: 0.0520 - accuracy: 1.0000\n",
            "Epoch 195/250\n",
            "9/9 [==============================] - 0s 5ms/step - loss: 0.0475 - accuracy: 1.0000\n",
            "Epoch 196/250\n",
            "9/9 [==============================] - 0s 6ms/step - loss: 0.0455 - accuracy: 1.0000\n",
            "Epoch 197/250\n",
            "9/9 [==============================] - 0s 5ms/step - loss: 0.0496 - accuracy: 1.0000\n",
            "Epoch 198/250\n",
            "9/9 [==============================] - 0s 6ms/step - loss: 0.0460 - accuracy: 1.0000\n",
            "Epoch 199/250\n",
            "9/9 [==============================] - 0s 5ms/step - loss: 0.0473 - accuracy: 1.0000\n",
            "Epoch 200/250\n",
            "9/9 [==============================] - 0s 7ms/step - loss: 0.0446 - accuracy: 1.0000\n",
            "Epoch 201/250\n",
            "9/9 [==============================] - 0s 6ms/step - loss: 0.0429 - accuracy: 1.0000\n",
            "Epoch 202/250\n",
            "9/9 [==============================] - 0s 6ms/step - loss: 0.0454 - accuracy: 1.0000\n",
            "Epoch 203/250\n",
            "9/9 [==============================] - 0s 7ms/step - loss: 0.0413 - accuracy: 1.0000\n",
            "Epoch 204/250\n",
            "9/9 [==============================] - 0s 6ms/step - loss: 0.0500 - accuracy: 1.0000\n",
            "Epoch 205/250\n",
            "9/9 [==============================] - 0s 6ms/step - loss: 0.0438 - accuracy: 1.0000\n",
            "Epoch 206/250\n",
            "9/9 [==============================] - 0s 6ms/step - loss: 0.0449 - accuracy: 1.0000\n",
            "Epoch 207/250\n",
            "9/9 [==============================] - 0s 6ms/step - loss: 0.0404 - accuracy: 1.0000\n",
            "Epoch 208/250\n",
            "9/9 [==============================] - 0s 7ms/step - loss: 0.0445 - accuracy: 1.0000\n",
            "Epoch 209/250\n",
            "9/9 [==============================] - 0s 7ms/step - loss: 0.0454 - accuracy: 1.0000\n",
            "Epoch 210/250\n",
            "9/9 [==============================] - 0s 6ms/step - loss: 0.0434 - accuracy: 1.0000\n",
            "Epoch 211/250\n",
            "9/9 [==============================] - 0s 6ms/step - loss: 0.0447 - accuracy: 1.0000\n",
            "Epoch 212/250\n",
            "9/9 [==============================] - 0s 6ms/step - loss: 0.0414 - accuracy: 1.0000\n",
            "Epoch 213/250\n",
            "9/9 [==============================] - 0s 6ms/step - loss: 0.0422 - accuracy: 1.0000\n",
            "Epoch 214/250\n",
            "9/9 [==============================] - 0s 6ms/step - loss: 0.0417 - accuracy: 1.0000\n",
            "Epoch 215/250\n",
            "9/9 [==============================] - 0s 6ms/step - loss: 0.0413 - accuracy: 1.0000\n",
            "Epoch 216/250\n",
            "9/9 [==============================] - 0s 5ms/step - loss: 0.0408 - accuracy: 1.0000\n",
            "Epoch 217/250\n",
            "9/9 [==============================] - 0s 6ms/step - loss: 0.0399 - accuracy: 1.0000\n",
            "Epoch 218/250\n",
            "9/9 [==============================] - 0s 5ms/step - loss: 0.0399 - accuracy: 1.0000\n",
            "Epoch 219/250\n",
            "9/9 [==============================] - 0s 6ms/step - loss: 0.0412 - accuracy: 1.0000\n",
            "Epoch 220/250\n",
            "9/9 [==============================] - 0s 6ms/step - loss: 0.0403 - accuracy: 1.0000\n",
            "Epoch 221/250\n",
            "9/9 [==============================] - 0s 6ms/step - loss: 0.0359 - accuracy: 1.0000\n",
            "Epoch 222/250\n",
            "9/9 [==============================] - 0s 5ms/step - loss: 0.0388 - accuracy: 1.0000\n",
            "Epoch 223/250\n",
            "9/9 [==============================] - 0s 6ms/step - loss: 0.0401 - accuracy: 1.0000\n",
            "Epoch 224/250\n",
            "9/9 [==============================] - 0s 6ms/step - loss: 0.0375 - accuracy: 1.0000\n",
            "Epoch 225/250\n",
            "9/9 [==============================] - 0s 6ms/step - loss: 0.0421 - accuracy: 1.0000\n",
            "Epoch 226/250\n",
            "9/9 [==============================] - 0s 6ms/step - loss: 0.0381 - accuracy: 1.0000\n",
            "Epoch 227/250\n",
            "9/9 [==============================] - 0s 8ms/step - loss: 0.0401 - accuracy: 1.0000\n",
            "Epoch 228/250\n",
            "9/9 [==============================] - 0s 7ms/step - loss: 0.0378 - accuracy: 1.0000\n",
            "Epoch 229/250\n",
            "9/9 [==============================] - 0s 6ms/step - loss: 0.0361 - accuracy: 1.0000\n",
            "Epoch 230/250\n",
            "9/9 [==============================] - 0s 6ms/step - loss: 0.0387 - accuracy: 1.0000\n",
            "Epoch 231/250\n",
            "9/9 [==============================] - 0s 6ms/step - loss: 0.0337 - accuracy: 1.0000\n",
            "Epoch 232/250\n",
            "9/9 [==============================] - 0s 6ms/step - loss: 0.0373 - accuracy: 1.0000\n",
            "Epoch 233/250\n",
            "9/9 [==============================] - 0s 6ms/step - loss: 0.0337 - accuracy: 1.0000\n",
            "Epoch 234/250\n",
            "9/9 [==============================] - 0s 6ms/step - loss: 0.0381 - accuracy: 1.0000\n",
            "Epoch 235/250\n",
            "9/9 [==============================] - 0s 6ms/step - loss: 0.0334 - accuracy: 1.0000\n",
            "Epoch 236/250\n",
            "9/9 [==============================] - 0s 6ms/step - loss: 0.0382 - accuracy: 1.0000\n",
            "Epoch 237/250\n",
            "9/9 [==============================] - 0s 6ms/step - loss: 0.0379 - accuracy: 1.0000\n",
            "Epoch 238/250\n",
            "9/9 [==============================] - 0s 6ms/step - loss: 0.0372 - accuracy: 1.0000\n",
            "Epoch 239/250\n",
            "9/9 [==============================] - 0s 6ms/step - loss: 0.0361 - accuracy: 1.0000\n",
            "Epoch 240/250\n",
            "9/9 [==============================] - 0s 6ms/step - loss: 0.0324 - accuracy: 1.0000\n",
            "Epoch 241/250\n",
            "9/9 [==============================] - 0s 6ms/step - loss: 0.0356 - accuracy: 1.0000\n",
            "Epoch 242/250\n",
            "9/9 [==============================] - 0s 6ms/step - loss: 0.0314 - accuracy: 1.0000\n",
            "Epoch 243/250\n",
            "9/9 [==============================] - 0s 7ms/step - loss: 0.0361 - accuracy: 1.0000\n",
            "Epoch 244/250\n",
            "9/9 [==============================] - 0s 6ms/step - loss: 0.0340 - accuracy: 1.0000\n",
            "Epoch 245/250\n",
            "9/9 [==============================] - 0s 6ms/step - loss: 0.0326 - accuracy: 1.0000\n",
            "Epoch 246/250\n",
            "9/9 [==============================] - 0s 6ms/step - loss: 0.0336 - accuracy: 1.0000\n",
            "Epoch 247/250\n",
            "9/9 [==============================] - 0s 6ms/step - loss: 0.0325 - accuracy: 1.0000\n",
            "Epoch 248/250\n",
            "9/9 [==============================] - 0s 6ms/step - loss: 0.0326 - accuracy: 1.0000\n",
            "Epoch 249/250\n",
            "9/9 [==============================] - 0s 6ms/step - loss: 0.0306 - accuracy: 1.0000\n",
            "Epoch 250/250\n",
            "9/9 [==============================] - 0s 6ms/step - loss: 0.0347 - accuracy: 1.0000\n"
          ],
          "name": "stdout"
        }
      ]
    },
    {
      "cell_type": "code",
      "metadata": {
        "colab": {
          "base_uri": "https://localhost:8080/"
        },
        "id": "A6BGjnzu-wtp",
        "outputId": "35a07326-160f-4e67-ab96-85dc430ea79a"
      },
      "source": [
        "history_dict = history.history\n",
        "print(history_dict.keys())\n",
        "# to keep for later \n",
        "%store history_dict"
      ],
      "execution_count": 22,
      "outputs": [
        {
          "output_type": "stream",
          "text": [
            "dict_keys(['loss', 'accuracy'])\n",
            "Stored 'history_dict' (dict)\n"
          ],
          "name": "stdout"
        }
      ]
    },
    {
      "cell_type": "code",
      "metadata": {
        "id": "qjHvIqe1-0zr"
      },
      "source": [
        "# imports \n",
        "import matplotlib.pyplot as plt \n",
        "import matplotlib.image as mpimg"
      ],
      "execution_count": 23,
      "outputs": []
    },
    {
      "cell_type": "code",
      "metadata": {
        "id": "M816JvwK-3GJ"
      },
      "source": [
        "# function to plot training given history dictionary \n",
        "def plot_training(history_dict):\n",
        "\t\"\"\"\n",
        "\tPlots the training accuracy and loss graphs for a Keras model (validation graphs not included). \n",
        "\tParameters:\n",
        "\t\t- history_dict: a dictionary of \"history\" object from Keras \n",
        "\t\"\"\"\n",
        "\t# plot training accuracy graph \n",
        "\tplt.plot(history_dict['accuracy'])\n",
        "\tplt.title('Training Accuracy')\n",
        "\tplt.ylabel('accuracy')\n",
        "\tplt.xlabel('epoch')\n",
        "\tplt.legend(['train'], loc='upper left')\n",
        "\tplt.show()\n",
        "\n",
        "\t# plot training loss graph \n",
        "\tplt.plot(history_dict['loss'])\n",
        "\tplt.title('Training Loss')\n",
        "\tplt.ylabel('loss')\n",
        "\tplt.xlabel('epoch')\n",
        "\tplt.legend(['train'], loc='upper left')\n",
        "\tplt.show()"
      ],
      "execution_count": 24,
      "outputs": []
    },
    {
      "cell_type": "code",
      "metadata": {
        "colab": {
          "base_uri": "https://localhost:8080/",
          "height": 573
        },
        "id": "wTeJt4ZD-4u_",
        "outputId": "6cea20ed-b53d-40fb-b2df-8d5b1685b3eb"
      },
      "source": [
        "plot_training(history_dict)"
      ],
      "execution_count": 25,
      "outputs": [
        {
          "output_type": "display_data",
          "data": {
            "image/png": "[encoded data removed]",
            "text/plain": [
              "<Figure size 432x288 with 1 Axes>"
            ]
          },
          "metadata": {
            "tags": [],
            "needs_background": "light"
          }
        },
        {
          "output_type": "display_data",
          "data": {
            "image/png": "[encoded data removed]",
            "text/plain": [
              "<Figure size 432x288 with 1 Axes>"
            ]
          },
          "metadata": {
            "tags": [],
            "needs_background": "light"
          }
        }
      ]
    },
    {
      "cell_type": "code",
      "metadata": {
        "colab": {
          "base_uri": "https://localhost:8080/"
        },
        "id": "sgx89I-e-88c",
        "outputId": "37bb9954-06ac-4832-d265-57585a12d898"
      },
      "source": [
        "test_loss, test_accuracy = model.evaluate(test_samples,  test_labels, verbose=2)\n",
        "print('Test accuracy:', test_accuracy)"
      ],
      "execution_count": 26,
      "outputs": [
        {
          "output_type": "stream",
          "text": [
            "11/11 - 0s - loss: 2.8371 - accuracy: 0.9021\n",
            "Test accuracy: 0.9021406769752502\n"
          ],
          "name": "stdout"
        }
      ]
    },
    {
      "cell_type": "code",
      "metadata": {
        "colab": {
          "base_uri": "https://localhost:8080/"
        },
        "id": "t7yd5t-U-9Xf",
        "outputId": "6d5b4881-e374-4c36-ff49-23153674707d"
      },
      "source": [
        "predictions = model.predict_classes(test_samples) # generates a list of predictions"
      ],
      "execution_count": 27,
      "outputs": [
        {
          "output_type": "stream",
          "text": [
            "/usr/local/lib/python3.7/dist-packages/tensorflow/python/keras/engine/sequential.py:450: UserWarning: `model.predict_classes()` is deprecated and will be removed after 2021-01-01. Please use instead:* `np.argmax(model.predict(x), axis=-1)`,   if your model does multi-class classification   (e.g. if it uses a `softmax` last-layer activation).* `(model.predict(x) > 0.5).astype(\"int32\")`,   if your model does binary classification   (e.g. if it uses a `sigmoid` last-layer activation).\n",
            "  warnings.warn('`model.predict_classes()` is deprecated and '\n"
          ],
          "name": "stderr"
        }
      ]
    },
    {
      "cell_type": "code",
      "metadata": {
        "colab": {
          "base_uri": "https://localhost:8080/"
        },
        "id": "brlBgmRU--5Z",
        "outputId": "becbce1e-0173-4e25-973e-8a633cc56dc3"
      },
      "source": [
        "print(\"Test labels: \\n\", test_labels)\n",
        "print(\"Test predictions: \\n\", predictions)"
      ],
      "execution_count": 28,
      "outputs": [
        {
          "output_type": "stream",
          "text": [
            "Test labels: \n",
            " [1 1 1 1 1 1 1 1 1 1 1 1 1 1 1 1 0 0 0 0 0 0 0 0 0 0 0 0 0 0 0 0 0 0 0 0 0\n",
            " 0 0 0 0 0 0 0 0 0 0 0 0 0 0 0 0 0 0 0 0 0 0 0 0 0 0 0 0 0 0 0 0 0 0 0 0 0\n",
            " 0 0 0 0 0 0 0 0 0 0 0 0 0 0 0 0 0 0 0 0 0 0 0 0 0 0 0 0 0 0 0 0 0 0 0 0 0\n",
            " 0 0 0 0 0 0 0 0 0 0 0 0 0 0 0 0 0 0 0 0 0 0 0 0 0 0 0 0 0 0 0 0 0 0 0 0 0\n",
            " 0 0 0 0 0 0 0 0 0 0 0 0 0 0 0 0 0 0 0 0 0 0 0 0 0 0 0 0 0 0 0 0 0 0 0 0 0\n",
            " 0 0 0 0 0 0 0 0 0 0 0 0 0 0 0 0 0 0 0 0 0 0 0 0 0 0 0 0 0 0 0 0 0 0 0 0 0\n",
            " 0 0 0 0 0 0 0 0 0 0 0 0 0 0 0 0 0 0 0 0 0 0 0 0 0 0 0 0 0 0 0 0 0 0 0 0 0\n",
            " 0 0 0 0 0 0 0 0 0 0 0 0 0 0 0 0 0 0 0 0 0 0 0 0 0 0 0 0 0 0 0 0 0 0 0 0 0\n",
            " 0 0 0 0 0 0 0 0 0 0 0 0 0 0 0 0 0 0 0 0 0 0 0 0 0 0 0 0 0 0 0]\n",
            "Test predictions: \n",
            " [1 1 1 1 1 1 1 1 1 1 0 0 1 1 1 1 0 0 0 0 0 0 1 0 0 0 1 0 0 0 0 0 0 0 0 0 0\n",
            " 0 0 0 0 0 0 0 0 1 0 0 0 0 0 0 0 1 0 0 0 0 0 0 0 0 0 0 1 1 0 0 0 0 0 0 0 0\n",
            " 0 0 0 0 0 0 0 0 0 0 0 0 0 1 0 0 0 0 0 0 0 0 0 0 0 0 0 0 0 0 0 0 0 0 0 0 1\n",
            " 0 1 1 0 0 0 0 0 0 0 0 0 0 0 0 0 0 0 0 1 1 0 0 0 0 0 0 0 0 0 0 0 0 0 0 1 0\n",
            " 0 0 0 0 0 0 0 0 0 1 0 0 0 0 0 0 0 0 0 0 0 0 0 0 0 0 0 0 0 0 0 0 1 1 0 0 0\n",
            " 0 0 1 1 0 0 0 1 0 0 0 0 0 0 0 0 0 0 0 0 0 0 0 0 0 0 0 0 0 0 0 0 0 0 0 0 0\n",
            " 0 0 0 0 0 0 0 0 0 0 0 0 0 0 0 0 1 0 0 0 0 0 0 0 0 0 0 0 0 0 0 0 0 1 0 0 0\n",
            " 1 0 0 0 0 0 0 0 0 0 1 0 0 0 0 0 0 0 0 0 1 0 0 1 0 0 0 0 1 0 0 0 0 0 0 0 0\n",
            " 0 0 0 1 0 0 0 0 0 1 1 1 0 0 0 0 0 0 0 0 0 0 0 0 0 0 0 0 0 0 0]\n"
          ],
          "name": "stdout"
        }
      ]
    },
    {
      "cell_type": "code",
      "metadata": {
        "id": "_-1hBrbZ_BXu"
      },
      "source": [
        "correct = 0\n",
        "for i in range(len(predictions)):\n",
        "  if predictions[i] == test_labels[i]:\n",
        "    correct += 1"
      ],
      "execution_count": 29,
      "outputs": []
    },
    {
      "cell_type": "code",
      "metadata": {
        "colab": {
          "base_uri": "https://localhost:8080/"
        },
        "id": "H-1Qo1cg_Fmw",
        "outputId": "b226c93b-8c2b-4006-eac1-35c2c7b57002"
      },
      "source": [
        "predictions_accuracy = correct/len(test_labels)\n",
        "predictions_accuracy"
      ],
      "execution_count": 30,
      "outputs": [
        {
          "output_type": "execute_result",
          "data": {
            "text/plain": [
              "0.9021406727828746"
            ]
          },
          "metadata": {
            "tags": []
          },
          "execution_count": 30
        }
      ]
    },
    {
      "cell_type": "code",
      "metadata": {
        "colab": {
          "base_uri": "https://localhost:8080/"
        },
        "id": "UgWb9OpT_IAO",
        "outputId": "6804359b-4ccd-4be2-e792-0ca00e508c4c"
      },
      "source": [
        "print(\"The accuracy is: \" + str(round(predictions_accuracy * 100, 1)) + \"%\")"
      ],
      "execution_count": 31,
      "outputs": [
        {
          "output_type": "stream",
          "text": [
            "The accuracy is: 90.2%\n"
          ],
          "name": "stdout"
        }
      ]
    },
    {
      "cell_type": "code",
      "metadata": {
        "id": "tGn8qYWV_KOY"
      },
      "source": [
        "speech_correct = 0\n",
        "for i in range(len(test_labels[:16])):\n",
        "    if predictions[i] == test_labels[i]:\n",
        "      speech_correct += 1"
      ],
      "execution_count": 32,
      "outputs": []
    },
    {
      "cell_type": "code",
      "metadata": {
        "colab": {
          "base_uri": "https://localhost:8080/"
        },
        "id": "-Ab7lBOm_NXD",
        "outputId": "60697943-3eea-44ec-a489-30b3f1599aa8"
      },
      "source": [
        "speech_correct/len(test_labels[:16])"
      ],
      "execution_count": 33,
      "outputs": [
        {
          "output_type": "execute_result",
          "data": {
            "text/plain": [
              "0.875"
            ]
          },
          "metadata": {
            "tags": []
          },
          "execution_count": 33
        }
      ]
    },
    {
      "cell_type": "markdown",
      "metadata": {
        "id": "FhIgZsgL_hGf"
      },
      "source": [
        "WAY BETTER! Class imbalance was the problem! "
      ]
    }
  ]
}