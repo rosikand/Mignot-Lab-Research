{
  "nbformat": 4,
  "nbformat_minor": 0,
  "metadata": {
    "colab": {
      "name": "lstm9.ipynb",
      "provenance": []
    },
    "kernelspec": {
      "name": "python3",
      "display_name": "Python 3"
    },
    "accelerator": "GPU"
  },
  "cells": [
    {
      "cell_type": "code",
      "metadata": {
        "colab": {
          "base_uri": "https://localhost:8080/"
        },
        "id": "p2wqOi1f-OGu",
        "outputId": "3f8f5d1f-bf78-4813-f60b-82973ef47354"
      },
      "source": [
        "from google.colab import drive\n",
        "drive.mount('/content/drive')"
      ],
      "execution_count": 2,
      "outputs": [
        {
          "output_type": "stream",
          "text": [
            "Mounted at /content/drive\n"
          ],
          "name": "stdout"
        }
      ]
    },
    {
      "cell_type": "code",
      "metadata": {
        "id": "KkFvuXHV-VAF"
      },
      "source": [
        "import pickle\n",
        "\n",
        "# load in labels and samples for the training subset\n",
        "training_samples_file = open('/content/drive/MyDrive/Mignot Lab Research/Experiments/one_sample/nine_seconds/train_samples.pkl', 'rb')\n",
        "training_labels_file = open('/content/drive/MyDrive/Mignot Lab Research/Experiments/one_sample/nine_seconds/train_labels.pkl', 'rb')\n",
        "\n",
        "# load in labels and samples for the test subset\n",
        "test_samples_file = open('/content/drive/MyDrive/Mignot Lab Research/Experiments/one_sample/nine_seconds/test_samples.pkl', 'rb')\n",
        "test_labels_file = open('/content/drive/MyDrive/Mignot Lab Research/Experiments/one_sample/nine_seconds/test_labels.pkl', 'rb')"
      ],
      "execution_count": 3,
      "outputs": []
    },
    {
      "cell_type": "code",
      "metadata": {
        "id": "kF4LjhYE-jN2"
      },
      "source": [
        "# training\n",
        "X = pickle.load(training_samples_file)\n",
        "y = pickle.load(training_labels_file)\n",
        "\n",
        "# test\n",
        "test_samples = pickle.load(test_samples_file)\n",
        "test_labels = pickle.load(test_labels_file)"
      ],
      "execution_count": 4,
      "outputs": []
    },
    {
      "cell_type": "markdown",
      "metadata": {
        "id": "3ITmGJ1q_6D0"
      },
      "source": [
        "### LSTM "
      ]
    },
    {
      "cell_type": "code",
      "metadata": {
        "id": "fJZ4WyVd-lLk"
      },
      "source": [
        "import tensorflow as tf\n",
        "import keras\n",
        "\n",
        "model = keras.Sequential()\n",
        "model.add(keras.layers.LSTM(64, input_shape=(128, 431), return_sequences=True))\n",
        "model.add(keras.layers.LSTM(64))\n",
        "model.add(keras.layers.Dense(64, activation='relu'))\n",
        "model.add(keras.layers.Dropout(0.3))\n",
        "model.add(keras.layers.Dense(2, activation='softmax'))"
      ],
      "execution_count": 5,
      "outputs": []
    },
    {
      "cell_type": "code",
      "metadata": {
        "colab": {
          "base_uri": "https://localhost:8080/"
        },
        "id": "YcBzGRgEAGJ1",
        "outputId": "c5fdd14a-c35a-44a3-fc0a-79ed9fa93e73"
      },
      "source": [
        "model.summary()"
      ],
      "execution_count": 6,
      "outputs": [
        {
          "output_type": "stream",
          "text": [
            "Model: \"sequential\"\n",
            "_________________________________________________________________\n",
            "Layer (type)                 Output Shape              Param #   \n",
            "=================================================================\n",
            "lstm (LSTM)                  (None, 128, 64)           126976    \n",
            "_________________________________________________________________\n",
            "lstm_1 (LSTM)                (None, 64)                33024     \n",
            "_________________________________________________________________\n",
            "dense (Dense)                (None, 64)                4160      \n",
            "_________________________________________________________________\n",
            "dropout (Dropout)            (None, 64)                0         \n",
            "_________________________________________________________________\n",
            "dense_1 (Dense)              (None, 2)                 130       \n",
            "=================================================================\n",
            "Total params: 164,290\n",
            "Trainable params: 164,290\n",
            "Non-trainable params: 0\n",
            "_________________________________________________________________\n"
          ],
          "name": "stdout"
        }
      ]
    },
    {
      "cell_type": "code",
      "metadata": {
        "id": "BZfbTudz-r3S"
      },
      "source": [
        "model.compile(optimizer='adam',\n",
        "              loss=tf.keras.losses.SparseCategoricalCrossentropy(from_logits=True),\n",
        "              metrics=['accuracy'])"
      ],
      "execution_count": 7,
      "outputs": []
    },
    {
      "cell_type": "code",
      "metadata": {
        "colab": {
          "base_uri": "https://localhost:8080/"
        },
        "id": "8PnBRuEK-u3-",
        "outputId": "8ccb8e6e-aea5-41a6-b43e-c777c7eeab4b"
      },
      "source": [
        "history = model.fit(X, y, epochs=250)"
      ],
      "execution_count": 8,
      "outputs": [
        {
          "output_type": "stream",
          "text": [
            "Epoch 1/250\n",
            "92/92 [==============================] - 10s 15ms/step - loss: 0.2985 - accuracy: 0.9384\n",
            "Epoch 2/250\n",
            "92/92 [==============================] - 1s 13ms/step - loss: 0.0886 - accuracy: 0.9519\n",
            "Epoch 3/250\n",
            "92/92 [==============================] - 1s 14ms/step - loss: 0.0899 - accuracy: 0.9531\n",
            "Epoch 4/250\n",
            "92/92 [==============================] - 1s 14ms/step - loss: 0.0783 - accuracy: 0.9476\n",
            "Epoch 5/250\n",
            "92/92 [==============================] - 1s 14ms/step - loss: 0.0869 - accuracy: 0.9541\n",
            "Epoch 6/250\n",
            "92/92 [==============================] - 1s 13ms/step - loss: 0.0799 - accuracy: 0.9463\n",
            "Epoch 7/250\n",
            "92/92 [==============================] - 1s 14ms/step - loss: 0.1451 - accuracy: 0.9633\n",
            "Epoch 8/250\n",
            "92/92 [==============================] - 1s 14ms/step - loss: 0.1445 - accuracy: 0.9655\n",
            "Epoch 9/250\n",
            "92/92 [==============================] - 1s 14ms/step - loss: 0.1516 - accuracy: 0.9625\n",
            "Epoch 10/250\n",
            "92/92 [==============================] - 1s 13ms/step - loss: 0.1593 - accuracy: 0.9612\n",
            "Epoch 11/250\n",
            "92/92 [==============================] - 1s 13ms/step - loss: 0.1477 - accuracy: 0.9623\n",
            "Epoch 12/250\n",
            "92/92 [==============================] - 1s 13ms/step - loss: 0.1465 - accuracy: 0.9648\n",
            "Epoch 13/250\n",
            "92/92 [==============================] - 1s 14ms/step - loss: 0.1651 - accuracy: 0.9554\n",
            "Epoch 14/250\n",
            "92/92 [==============================] - 1s 14ms/step - loss: 0.1640 - accuracy: 0.9633\n",
            "Epoch 15/250\n",
            "92/92 [==============================] - 1s 14ms/step - loss: 0.1494 - accuracy: 0.9651\n",
            "Epoch 16/250\n",
            "92/92 [==============================] - 1s 15ms/step - loss: 0.1536 - accuracy: 0.9632\n",
            "Epoch 17/250\n",
            "92/92 [==============================] - 1s 15ms/step - loss: 0.1481 - accuracy: 0.9602\n",
            "Epoch 18/250\n",
            "92/92 [==============================] - 1s 15ms/step - loss: 0.1491 - accuracy: 0.9592\n",
            "Epoch 19/250\n",
            "92/92 [==============================] - 1s 14ms/step - loss: 0.0906 - accuracy: 0.9560\n",
            "Epoch 20/250\n",
            "92/92 [==============================] - 1s 14ms/step - loss: 0.0853 - accuracy: 0.9656\n",
            "Epoch 21/250\n",
            "92/92 [==============================] - 1s 14ms/step - loss: 0.2797 - accuracy: 0.9556\n",
            "Epoch 22/250\n",
            "92/92 [==============================] - 1s 14ms/step - loss: 0.0947 - accuracy: 0.9626\n",
            "Epoch 23/250\n",
            "92/92 [==============================] - 1s 14ms/step - loss: 0.0854 - accuracy: 0.9554\n",
            "Epoch 24/250\n",
            "92/92 [==============================] - 1s 14ms/step - loss: 0.0745 - accuracy: 0.9627\n",
            "Epoch 25/250\n",
            "92/92 [==============================] - 1s 14ms/step - loss: 0.0689 - accuracy: 0.9714\n",
            "Epoch 26/250\n",
            "92/92 [==============================] - 1s 15ms/step - loss: 0.0759 - accuracy: 0.9696\n",
            "Epoch 27/250\n",
            "92/92 [==============================] - 1s 14ms/step - loss: 0.0730 - accuracy: 0.9644\n",
            "Epoch 28/250\n",
            "92/92 [==============================] - 1s 14ms/step - loss: 0.0629 - accuracy: 0.9681\n",
            "Epoch 29/250\n",
            "92/92 [==============================] - 1s 14ms/step - loss: 0.0512 - accuracy: 0.9771\n",
            "Epoch 30/250\n",
            "92/92 [==============================] - 1s 14ms/step - loss: 0.0625 - accuracy: 0.9700\n",
            "Epoch 31/250\n",
            "92/92 [==============================] - 1s 14ms/step - loss: 0.0663 - accuracy: 0.9685\n",
            "Epoch 32/250\n",
            "92/92 [==============================] - 1s 14ms/step - loss: 0.0634 - accuracy: 0.9745\n",
            "Epoch 33/250\n",
            "92/92 [==============================] - 1s 13ms/step - loss: 0.0649 - accuracy: 0.9716\n",
            "Epoch 34/250\n",
            "92/92 [==============================] - 1s 14ms/step - loss: 0.0487 - accuracy: 0.9777\n",
            "Epoch 35/250\n",
            "92/92 [==============================] - 1s 14ms/step - loss: 0.0491 - accuracy: 0.9785\n",
            "Epoch 36/250\n",
            "92/92 [==============================] - 1s 14ms/step - loss: 0.0488 - accuracy: 0.9811\n",
            "Epoch 37/250\n",
            "92/92 [==============================] - 1s 13ms/step - loss: 0.0516 - accuracy: 0.9815\n",
            "Epoch 38/250\n",
            "92/92 [==============================] - 1s 14ms/step - loss: 0.0513 - accuracy: 0.9767\n",
            "Epoch 39/250\n",
            "92/92 [==============================] - 1s 14ms/step - loss: 0.0440 - accuracy: 0.9773\n",
            "Epoch 40/250\n",
            "92/92 [==============================] - 1s 14ms/step - loss: 0.0535 - accuracy: 0.9790\n",
            "Epoch 41/250\n",
            "92/92 [==============================] - 1s 13ms/step - loss: 0.0439 - accuracy: 0.9869\n",
            "Epoch 42/250\n",
            "92/92 [==============================] - 1s 14ms/step - loss: 0.0457 - accuracy: 0.9817\n",
            "Epoch 43/250\n",
            "92/92 [==============================] - 1s 14ms/step - loss: 0.0419 - accuracy: 0.9847\n",
            "Epoch 44/250\n",
            "92/92 [==============================] - 1s 15ms/step - loss: 0.0369 - accuracy: 0.9890\n",
            "Epoch 45/250\n",
            "92/92 [==============================] - 1s 14ms/step - loss: 0.0800 - accuracy: 0.9838\n",
            "Epoch 46/250\n",
            "92/92 [==============================] - 1s 14ms/step - loss: 0.1244 - accuracy: 0.9566\n",
            "Epoch 47/250\n",
            "92/92 [==============================] - 1s 14ms/step - loss: 0.1067 - accuracy: 0.9588\n",
            "Epoch 48/250\n",
            "92/92 [==============================] - 1s 14ms/step - loss: 0.0871 - accuracy: 0.9575\n",
            "Epoch 49/250\n",
            "92/92 [==============================] - 1s 14ms/step - loss: 0.0878 - accuracy: 0.9577\n",
            "Epoch 50/250\n",
            "92/92 [==============================] - 1s 14ms/step - loss: 0.0760 - accuracy: 0.9526\n",
            "Epoch 51/250\n",
            "92/92 [==============================] - 1s 14ms/step - loss: 0.0799 - accuracy: 0.9471\n",
            "Epoch 52/250\n",
            "92/92 [==============================] - 1s 14ms/step - loss: 0.0865 - accuracy: 0.9507\n",
            "Epoch 53/250\n",
            "92/92 [==============================] - 1s 14ms/step - loss: 0.0876 - accuracy: 0.9569\n",
            "Epoch 54/250\n",
            "92/92 [==============================] - 1s 14ms/step - loss: 0.0687 - accuracy: 0.9572\n",
            "Epoch 55/250\n",
            "92/92 [==============================] - 1s 14ms/step - loss: 0.0882 - accuracy: 0.9503\n",
            "Epoch 56/250\n",
            "92/92 [==============================] - 1s 14ms/step - loss: 0.0731 - accuracy: 0.9618\n",
            "Epoch 57/250\n",
            "92/92 [==============================] - 1s 14ms/step - loss: 0.0660 - accuracy: 0.9660\n",
            "Epoch 58/250\n",
            "92/92 [==============================] - 1s 14ms/step - loss: 0.0725 - accuracy: 0.9555\n",
            "Epoch 59/250\n",
            "92/92 [==============================] - 1s 14ms/step - loss: 0.0866 - accuracy: 0.9632\n",
            "Epoch 60/250\n",
            "92/92 [==============================] - 1s 14ms/step - loss: 0.0840 - accuracy: 0.9615\n",
            "Epoch 61/250\n",
            "92/92 [==============================] - 1s 15ms/step - loss: 0.0878 - accuracy: 0.9666\n",
            "Epoch 62/250\n",
            "92/92 [==============================] - 1s 14ms/step - loss: 0.0803 - accuracy: 0.9616\n",
            "Epoch 63/250\n",
            "92/92 [==============================] - 1s 14ms/step - loss: 0.0689 - accuracy: 0.9688\n",
            "Epoch 64/250\n",
            "92/92 [==============================] - 1s 14ms/step - loss: 0.0860 - accuracy: 0.9573\n",
            "Epoch 65/250\n",
            "92/92 [==============================] - 1s 13ms/step - loss: 0.1130 - accuracy: 0.9365\n",
            "Epoch 66/250\n",
            "92/92 [==============================] - 1s 14ms/step - loss: 0.2086 - accuracy: 0.9485\n",
            "Epoch 67/250\n",
            "92/92 [==============================] - 1s 14ms/step - loss: 0.1934 - accuracy: 0.9541\n",
            "Epoch 68/250\n",
            "92/92 [==============================] - 1s 14ms/step - loss: 0.2187 - accuracy: 0.9444\n",
            "Epoch 69/250\n",
            "92/92 [==============================] - 1s 14ms/step - loss: 0.1993 - accuracy: 0.9515\n",
            "Epoch 70/250\n",
            "92/92 [==============================] - 1s 15ms/step - loss: 0.1970 - accuracy: 0.9536\n",
            "Epoch 71/250\n",
            "92/92 [==============================] - 1s 15ms/step - loss: 0.2084 - accuracy: 0.9483\n",
            "Epoch 72/250\n",
            "92/92 [==============================] - 1s 14ms/step - loss: 0.2086 - accuracy: 0.9490\n",
            "Epoch 73/250\n",
            "92/92 [==============================] - 1s 14ms/step - loss: 0.1829 - accuracy: 0.9570\n",
            "Epoch 74/250\n",
            "92/92 [==============================] - 1s 14ms/step - loss: 0.1854 - accuracy: 0.9552\n",
            "Epoch 75/250\n",
            "92/92 [==============================] - 1s 14ms/step - loss: 0.1978 - accuracy: 0.9514\n",
            "Epoch 76/250\n",
            "92/92 [==============================] - 1s 14ms/step - loss: 0.1853 - accuracy: 0.9552\n",
            "Epoch 77/250\n",
            "92/92 [==============================] - 1s 14ms/step - loss: 0.2084 - accuracy: 0.9479\n",
            "Epoch 78/250\n",
            "92/92 [==============================] - 1s 14ms/step - loss: 0.1919 - accuracy: 0.9524\n",
            "Epoch 79/250\n",
            "92/92 [==============================] - 1s 14ms/step - loss: 0.2099 - accuracy: 0.9471\n",
            "Epoch 80/250\n",
            "92/92 [==============================] - 1s 15ms/step - loss: 0.2006 - accuracy: 0.9501\n",
            "Epoch 81/250\n",
            "92/92 [==============================] - 1s 15ms/step - loss: 0.1818 - accuracy: 0.9565\n",
            "Epoch 82/250\n",
            "92/92 [==============================] - 1s 14ms/step - loss: 0.2111 - accuracy: 0.9487\n",
            "Epoch 83/250\n",
            "92/92 [==============================] - 1s 14ms/step - loss: 0.2068 - accuracy: 0.9481\n",
            "Epoch 84/250\n",
            "92/92 [==============================] - 1s 14ms/step - loss: 0.1874 - accuracy: 0.9558\n",
            "Epoch 85/250\n",
            "92/92 [==============================] - 1s 14ms/step - loss: 0.1832 - accuracy: 0.9561\n",
            "Epoch 86/250\n",
            "92/92 [==============================] - 1s 14ms/step - loss: 0.1934 - accuracy: 0.9533\n",
            "Epoch 87/250\n",
            "92/92 [==============================] - 1s 14ms/step - loss: 0.1777 - accuracy: 0.9579\n",
            "Epoch 88/250\n",
            "92/92 [==============================] - 1s 15ms/step - loss: 0.1992 - accuracy: 0.9521\n",
            "Epoch 89/250\n",
            "92/92 [==============================] - 1s 14ms/step - loss: 0.2005 - accuracy: 0.9507\n",
            "Epoch 90/250\n",
            "92/92 [==============================] - 1s 14ms/step - loss: 0.2249 - accuracy: 0.9444\n",
            "Epoch 91/250\n",
            "92/92 [==============================] - 1s 14ms/step - loss: 0.1885 - accuracy: 0.9549\n",
            "Epoch 92/250\n",
            "92/92 [==============================] - 1s 14ms/step - loss: 0.1954 - accuracy: 0.9533\n",
            "Epoch 93/250\n",
            "92/92 [==============================] - 1s 14ms/step - loss: 0.1947 - accuracy: 0.9531\n",
            "Epoch 94/250\n",
            "92/92 [==============================] - 1s 14ms/step - loss: 0.1843 - accuracy: 0.9548\n",
            "Epoch 95/250\n",
            "92/92 [==============================] - 1s 14ms/step - loss: 0.1848 - accuracy: 0.9559\n",
            "Epoch 96/250\n",
            "92/92 [==============================] - 1s 14ms/step - loss: 0.1762 - accuracy: 0.9592\n",
            "Epoch 97/250\n",
            "92/92 [==============================] - 1s 14ms/step - loss: 0.1894 - accuracy: 0.9541\n",
            "Epoch 98/250\n",
            "92/92 [==============================] - 1s 15ms/step - loss: 0.2105 - accuracy: 0.9461\n",
            "Epoch 99/250\n",
            "92/92 [==============================] - 1s 14ms/step - loss: 0.2012 - accuracy: 0.9505\n",
            "Epoch 100/250\n",
            "92/92 [==============================] - 1s 14ms/step - loss: 0.2100 - accuracy: 0.9478\n",
            "Epoch 101/250\n",
            "92/92 [==============================] - 1s 14ms/step - loss: 0.1981 - accuracy: 0.9509\n",
            "Epoch 102/250\n",
            "92/92 [==============================] - 1s 14ms/step - loss: 0.1851 - accuracy: 0.9552\n",
            "Epoch 103/250\n",
            "92/92 [==============================] - 1s 14ms/step - loss: 0.1901 - accuracy: 0.9535\n",
            "Epoch 104/250\n",
            "92/92 [==============================] - 1s 15ms/step - loss: 0.2087 - accuracy: 0.9480\n",
            "Epoch 105/250\n",
            "92/92 [==============================] - 1s 15ms/step - loss: 0.2063 - accuracy: 0.9482\n",
            "Epoch 106/250\n",
            "92/92 [==============================] - 1s 15ms/step - loss: 0.1986 - accuracy: 0.9485\n",
            "Epoch 107/250\n",
            "92/92 [==============================] - 1s 15ms/step - loss: 0.1102 - accuracy: 0.9513\n",
            "Epoch 108/250\n",
            "92/92 [==============================] - 1s 14ms/step - loss: 0.0767 - accuracy: 0.9591\n",
            "Epoch 109/250\n",
            "92/92 [==============================] - 1s 14ms/step - loss: 0.0846 - accuracy: 0.9577\n",
            "Epoch 110/250\n",
            "92/92 [==============================] - 1s 14ms/step - loss: 0.0918 - accuracy: 0.9583\n",
            "Epoch 111/250\n",
            "92/92 [==============================] - 1s 14ms/step - loss: 0.0693 - accuracy: 0.9707\n",
            "Epoch 112/250\n",
            "92/92 [==============================] - 1s 15ms/step - loss: 0.0691 - accuracy: 0.9747\n",
            "Epoch 113/250\n",
            "92/92 [==============================] - 1s 14ms/step - loss: 0.0572 - accuracy: 0.9741\n",
            "Epoch 114/250\n",
            "92/92 [==============================] - 1s 14ms/step - loss: 0.0623 - accuracy: 0.9784\n",
            "Epoch 115/250\n",
            "92/92 [==============================] - 1s 14ms/step - loss: 0.0470 - accuracy: 0.9861\n",
            "Epoch 116/250\n",
            "92/92 [==============================] - 1s 14ms/step - loss: 0.0591 - accuracy: 0.9820\n",
            "Epoch 117/250\n",
            "92/92 [==============================] - 1s 14ms/step - loss: 0.0463 - accuracy: 0.9840\n",
            "Epoch 118/250\n",
            "92/92 [==============================] - 1s 14ms/step - loss: 0.0370 - accuracy: 0.9852\n",
            "Epoch 119/250\n",
            "92/92 [==============================] - 1s 14ms/step - loss: 0.0279 - accuracy: 0.9926\n",
            "Epoch 120/250\n",
            "92/92 [==============================] - 1s 14ms/step - loss: 0.0375 - accuracy: 0.9914\n",
            "Epoch 121/250\n",
            "92/92 [==============================] - 1s 14ms/step - loss: 0.0266 - accuracy: 0.9905\n",
            "Epoch 122/250\n",
            "92/92 [==============================] - 1s 15ms/step - loss: 0.0361 - accuracy: 0.9859\n",
            "Epoch 123/250\n",
            "92/92 [==============================] - 1s 14ms/step - loss: 0.0190 - accuracy: 0.9966\n",
            "Epoch 124/250\n",
            "92/92 [==============================] - 1s 14ms/step - loss: 0.0152 - accuracy: 0.9956\n",
            "Epoch 125/250\n",
            "92/92 [==============================] - 1s 14ms/step - loss: 0.0214 - accuracy: 0.9938\n",
            "Epoch 126/250\n",
            "92/92 [==============================] - 1s 14ms/step - loss: 0.0111 - accuracy: 0.9985\n",
            "Epoch 127/250\n",
            "92/92 [==============================] - 1s 14ms/step - loss: 0.0167 - accuracy: 0.9968\n",
            "Epoch 128/250\n",
            "92/92 [==============================] - 1s 14ms/step - loss: 0.0160 - accuracy: 0.9970\n",
            "Epoch 129/250\n",
            "92/92 [==============================] - 1s 14ms/step - loss: 0.0079 - accuracy: 0.9985\n",
            "Epoch 130/250\n",
            "92/92 [==============================] - 1s 14ms/step - loss: 0.0137 - accuracy: 0.9970\n",
            "Epoch 131/250\n",
            "92/92 [==============================] - 1s 14ms/step - loss: 0.0071 - accuracy: 0.9981\n",
            "Epoch 132/250\n",
            "92/92 [==============================] - 1s 15ms/step - loss: 0.0105 - accuracy: 0.9983\n",
            "Epoch 133/250\n",
            "92/92 [==============================] - 1s 15ms/step - loss: 0.0105 - accuracy: 0.9976\n",
            "Epoch 134/250\n",
            "92/92 [==============================] - 1s 14ms/step - loss: 0.0148 - accuracy: 0.9972\n",
            "Epoch 135/250\n",
            "92/92 [==============================] - 1s 14ms/step - loss: 0.0128 - accuracy: 0.9983\n",
            "Epoch 136/250\n",
            "92/92 [==============================] - 1s 14ms/step - loss: 0.0156 - accuracy: 0.9974\n",
            "Epoch 137/250\n",
            "92/92 [==============================] - 1s 14ms/step - loss: 0.0218 - accuracy: 0.9968\n",
            "Epoch 138/250\n",
            "92/92 [==============================] - 1s 14ms/step - loss: 0.0029 - accuracy: 0.9997\n",
            "Epoch 139/250\n",
            "92/92 [==============================] - 1s 14ms/step - loss: 0.0118 - accuracy: 0.9972\n",
            "Epoch 140/250\n",
            "92/92 [==============================] - 1s 14ms/step - loss: 0.0152 - accuracy: 0.9969\n",
            "Epoch 141/250\n",
            "92/92 [==============================] - 1s 14ms/step - loss: 0.0230 - accuracy: 0.9955\n",
            "Epoch 142/250\n",
            "92/92 [==============================] - 1s 15ms/step - loss: 0.0333 - accuracy: 0.9935\n",
            "Epoch 143/250\n",
            "92/92 [==============================] - 1s 14ms/step - loss: 0.0169 - accuracy: 0.9974\n",
            "Epoch 144/250\n",
            "92/92 [==============================] - 1s 14ms/step - loss: 0.0153 - accuracy: 0.9971\n",
            "Epoch 145/250\n",
            "92/92 [==============================] - 1s 14ms/step - loss: 0.0104 - accuracy: 0.9975\n",
            "Epoch 146/250\n",
            "92/92 [==============================] - 1s 15ms/step - loss: 0.0264 - accuracy: 0.9960\n",
            "Epoch 147/250\n",
            "92/92 [==============================] - 1s 14ms/step - loss: 0.0146 - accuracy: 0.9983\n",
            "Epoch 148/250\n",
            "92/92 [==============================] - 1s 14ms/step - loss: 0.0122 - accuracy: 0.9986\n",
            "Epoch 149/250\n",
            "92/92 [==============================] - 1s 14ms/step - loss: 0.0092 - accuracy: 0.9989\n",
            "Epoch 150/250\n",
            "92/92 [==============================] - 1s 14ms/step - loss: 0.0168 - accuracy: 0.9979\n",
            "Epoch 151/250\n",
            "92/92 [==============================] - 1s 14ms/step - loss: 0.0203 - accuracy: 0.9971\n",
            "Epoch 152/250\n",
            "92/92 [==============================] - 1s 14ms/step - loss: 0.0072 - accuracy: 0.9992\n",
            "Epoch 153/250\n",
            "92/92 [==============================] - 1s 14ms/step - loss: 0.0060 - accuracy: 0.9994\n",
            "Epoch 154/250\n",
            "92/92 [==============================] - 1s 15ms/step - loss: 0.0049 - accuracy: 0.9996\n",
            "Epoch 155/250\n",
            "92/92 [==============================] - 1s 14ms/step - loss: 0.0194 - accuracy: 0.9975\n",
            "Epoch 156/250\n",
            "92/92 [==============================] - 1s 15ms/step - loss: 0.0096 - accuracy: 0.9987\n",
            "Epoch 157/250\n",
            "92/92 [==============================] - 1s 15ms/step - loss: 0.0203 - accuracy: 0.9973\n",
            "Epoch 158/250\n",
            "92/92 [==============================] - 1s 14ms/step - loss: 0.0085 - accuracy: 0.9990\n",
            "Epoch 159/250\n",
            "92/92 [==============================] - 1s 14ms/step - loss: 0.0154 - accuracy: 0.9982\n",
            "Epoch 160/250\n",
            "92/92 [==============================] - 1s 15ms/step - loss: 0.0188 - accuracy: 0.9974\n",
            "Epoch 161/250\n",
            "92/92 [==============================] - 1s 14ms/step - loss: 0.0102 - accuracy: 0.9987\n",
            "Epoch 162/250\n",
            "92/92 [==============================] - 1s 14ms/step - loss: 0.0105 - accuracy: 0.9987\n",
            "Epoch 163/250\n",
            "92/92 [==============================] - 1s 15ms/step - loss: 0.0104 - accuracy: 0.9987\n",
            "Epoch 164/250\n",
            "92/92 [==============================] - 1s 14ms/step - loss: 0.0123 - accuracy: 0.9984\n",
            "Epoch 165/250\n",
            "92/92 [==============================] - 1s 14ms/step - loss: 0.0200 - accuracy: 0.9968\n",
            "Epoch 166/250\n",
            "92/92 [==============================] - 1s 14ms/step - loss: 0.0197 - accuracy: 0.9952\n",
            "Epoch 167/250\n",
            "92/92 [==============================] - 1s 14ms/step - loss: 0.0271 - accuracy: 0.9875\n",
            "Epoch 168/250\n",
            "92/92 [==============================] - 1s 14ms/step - loss: 0.0114 - accuracy: 0.9979\n",
            "Epoch 169/250\n",
            "92/92 [==============================] - 1s 14ms/step - loss: 0.0077 - accuracy: 0.9990\n",
            "Epoch 170/250\n",
            "92/92 [==============================] - 1s 14ms/step - loss: 0.0036 - accuracy: 0.9994\n",
            "Epoch 171/250\n",
            "92/92 [==============================] - 1s 14ms/step - loss: 0.0092 - accuracy: 0.9981\n",
            "Epoch 172/250\n",
            "92/92 [==============================] - 1s 14ms/step - loss: 0.0163 - accuracy: 0.9965\n",
            "Epoch 173/250\n",
            "92/92 [==============================] - 1s 13ms/step - loss: 0.0146 - accuracy: 0.9982\n",
            "Epoch 174/250\n",
            "92/92 [==============================] - 1s 14ms/step - loss: 0.0294 - accuracy: 0.9951\n",
            "Epoch 175/250\n",
            "92/92 [==============================] - 1s 14ms/step - loss: 0.0203 - accuracy: 0.9974\n",
            "Epoch 176/250\n",
            "92/92 [==============================] - 1s 14ms/step - loss: 0.0067 - accuracy: 0.9992\n",
            "Epoch 177/250\n",
            "92/92 [==============================] - 1s 14ms/step - loss: 0.0052 - accuracy: 0.9992\n",
            "Epoch 178/250\n",
            "92/92 [==============================] - 1s 14ms/step - loss: 0.0050 - accuracy: 0.9996\n",
            "Epoch 179/250\n",
            "92/92 [==============================] - 1s 14ms/step - loss: 0.0111 - accuracy: 0.9983\n",
            "Epoch 180/250\n",
            "92/92 [==============================] - 1s 14ms/step - loss: 0.0114 - accuracy: 0.9984\n",
            "Epoch 181/250\n",
            "92/92 [==============================] - 1s 14ms/step - loss: 0.0068 - accuracy: 0.9993\n",
            "Epoch 182/250\n",
            "92/92 [==============================] - 1s 14ms/step - loss: 0.0169 - accuracy: 0.9979\n",
            "Epoch 183/250\n",
            "92/92 [==============================] - 1s 14ms/step - loss: 0.0055 - accuracy: 0.9995\n",
            "Epoch 184/250\n",
            "92/92 [==============================] - 1s 13ms/step - loss: 0.0107 - accuracy: 0.9988\n",
            "Epoch 185/250\n",
            "92/92 [==============================] - 1s 14ms/step - loss: 0.0081 - accuracy: 0.9992\n",
            "Epoch 186/250\n",
            "92/92 [==============================] - 1s 14ms/step - loss: 0.0051 - accuracy: 0.9993\n",
            "Epoch 187/250\n",
            "92/92 [==============================] - 1s 15ms/step - loss: 0.0026 - accuracy: 0.9997\n",
            "Epoch 188/250\n",
            "92/92 [==============================] - 1s 14ms/step - loss: 0.0015 - accuracy: 0.9999\n",
            "Epoch 189/250\n",
            "92/92 [==============================] - 1s 14ms/step - loss: 0.0022 - accuracy: 0.9998\n",
            "Epoch 190/250\n",
            "92/92 [==============================] - 1s 14ms/step - loss: 0.0092 - accuracy: 0.9989\n",
            "Epoch 191/250\n",
            "92/92 [==============================] - 1s 14ms/step - loss: 0.0029 - accuracy: 0.9997\n",
            "Epoch 192/250\n",
            "92/92 [==============================] - 1s 15ms/step - loss: 0.0064 - accuracy: 0.9993\n",
            "Epoch 193/250\n",
            "92/92 [==============================] - 1s 14ms/step - loss: 0.0055 - accuracy: 0.9994\n",
            "Epoch 194/250\n",
            "92/92 [==============================] - 1s 14ms/step - loss: 0.0020 - accuracy: 0.9998\n",
            "Epoch 195/250\n",
            "92/92 [==============================] - 1s 14ms/step - loss: 0.0048 - accuracy: 0.9995\n",
            "Epoch 196/250\n",
            "92/92 [==============================] - 1s 14ms/step - loss: 0.0090 - accuracy: 0.9989\n",
            "Epoch 197/250\n",
            "92/92 [==============================] - 1s 14ms/step - loss: 0.0077 - accuracy: 0.9990\n",
            "Epoch 198/250\n",
            "92/92 [==============================] - 1s 14ms/step - loss: 0.0158 - accuracy: 0.9981\n",
            "Epoch 199/250\n",
            "92/92 [==============================] - 1s 14ms/step - loss: 0.0227 - accuracy: 0.9976\n",
            "Epoch 200/250\n",
            "92/92 [==============================] - 1s 14ms/step - loss: 0.0075 - accuracy: 0.9992\n",
            "Epoch 201/250\n",
            "92/92 [==============================] - 1s 14ms/step - loss: 0.0036 - accuracy: 0.9996\n",
            "Epoch 202/250\n",
            "92/92 [==============================] - 1s 15ms/step - loss: 0.0070 - accuracy: 0.9992\n",
            "Epoch 203/250\n",
            "92/92 [==============================] - 1s 15ms/step - loss: 0.0095 - accuracy: 0.9990\n",
            "Epoch 204/250\n",
            "92/92 [==============================] - 1s 14ms/step - loss: 0.0057 - accuracy: 0.9994\n",
            "Epoch 205/250\n",
            "92/92 [==============================] - 1s 14ms/step - loss: 0.0046 - accuracy: 0.9995\n",
            "Epoch 206/250\n",
            "92/92 [==============================] - 1s 14ms/step - loss: 0.0044 - accuracy: 0.9995\n",
            "Epoch 207/250\n",
            "92/92 [==============================] - 1s 14ms/step - loss: 0.0032 - accuracy: 0.9997\n",
            "Epoch 208/250\n",
            "92/92 [==============================] - 1s 14ms/step - loss: 0.0025 - accuracy: 0.9998\n",
            "Epoch 209/250\n",
            "92/92 [==============================] - 1s 14ms/step - loss: 0.0032 - accuracy: 0.9997\n",
            "Epoch 210/250\n",
            "92/92 [==============================] - 1s 14ms/step - loss: 0.0045 - accuracy: 0.9995\n",
            "Epoch 211/250\n",
            "92/92 [==============================] - 1s 14ms/step - loss: 0.0070 - accuracy: 0.9992\n",
            "Epoch 212/250\n",
            "92/92 [==============================] - 1s 14ms/step - loss: 0.0134 - accuracy: 0.9984\n",
            "Epoch 213/250\n",
            "92/92 [==============================] - 1s 14ms/step - loss: 0.0119 - accuracy: 0.9986\n",
            "Epoch 214/250\n",
            "92/92 [==============================] - 1s 14ms/step - loss: 0.0041 - accuracy: 0.9996\n",
            "Epoch 215/250\n",
            "92/92 [==============================] - 1s 15ms/step - loss: 0.0063 - accuracy: 0.9991\n",
            "Epoch 216/250\n",
            "92/92 [==============================] - 1s 15ms/step - loss: 0.0163 - accuracy: 0.9981\n",
            "Epoch 217/250\n",
            "92/92 [==============================] - 1s 14ms/step - loss: 0.0035 - accuracy: 0.9997\n",
            "Epoch 218/250\n",
            "92/92 [==============================] - 1s 14ms/step - loss: 0.0031 - accuracy: 0.9997\n",
            "Epoch 219/250\n",
            "92/92 [==============================] - 1s 14ms/step - loss: 0.0029 - accuracy: 0.9997\n",
            "Epoch 220/250\n",
            "92/92 [==============================] - 1s 14ms/step - loss: 0.0051 - accuracy: 0.9994\n",
            "Epoch 221/250\n",
            "92/92 [==============================] - 1s 14ms/step - loss: 0.0035 - accuracy: 0.9996\n",
            "Epoch 222/250\n",
            "92/92 [==============================] - 1s 14ms/step - loss: 0.0110 - accuracy: 0.9987\n",
            "Epoch 223/250\n",
            "92/92 [==============================] - 1s 14ms/step - loss: 0.0057 - accuracy: 0.9994\n",
            "Epoch 224/250\n",
            "92/92 [==============================] - 1s 14ms/step - loss: 0.0042 - accuracy: 0.9995\n",
            "Epoch 225/250\n",
            "92/92 [==============================] - 1s 14ms/step - loss: 0.0085 - accuracy: 0.9991\n",
            "Epoch 226/250\n",
            "92/92 [==============================] - 1s 14ms/step - loss: 0.0020 - accuracy: 0.9998\n",
            "Epoch 227/250\n",
            "92/92 [==============================] - 1s 13ms/step - loss: 0.0031 - accuracy: 0.9997\n",
            "Epoch 228/250\n",
            "92/92 [==============================] - 1s 14ms/step - loss: 0.0061 - accuracy: 0.9993\n",
            "Epoch 229/250\n",
            "92/92 [==============================] - 1s 14ms/step - loss: 0.0089 - accuracy: 0.9991\n",
            "Epoch 230/250\n",
            "92/92 [==============================] - 1s 14ms/step - loss: 0.0054 - accuracy: 0.9993\n",
            "Epoch 231/250\n",
            "92/92 [==============================] - 1s 14ms/step - loss: 0.0153 - accuracy: 0.9982\n",
            "Epoch 232/250\n",
            "92/92 [==============================] - 1s 14ms/step - loss: 0.0020 - accuracy: 0.9998\n",
            "Epoch 233/250\n",
            "92/92 [==============================] - 1s 14ms/step - loss: 0.0056 - accuracy: 0.9994\n",
            "Epoch 234/250\n",
            "92/92 [==============================] - 1s 14ms/step - loss: 0.0029 - accuracy: 0.9997\n",
            "Epoch 235/250\n",
            "92/92 [==============================] - 1s 14ms/step - loss: 0.0029 - accuracy: 0.9998\n",
            "Epoch 236/250\n",
            "92/92 [==============================] - 1s 14ms/step - loss: 0.0034 - accuracy: 0.9996\n",
            "Epoch 237/250\n",
            "92/92 [==============================] - 1s 14ms/step - loss: 0.0134 - accuracy: 0.9986\n",
            "Epoch 238/250\n",
            "92/92 [==============================] - 1s 14ms/step - loss: 0.0011 - accuracy: 0.9999\n",
            "Epoch 239/250\n",
            "92/92 [==============================] - 1s 14ms/step - loss: 0.0098 - accuracy: 0.9990\n",
            "Epoch 240/250\n",
            "92/92 [==============================] - 1s 14ms/step - loss: 0.0025 - accuracy: 0.9997\n",
            "Epoch 241/250\n",
            "92/92 [==============================] - 1s 14ms/step - loss: 0.0088 - accuracy: 0.9990\n",
            "Epoch 242/250\n",
            "92/92 [==============================] - 1s 14ms/step - loss: 0.0068 - accuracy: 0.9993\n",
            "Epoch 243/250\n",
            "92/92 [==============================] - 1s 14ms/step - loss: 0.0020 - accuracy: 0.9998\n",
            "Epoch 244/250\n",
            "92/92 [==============================] - 1s 14ms/step - loss: 0.0018 - accuracy: 0.9999\n",
            "Epoch 245/250\n",
            "92/92 [==============================] - 1s 15ms/step - loss: 0.0045 - accuracy: 0.9995\n",
            "Epoch 246/250\n",
            "92/92 [==============================] - 1s 14ms/step - loss: 0.0045 - accuracy: 0.9995\n",
            "Epoch 247/250\n",
            "92/92 [==============================] - 1s 14ms/step - loss: 0.0053 - accuracy: 0.9995\n",
            "Epoch 248/250\n",
            "92/92 [==============================] - 1s 14ms/step - loss: 0.0072 - accuracy: 0.9990\n",
            "Epoch 249/250\n",
            "92/92 [==============================] - 1s 14ms/step - loss: 0.0052 - accuracy: 0.9994\n",
            "Epoch 250/250\n",
            "92/92 [==============================] - 1s 15ms/step - loss: 0.0053 - accuracy: 0.9994\n"
          ],
          "name": "stdout"
        }
      ]
    },
    {
      "cell_type": "code",
      "metadata": {
        "colab": {
          "base_uri": "https://localhost:8080/"
        },
        "id": "A6BGjnzu-wtp",
        "outputId": "547ac7f2-ac40-4e37-a6bc-dde2a87cc1b4"
      },
      "source": [
        "history_dict = history.history\n",
        "print(history_dict.keys())\n",
        "# to keep for later \n",
        "%store history_dict"
      ],
      "execution_count": 9,
      "outputs": [
        {
          "output_type": "stream",
          "text": [
            "dict_keys(['loss', 'accuracy'])\n",
            "Stored 'history_dict' (dict)\n"
          ],
          "name": "stdout"
        }
      ]
    },
    {
      "cell_type": "code",
      "metadata": {
        "id": "qjHvIqe1-0zr"
      },
      "source": [
        "# imports \n",
        "import matplotlib.pyplot as plt \n",
        "import matplotlib.image as mpimg"
      ],
      "execution_count": 10,
      "outputs": []
    },
    {
      "cell_type": "code",
      "metadata": {
        "id": "M816JvwK-3GJ"
      },
      "source": [
        "# function to plot training given history dictionary \n",
        "def plot_training(history_dict):\n",
        "\t\"\"\"\n",
        "\tPlots the training accuracy and loss graphs for a Keras model (validation graphs not included). \n",
        "\tParameters:\n",
        "\t\t- history_dict: a dictionary of \"history\" object from Keras \n",
        "\t\"\"\"\n",
        "\t# plot training accuracy graph \n",
        "\tplt.plot(history_dict['accuracy'])\n",
        "\tplt.title('Training Accuracy')\n",
        "\tplt.ylabel('accuracy')\n",
        "\tplt.xlabel('epoch')\n",
        "\tplt.legend(['train'], loc='upper left')\n",
        "\tplt.show()\n",
        "\n",
        "\t# plot training loss graph \n",
        "\tplt.plot(history_dict['loss'])\n",
        "\tplt.title('Training Loss')\n",
        "\tplt.ylabel('loss')\n",
        "\tplt.xlabel('epoch')\n",
        "\tplt.legend(['train'], loc='upper left')\n",
        "\tplt.show()"
      ],
      "execution_count": 11,
      "outputs": []
    },
    {
      "cell_type": "code",
      "metadata": {
        "colab": {
          "base_uri": "https://localhost:8080/",
          "height": 573
        },
        "id": "wTeJt4ZD-4u_",
        "outputId": "257e732f-da5b-4dd7-d1fe-e5ce72d2bcfa"
      },
      "source": [
        "plot_training(history_dict)"
      ],
      "execution_count": 12,
      "outputs": [
        {
          "output_type": "display_data",
          "data": {
            "image/png": "[encoded data removed]",
            "text/plain": [
              "<Figure size 432x288 with 1 Axes>"
            ]
          },
          "metadata": {
            "tags": [],
            "needs_background": "light"
          }
        },
        {
          "output_type": "display_data",
          "data": {
            "image/png": "[encoded data removed]",
            "text/plain": [
              "<Figure size 432x288 with 1 Axes>"
            ]
          },
          "metadata": {
            "tags": [],
            "needs_background": "light"
          }
        }
      ]
    },
    {
      "cell_type": "code",
      "metadata": {
        "colab": {
          "base_uri": "https://localhost:8080/"
        },
        "id": "sgx89I-e-88c",
        "outputId": "39172383-f413-49c0-8625-2ecbb8bebb1d"
      },
      "source": [
        "test_loss, test_accuracy = model.evaluate(test_samples,  test_labels, verbose=2)\n",
        "print('Test accuracy:', test_accuracy)"
      ],
      "execution_count": 13,
      "outputs": [
        {
          "output_type": "stream",
          "text": [
            "11/11 - 1s - loss: 1.0524 - accuracy: 0.9297\n",
            "Test accuracy: 0.9296635985374451\n"
          ],
          "name": "stdout"
        }
      ]
    },
    {
      "cell_type": "code",
      "metadata": {
        "colab": {
          "base_uri": "https://localhost:8080/"
        },
        "id": "t7yd5t-U-9Xf",
        "outputId": "6f529e8a-f6f7-4e11-f175-50c1eef8296d"
      },
      "source": [
        "predictions = model.predict_classes(test_samples) # generates a list of predictions"
      ],
      "execution_count": 14,
      "outputs": [
        {
          "output_type": "stream",
          "text": [
            "/usr/local/lib/python3.7/dist-packages/tensorflow/python/keras/engine/sequential.py:450: UserWarning: `model.predict_classes()` is deprecated and will be removed after 2021-01-01. Please use instead:* `np.argmax(model.predict(x), axis=-1)`,   if your model does multi-class classification   (e.g. if it uses a `softmax` last-layer activation).* `(model.predict(x) > 0.5).astype(\"int32\")`,   if your model does binary classification   (e.g. if it uses a `sigmoid` last-layer activation).\n",
            "  warnings.warn('`model.predict_classes()` is deprecated and '\n"
          ],
          "name": "stderr"
        }
      ]
    },
    {
      "cell_type": "code",
      "metadata": {
        "colab": {
          "base_uri": "https://localhost:8080/"
        },
        "id": "brlBgmRU--5Z",
        "outputId": "8705183c-237d-4865-ddc0-1714c6d35f70"
      },
      "source": [
        "print(\"Test labels: \\n\", test_labels)\n",
        "print(\"Test predictions: \\n\", predictions)"
      ],
      "execution_count": 15,
      "outputs": [
        {
          "output_type": "stream",
          "text": [
            "Test labels: \n",
            " [1 1 1 1 1 1 1 1 1 1 1 1 1 1 1 1 0 0 0 0 0 0 0 0 0 0 0 0 0 0 0 0 0 0 0 0 0\n",
            " 0 0 0 0 0 0 0 0 0 0 0 0 0 0 0 0 0 0 0 0 0 0 0 0 0 0 0 0 0 0 0 0 0 0 0 0 0\n",
            " 0 0 0 0 0 0 0 0 0 0 0 0 0 0 0 0 0 0 0 0 0 0 0 0 0 0 0 0 0 0 0 0 0 0 0 0 0\n",
            " 0 0 0 0 0 0 0 0 0 0 0 0 0 0 0 0 0 0 0 0 0 0 0 0 0 0 0 0 0 0 0 0 0 0 0 0 0\n",
            " 0 0 0 0 0 0 0 0 0 0 0 0 0 0 0 0 0 0 0 0 0 0 0 0 0 0 0 0 0 0 0 0 0 0 0 0 0\n",
            " 0 0 0 0 0 0 0 0 0 0 0 0 0 0 0 0 0 0 0 0 0 0 0 0 0 0 0 0 0 0 0 0 0 0 0 0 0\n",
            " 0 0 0 0 0 0 0 0 0 0 0 0 0 0 0 0 0 0 0 0 0 0 0 0 0 0 0 0 0 0 0 0 0 0 0 0 0\n",
            " 0 0 0 0 0 0 0 0 0 0 0 0 0 0 0 0 0 0 0 0 0 0 0 0 0 0 0 0 0 0 0 0 0 0 0 0 0\n",
            " 0 0 0 0 0 0 0 0 0 0 0 0 0 0 0 0 0 0 0 0 0 0 0 0 0 0 0 0 0 0 0]\n",
            "Test predictions: \n",
            " [1 1 1 0 0 0 0 0 1 0 0 1 0 0 1 1 0 0 0 0 0 0 1 0 0 0 1 0 0 0 0 0 0 0 0 0 0\n",
            " 0 0 0 0 0 0 0 0 1 0 0 0 0 0 0 0 0 0 0 0 0 0 0 0 0 0 0 0 1 0 0 0 0 0 0 0 0\n",
            " 0 0 0 0 0 0 0 0 0 0 0 0 0 0 0 0 0 0 0 0 0 0 0 0 0 0 0 0 0 0 0 0 0 0 0 0 1\n",
            " 0 0 0 0 0 0 0 0 0 0 0 0 0 0 0 0 0 0 0 1 1 0 0 0 0 0 0 0 0 0 0 0 0 0 0 1 0\n",
            " 0 0 0 0 0 0 0 0 0 1 0 0 0 0 0 0 0 0 0 0 0 0 0 0 0 0 0 0 0 0 0 0 0 0 0 0 0\n",
            " 0 0 1 0 0 0 0 1 0 0 0 0 0 0 0 0 0 0 0 0 0 0 0 0 0 0 0 0 0 0 0 0 0 0 0 0 0\n",
            " 0 0 0 0 0 0 0 0 0 0 0 0 0 0 0 0 0 0 0 0 0 0 0 0 0 0 0 0 0 0 0 0 0 1 0 0 0\n",
            " 0 0 0 0 0 0 0 0 0 0 0 0 0 0 0 0 0 0 0 0 0 0 0 1 0 0 0 0 0 0 0 0 0 0 0 0 0\n",
            " 0 0 0 0 0 0 0 0 0 0 1 0 0 0 0 0 0 0 0 0 0 0 0 0 0 0 0 0 0 0 0]\n"
          ],
          "name": "stdout"
        }
      ]
    },
    {
      "cell_type": "code",
      "metadata": {
        "id": "_-1hBrbZ_BXu"
      },
      "source": [
        "correct = 0\n",
        "for i in range(len(predictions)):\n",
        "  if predictions[i] == test_labels[i]:\n",
        "    correct += 1"
      ],
      "execution_count": 16,
      "outputs": []
    },
    {
      "cell_type": "code",
      "metadata": {
        "colab": {
          "base_uri": "https://localhost:8080/"
        },
        "id": "H-1Qo1cg_Fmw",
        "outputId": "bdc39f1a-31d3-4a48-8a11-d2084f2498be"
      },
      "source": [
        "predictions_accuracy = correct/len(test_labels)\n",
        "predictions_accuracy"
      ],
      "execution_count": 17,
      "outputs": [
        {
          "output_type": "execute_result",
          "data": {
            "text/plain": [
              "0.9296636085626911"
            ]
          },
          "metadata": {
            "tags": []
          },
          "execution_count": 17
        }
      ]
    },
    {
      "cell_type": "code",
      "metadata": {
        "colab": {
          "base_uri": "https://localhost:8080/"
        },
        "id": "UgWb9OpT_IAO",
        "outputId": "6f0a8128-3191-41dd-afe4-637042ff9be2"
      },
      "source": [
        "print(\"The accuracy is: \" + str(round(predictions_accuracy * 100, 1)) + \"%\")"
      ],
      "execution_count": 18,
      "outputs": [
        {
          "output_type": "stream",
          "text": [
            "The accuracy is: 93.0%\n"
          ],
          "name": "stdout"
        }
      ]
    },
    {
      "cell_type": "code",
      "metadata": {
        "id": "tGn8qYWV_KOY"
      },
      "source": [
        "speech_correct = 0\n",
        "for i in range(len(test_labels[:16])):\n",
        "    if predictions[i] == test_labels[i]:\n",
        "      speech_correct += 1"
      ],
      "execution_count": 21,
      "outputs": []
    },
    {
      "cell_type": "code",
      "metadata": {
        "colab": {
          "base_uri": "https://localhost:8080/"
        },
        "id": "-Ab7lBOm_NXD",
        "outputId": "9eb58890-9452-4bec-b906-a61cb7932565"
      },
      "source": [
        "speech_correct/len(test_labels[:16])"
      ],
      "execution_count": 22,
      "outputs": [
        {
          "output_type": "execute_result",
          "data": {
            "text/plain": [
              "0.4375"
            ]
          },
          "metadata": {
            "tags": []
          },
          "execution_count": 22
        }
      ]
    }
  ]
}