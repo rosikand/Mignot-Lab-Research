{
  "nbformat": 4,
  "nbformat_minor": 0,
  "metadata": {
    "kernelspec": {
      "display_name": "Python 3",
      "language": "python",
      "name": "python3"
    },
    "language_info": {
      "codemirror_mode": {
        "name": "ipython",
        "version": 3
      },
      "file_extension": ".py",
      "mimetype": "text/x-python",
      "name": "python",
      "nbconvert_exporter": "python",
      "pygments_lexer": "ipython3",
      "version": "3.7.4"
    },
    "colab": {
      "name": "test_data_preprocessing.ipynb",
      "provenance": []
    },
    "accelerator": "GPU"
  },
  "cells": [
    {
      "cell_type": "markdown",
      "metadata": {
        "id": "cGjLM64ViAr_"
      },
      "source": [
        "## Test Data Preprocessing"
      ]
    },
    {
      "cell_type": "markdown",
      "metadata": {
        "id": "lxYS4K0TiFMN"
      },
      "source": [
        "In this notebook, I preprocess the test data. The procedure is the same for both the train and test subsets: \n",
        "1. Get correct amount (10% of entire dataset for each class for test)\n",
        "2. Generate one hot encoded labels and store in Numpy ndarray (test labels)\n",
        "3. Generate Mel Spectrograms for each input audio file \n",
        "4. Store Mel Spectrograms in Numpy ndarray (test samples)\n",
        "5. Pickle test samples and test labels. \n"
      ]
    },
    {
      "cell_type": "code",
      "metadata": {
        "id": "Nvz1foP-1WW1"
      },
      "source": [
        "import numpy as np\n",
        "from glob import glob\n",
        "import librosa \n",
        "import matplotlib.pyplot as plt\n",
        "import pandas as pd\n",
        "import pylab\n",
        "import librosa.display"
      ],
      "execution_count": 1,
      "outputs": []
    },
    {
      "cell_type": "code",
      "metadata": {
        "colab": {
          "base_uri": "https://localhost:8080/"
        },
        "id": "r98TTZXw2B8U",
        "outputId": "a5fed21d-63ee-4d87-dadc-3b6c0d9f39f7"
      },
      "source": [
        "from google.colab import drive\n",
        "drive.mount('/content/drive')"
      ],
      "execution_count": 2,
      "outputs": [
        {
          "output_type": "stream",
          "text": [
            "Mounted at /content/drive\n"
          ],
          "name": "stdout"
        }
      ]
    },
    {
      "cell_type": "markdown",
      "metadata": {
        "id": "uJ4ayawG1WW5"
      },
      "source": [
        "### Data preprocessing"
      ]
    },
    {
      "cell_type": "code",
      "metadata": {
        "id": "C0WDaZ6R1WW5"
      },
      "source": [
        "# get paths to files \n",
        "speech_directory = 'path/speech'\n",
        "no_speech_directory ='path/no_speech'"
      ],
      "execution_count": 3,
      "outputs": []
    },
    {
      "cell_type": "code",
      "metadata": {
        "id": "CLQrWfxF1WW5"
      },
      "source": [
        "# create a list of all of the files in the folder using glob \n",
        "speech_subset = glob(speech_directory + '/*.wav')\n",
        "no_speech_subset = glob(no_speech_directory + '/*.wav')"
      ],
      "execution_count": 4,
      "outputs": []
    },
    {
      "cell_type": "code",
      "metadata": {
        "colab": {
          "base_uri": "https://localhost:8080/"
        },
        "id": "3nFYNc2j1WW5",
        "outputId": "0f9f39b7-0553-4252-b68a-b28ebdf0ba6f"
      },
      "source": [
        "print(len(speech_subset))\n",
        "print(len(no_speech_subset))"
      ],
      "execution_count": 5,
      "outputs": [
        {
          "output_type": "stream",
          "text": [
            "333\n",
            "2933\n"
          ],
          "name": "stdout"
        }
      ]
    },
    {
      "cell_type": "code",
      "metadata": {
        "colab": {
          "base_uri": "https://localhost:8080/"
        },
        "id": "g5G7m6d6e2Gx",
        "outputId": "e60ca8eb-4a41-4499-d3ff-b7d4283a13d8"
      },
      "source": [
        "# testing subset \n",
        "test_num_speech = len(speech_subset) - round(.90*len(speech_subset))\n",
        "test_num_no_speech = len(no_speech_subset) - round(.90*len(no_speech_subset))\n",
        "print(test_num_speech)\n",
        "print(test_num_no_speech)"
      ],
      "execution_count": 9,
      "outputs": [
        {
          "output_type": "stream",
          "text": [
            "33\n",
            "293\n"
          ],
          "name": "stdout"
        }
      ]
    },
    {
      "cell_type": "code",
      "metadata": {
        "colab": {
          "base_uri": "https://localhost:8080/"
        },
        "id": "4ZcgC9epfJvD",
        "outputId": "047c1fd1-129f-40d9-9049-2f9488a95c1d"
      },
      "source": [
        "speech_test = speech_subset[300:]\n",
        "no_speech_test = no_speech_subset[2640:]\n",
        "print(len(speech_test))\n",
        "print(len(no_speech_test))"
      ],
      "execution_count": 10,
      "outputs": [
        {
          "output_type": "stream",
          "text": [
            "33\n",
            "293\n"
          ],
          "name": "stdout"
        }
      ]
    },
    {
      "cell_type": "markdown",
      "metadata": {
        "id": "G3ImWyp1fsFl"
      },
      "source": [
        "Correct amount. "
      ]
    },
    {
      "cell_type": "code",
      "metadata": {
        "colab": {
          "base_uri": "https://localhost:8080/"
        },
        "id": "oH1L3Q49ftYj",
        "outputId": "c67fa742-9817-4086-fbdc-8644ec53e921"
      },
      "source": [
        "temp_speech_labels_test = []\n",
        "for i in range(len(speech_test)):\n",
        "    temp_speech_labels_test.append(1) # 1 = speech\n",
        "\n",
        "\n",
        "temp_no_speech_labels_test = []\n",
        "for i in range(len(no_speech_test)):\n",
        "    temp_no_speech_labels_test.append(0) # 0 = speech\n",
        "\n",
        "print(len(temp_speech_labels_test))\n",
        "print(len(temp_no_speech_labels_test))"
      ],
      "execution_count": 12,
      "outputs": [
        {
          "output_type": "stream",
          "text": [
            "33\n",
            "293\n"
          ],
          "name": "stdout"
        }
      ]
    },
    {
      "cell_type": "code",
      "metadata": {
        "id": "BpTaePjxgStL"
      },
      "source": [
        "test_labels = temp_speech_labels_test + temp_no_speech_labels_test\n",
        "test_labels = np.array(test_labels)"
      ],
      "execution_count": 13,
      "outputs": []
    },
    {
      "cell_type": "code",
      "metadata": {
        "id": "FaXLjFVIgfUU"
      },
      "source": [
        "test_data_points_raw = speech_test + no_speech_test"
      ],
      "execution_count": 14,
      "outputs": []
    },
    {
      "cell_type": "code",
      "metadata": {
        "colab": {
          "base_uri": "https://localhost:8080/"
        },
        "id": "AUjwyEv9gtMp",
        "outputId": "8d7e4f51-3139-4b33-c54b-1ded884b970e"
      },
      "source": [
        "print(len(test_labels))\n",
        "print(len(test_data_points_raw))"
      ],
      "execution_count": 15,
      "outputs": [
        {
          "output_type": "stream",
          "text": [
            "326\n",
            "326\n"
          ],
          "name": "stdout"
        }
      ]
    },
    {
      "cell_type": "markdown",
      "metadata": {
        "id": "pWV7fksR8zsZ"
      },
      "source": [
        "### Pickle Labels"
      ]
    },
    {
      "cell_type": "code",
      "metadata": {
        "id": "afN8-0PV8y5A"
      },
      "source": [
        "import pickle\n",
        "out_file = open(\"path/test_labels.pkl\", \"wb\")\n",
        "pickle.dump(test_labels, out_file)\n",
        "out_file.close()"
      ],
      "execution_count": 16,
      "outputs": []
    },
    {
      "cell_type": "markdown",
      "metadata": {
        "id": "-anVnp6U1WW7"
      },
      "source": [
        "### Generate Mel Spectrograms and Pickle"
      ]
    },
    {
      "cell_type": "code",
      "metadata": {
        "id": "-xKvECgrBvPq"
      },
      "source": [
        "test = []"
      ],
      "execution_count": 17,
      "outputs": []
    },
    {
      "cell_type": "code",
      "metadata": {
        "id": "bxucndJN1WW7"
      },
      "source": [
        "for elem in test_data_points_raw:\n",
        "    y, sr = librosa.load(elem)\n",
        "    time = np.arange(0, len(y)) / sr\n",
        "    S = librosa.feature.melspectrogram(y=y, sr=sr, n_mels=128,\n",
        "                                    fmax=8000)\n",
        "    test.append(S)"
      ],
      "execution_count": 19,
      "outputs": []
    },
    {
      "cell_type": "code",
      "metadata": {
        "id": "6NNjEPNLhfus"
      },
      "source": [
        "test = np.array(test)"
      ],
      "execution_count": 20,
      "outputs": []
    },
    {
      "cell_type": "code",
      "metadata": {
        "id": "zSemBZnQhdqM"
      },
      "source": [
        "out_file = open(\"path/test_samples.pkl\", \"wb\")\n",
        "pickle.dump(test, out_file)\n",
        "out_file.close()"
      ],
      "execution_count": 22,
      "outputs": []
    }
  ]
}