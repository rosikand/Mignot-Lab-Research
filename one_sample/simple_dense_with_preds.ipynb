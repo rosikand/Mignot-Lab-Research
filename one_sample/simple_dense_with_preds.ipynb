{
  "nbformat": 4,
  "nbformat_minor": 0,
  "metadata": {
    "colab": {
      "name": "simple_dense_with_pred.ipynb",
      "provenance": [],
      "collapsed_sections": [
        "_nsxtWuqoxl0"
      ]
    },
    "kernelspec": {
      "name": "python3",
      "display_name": "Python 3"
    },
    "accelerator": "GPU"
  },
  "cells": [
    {
      "cell_type": "markdown",
      "metadata": {
        "id": "VnQkuRY2lG4O"
      },
      "source": [
        "# Simple Dense Neural Network\n",
        "This is a full end-to-end experiment for classifying sounds as speech vs. no speech. See the other notebooks/scripts for data preprocessing. In summary, the raw audio files were converted into Mel Spectrograms. These Mel Spectrograms are what is to be fed into the neural network. In this experiment, a simple shallow dense neural network is used. \n",
        "Also, a prediction function is implemented and utilized in this notebook. "
      ]
    },
    {
      "cell_type": "markdown",
      "metadata": {
        "id": "p7MYUKsyldcK"
      },
      "source": [
        "## Load in Data"
      ]
    },
    {
      "cell_type": "code",
      "metadata": {
        "id": "lQpHt7kyk_53",
        "colab": {
          "base_uri": "https://localhost:8080/"
        },
        "outputId": "c64551cd-1ec3-417a-aaee-2fe758103299"
      },
      "source": [
        "from google.colab import drive\n",
        "drive.mount('/content/drive')"
      ],
      "execution_count": 2,
      "outputs": [
        {
          "output_type": "stream",
          "text": [
            "Mounted at /content/drive\n"
          ],
          "name": "stdout"
        }
      ]
    },
    {
      "cell_type": "code",
      "metadata": {
        "id": "oHCHXvjilqYw"
      },
      "source": [
        "import pickle\n",
        "\n",
        "# load in labels and samples for the training subset\n",
        "training_samples_file = open('path/training_samples.pkl', 'rb')\n",
        "training_labels_file = open('path/training_labels.pkl', 'rb')\n",
        "\n",
        "# load in labels and samples for the test subset\n",
        "test_samples_file = open('path/test_samples.pkl', 'rb')\n",
        "test_labels_file = open('path/test_labels.pkl', 'rb')"
      ],
      "execution_count": 5,
      "outputs": []
    },
    {
      "cell_type": "code",
      "metadata": {
        "id": "jrTG4GZEmBa5"
      },
      "source": [
        "# training\n",
        "X = pickle.load(training_samples_file)\n",
        "y = pickle.load(training_labels_file)\n",
        "\n",
        "# test\n",
        "test_samples = pickle.load(test_samples_file)\n",
        "test_labels = pickle.load(test_labels_file)"
      ],
      "execution_count": 6,
      "outputs": []
    },
    {
      "cell_type": "code",
      "metadata": {
        "id": "C1GMvSaBmWdQ"
      },
      "source": [
        "# convert X to Numpy array since I forgot to in training data preprocessing \n",
        "import numpy as np \n",
        "X = np.array(X)"
      ],
      "execution_count": 7,
      "outputs": []
    },
    {
      "cell_type": "markdown",
      "metadata": {
        "id": "5afZF7CxmkBm"
      },
      "source": [
        "## Build the Model"
      ]
    },
    {
      "cell_type": "code",
      "metadata": {
        "id": "f6pU1ywkmmvL"
      },
      "source": [
        "import tensorflow as tf\n",
        "\n",
        "model = tf.keras.Sequential([\n",
        "    tf.keras.layers.Flatten(input_shape=(128, 431)),\n",
        "    tf.keras.layers.Dense(128, activation='relu'),\n",
        "    tf.keras.layers.Dense(2, activation='softmax')\n",
        "]) # inspired by https://www.tensorflow.org/tutorials/keras/classification"
      ],
      "execution_count": 12,
      "outputs": []
    },
    {
      "cell_type": "code",
      "metadata": {
        "colab": {
          "base_uri": "https://localhost:8080/"
        },
        "id": "x3cCX9MvmpXN",
        "outputId": "4d3a7f88-eb8b-4538-a6df-a3bbe4eb41cb"
      },
      "source": [
        "model.summary()"
      ],
      "execution_count": 13,
      "outputs": [
        {
          "output_type": "stream",
          "text": [
            "Model: \"sequential\"\n",
            "_________________________________________________________________\n",
            "Layer (type)                 Output Shape              Param #   \n",
            "=================================================================\n",
            "flatten (Flatten)            (None, 55168)             0         \n",
            "_________________________________________________________________\n",
            "dense (Dense)                (None, 128)               7061632   \n",
            "_________________________________________________________________\n",
            "dense_1 (Dense)              (None, 2)                 258       \n",
            "=================================================================\n",
            "Total params: 7,061,890\n",
            "Trainable params: 7,061,890\n",
            "Non-trainable params: 0\n",
            "_________________________________________________________________\n"
          ],
          "name": "stdout"
        }
      ]
    },
    {
      "cell_type": "code",
      "metadata": {
        "id": "c3qxUPyEmsAZ"
      },
      "source": [
        "model.compile(optimizer='adam',\n",
        "              loss=tf.keras.losses.SparseCategoricalCrossentropy(from_logits=True),\n",
        "              metrics=['accuracy'])"
      ],
      "execution_count": 14,
      "outputs": []
    },
    {
      "cell_type": "code",
      "metadata": {
        "colab": {
          "base_uri": "https://localhost:8080/"
        },
        "id": "s2y0wcF6m32A",
        "outputId": "bcb2a01e-94b4-4d0c-8c47-a86bd60bc4e8"
      },
      "source": [
        "history = model.fit(X, y, epochs=250)"
      ],
      "execution_count": 15,
      "outputs": [
        {
          "output_type": "stream",
          "text": [
            "Epoch 1/250\n",
            "92/92 [==============================] - 2s 6ms/step - loss: 0.7724 - accuracy: 0.9164\n",
            "Epoch 2/250\n",
            "92/92 [==============================] - 1s 6ms/step - loss: 0.2127 - accuracy: 0.9714\n",
            "Epoch 3/250\n",
            "92/92 [==============================] - 1s 6ms/step - loss: 0.1761 - accuracy: 0.9848\n",
            "Epoch 4/250\n",
            "92/92 [==============================] - 1s 6ms/step - loss: 0.0697 - accuracy: 0.9869\n",
            "Epoch 5/250\n",
            "92/92 [==============================] - 1s 6ms/step - loss: 0.0421 - accuracy: 0.9911\n",
            "Epoch 6/250\n",
            "92/92 [==============================] - 1s 6ms/step - loss: 0.0377 - accuracy: 0.9933\n",
            "Epoch 7/250\n",
            "92/92 [==============================] - 1s 6ms/step - loss: 0.0371 - accuracy: 0.9921\n",
            "Epoch 8/250\n",
            "92/92 [==============================] - 1s 6ms/step - loss: 0.0227 - accuracy: 0.9958\n",
            "Epoch 9/250\n",
            "92/92 [==============================] - 1s 6ms/step - loss: 0.0255 - accuracy: 0.9948\n",
            "Epoch 10/250\n",
            "92/92 [==============================] - 1s 6ms/step - loss: 0.0224 - accuracy: 0.9959\n",
            "Epoch 11/250\n",
            "92/92 [==============================] - 1s 6ms/step - loss: 0.0199 - accuracy: 0.9965\n",
            "Epoch 12/250\n",
            "92/92 [==============================] - 1s 6ms/step - loss: 0.0228 - accuracy: 0.9942\n",
            "Epoch 13/250\n",
            "92/92 [==============================] - 1s 6ms/step - loss: 0.0178 - accuracy: 0.9959\n",
            "Epoch 14/250\n",
            "92/92 [==============================] - 1s 6ms/step - loss: 0.0176 - accuracy: 0.9971\n",
            "Epoch 15/250\n",
            "92/92 [==============================] - 1s 6ms/step - loss: 0.1963 - accuracy: 0.9895\n",
            "Epoch 16/250\n",
            "92/92 [==============================] - 1s 6ms/step - loss: 0.0345 - accuracy: 0.9943\n",
            "Epoch 17/250\n",
            "92/92 [==============================] - 1s 6ms/step - loss: 0.0184 - accuracy: 0.9968\n",
            "Epoch 18/250\n",
            "92/92 [==============================] - 1s 6ms/step - loss: 0.0147 - accuracy: 0.9973\n",
            "Epoch 19/250\n",
            "92/92 [==============================] - 1s 6ms/step - loss: 0.0136 - accuracy: 0.9974\n",
            "Epoch 20/250\n",
            "92/92 [==============================] - 1s 6ms/step - loss: 0.0141 - accuracy: 0.9975\n",
            "Epoch 21/250\n",
            "92/92 [==============================] - 1s 6ms/step - loss: 0.0114 - accuracy: 0.9971\n",
            "Epoch 22/250\n",
            "92/92 [==============================] - 1s 6ms/step - loss: 0.0149 - accuracy: 0.9967\n",
            "Epoch 23/250\n",
            "92/92 [==============================] - 1s 6ms/step - loss: 0.0108 - accuracy: 0.9973\n",
            "Epoch 24/250\n",
            "92/92 [==============================] - 1s 6ms/step - loss: 0.0066 - accuracy: 0.9986\n",
            "Epoch 25/250\n",
            "92/92 [==============================] - 1s 6ms/step - loss: 0.0092 - accuracy: 0.9978\n",
            "Epoch 26/250\n",
            "92/92 [==============================] - 1s 6ms/step - loss: 0.0141 - accuracy: 0.9972\n",
            "Epoch 27/250\n",
            "92/92 [==============================] - 1s 6ms/step - loss: 0.0837 - accuracy: 0.9899\n",
            "Epoch 28/250\n",
            "92/92 [==============================] - 1s 6ms/step - loss: 0.1044 - accuracy: 0.9949\n",
            "Epoch 29/250\n",
            "92/92 [==============================] - 1s 6ms/step - loss: 0.0320 - accuracy: 0.9945\n",
            "Epoch 30/250\n",
            "92/92 [==============================] - 1s 6ms/step - loss: 0.0203 - accuracy: 0.9947\n",
            "Epoch 31/250\n",
            "92/92 [==============================] - 1s 6ms/step - loss: 0.0096 - accuracy: 0.9981\n",
            "Epoch 32/250\n",
            "92/92 [==============================] - 1s 6ms/step - loss: 0.0069 - accuracy: 0.9985\n",
            "Epoch 33/250\n",
            "92/92 [==============================] - 1s 6ms/step - loss: 0.0112 - accuracy: 0.9974\n",
            "Epoch 34/250\n",
            "92/92 [==============================] - 1s 6ms/step - loss: 0.0040 - accuracy: 0.9992\n",
            "Epoch 35/250\n",
            "92/92 [==============================] - 1s 6ms/step - loss: 0.0085 - accuracy: 0.9981\n",
            "Epoch 36/250\n",
            "92/92 [==============================] - 1s 6ms/step - loss: 0.0066 - accuracy: 0.9982\n",
            "Epoch 37/250\n",
            "92/92 [==============================] - 1s 6ms/step - loss: 0.0094 - accuracy: 0.9977\n",
            "Epoch 38/250\n",
            "92/92 [==============================] - 1s 6ms/step - loss: 0.0043 - accuracy: 0.9990\n",
            "Epoch 39/250\n",
            "92/92 [==============================] - 1s 6ms/step - loss: 0.0041 - accuracy: 0.9988\n",
            "Epoch 40/250\n",
            "92/92 [==============================] - 1s 6ms/step - loss: 0.0076 - accuracy: 0.9981\n",
            "Epoch 41/250\n",
            "92/92 [==============================] - 1s 6ms/step - loss: 0.0053 - accuracy: 0.9987\n",
            "Epoch 42/250\n",
            "92/92 [==============================] - 1s 6ms/step - loss: 0.0021 - accuracy: 0.9996\n",
            "Epoch 43/250\n",
            "92/92 [==============================] - 1s 6ms/step - loss: 0.0037 - accuracy: 0.9990\n",
            "Epoch 44/250\n",
            "92/92 [==============================] - 1s 6ms/step - loss: 0.0023 - accuracy: 0.9997\n",
            "Epoch 45/250\n",
            "92/92 [==============================] - 1s 6ms/step - loss: 0.0028 - accuracy: 0.9992\n",
            "Epoch 46/250\n",
            "92/92 [==============================] - 1s 6ms/step - loss: 0.0046 - accuracy: 0.9973\n",
            "Epoch 47/250\n",
            "92/92 [==============================] - 1s 6ms/step - loss: 0.0028 - accuracy: 0.9989\n",
            "Epoch 48/250\n",
            "92/92 [==============================] - 1s 6ms/step - loss: 0.0041 - accuracy: 0.9968\n",
            "Epoch 49/250\n",
            "92/92 [==============================] - 1s 6ms/step - loss: 0.0018 - accuracy: 0.9997\n",
            "Epoch 50/250\n",
            "92/92 [==============================] - 1s 6ms/step - loss: 0.0016 - accuracy: 0.9997\n",
            "Epoch 51/250\n",
            "92/92 [==============================] - 1s 6ms/step - loss: 0.0019 - accuracy: 0.9997\n",
            "Epoch 52/250\n",
            "92/92 [==============================] - 1s 6ms/step - loss: 0.0015 - accuracy: 0.9999\n",
            "Epoch 53/250\n",
            "92/92 [==============================] - 1s 6ms/step - loss: 0.0018 - accuracy: 0.9999\n",
            "Epoch 54/250\n",
            "92/92 [==============================] - 1s 6ms/step - loss: 0.0010 - accuracy: 1.0000\n",
            "Epoch 55/250\n",
            "92/92 [==============================] - 1s 6ms/step - loss: 0.0010 - accuracy: 0.9998\n",
            "Epoch 56/250\n",
            "92/92 [==============================] - 1s 6ms/step - loss: 9.8853e-04 - accuracy: 1.0000\n",
            "Epoch 57/250\n",
            "92/92 [==============================] - 1s 6ms/step - loss: 0.0012 - accuracy: 1.0000\n",
            "Epoch 58/250\n",
            "92/92 [==============================] - 1s 6ms/step - loss: 0.0011 - accuracy: 1.0000\n",
            "Epoch 59/250\n",
            "92/92 [==============================] - 1s 6ms/step - loss: 0.0013 - accuracy: 1.0000\n",
            "Epoch 60/250\n",
            "92/92 [==============================] - 1s 6ms/step - loss: 6.5125e-04 - accuracy: 1.0000\n",
            "Epoch 61/250\n",
            "92/92 [==============================] - 1s 6ms/step - loss: 6.8859e-04 - accuracy: 1.0000\n",
            "Epoch 62/250\n",
            "92/92 [==============================] - 1s 6ms/step - loss: 5.1986e-04 - accuracy: 1.0000\n",
            "Epoch 63/250\n",
            "92/92 [==============================] - 1s 6ms/step - loss: 5.2158e-04 - accuracy: 1.0000\n",
            "Epoch 64/250\n",
            "92/92 [==============================] - 1s 6ms/step - loss: 8.2429e-04 - accuracy: 1.0000\n",
            "Epoch 65/250\n",
            "92/92 [==============================] - 1s 6ms/step - loss: 4.9902e-04 - accuracy: 1.0000\n",
            "Epoch 66/250\n",
            "92/92 [==============================] - 1s 6ms/step - loss: 4.7753e-04 - accuracy: 1.0000\n",
            "Epoch 67/250\n",
            "92/92 [==============================] - 1s 6ms/step - loss: 3.2427e-04 - accuracy: 1.0000\n",
            "Epoch 68/250\n",
            "92/92 [==============================] - 1s 6ms/step - loss: 4.2839e-04 - accuracy: 1.0000\n",
            "Epoch 69/250\n",
            "92/92 [==============================] - 1s 6ms/step - loss: 3.2313e-04 - accuracy: 1.0000\n",
            "Epoch 70/250\n",
            "92/92 [==============================] - 1s 6ms/step - loss: 3.0826e-04 - accuracy: 1.0000\n",
            "Epoch 71/250\n",
            "92/92 [==============================] - 1s 6ms/step - loss: 3.4921e-04 - accuracy: 1.0000\n",
            "Epoch 72/250\n",
            "92/92 [==============================] - 1s 6ms/step - loss: 2.6923e-04 - accuracy: 1.0000\n",
            "Epoch 73/250\n",
            "92/92 [==============================] - 1s 6ms/step - loss: 3.0056e-04 - accuracy: 1.0000\n",
            "Epoch 74/250\n",
            "92/92 [==============================] - 1s 6ms/step - loss: 3.0889e-04 - accuracy: 1.0000\n",
            "Epoch 75/250\n",
            "92/92 [==============================] - 1s 6ms/step - loss: 2.2930e-04 - accuracy: 1.0000\n",
            "Epoch 76/250\n",
            "92/92 [==============================] - 1s 6ms/step - loss: 2.5337e-04 - accuracy: 1.0000\n",
            "Epoch 77/250\n",
            "92/92 [==============================] - 1s 6ms/step - loss: 3.2563e-04 - accuracy: 1.0000\n",
            "Epoch 78/250\n",
            "92/92 [==============================] - 1s 6ms/step - loss: 1.5610e-04 - accuracy: 1.0000\n",
            "Epoch 79/250\n",
            "92/92 [==============================] - 1s 6ms/step - loss: 2.5552e-04 - accuracy: 1.0000\n",
            "Epoch 80/250\n",
            "92/92 [==============================] - 1s 6ms/step - loss: 2.5524e-04 - accuracy: 1.0000\n",
            "Epoch 81/250\n",
            "92/92 [==============================] - 1s 6ms/step - loss: 2.2217e-04 - accuracy: 1.0000\n",
            "Epoch 82/250\n",
            "92/92 [==============================] - 1s 6ms/step - loss: 2.2408e-04 - accuracy: 1.0000\n",
            "Epoch 83/250\n",
            "92/92 [==============================] - 1s 6ms/step - loss: 1.4073e-04 - accuracy: 1.0000\n",
            "Epoch 84/250\n",
            "92/92 [==============================] - 1s 6ms/step - loss: 1.2425e-04 - accuracy: 1.0000\n",
            "Epoch 85/250\n",
            "92/92 [==============================] - 1s 6ms/step - loss: 1.4866e-04 - accuracy: 1.0000\n",
            "Epoch 86/250\n",
            "92/92 [==============================] - 1s 6ms/step - loss: 9.5561e-05 - accuracy: 1.0000\n",
            "Epoch 87/250\n",
            "92/92 [==============================] - 1s 6ms/step - loss: 2.0159e-04 - accuracy: 1.0000\n",
            "Epoch 88/250\n",
            "92/92 [==============================] - 1s 6ms/step - loss: 1.3974e-04 - accuracy: 1.0000\n",
            "Epoch 89/250\n",
            "92/92 [==============================] - 1s 6ms/step - loss: 1.1644e-04 - accuracy: 1.0000\n",
            "Epoch 90/250\n",
            "92/92 [==============================] - 1s 6ms/step - loss: 8.3095e-05 - accuracy: 1.0000\n",
            "Epoch 91/250\n",
            "92/92 [==============================] - 1s 6ms/step - loss: 9.0118e-05 - accuracy: 1.0000\n",
            "Epoch 92/250\n",
            "92/92 [==============================] - 1s 6ms/step - loss: 1.1301e-04 - accuracy: 1.0000\n",
            "Epoch 93/250\n",
            "92/92 [==============================] - 1s 6ms/step - loss: 1.0475e-04 - accuracy: 1.0000\n",
            "Epoch 94/250\n",
            "92/92 [==============================] - 1s 6ms/step - loss: 9.1073e-05 - accuracy: 1.0000\n",
            "Epoch 95/250\n",
            "92/92 [==============================] - 1s 6ms/step - loss: 1.0885e-04 - accuracy: 1.0000\n",
            "Epoch 96/250\n",
            "92/92 [==============================] - 1s 6ms/step - loss: 1.1348e-04 - accuracy: 1.0000\n",
            "Epoch 97/250\n",
            "92/92 [==============================] - 1s 6ms/step - loss: 6.5249e-05 - accuracy: 1.0000\n",
            "Epoch 98/250\n",
            "92/92 [==============================] - 1s 6ms/step - loss: 7.7776e-05 - accuracy: 1.0000\n",
            "Epoch 99/250\n",
            "92/92 [==============================] - 1s 6ms/step - loss: 6.0042e-05 - accuracy: 1.0000\n",
            "Epoch 100/250\n",
            "92/92 [==============================] - 1s 6ms/step - loss: 7.1521e-05 - accuracy: 1.0000\n",
            "Epoch 101/250\n",
            "92/92 [==============================] - 1s 6ms/step - loss: 7.3215e-05 - accuracy: 1.0000\n",
            "Epoch 102/250\n",
            "92/92 [==============================] - 1s 6ms/step - loss: 6.4749e-05 - accuracy: 1.0000\n",
            "Epoch 103/250\n",
            "92/92 [==============================] - 1s 6ms/step - loss: 5.0018e-05 - accuracy: 1.0000\n",
            "Epoch 104/250\n",
            "92/92 [==============================] - 1s 6ms/step - loss: 4.6982e-05 - accuracy: 1.0000\n",
            "Epoch 105/250\n",
            "92/92 [==============================] - 1s 6ms/step - loss: 4.7812e-05 - accuracy: 1.0000\n",
            "Epoch 106/250\n",
            "92/92 [==============================] - 1s 6ms/step - loss: 4.5031e-05 - accuracy: 1.0000\n",
            "Epoch 107/250\n",
            "92/92 [==============================] - 1s 6ms/step - loss: 6.6140e-05 - accuracy: 1.0000\n",
            "Epoch 108/250\n",
            "92/92 [==============================] - 1s 6ms/step - loss: 4.2202e-05 - accuracy: 1.0000\n",
            "Epoch 109/250\n",
            "92/92 [==============================] - 1s 6ms/step - loss: 5.6416e-05 - accuracy: 1.0000\n",
            "Epoch 110/250\n",
            "92/92 [==============================] - 1s 6ms/step - loss: 2.8419e-05 - accuracy: 1.0000\n",
            "Epoch 111/250\n",
            "92/92 [==============================] - 1s 6ms/step - loss: 4.4281e-05 - accuracy: 1.0000\n",
            "Epoch 112/250\n",
            "92/92 [==============================] - 1s 6ms/step - loss: 3.7570e-05 - accuracy: 1.0000\n",
            "Epoch 113/250\n",
            "92/92 [==============================] - 1s 6ms/step - loss: 2.5288e-05 - accuracy: 1.0000\n",
            "Epoch 114/250\n",
            "92/92 [==============================] - 1s 6ms/step - loss: 3.1754e-05 - accuracy: 1.0000\n",
            "Epoch 115/250\n",
            "92/92 [==============================] - 1s 6ms/step - loss: 3.4898e-05 - accuracy: 1.0000\n",
            "Epoch 116/250\n",
            "92/92 [==============================] - 1s 6ms/step - loss: 1.9553e-05 - accuracy: 1.0000\n",
            "Epoch 117/250\n",
            "92/92 [==============================] - 1s 6ms/step - loss: 3.3823e-05 - accuracy: 1.0000\n",
            "Epoch 118/250\n",
            "92/92 [==============================] - 1s 6ms/step - loss: 3.3704e-05 - accuracy: 1.0000\n",
            "Epoch 119/250\n",
            "92/92 [==============================] - 1s 6ms/step - loss: 2.3131e-05 - accuracy: 1.0000\n",
            "Epoch 120/250\n",
            "92/92 [==============================] - 1s 6ms/step - loss: 2.4718e-05 - accuracy: 1.0000\n",
            "Epoch 121/250\n",
            "92/92 [==============================] - 1s 6ms/step - loss: 2.0462e-05 - accuracy: 1.0000\n",
            "Epoch 122/250\n",
            "92/92 [==============================] - 1s 6ms/step - loss: 2.0009e-05 - accuracy: 1.0000\n",
            "Epoch 123/250\n",
            "92/92 [==============================] - 1s 6ms/step - loss: 1.3484e-05 - accuracy: 1.0000\n",
            "Epoch 124/250\n",
            "92/92 [==============================] - 1s 6ms/step - loss: 1.7028e-05 - accuracy: 1.0000\n",
            "Epoch 125/250\n",
            "92/92 [==============================] - 1s 6ms/step - loss: 1.1423e-05 - accuracy: 1.0000\n",
            "Epoch 126/250\n",
            "92/92 [==============================] - 1s 6ms/step - loss: 1.9876e-05 - accuracy: 1.0000\n",
            "Epoch 127/250\n",
            "92/92 [==============================] - 1s 6ms/step - loss: 1.5708e-05 - accuracy: 1.0000\n",
            "Epoch 128/250\n",
            "92/92 [==============================] - 1s 6ms/step - loss: 1.3096e-05 - accuracy: 1.0000\n",
            "Epoch 129/250\n",
            "92/92 [==============================] - 1s 6ms/step - loss: 1.3849e-05 - accuracy: 1.0000\n",
            "Epoch 130/250\n",
            "92/92 [==============================] - 1s 6ms/step - loss: 1.3561e-05 - accuracy: 1.0000\n",
            "Epoch 131/250\n",
            "92/92 [==============================] - 1s 6ms/step - loss: 1.1504e-05 - accuracy: 1.0000\n",
            "Epoch 132/250\n",
            "92/92 [==============================] - 1s 6ms/step - loss: 1.3391e-05 - accuracy: 1.0000\n",
            "Epoch 133/250\n",
            "92/92 [==============================] - 1s 6ms/step - loss: 1.1388e-05 - accuracy: 1.0000\n",
            "Epoch 134/250\n",
            "92/92 [==============================] - 1s 6ms/step - loss: 1.1989e-05 - accuracy: 1.0000\n",
            "Epoch 135/250\n",
            "92/92 [==============================] - 1s 6ms/step - loss: 1.0357e-05 - accuracy: 1.0000\n",
            "Epoch 136/250\n",
            "92/92 [==============================] - 1s 6ms/step - loss: 9.4811e-06 - accuracy: 1.0000\n",
            "Epoch 137/250\n",
            "92/92 [==============================] - 1s 6ms/step - loss: 6.3433e-06 - accuracy: 1.0000\n",
            "Epoch 138/250\n",
            "92/92 [==============================] - 1s 6ms/step - loss: 8.8715e-06 - accuracy: 1.0000\n",
            "Epoch 139/250\n",
            "92/92 [==============================] - 1s 6ms/step - loss: 6.0495e-06 - accuracy: 1.0000\n",
            "Epoch 140/250\n",
            "92/92 [==============================] - 1s 6ms/step - loss: 6.7313e-06 - accuracy: 1.0000\n",
            "Epoch 141/250\n",
            "92/92 [==============================] - 1s 6ms/step - loss: 5.4120e-06 - accuracy: 1.0000\n",
            "Epoch 142/250\n",
            "92/92 [==============================] - 1s 6ms/step - loss: 9.2423e-06 - accuracy: 1.0000\n",
            "Epoch 143/250\n",
            "92/92 [==============================] - 1s 6ms/step - loss: 8.3155e-06 - accuracy: 1.0000\n",
            "Epoch 144/250\n",
            "92/92 [==============================] - 1s 6ms/step - loss: 7.1250e-06 - accuracy: 1.0000\n",
            "Epoch 145/250\n",
            "92/92 [==============================] - 1s 6ms/step - loss: 4.0953e-06 - accuracy: 1.0000\n",
            "Epoch 146/250\n",
            "92/92 [==============================] - 1s 6ms/step - loss: 6.3655e-06 - accuracy: 1.0000\n",
            "Epoch 147/250\n",
            "92/92 [==============================] - 1s 6ms/step - loss: 5.9934e-06 - accuracy: 1.0000\n",
            "Epoch 148/250\n",
            "92/92 [==============================] - 1s 6ms/step - loss: 6.0827e-06 - accuracy: 1.0000\n",
            "Epoch 149/250\n",
            "92/92 [==============================] - 1s 6ms/step - loss: 7.1337e-06 - accuracy: 1.0000\n",
            "Epoch 150/250\n",
            "92/92 [==============================] - 1s 6ms/step - loss: 4.4542e-06 - accuracy: 1.0000\n",
            "Epoch 151/250\n",
            "92/92 [==============================] - 1s 6ms/step - loss: 4.6004e-06 - accuracy: 1.0000\n",
            "Epoch 152/250\n",
            "92/92 [==============================] - 1s 6ms/step - loss: 3.8752e-06 - accuracy: 1.0000\n",
            "Epoch 153/250\n",
            "92/92 [==============================] - 1s 6ms/step - loss: 4.7968e-06 - accuracy: 1.0000\n",
            "Epoch 154/250\n",
            "92/92 [==============================] - 1s 6ms/step - loss: 4.9653e-06 - accuracy: 1.0000\n",
            "Epoch 155/250\n",
            "92/92 [==============================] - 1s 6ms/step - loss: 3.8406e-06 - accuracy: 1.0000\n",
            "Epoch 156/250\n",
            "92/92 [==============================] - 1s 6ms/step - loss: 3.7279e-06 - accuracy: 1.0000\n",
            "Epoch 157/250\n",
            "92/92 [==============================] - 1s 6ms/step - loss: 2.9563e-06 - accuracy: 1.0000\n",
            "Epoch 158/250\n",
            "92/92 [==============================] - 1s 6ms/step - loss: 2.7762e-06 - accuracy: 1.0000\n",
            "Epoch 159/250\n",
            "92/92 [==============================] - 1s 6ms/step - loss: 2.2049e-06 - accuracy: 1.0000\n",
            "Epoch 160/250\n",
            "92/92 [==============================] - 1s 6ms/step - loss: 2.7873e-06 - accuracy: 1.0000\n",
            "Epoch 161/250\n",
            "92/92 [==============================] - 1s 6ms/step - loss: 3.5435e-06 - accuracy: 1.0000\n",
            "Epoch 162/250\n",
            "92/92 [==============================] - 1s 6ms/step - loss: 2.8607e-06 - accuracy: 1.0000\n",
            "Epoch 163/250\n",
            "92/92 [==============================] - 1s 6ms/step - loss: 1.5484e-06 - accuracy: 1.0000\n",
            "Epoch 164/250\n",
            "92/92 [==============================] - 1s 6ms/step - loss: 1.8484e-06 - accuracy: 1.0000\n",
            "Epoch 165/250\n",
            "92/92 [==============================] - 1s 6ms/step - loss: 2.0391e-06 - accuracy: 1.0000\n",
            "Epoch 166/250\n",
            "92/92 [==============================] - 1s 6ms/step - loss: 2.3200e-06 - accuracy: 1.0000\n",
            "Epoch 167/250\n",
            "92/92 [==============================] - 1s 6ms/step - loss: 1.7765e-06 - accuracy: 1.0000\n",
            "Epoch 168/250\n",
            "92/92 [==============================] - 1s 6ms/step - loss: 2.2356e-06 - accuracy: 1.0000\n",
            "Epoch 169/250\n",
            "92/92 [==============================] - 1s 6ms/step - loss: 1.7456e-06 - accuracy: 1.0000\n",
            "Epoch 170/250\n",
            "92/92 [==============================] - 1s 6ms/step - loss: 1.4577e-06 - accuracy: 1.0000\n",
            "Epoch 171/250\n",
            "92/92 [==============================] - 1s 6ms/step - loss: 1.8505e-06 - accuracy: 1.0000\n",
            "Epoch 172/250\n",
            "92/92 [==============================] - 1s 6ms/step - loss: 1.8083e-06 - accuracy: 1.0000\n",
            "Epoch 173/250\n",
            "92/92 [==============================] - 1s 6ms/step - loss: 1.3420e-06 - accuracy: 1.0000\n",
            "Epoch 174/250\n",
            "92/92 [==============================] - 1s 6ms/step - loss: 1.4441e-06 - accuracy: 1.0000\n",
            "Epoch 175/250\n",
            "92/92 [==============================] - 1s 6ms/step - loss: 1.2188e-06 - accuracy: 1.0000\n",
            "Epoch 176/250\n",
            "92/92 [==============================] - 1s 6ms/step - loss: 1.0625e-06 - accuracy: 1.0000\n",
            "Epoch 177/250\n",
            "92/92 [==============================] - 1s 6ms/step - loss: 1.0978e-06 - accuracy: 1.0000\n",
            "Epoch 178/250\n",
            "92/92 [==============================] - 1s 6ms/step - loss: 1.3436e-06 - accuracy: 1.0000\n",
            "Epoch 179/250\n",
            "92/92 [==============================] - 1s 6ms/step - loss: 1.2835e-06 - accuracy: 1.0000\n",
            "Epoch 180/250\n",
            "92/92 [==============================] - 1s 6ms/step - loss: 1.0124e-06 - accuracy: 1.0000\n",
            "Epoch 181/250\n",
            "92/92 [==============================] - 1s 6ms/step - loss: 1.2278e-06 - accuracy: 1.0000\n",
            "Epoch 182/250\n",
            "92/92 [==============================] - 1s 6ms/step - loss: 9.8609e-07 - accuracy: 1.0000\n",
            "Epoch 183/250\n",
            "92/92 [==============================] - 1s 6ms/step - loss: 7.7157e-07 - accuracy: 1.0000\n",
            "Epoch 184/250\n",
            "92/92 [==============================] - 1s 6ms/step - loss: 8.1464e-07 - accuracy: 1.0000\n",
            "Epoch 185/250\n",
            "92/92 [==============================] - 1s 6ms/step - loss: 9.1515e-07 - accuracy: 1.0000\n",
            "Epoch 186/250\n",
            "92/92 [==============================] - 1s 6ms/step - loss: 1.1680e-06 - accuracy: 1.0000\n",
            "Epoch 187/250\n",
            "92/92 [==============================] - 1s 6ms/step - loss: 6.9424e-07 - accuracy: 1.0000\n",
            "Epoch 188/250\n",
            "92/92 [==============================] - 1s 6ms/step - loss: 7.5544e-07 - accuracy: 1.0000\n",
            "Epoch 189/250\n",
            "92/92 [==============================] - 1s 6ms/step - loss: 7.4624e-07 - accuracy: 1.0000\n",
            "Epoch 190/250\n",
            "92/92 [==============================] - 1s 6ms/step - loss: 8.1323e-07 - accuracy: 1.0000\n",
            "Epoch 191/250\n",
            "92/92 [==============================] - 1s 6ms/step - loss: 6.0065e-07 - accuracy: 1.0000\n",
            "Epoch 192/250\n",
            "92/92 [==============================] - 1s 6ms/step - loss: 5.9991e-07 - accuracy: 1.0000\n",
            "Epoch 193/250\n",
            "92/92 [==============================] - 1s 6ms/step - loss: 1.0427e-06 - accuracy: 1.0000\n",
            "Epoch 194/250\n",
            "92/92 [==============================] - 1s 6ms/step - loss: 4.6256e-07 - accuracy: 1.0000\n",
            "Epoch 195/250\n",
            "92/92 [==============================] - 1s 6ms/step - loss: 4.2079e-07 - accuracy: 1.0000\n",
            "Epoch 196/250\n",
            "92/92 [==============================] - 1s 6ms/step - loss: 5.2362e-07 - accuracy: 1.0000\n",
            "Epoch 197/250\n",
            "92/92 [==============================] - 1s 6ms/step - loss: 5.8633e-07 - accuracy: 1.0000\n",
            "Epoch 198/250\n",
            "92/92 [==============================] - 1s 6ms/step - loss: 5.0133e-07 - accuracy: 1.0000\n",
            "Epoch 199/250\n",
            "92/92 [==============================] - 1s 6ms/step - loss: 3.7835e-07 - accuracy: 1.0000\n",
            "Epoch 200/250\n",
            "92/92 [==============================] - 1s 6ms/step - loss: 2.0136e-07 - accuracy: 1.0000\n",
            "Epoch 201/250\n",
            "92/92 [==============================] - 1s 6ms/step - loss: 4.5727e-07 - accuracy: 1.0000\n",
            "Epoch 202/250\n",
            "92/92 [==============================] - 1s 6ms/step - loss: 3.1496e-07 - accuracy: 1.0000\n",
            "Epoch 203/250\n",
            "92/92 [==============================] - 1s 6ms/step - loss: 3.0743e-07 - accuracy: 1.0000\n",
            "Epoch 204/250\n",
            "92/92 [==============================] - 1s 6ms/step - loss: 4.9163e-07 - accuracy: 1.0000\n",
            "Epoch 205/250\n",
            "92/92 [==============================] - 1s 6ms/step - loss: 3.3468e-07 - accuracy: 1.0000\n",
            "Epoch 206/250\n",
            "92/92 [==============================] - 1s 6ms/step - loss: 3.6769e-07 - accuracy: 1.0000\n",
            "Epoch 207/250\n",
            "92/92 [==============================] - 1s 6ms/step - loss: 3.4409e-07 - accuracy: 1.0000\n",
            "Epoch 208/250\n",
            "92/92 [==============================] - 1s 6ms/step - loss: 3.1803e-07 - accuracy: 1.0000\n",
            "Epoch 209/250\n",
            "92/92 [==============================] - 1s 6ms/step - loss: 3.2963e-07 - accuracy: 1.0000\n",
            "Epoch 210/250\n",
            "92/92 [==============================] - 1s 6ms/step - loss: 2.5546e-07 - accuracy: 1.0000\n",
            "Epoch 211/250\n",
            "92/92 [==============================] - 1s 6ms/step - loss: 3.6728e-07 - accuracy: 1.0000\n",
            "Epoch 212/250\n",
            "92/92 [==============================] - 1s 6ms/step - loss: 2.4250e-07 - accuracy: 1.0000\n",
            "Epoch 213/250\n",
            "92/92 [==============================] - 1s 6ms/step - loss: 2.3602e-07 - accuracy: 1.0000\n",
            "Epoch 214/250\n",
            "92/92 [==============================] - 1s 6ms/step - loss: 3.4085e-07 - accuracy: 1.0000\n",
            "Epoch 215/250\n",
            "92/92 [==============================] - 1s 6ms/step - loss: 2.7647e-07 - accuracy: 1.0000\n",
            "Epoch 216/250\n",
            "92/92 [==============================] - 1s 6ms/step - loss: 1.5758e-07 - accuracy: 1.0000\n",
            "Epoch 217/250\n",
            "92/92 [==============================] - 1s 6ms/step - loss: 1.9709e-07 - accuracy: 1.0000\n",
            "Epoch 218/250\n",
            "92/92 [==============================] - 1s 6ms/step - loss: 2.3100e-07 - accuracy: 1.0000\n",
            "Epoch 219/250\n",
            "92/92 [==============================] - 1s 6ms/step - loss: 2.0290e-07 - accuracy: 1.0000\n",
            "Epoch 220/250\n",
            "92/92 [==============================] - 1s 6ms/step - loss: 2.3302e-07 - accuracy: 1.0000\n",
            "Epoch 221/250\n",
            "92/92 [==============================] - 1s 6ms/step - loss: 2.3118e-07 - accuracy: 1.0000\n",
            "Epoch 222/250\n",
            "92/92 [==============================] - 1s 6ms/step - loss: 1.6639e-07 - accuracy: 1.0000\n",
            "Epoch 223/250\n",
            "92/92 [==============================] - 1s 6ms/step - loss: 1.3026e-07 - accuracy: 1.0000\n",
            "Epoch 224/250\n",
            "92/92 [==============================] - 1s 6ms/step - loss: 1.3260e-07 - accuracy: 1.0000\n",
            "Epoch 225/250\n",
            "92/92 [==============================] - 1s 6ms/step - loss: 1.5289e-07 - accuracy: 1.0000\n",
            "Epoch 226/250\n",
            "92/92 [==============================] - 1s 6ms/step - loss: 1.7546e-07 - accuracy: 1.0000\n",
            "Epoch 227/250\n",
            "92/92 [==============================] - 1s 6ms/step - loss: 1.8812e-07 - accuracy: 1.0000\n",
            "Epoch 228/250\n",
            "92/92 [==============================] - 1s 6ms/step - loss: 1.2248e-07 - accuracy: 1.0000\n",
            "Epoch 229/250\n",
            "92/92 [==============================] - 1s 6ms/step - loss: 1.0757e-07 - accuracy: 1.0000\n",
            "Epoch 230/250\n",
            "92/92 [==============================] - 1s 6ms/step - loss: 1.7130e-07 - accuracy: 1.0000\n",
            "Epoch 231/250\n",
            "92/92 [==============================] - 1s 6ms/step - loss: 1.0255e-07 - accuracy: 1.0000\n",
            "Epoch 232/250\n",
            "92/92 [==============================] - 1s 6ms/step - loss: 1.2460e-07 - accuracy: 1.0000\n",
            "Epoch 233/250\n",
            "92/92 [==============================] - 1s 6ms/step - loss: 8.9459e-08 - accuracy: 1.0000\n",
            "Epoch 234/250\n",
            "92/92 [==============================] - 1s 6ms/step - loss: 9.2080e-08 - accuracy: 1.0000\n",
            "Epoch 235/250\n",
            "92/92 [==============================] - 1s 6ms/step - loss: 8.2307e-08 - accuracy: 1.0000\n",
            "Epoch 236/250\n",
            "92/92 [==============================] - 1s 6ms/step - loss: 1.3438e-07 - accuracy: 1.0000\n",
            "Epoch 237/250\n",
            "92/92 [==============================] - 1s 6ms/step - loss: 7.2033e-08 - accuracy: 1.0000\n",
            "Epoch 238/250\n",
            "92/92 [==============================] - 1s 6ms/step - loss: 9.1473e-08 - accuracy: 1.0000\n",
            "Epoch 239/250\n",
            "92/92 [==============================] - 1s 6ms/step - loss: 8.7259e-08 - accuracy: 1.0000\n",
            "Epoch 240/250\n",
            "92/92 [==============================] - 1s 6ms/step - loss: 6.9853e-08 - accuracy: 1.0000\n",
            "Epoch 241/250\n",
            "92/92 [==============================] - 1s 6ms/step - loss: 1.0828e-07 - accuracy: 1.0000\n",
            "Epoch 242/250\n",
            "92/92 [==============================] - 1s 6ms/step - loss: 6.9139e-08 - accuracy: 1.0000\n",
            "Epoch 243/250\n",
            "92/92 [==============================] - 1s 6ms/step - loss: 9.1227e-08 - accuracy: 1.0000\n",
            "Epoch 244/250\n",
            "92/92 [==============================] - 1s 6ms/step - loss: 7.9447e-08 - accuracy: 1.0000\n",
            "Epoch 245/250\n",
            "92/92 [==============================] - 1s 6ms/step - loss: 1.1000e-07 - accuracy: 1.0000\n",
            "Epoch 246/250\n",
            "92/92 [==============================] - 1s 6ms/step - loss: 8.4707e-08 - accuracy: 1.0000\n",
            "Epoch 247/250\n",
            "92/92 [==============================] - 1s 6ms/step - loss: 6.6720e-08 - accuracy: 1.0000\n",
            "Epoch 248/250\n",
            "92/92 [==============================] - 1s 6ms/step - loss: 4.2491e-08 - accuracy: 1.0000\n",
            "Epoch 249/250\n",
            "92/92 [==============================] - 1s 6ms/step - loss: 7.2995e-08 - accuracy: 1.0000\n",
            "Epoch 250/250\n",
            "92/92 [==============================] - 1s 6ms/step - loss: 9.5007e-08 - accuracy: 1.0000\n"
          ],
          "name": "stdout"
        }
      ]
    },
    {
      "cell_type": "code",
      "metadata": {
        "colab": {
          "base_uri": "https://localhost:8080/"
        },
        "id": "9KcL0fyMnO_m",
        "outputId": "00167561-116d-4941-f86b-be9c65deb6db"
      },
      "source": [
        "history_dict = history.history\n",
        "print(history_dict.keys())\n",
        "# to keep for later \n",
        "%store history_dict"
      ],
      "execution_count": 16,
      "outputs": [
        {
          "output_type": "stream",
          "text": [
            "dict_keys(['loss', 'accuracy'])\n",
            "Stored 'history_dict' (dict)\n"
          ],
          "name": "stdout"
        }
      ]
    },
    {
      "cell_type": "markdown",
      "metadata": {
        "id": "YFqhnkIXne-9"
      },
      "source": [
        "#### Plot graphs"
      ]
    },
    {
      "cell_type": "code",
      "metadata": {
        "id": "Pf0xeNOdnhhD"
      },
      "source": [
        "# imports \n",
        "import matplotlib.pyplot as plt \n",
        "import matplotlib.image as mpimg"
      ],
      "execution_count": 17,
      "outputs": []
    },
    {
      "cell_type": "code",
      "metadata": {
        "id": "NVaC-sTknS3y"
      },
      "source": [
        "# function to plot training given history dictionary \n",
        "def plot_training(history_dict):\n",
        "\t\"\"\"\n",
        "\tPlots the training accuracy and loss graphs for a Keras model (validation graphs not included). \n",
        "\tParameters:\n",
        "\t\t- history_dict: a dictionary of \"history\" object from Keras \n",
        "\t\"\"\"\n",
        "\t# plot training accuracy graph \n",
        "\tplt.plot(history_dict['accuracy'])\n",
        "\tplt.title('Training Accuracy')\n",
        "\tplt.ylabel('accuracy')\n",
        "\tplt.xlabel('epoch')\n",
        "\tplt.legend(['train'], loc='upper left')\n",
        "\tplt.show()\n",
        "\n",
        "\t# plot training loss graph \n",
        "\tplt.plot(history_dict['loss'])\n",
        "\tplt.title('Training Loss')\n",
        "\tplt.ylabel('loss')\n",
        "\tplt.xlabel('epoch')\n",
        "\tplt.legend(['train'], loc='upper left')\n",
        "\tplt.show() "
      ],
      "execution_count": 18,
      "outputs": []
    },
    {
      "cell_type": "code",
      "metadata": {
        "colab": {
          "base_uri": "https://localhost:8080/",
          "height": 573
        },
        "id": "LUUUhK4InwHZ",
        "outputId": "714a4a7e-0fe6-4fa4-9b8e-f020f3d8e4d3"
      },
      "source": [
        "plot_training(history_dict)"
      ],
      "execution_count": 19,
      "outputs": [
        {
          "output_type": "display_data",
          "data": {
            "image/png": "[encoded data removed]",
            "text/plain": [
              "<Figure size 432x288 with 1 Axes>"
            ]
          },
          "metadata": {
            "tags": [],
            "needs_background": "light"
          }
        },
        {
          "output_type": "display_data",
          "data": {
            "image/png": "[encoded data removed]",
            "text/plain": [
              "<Figure size 432x288 with 1 Axes>"
            ]
          },
          "metadata": {
            "tags": [],
            "needs_background": "light"
          }
        }
      ]
    },
    {
      "cell_type": "markdown",
      "metadata": {
        "id": "oErgqyODremz"
      },
      "source": [
        "Something to notice: big spike between epochs 25 and 50. "
      ]
    },
    {
      "cell_type": "markdown",
      "metadata": {
        "id": "GAi8lQ5Qn0L8"
      },
      "source": [
        "## Evaluate on Test Set"
      ]
    },
    {
      "cell_type": "code",
      "metadata": {
        "colab": {
          "base_uri": "https://localhost:8080/"
        },
        "id": "uF2sEa2tn4Zy",
        "outputId": "e2d708b2-20d0-45b1-d7cd-16f6157fc85e"
      },
      "source": [
        "test_loss, test_accuracy = model.evaluate(test_samples,  test_labels, verbose=2)\n",
        "print('Test accuracy:', test_accuracy)"
      ],
      "execution_count": 20,
      "outputs": [
        {
          "output_type": "stream",
          "text": [
            "11/11 - 0s - loss: 3.3226 - accuracy: 0.9417\n",
            "Test accuracy: 0.941717803478241\n"
          ],
          "name": "stdout"
        }
      ]
    },
    {
      "cell_type": "markdown",
      "metadata": {
        "id": "V3JUuwsCrlJ9"
      },
      "source": [
        "The model's accuracy on the test set is **94.5%**"
      ]
    },
    {
      "cell_type": "markdown",
      "metadata": {
        "id": "_nsxtWuqoxl0"
      },
      "source": [
        "## Predictions"
      ]
    },
    {
      "cell_type": "code",
      "metadata": {
        "id": "3oJFfwsQo0f1",
        "colab": {
          "base_uri": "https://localhost:8080/"
        },
        "outputId": "81e3c9da-b683-40f2-de66-4b16b01dcc05"
      },
      "source": [
        "predictions = model.predict_classes(test_samples) # generates a list of predictions "
      ],
      "execution_count": 159,
      "outputs": [
        {
          "output_type": "stream",
          "text": [
            "/usr/local/lib/python3.6/dist-packages/tensorflow/python/keras/engine/sequential.py:450: UserWarning: `model.predict_classes()` is deprecated and will be removed after 2021-01-01. Please use instead:* `np.argmax(model.predict(x), axis=-1)`,   if your model does multi-class classification   (e.g. if it uses a `softmax` last-layer activation).* `(model.predict(x) > 0.5).astype(\"int32\")`,   if your model does binary classification   (e.g. if it uses a `sigmoid` last-layer activation).\n",
            "  warnings.warn('`model.predict_classes()` is deprecated and '\n"
          ],
          "name": "stderr"
        }
      ]
    },
    {
      "cell_type": "code",
      "metadata": {
        "colab": {
          "base_uri": "https://localhost:8080/"
        },
        "id": "05eDRWQazPEG",
        "outputId": "1695826c-ceae-4bff-f36c-c2c309f6fe4b"
      },
      "source": [
        "print(\"Test labels: \\n\", test_labels)\n",
        "print(\"Test predictions: \\n\", predictions)"
      ],
      "execution_count": 183,
      "outputs": [
        {
          "output_type": "stream",
          "text": [
            "Test labels: \n",
            " [1 1 1 1 1 1 1 1 1 1 1 1 1 1 1 1 1 1 1 1 1 1 1 1 1 1 1 1 1 1 1 1 1 0 0 0 0\n",
            " 0 0 0 0 0 0 0 0 0 0 0 0 0 0 0 0 0 0 0 0 0 0 0 0 0 0 0 0 0 0 0 0 0 0 0 0 0\n",
            " 0 0 0 0 0 0 0 0 0 0 0 0 0 0 0 0 0 0 0 0 0 0 0 0 0 0 0 0 0 0 0 0 0 0 0 0 0\n",
            " 0 0 0 0 0 0 0 0 0 0 0 0 0 0 0 0 0 0 0 0 0 0 0 0 0 0 0 0 0 0 0 0 0 0 0 0 0\n",
            " 0 0 0 0 0 0 0 0 0 0 0 0 0 0 0 0 0 0 0 0 0 0 0 0 0 0 0 0 0 0 0 0 0 0 0 0 0\n",
            " 0 0 0 0 0 0 0 0 0 0 0 0 0 0 0 0 0 0 0 0 0 0 0 0 0 0 0 0 0 0 0 0 0 0 0 0 0\n",
            " 0 0 0 0 0 0 0 0 0 0 0 0 0 0 0 0 0 0 0 0 0 0 0 0 0 0 0 0 0 0 0 0 0 0 0 0 0\n",
            " 0 0 0 0 0 0 0 0 0 0 0 0 0 0 0 0 0 0 0 0 0 0 0 0 0 0 0 0 0 0 0 0 0 0 0 0 0\n",
            " 0 0 0 0 0 0 0 0 0 0 0 0 0 0 0 0 0 0 0 0 0 0 0 0 0 0 0 0 0 0]\n",
            "Test predictions: \n",
            " [1 0 1 0 0 0 1 1 1 0 0 1 1 1 1 0 1 1 1 0 1 0 0 1 1 0 1 1 0 0 0 1 1 0 0 0 0\n",
            " 0 0 0 0 0 0 0 0 0 0 0 0 0 0 0 0 0 0 0 0 0 0 0 0 0 0 0 0 0 0 0 0 0 0 0 0 0\n",
            " 0 0 0 0 0 0 0 0 0 0 0 1 0 0 0 0 0 0 0 0 0 0 0 0 0 0 0 0 0 0 0 0 0 0 0 0 0\n",
            " 1 0 0 0 0 0 0 0 0 0 0 0 0 0 0 0 0 0 0 0 0 0 0 0 0 0 0 0 0 0 0 0 0 0 0 0 0\n",
            " 0 0 0 0 0 0 0 0 0 0 0 0 0 0 0 0 0 0 0 0 0 0 0 0 0 0 0 0 0 0 0 0 0 0 0 0 0\n",
            " 0 0 0 0 0 0 0 0 0 0 0 0 1 0 0 0 0 0 0 0 0 0 0 0 0 0 0 0 0 0 0 0 0 0 0 0 0\n",
            " 0 0 0 0 0 0 0 0 0 0 0 0 0 0 0 0 0 0 0 0 0 0 0 0 0 0 0 0 0 0 0 0 0 0 0 0 0\n",
            " 0 0 0 0 0 0 0 0 0 0 0 0 0 0 0 0 0 0 0 0 0 0 0 1 0 0 0 0 0 0 0 0 0 0 0 0 0\n",
            " 0 0 0 0 0 0 0 0 0 0 0 0 0 0 0 0 0 0 0 0 1 0 0 0 0 0 0 0 0 0]\n"
          ],
          "name": "stdout"
        }
      ]
    },
    {
      "cell_type": "code",
      "metadata": {
        "id": "WGyKplB2yGHJ"
      },
      "source": [
        "correct = 0"
      ],
      "execution_count": 165,
      "outputs": []
    },
    {
      "cell_type": "code",
      "metadata": {
        "id": "DZruIHCAx9Vp"
      },
      "source": [
        "for i in range(len(predictions)):\n",
        "  if predictions[i] == test_labels[i]:\n",
        "    correct += 1"
      ],
      "execution_count": 166,
      "outputs": []
    },
    {
      "cell_type": "code",
      "metadata": {
        "colab": {
          "base_uri": "https://localhost:8080/"
        },
        "id": "DSujqpKcyIiB",
        "outputId": "f23ce1e9-7fdf-4dd5-b562-63c2f47dfff7"
      },
      "source": [
        "predictions_accuracy = correct/len(test_labels)\n",
        "predictions_accuracy"
      ],
      "execution_count": 178,
      "outputs": [
        {
          "output_type": "execute_result",
          "data": {
            "text/plain": [
              "0.941717791411043"
            ]
          },
          "metadata": {
            "tags": []
          },
          "execution_count": 178
        }
      ]
    },
    {
      "cell_type": "code",
      "metadata": {
        "colab": {
          "base_uri": "https://localhost:8080/"
        },
        "id": "CdvLU8meySFf",
        "outputId": "b3f65835-6b6d-4ed9-c0b4-b24ce26e96cd"
      },
      "source": [
        "print(\"The accuracy is: \" + str(round(predictions_accuracy * 100, 1)) + \"%\")"
      ],
      "execution_count": 177,
      "outputs": [
        {
          "output_type": "stream",
          "text": [
            "The accuracy is: 94.2%\n"
          ],
          "name": "stdout"
        }
      ]
    },
    {
      "cell_type": "markdown",
      "metadata": {
        "id": "8422rxWF0dnA"
      },
      "source": [
        "Accuracy on speech class: "
      ]
    },
    {
      "cell_type": "code",
      "metadata": {
        "id": "tyCraIjN0dK_"
      },
      "source": [
        "speech_correct = 0\n",
        "for i in range(len(test_labels[:33])):\n",
        "    if predictions[i] == test_labels[i]:\n",
        "      speech_correct += 1"
      ],
      "execution_count": 193,
      "outputs": []
    },
    {
      "cell_type": "code",
      "metadata": {
        "colab": {
          "base_uri": "https://localhost:8080/"
        },
        "id": "HWMW4hAo0u6d",
        "outputId": "09f03e65-b29e-436a-ee09-e16c0a5f50eb"
      },
      "source": [
        "speech_correct/len(test_labels[:33])"
      ],
      "execution_count": 195,
      "outputs": [
        {
          "output_type": "execute_result",
          "data": {
            "text/plain": [
              "0.5757575757575758"
            ]
          },
          "metadata": {
            "tags": []
          },
          "execution_count": 195
        }
      ]
    },
    {
      "cell_type": "markdown",
      "metadata": {
        "id": "oee2w5G4zr9m"
      },
      "source": [
        "#### Confusion matrix and other classification metrics"
      ]
    },
    {
      "cell_type": "code",
      "metadata": {
        "id": "YoOb5mw7zt7Q"
      },
      "source": [
        "import numpy as np\n",
        "import itertools\n",
        "from sklearn.metrics import confusion_matrix"
      ],
      "execution_count": 184,
      "outputs": []
    },
    {
      "cell_type": "code",
      "metadata": {
        "id": "CPzSjDSYz0Al"
      },
      "source": [
        "cm = confusion_matrix(test_labels, predictions)"
      ],
      "execution_count": 186,
      "outputs": []
    },
    {
      "cell_type": "code",
      "metadata": {
        "id": "E2BF-PYaz80d"
      },
      "source": [
        "def plot_cm(cm, classes, normalize=False, title='Confusion Matrix', cmap=plt.cm.Blues):\n",
        "  plt.imshow(cm, interpolation='nearest', cmap=cmap)\n",
        "  plt.title(title)\n",
        "  plt.colorbar()\n",
        "  tick_marks = np.arange(len(classes))\n",
        "  plt.xticks(tick_marks, classes, rotation=45)\n",
        "  plt.yticks(tick_marks, classes)\n",
        "\n",
        "  if normalize:\n",
        "    cm = cm.astypea('float') / cm.sum(axis=1)[:, np.newaxis]\n",
        "    print('Normalized confusion matrix')\n",
        "  else:\n",
        "    print('Confusion matrix without normalization')\n",
        "\n",
        "  print(cm)\n",
        "\n",
        "  thresh = cm.max()/2.\n",
        "  for i, j in itertools.product(range(cm.shape[0]), range(cm.shape[1])):\n",
        "      plt.text(j, i, cm[i, j],\n",
        "               horizontalalignment=\"center\",\n",
        "               color=\"white\" if cm[i, j] > thresh else \"black\")\n",
        "  \n",
        "  plt.tight_layout()\n",
        "  plt.ylabel('True label')\n",
        "  plt.xlabel('Predicted label')"
      ],
      "execution_count": 188,
      "outputs": []
    },
    {
      "cell_type": "code",
      "metadata": {
        "colab": {
          "base_uri": "https://localhost:8080/",
          "height": 362
        },
        "id": "rEz9cFSi0C00",
        "outputId": "d651f5f7-8841-48ce-80e1-37ac25b414ab"
      },
      "source": [
        "plot_cm(cm, ['no speech','speech'], title='Test Samples Confusion Matrix')"
      ],
      "execution_count": 190,
      "outputs": [
        {
          "output_type": "stream",
          "text": [
            "Confusion matrix without normalization\n",
            "[[288   5]\n",
            " [ 14  19]]\n"
          ],
          "name": "stdout"
        },
        {
          "output_type": "display_data",
          "data": {
            "image/png": "[encoded data removed]",
            "text/plain": [
              "<Figure size 432x288 with 2 Axes>"
            ]
          },
          "metadata": {
            "tags": [],
            "needs_background": "light"
          }
        }
      ]
    },
    {
      "cell_type": "code",
      "metadata": {
        "colab": {
          "base_uri": "https://localhost:8080/"
        },
        "id": "6WIX8SfZ06Be",
        "outputId": "b8fbf442-2017-43b8-a131-113adde0d7a2"
      },
      "source": [
        "from sklearn.metrics import classification_report\n",
        "print(classification_report(test_labels, predictions, target_names=['no speech','speech']))"
      ],
      "execution_count": 197,
      "outputs": [
        {
          "output_type": "stream",
          "text": [
            "              precision    recall  f1-score   support\n",
            "\n",
            "   no speech       0.95      0.98      0.97       293\n",
            "      speech       0.79      0.58      0.67        33\n",
            "\n",
            "    accuracy                           0.94       326\n",
            "   macro avg       0.87      0.78      0.82       326\n",
            "weighted avg       0.94      0.94      0.94       326\n",
            "\n"
          ],
          "name": "stdout"
        }
      ]
    },
    {
      "cell_type": "markdown",
      "metadata": {
        "id": "HFMzyFyN23UR"
      },
      "source": [
        "#### Analysis "
      ]
    },
    {
      "cell_type": "markdown",
      "metadata": {
        "id": "vJwe3L-K04vB"
      },
      "source": [
        "After doing some further analysis, it appears that speech is classified poorly whereas no speech is classified extremely well. "
      ]
    },
    {
      "cell_type": "markdown",
      "metadata": {
        "id": "vtOiQbTH1Qie"
      },
      "source": [
        "**Possible reasons:**"
      ]
    },
    {
      "cell_type": "markdown",
      "metadata": {
        "id": "A7nEHWwK1S8x"
      },
      "source": [
        "- Class Imbalance"
      ]
    },
    {
      "cell_type": "code",
      "metadata": {
        "colab": {
          "base_uri": "https://localhost:8080/"
        },
        "id": "YUTTOe3N1a2K",
        "outputId": "ac6bc827-6cdb-4ce3-8f69-48be411c9e9b"
      },
      "source": [
        "# on the training set: \n",
        "speech_train_counter = 0\n",
        "for elem in y:\n",
        "  if elem == 1:\n",
        "    speech_train_counter += 1\n",
        "\n",
        "print(\"Number of speech samples in training subset: \", speech_train_counter)\n",
        "print(\"Number of no speech samples in training subset: \", len(y) - speech_train_counter)"
      ],
      "execution_count": 201,
      "outputs": [
        {
          "output_type": "stream",
          "text": [
            "Number of speech samples in training subset:  300\n",
            "Number of no speech samples in training subset:  2640\n"
          ],
          "name": "stdout"
        }
      ]
    },
    {
      "cell_type": "markdown",
      "metadata": {
        "id": "M17gOQcs1y-m"
      },
      "source": [
        "- Only one second of speech is needed of a ten second clip to be classified as speech. For some speech samples, this leaves a singificant portion of the sample sounding similar to a no speech sample. \n",
        "\n",
        "On this note, to-do: \n",
        "- Plot Mel Spectrograms for speech samples vs non-speech samples\n",
        "- Plot Mel Spectrograms of incorrectly classified speech samples and also see how many seconds of speech they had out of the ten seconds. If the ones that were incorrectly predicted were ones with little speech duration, then possibly adding length to the cutoff for what counts as speech might be a good idea. "
      ]
    }
  ]
}
