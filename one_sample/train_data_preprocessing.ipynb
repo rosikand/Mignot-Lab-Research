{
  "nbformat": 4,
  "nbformat_minor": 0,
  "metadata": {
    "kernelspec": {
      "display_name": "Python 3",
      "language": "python",
      "name": "python3"
    },
    "language_info": {
      "codemirror_mode": {
        "name": "ipython",
        "version": 3
      },
      "file_extension": ".py",
      "mimetype": "text/x-python",
      "name": "python",
      "nbconvert_exporter": "python",
      "pygments_lexer": "ipython3",
      "version": "3.7.4"
    },
    "colab": {
      "name": "train_data_preprocessing.ipynb",
      "provenance": []
    },
    "accelerator": "GPU"
  },
  "cells": [
    {
      "cell_type": "markdown",
      "metadata": {
        "id": "cGjLM64ViAr_"
      },
      "source": [
        "## Train Data Preprocessing"
      ]
    },
    {
      "cell_type": "markdown",
      "metadata": {
        "id": "lxYS4K0TiFMN"
      },
      "source": [
        "In this notebook, I preprocess the train data. The procedure is the same for both the train and test subsets: \n",
        "1. Get correct amount (90% of entire dataset for each class for train)\n",
        "2. Generate one hot encoded labels and store in Numpy ndarray (train labels)\n",
        "3. Generate Mel Spectrograms for each input audio file \n",
        "4. Store Mel Spectrograms in Numpy ndarray (train samples)\n",
        "5. Pickle train samples and train labels. \n"
      ]
    },
    {
      "cell_type": "code",
      "metadata": {
        "id": "Nvz1foP-1WW1"
      },
      "source": [
        "import numpy as np\n",
        "from glob import glob\n",
        "import librosa \n",
        "import matplotlib.pyplot as plt\n",
        "import pandas as pd\n",
        "import pylab\n",
        "import librosa.display"
      ],
      "execution_count": 1,
      "outputs": []
    },
    {
      "cell_type": "code",
      "metadata": {
        "colab": {
          "base_uri": "https://localhost:8080/"
        },
        "id": "r98TTZXw2B8U",
        "outputId": "09098372-0ed9-455e-c386-8624b4efd5e0"
      },
      "source": [
        "from google.colab import drive\n",
        "drive.mount('/content/drive')"
      ],
      "execution_count": 2,
      "outputs": [
        {
          "output_type": "stream",
          "text": [
            "Mounted at /content/drive\n"
          ],
          "name": "stdout"
        }
      ]
    },
    {
      "cell_type": "markdown",
      "metadata": {
        "id": "uJ4ayawG1WW5"
      },
      "source": [
        "### Data preprocessing"
      ]
    },
    {
      "cell_type": "code",
      "metadata": {
        "id": "C0WDaZ6R1WW5"
      },
      "source": [
        "# get paths to files \n",
        "speech_directory = 'path/speech'\n",
        "no_speech_directory ='path/no_speech'"
      ],
      "execution_count": 3,
      "outputs": []
    },
    {
      "cell_type": "code",
      "metadata": {
        "id": "CLQrWfxF1WW5"
      },
      "source": [
        "# create a list of all of the files in the folder using glob \n",
        "speech_subset = glob(speech_directory + '/*.wav')\n",
        "no_speech_subset = glob(no_speech_directory + '/*.wav')"
      ],
      "execution_count": 4,
      "outputs": []
    },
    {
      "cell_type": "code",
      "metadata": {
        "colab": {
          "base_uri": "https://localhost:8080/"
        },
        "id": "3nFYNc2j1WW5",
        "outputId": "41563703-a4a1-4f39-c1db-f7c6918a9fd4"
      },
      "source": [
        "print(len(speech_subset))\n",
        "print(len(no_speech_subset))"
      ],
      "execution_count": 5,
      "outputs": [
        {
          "output_type": "stream",
          "text": [
            "333\n",
            "2933\n"
          ],
          "name": "stdout"
        }
      ]
    },
    {
      "cell_type": "code",
      "metadata": {
        "colab": {
          "base_uri": "https://localhost:8080/"
        },
        "id": "jIC16Cc81WW6",
        "outputId": "3a19ab03-536c-4c93-f819-cb07203764cc"
      },
      "source": [
        "train_num_speech = round(.90*len(speech_subset))\n",
        "train_num_no_speech = round(.90*len(no_speech_subset))\n",
        "print(train_num_speech)\n",
        "print(train_num_no_speech)"
      ],
      "execution_count": 6,
      "outputs": [
        {
          "output_type": "stream",
          "text": [
            "300\n",
            "2640\n"
          ],
          "name": "stdout"
        }
      ]
    },
    {
      "cell_type": "code",
      "metadata": {
        "colab": {
          "base_uri": "https://localhost:8080/"
        },
        "id": "bZ9UEmn31WW6",
        "outputId": "c1757d8a-9729-404a-8467-fbc344aed66b"
      },
      "source": [
        "speech_train = speech_subset[0:300]\n",
        "no_speech_train = no_speech_subset[0:2640]\n",
        "print(len(speech_train))\n",
        "print(len(no_speech_train))"
      ],
      "execution_count": 7,
      "outputs": [
        {
          "output_type": "stream",
          "text": [
            "300\n",
            "2640\n"
          ],
          "name": "stdout"
        }
      ]
    },
    {
      "cell_type": "code",
      "metadata": {
        "id": "rnw1-8PS1WW6"
      },
      "source": [
        "temp_speech_labels = []\n",
        "for i in range(len(speech_train)):\n",
        "    temp_speech_labels.append(1) # 1 = speech"
      ],
      "execution_count": 8,
      "outputs": []
    },
    {
      "cell_type": "code",
      "metadata": {
        "id": "pfjQcIZn1WW6"
      },
      "source": [
        "temp_no_speech_labels = []\n",
        "for i in range(len(no_speech_train)):\n",
        "    temp_no_speech_labels.append(0) # 0 = speech"
      ],
      "execution_count": 9,
      "outputs": []
    },
    {
      "cell_type": "code",
      "metadata": {
        "id": "qMalhvk41WW6"
      },
      "source": [
        "train_data_points_raw = speech_train + no_speech_train"
      ],
      "execution_count": 10,
      "outputs": []
    },
    {
      "cell_type": "code",
      "metadata": {
        "id": "6WwcI2ny1WW6"
      },
      "source": [
        "train_labels = temp_speech_labels + temp_no_speech_labels\n",
        "train_labels = np.array(train_labels)"
      ],
      "execution_count": 11,
      "outputs": []
    },
    {
      "cell_type": "code",
      "metadata": {
        "colab": {
          "base_uri": "https://localhost:8080/"
        },
        "id": "dPZvqnuP2Sas",
        "outputId": "3baf3bed-7f43-469c-d6c8-c298883df5b1"
      },
      "source": [
        "len(train_labels)"
      ],
      "execution_count": 12,
      "outputs": [
        {
          "output_type": "execute_result",
          "data": {
            "text/plain": [
              "2940"
            ]
          },
          "metadata": {
            "tags": []
          },
          "execution_count": 12
        }
      ]
    },
    {
      "cell_type": "markdown",
      "metadata": {
        "id": "pWV7fksR8zsZ"
      },
      "source": [
        "### Pickle Training Labels"
      ]
    },
    {
      "cell_type": "code",
      "metadata": {
        "id": "afN8-0PV8y5A"
      },
      "source": [
        "import pickle\n",
        "out_file = open(\"path/train_labels.pkl\", \"wb\")\n",
        "pickle.dump(train_labels, out_file)\n",
        "out_file.close()"
      ],
      "execution_count": null,
      "outputs": []
    },
    {
      "cell_type": "markdown",
      "metadata": {
        "id": "-anVnp6U1WW7"
      },
      "source": [
        "### Generate Mel Spectrograms"
      ]
    },
    {
      "cell_type": "code",
      "metadata": {
        "id": "-xKvECgrBvPq"
      },
      "source": [
        "train = []"
      ],
      "execution_count": null,
      "outputs": []
    },
    {
      "cell_type": "code",
      "metadata": {
        "id": "bxucndJN1WW7"
      },
      "source": [
        "for elem in train_data_points_raw:\n",
        "    y, sr = librosa.load(elem)\n",
        "    time = np.arange(0, len(y)) / sr\n",
        "    S = librosa.feature.melspectrogram(y=y, sr=sr, n_mels=128,\n",
        "                                    fmax=8000)\n",
        "    train.append(S)"
      ],
      "execution_count": null,
      "outputs": []
    },
    {
      "cell_type": "code",
      "metadata": {
        "id": "6NNjEPNLhfus"
      },
      "source": [
        "train = np.array(test)"
      ],
      "execution_count": null,
      "outputs": []
    },
    {
      "cell_type": "code",
      "metadata": {
        "id": "zSemBZnQhdqM"
      },
      "source": [
        "out_file = open(\"path/test_samples.pkl\", \"wb\")\n",
        "pickle.dump(test_labels, out_file)\n",
        "out_file.close()"
      ],
      "execution_count": null,
      "outputs": []
    }
  ]
}