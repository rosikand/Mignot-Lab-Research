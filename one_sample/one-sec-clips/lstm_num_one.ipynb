{
  "nbformat": 4,
  "nbformat_minor": 0,
  "metadata": {
    "colab": {
      "name": "lstm_num_one.ipynb",
      "provenance": []
    },
    "kernelspec": {
      "name": "python3",
      "display_name": "Python 3"
    },
    "accelerator": "GPU"
  },
  "cells": [
    {
      "cell_type": "code",
      "metadata": {
        "colab": {
          "base_uri": "https://localhost:8080/"
        },
        "id": "p2wqOi1f-OGu",
        "outputId": "e016825d-60a3-4636-be92-ff91b304f4d8"
      },
      "source": [
        "from google.colab import drive\n",
        "drive.mount('/content/drive')"
      ],
      "execution_count": 1,
      "outputs": [
        {
          "output_type": "stream",
          "text": [
            "Mounted at /content/drive\n"
          ],
          "name": "stdout"
        }
      ]
    },
    {
      "cell_type": "code",
      "metadata": {
        "id": "KkFvuXHV-VAF"
      },
      "source": [
        "import pickle\n",
        "\n",
        "# load in labels and samples for the training subset\n",
        "training_samples_file = open('/content/drive/MyDrive/Mignot Lab Research/Experiments/one_sample/one-second-splits/train_samples.pkl', 'rb')\n",
        "training_labels_file = open('/content/drive/MyDrive/Mignot Lab Research/Experiments/one_sample/one-second-splits/train_labels.pkl', 'rb')\n",
        "\n",
        "# load in labels and samples for the test subset\n",
        "test_samples_file = open('/content/drive/MyDrive/Mignot Lab Research/Experiments/one_sample/one-second-splits/test_samples.pkl', 'rb')\n",
        "test_labels_file = open('/content/drive/MyDrive/Mignot Lab Research/Experiments/one_sample/one-second-splits/test_labels_real.pkl', 'rb')\n"
      ],
      "execution_count": 18,
      "outputs": []
    },
    {
      "cell_type": "code",
      "metadata": {
        "id": "kF4LjhYE-jN2"
      },
      "source": [
        "# training\n",
        "X = pickle.load(training_samples_file)\n",
        "y = pickle.load(training_labels_file)\n",
        "\n",
        "# test\n",
        "test_samples = pickle.load(test_samples_file)\n",
        "test_labels = pickle.load(test_labels_file)"
      ],
      "execution_count": 19,
      "outputs": []
    },
    {
      "cell_type": "code",
      "metadata": {
        "colab": {
          "base_uri": "https://localhost:8080/"
        },
        "id": "n15U_4vbJ9Pl",
        "outputId": "04bcabdf-3a0f-4920-aec6-66b4c15402df"
      },
      "source": [
        "# confirm that these are correct \n",
        "len(test_samples) + len(X)"
      ],
      "execution_count": 20,
      "outputs": [
        {
          "output_type": "execute_result",
          "data": {
            "text/plain": [
              "4974"
            ]
          },
          "metadata": {
            "tags": []
          },
          "execution_count": 20
        }
      ]
    },
    {
      "cell_type": "markdown",
      "metadata": {
        "id": "3ITmGJ1q_6D0"
      },
      "source": [
        "### LSTM "
      ]
    },
    {
      "cell_type": "code",
      "metadata": {
        "colab": {
          "base_uri": "https://localhost:8080/"
        },
        "id": "zvgP2UpJKr0u",
        "outputId": "0bf64e83-eb42-4402-c472-72a4d2c03bec"
      },
      "source": [
        "X[0].shape"
      ],
      "execution_count": 26,
      "outputs": [
        {
          "output_type": "execute_result",
          "data": {
            "text/plain": [
              "(128, 44)"
            ]
          },
          "metadata": {
            "tags": []
          },
          "execution_count": 26
        }
      ]
    },
    {
      "cell_type": "code",
      "metadata": {
        "id": "fJZ4WyVd-lLk"
      },
      "source": [
        "import tensorflow as tf\n",
        "import keras\n",
        "\n",
        "model = keras.Sequential()\n",
        "model.add(keras.layers.LSTM(64, input_shape=(128, 44), return_sequences=True))\n",
        "model.add(keras.layers.LSTM(64))\n",
        "model.add(keras.layers.Dense(64, activation='relu'))\n",
        "model.add(keras.layers.Dropout(0.3))\n",
        "model.add(keras.layers.Dense(2, activation='softmax'))"
      ],
      "execution_count": 27,
      "outputs": []
    },
    {
      "cell_type": "code",
      "metadata": {
        "colab": {
          "base_uri": "https://localhost:8080/"
        },
        "id": "YcBzGRgEAGJ1",
        "outputId": "9544579d-d5f3-4b3a-8dc8-06fa65c1197f"
      },
      "source": [
        "model.summary()"
      ],
      "execution_count": 28,
      "outputs": [
        {
          "output_type": "stream",
          "text": [
            "Model: \"sequential_2\"\n",
            "_________________________________________________________________\n",
            "Layer (type)                 Output Shape              Param #   \n",
            "=================================================================\n",
            "lstm_4 (LSTM)                (None, 128, 64)           27904     \n",
            "_________________________________________________________________\n",
            "lstm_5 (LSTM)                (None, 64)                33024     \n",
            "_________________________________________________________________\n",
            "dense_4 (Dense)              (None, 64)                4160      \n",
            "_________________________________________________________________\n",
            "dropout_2 (Dropout)          (None, 64)                0         \n",
            "_________________________________________________________________\n",
            "dense_5 (Dense)              (None, 2)                 130       \n",
            "=================================================================\n",
            "Total params: 65,218\n",
            "Trainable params: 65,218\n",
            "Non-trainable params: 0\n",
            "_________________________________________________________________\n"
          ],
          "name": "stdout"
        }
      ]
    },
    {
      "cell_type": "code",
      "metadata": {
        "id": "BZfbTudz-r3S"
      },
      "source": [
        "model.compile(optimizer='adam',\n",
        "              loss=tf.keras.losses.SparseCategoricalCrossentropy(from_logits=True),\n",
        "              metrics=['accuracy'])"
      ],
      "execution_count": 29,
      "outputs": []
    },
    {
      "cell_type": "code",
      "metadata": {
        "colab": {
          "base_uri": "https://localhost:8080/"
        },
        "id": "8PnBRuEK-u3-",
        "outputId": "d8cb6229-e7d6-4e9e-b2e7-e91eef278511"
      },
      "source": [
        "history = model.fit(X, y, epochs=250)"
      ],
      "execution_count": 30,
      "outputs": [
        {
          "output_type": "stream",
          "text": [
            "Epoch 1/250\n",
            "140/140 [==============================] - 10s 12ms/step - loss: 0.5074 - accuracy: 0.7603\n",
            "Epoch 2/250\n",
            "140/140 [==============================] - 1s 10ms/step - loss: 0.3532 - accuracy: 0.8798\n",
            "Epoch 3/250\n",
            "140/140 [==============================] - 2s 11ms/step - loss: 0.3718 - accuracy: 0.8682\n",
            "Epoch 4/250\n",
            "140/140 [==============================] - 2s 11ms/step - loss: 0.3130 - accuracy: 0.8881\n",
            "Epoch 5/250\n",
            "140/140 [==============================] - 2s 11ms/step - loss: 0.3287 - accuracy: 0.8799\n",
            "Epoch 6/250\n",
            "140/140 [==============================] - 1s 11ms/step - loss: 0.3388 - accuracy: 0.8839\n",
            "Epoch 7/250\n",
            "140/140 [==============================] - 2s 11ms/step - loss: 0.3536 - accuracy: 0.8806\n",
            "Epoch 8/250\n",
            "140/140 [==============================] - 2s 11ms/step - loss: 0.3055 - accuracy: 0.8837\n",
            "Epoch 9/250\n",
            "140/140 [==============================] - 1s 11ms/step - loss: 0.3694 - accuracy: 0.8586\n",
            "Epoch 10/250\n",
            "140/140 [==============================] - 1s 11ms/step - loss: 0.3411 - accuracy: 0.8666\n",
            "Epoch 11/250\n",
            "140/140 [==============================] - 1s 11ms/step - loss: 0.3357 - accuracy: 0.8627\n",
            "Epoch 12/250\n",
            "140/140 [==============================] - 2s 11ms/step - loss: 0.3670 - accuracy: 0.8613\n",
            "Epoch 13/250\n",
            "140/140 [==============================] - 2s 11ms/step - loss: 0.4284 - accuracy: 0.8187\n",
            "Epoch 14/250\n",
            "140/140 [==============================] - 2s 11ms/step - loss: 0.3968 - accuracy: 0.8379\n",
            "Epoch 15/250\n",
            "140/140 [==============================] - 2s 11ms/step - loss: 0.3973 - accuracy: 0.8325\n",
            "Epoch 16/250\n",
            "140/140 [==============================] - 1s 11ms/step - loss: 0.3563 - accuracy: 0.8603\n",
            "Epoch 17/250\n",
            "140/140 [==============================] - 2s 11ms/step - loss: 0.3237 - accuracy: 0.8808\n",
            "Epoch 18/250\n",
            "140/140 [==============================] - 2s 11ms/step - loss: 0.2630 - accuracy: 0.8982\n",
            "Epoch 19/250\n",
            "140/140 [==============================] - 1s 11ms/step - loss: 0.2365 - accuracy: 0.9164\n",
            "Epoch 20/250\n",
            "140/140 [==============================] - 1s 11ms/step - loss: 0.2228 - accuracy: 0.9215\n",
            "Epoch 21/250\n",
            "140/140 [==============================] - 2s 11ms/step - loss: 0.2099 - accuracy: 0.9296\n",
            "Epoch 22/250\n",
            "140/140 [==============================] - 2s 11ms/step - loss: 0.1723 - accuracy: 0.9388\n",
            "Epoch 23/250\n",
            "140/140 [==============================] - 2s 11ms/step - loss: 0.2279 - accuracy: 0.9217\n",
            "Epoch 24/250\n",
            "140/140 [==============================] - 1s 11ms/step - loss: 0.2341 - accuracy: 0.9161\n",
            "Epoch 25/250\n",
            "140/140 [==============================] - 2s 11ms/step - loss: 0.2458 - accuracy: 0.9123\n",
            "Epoch 26/250\n",
            "140/140 [==============================] - 2s 11ms/step - loss: 0.1868 - accuracy: 0.9373\n",
            "Epoch 27/250\n",
            "140/140 [==============================] - 1s 11ms/step - loss: 0.3143 - accuracy: 0.8855\n",
            "Epoch 28/250\n",
            "140/140 [==============================] - 1s 11ms/step - loss: 0.3283 - accuracy: 0.8758\n",
            "Epoch 29/250\n",
            "140/140 [==============================] - 2s 11ms/step - loss: 0.3247 - accuracy: 0.8770\n",
            "Epoch 30/250\n",
            "140/140 [==============================] - 2s 11ms/step - loss: 0.3251 - accuracy: 0.8800\n",
            "Epoch 31/250\n",
            "140/140 [==============================] - 1s 11ms/step - loss: 0.3005 - accuracy: 0.8907\n",
            "Epoch 32/250\n",
            "140/140 [==============================] - 2s 11ms/step - loss: 0.3094 - accuracy: 0.8826\n",
            "Epoch 33/250\n",
            "140/140 [==============================] - 2s 11ms/step - loss: 0.2636 - accuracy: 0.9046\n",
            "Epoch 34/250\n",
            "140/140 [==============================] - 1s 11ms/step - loss: 0.2118 - accuracy: 0.9257\n",
            "Epoch 35/250\n",
            "140/140 [==============================] - 1s 11ms/step - loss: 0.2388 - accuracy: 0.9078\n",
            "Epoch 36/250\n",
            "140/140 [==============================] - 2s 11ms/step - loss: 0.2013 - accuracy: 0.9236\n",
            "Epoch 37/250\n",
            "140/140 [==============================] - 2s 11ms/step - loss: 0.1963 - accuracy: 0.9391\n",
            "Epoch 38/250\n",
            "140/140 [==============================] - 1s 11ms/step - loss: 0.1965 - accuracy: 0.9382\n",
            "Epoch 39/250\n",
            "140/140 [==============================] - 2s 11ms/step - loss: 0.1857 - accuracy: 0.9434\n",
            "Epoch 40/250\n",
            "140/140 [==============================] - 2s 11ms/step - loss: 0.1956 - accuracy: 0.9386\n",
            "Epoch 41/250\n",
            "140/140 [==============================] - 2s 11ms/step - loss: 0.1956 - accuracy: 0.9372\n",
            "Epoch 42/250\n",
            "140/140 [==============================] - 2s 11ms/step - loss: 0.1755 - accuracy: 0.9409\n",
            "Epoch 43/250\n",
            "140/140 [==============================] - 2s 11ms/step - loss: 0.1714 - accuracy: 0.9455\n",
            "Epoch 44/250\n",
            "140/140 [==============================] - 2s 11ms/step - loss: 0.1576 - accuracy: 0.9555\n",
            "Epoch 45/250\n",
            "140/140 [==============================] - 2s 11ms/step - loss: 0.1381 - accuracy: 0.9546\n",
            "Epoch 46/250\n",
            "140/140 [==============================] - 2s 11ms/step - loss: 0.1250 - accuracy: 0.9561\n",
            "Epoch 47/250\n",
            "140/140 [==============================] - 1s 11ms/step - loss: 0.1450 - accuracy: 0.9576\n",
            "Epoch 48/250\n",
            "140/140 [==============================] - 1s 11ms/step - loss: 0.1260 - accuracy: 0.9559\n",
            "Epoch 49/250\n",
            "140/140 [==============================] - 2s 11ms/step - loss: 0.1597 - accuracy: 0.9515\n",
            "Epoch 50/250\n",
            "140/140 [==============================] - 2s 11ms/step - loss: 0.1281 - accuracy: 0.9625\n",
            "Epoch 51/250\n",
            "140/140 [==============================] - 2s 11ms/step - loss: 0.1131 - accuracy: 0.9616\n",
            "Epoch 52/250\n",
            "140/140 [==============================] - 2s 11ms/step - loss: 0.1290 - accuracy: 0.9605\n",
            "Epoch 53/250\n",
            "140/140 [==============================] - 2s 11ms/step - loss: 0.2999 - accuracy: 0.8531\n",
            "Epoch 54/250\n",
            "140/140 [==============================] - 2s 11ms/step - loss: 0.4466 - accuracy: 0.7914\n",
            "Epoch 55/250\n",
            "140/140 [==============================] - 1s 11ms/step - loss: 0.3063 - accuracy: 0.8850\n",
            "Epoch 56/250\n",
            "140/140 [==============================] - 2s 11ms/step - loss: 0.2056 - accuracy: 0.9212\n",
            "Epoch 57/250\n",
            "140/140 [==============================] - 1s 11ms/step - loss: 0.1746 - accuracy: 0.9287\n",
            "Epoch 58/250\n",
            "140/140 [==============================] - 1s 11ms/step - loss: 0.1379 - accuracy: 0.9455\n",
            "Epoch 59/250\n",
            "140/140 [==============================] - 2s 11ms/step - loss: 0.1273 - accuracy: 0.9502\n",
            "Epoch 60/250\n",
            "140/140 [==============================] - 2s 11ms/step - loss: 0.1329 - accuracy: 0.9555\n",
            "Epoch 61/250\n",
            "140/140 [==============================] - 2s 11ms/step - loss: 0.1543 - accuracy: 0.9532\n",
            "Epoch 62/250\n",
            "140/140 [==============================] - 2s 11ms/step - loss: 0.0915 - accuracy: 0.9785\n",
            "Epoch 63/250\n",
            "140/140 [==============================] - 2s 11ms/step - loss: 0.1101 - accuracy: 0.9703\n",
            "Epoch 64/250\n",
            "140/140 [==============================] - 1s 11ms/step - loss: 0.0998 - accuracy: 0.9737\n",
            "Epoch 65/250\n",
            "140/140 [==============================] - 1s 11ms/step - loss: 0.1037 - accuracy: 0.9667\n",
            "Epoch 66/250\n",
            "140/140 [==============================] - 2s 11ms/step - loss: 0.0777 - accuracy: 0.9813\n",
            "Epoch 67/250\n",
            "140/140 [==============================] - 2s 11ms/step - loss: 0.0873 - accuracy: 0.9772\n",
            "Epoch 68/250\n",
            "140/140 [==============================] - 2s 11ms/step - loss: 0.0870 - accuracy: 0.9767\n",
            "Epoch 69/250\n",
            "140/140 [==============================] - 2s 11ms/step - loss: 0.0971 - accuracy: 0.9751\n",
            "Epoch 70/250\n",
            "140/140 [==============================] - 2s 11ms/step - loss: 0.1003 - accuracy: 0.9719\n",
            "Epoch 71/250\n",
            "140/140 [==============================] - 2s 11ms/step - loss: 0.0826 - accuracy: 0.9783\n",
            "Epoch 72/250\n",
            "140/140 [==============================] - 1s 11ms/step - loss: 0.0723 - accuracy: 0.9800\n",
            "Epoch 73/250\n",
            "140/140 [==============================] - 2s 11ms/step - loss: 0.1198 - accuracy: 0.9667\n",
            "Epoch 74/250\n",
            "140/140 [==============================] - 1s 11ms/step - loss: 0.0787 - accuracy: 0.9814\n",
            "Epoch 75/250\n",
            "140/140 [==============================] - 1s 11ms/step - loss: 0.0668 - accuracy: 0.9838\n",
            "Epoch 76/250\n",
            "140/140 [==============================] - 2s 11ms/step - loss: 0.0712 - accuracy: 0.9834\n",
            "Epoch 77/250\n",
            "140/140 [==============================] - 2s 11ms/step - loss: 0.1070 - accuracy: 0.9715\n",
            "Epoch 78/250\n",
            "140/140 [==============================] - 2s 11ms/step - loss: 0.0752 - accuracy: 0.9801\n",
            "Epoch 79/250\n",
            "140/140 [==============================] - 2s 11ms/step - loss: 0.0656 - accuracy: 0.9835\n",
            "Epoch 80/250\n",
            "140/140 [==============================] - 2s 11ms/step - loss: 0.0876 - accuracy: 0.9759\n",
            "Epoch 81/250\n",
            "140/140 [==============================] - 2s 11ms/step - loss: 0.0757 - accuracy: 0.9789\n",
            "Epoch 82/250\n",
            "140/140 [==============================] - 2s 11ms/step - loss: 0.0817 - accuracy: 0.9792\n",
            "Epoch 83/250\n",
            "140/140 [==============================] - 2s 11ms/step - loss: 0.0677 - accuracy: 0.9825\n",
            "Epoch 84/250\n",
            "140/140 [==============================] - 2s 11ms/step - loss: 0.1189 - accuracy: 0.9677\n",
            "Epoch 85/250\n",
            "140/140 [==============================] - 2s 11ms/step - loss: 0.1398 - accuracy: 0.9640\n",
            "Epoch 86/250\n",
            "140/140 [==============================] - 2s 11ms/step - loss: 0.1211 - accuracy: 0.9650\n",
            "Epoch 87/250\n",
            "140/140 [==============================] - 2s 11ms/step - loss: 0.1353 - accuracy: 0.9638\n",
            "Epoch 88/250\n",
            "140/140 [==============================] - 2s 11ms/step - loss: 0.0833 - accuracy: 0.9808\n",
            "Epoch 89/250\n",
            "140/140 [==============================] - 2s 11ms/step - loss: 0.0728 - accuracy: 0.9805\n",
            "Epoch 90/250\n",
            "140/140 [==============================] - 2s 11ms/step - loss: 0.0615 - accuracy: 0.9832\n",
            "Epoch 91/250\n",
            "140/140 [==============================] - 2s 11ms/step - loss: 0.0660 - accuracy: 0.9840\n",
            "Epoch 92/250\n",
            "140/140 [==============================] - 2s 11ms/step - loss: 0.0742 - accuracy: 0.9817\n",
            "Epoch 93/250\n",
            "140/140 [==============================] - 2s 11ms/step - loss: 0.0525 - accuracy: 0.9869\n",
            "Epoch 94/250\n",
            "140/140 [==============================] - 2s 11ms/step - loss: 0.1107 - accuracy: 0.9691\n",
            "Epoch 95/250\n",
            "140/140 [==============================] - 2s 11ms/step - loss: 0.0785 - accuracy: 0.9808\n",
            "Epoch 96/250\n",
            "140/140 [==============================] - 2s 11ms/step - loss: 0.0763 - accuracy: 0.9796\n",
            "Epoch 97/250\n",
            "140/140 [==============================] - 2s 11ms/step - loss: 0.0822 - accuracy: 0.9785\n",
            "Epoch 98/250\n",
            "140/140 [==============================] - 2s 11ms/step - loss: 0.0701 - accuracy: 0.9822\n",
            "Epoch 99/250\n",
            "140/140 [==============================] - 2s 11ms/step - loss: 0.1063 - accuracy: 0.9702\n",
            "Epoch 100/250\n",
            "140/140 [==============================] - 2s 11ms/step - loss: 0.0732 - accuracy: 0.9814\n",
            "Epoch 101/250\n",
            "140/140 [==============================] - 2s 11ms/step - loss: 0.0724 - accuracy: 0.9807\n",
            "Epoch 102/250\n",
            "140/140 [==============================] - 2s 11ms/step - loss: 0.0551 - accuracy: 0.9869\n",
            "Epoch 103/250\n",
            "140/140 [==============================] - 2s 11ms/step - loss: 0.0622 - accuracy: 0.9840\n",
            "Epoch 104/250\n",
            "140/140 [==============================] - 2s 11ms/step - loss: 0.0651 - accuracy: 0.9827\n",
            "Epoch 105/250\n",
            "140/140 [==============================] - 2s 11ms/step - loss: 0.0637 - accuracy: 0.9817\n",
            "Epoch 106/250\n",
            "140/140 [==============================] - 2s 11ms/step - loss: 0.0460 - accuracy: 0.9903\n",
            "Epoch 107/250\n",
            "140/140 [==============================] - 2s 11ms/step - loss: 0.0497 - accuracy: 0.9872\n",
            "Epoch 108/250\n",
            "140/140 [==============================] - 2s 11ms/step - loss: 0.0548 - accuracy: 0.9861\n",
            "Epoch 109/250\n",
            "140/140 [==============================] - 2s 11ms/step - loss: 0.0609 - accuracy: 0.9818\n",
            "Epoch 110/250\n",
            "140/140 [==============================] - 2s 11ms/step - loss: 0.0589 - accuracy: 0.9846\n",
            "Epoch 111/250\n",
            "140/140 [==============================] - 2s 11ms/step - loss: 0.0629 - accuracy: 0.9841\n",
            "Epoch 112/250\n",
            "140/140 [==============================] - 2s 11ms/step - loss: 0.0612 - accuracy: 0.9851\n",
            "Epoch 113/250\n",
            "140/140 [==============================] - 2s 11ms/step - loss: 0.0482 - accuracy: 0.9881\n",
            "Epoch 114/250\n",
            "140/140 [==============================] - 2s 11ms/step - loss: 0.0528 - accuracy: 0.9872\n",
            "Epoch 115/250\n",
            "140/140 [==============================] - 2s 11ms/step - loss: 0.0613 - accuracy: 0.9818\n",
            "Epoch 116/250\n",
            "140/140 [==============================] - 2s 11ms/step - loss: 0.0627 - accuracy: 0.9805\n",
            "Epoch 117/250\n",
            "140/140 [==============================] - 2s 11ms/step - loss: 0.0467 - accuracy: 0.9863\n",
            "Epoch 118/250\n",
            "140/140 [==============================] - 2s 11ms/step - loss: 0.0558 - accuracy: 0.9882\n",
            "Epoch 119/250\n",
            "140/140 [==============================] - 1s 10ms/step - loss: 0.0599 - accuracy: 0.9843\n",
            "Epoch 120/250\n",
            "140/140 [==============================] - 1s 10ms/step - loss: 0.0515 - accuracy: 0.9871\n",
            "Epoch 121/250\n",
            "140/140 [==============================] - 2s 11ms/step - loss: 0.0496 - accuracy: 0.9847\n",
            "Epoch 122/250\n",
            "140/140 [==============================] - 2s 11ms/step - loss: 0.1006 - accuracy: 0.9673\n",
            "Epoch 123/250\n",
            "140/140 [==============================] - 2s 11ms/step - loss: 0.0795 - accuracy: 0.9742\n",
            "Epoch 124/250\n",
            "140/140 [==============================] - 2s 11ms/step - loss: 0.0861 - accuracy: 0.9719\n",
            "Epoch 125/250\n",
            "140/140 [==============================] - 2s 11ms/step - loss: 0.0812 - accuracy: 0.9741\n",
            "Epoch 126/250\n",
            "140/140 [==============================] - 2s 11ms/step - loss: 0.0799 - accuracy: 0.9799\n",
            "Epoch 127/250\n",
            "140/140 [==============================] - 1s 11ms/step - loss: 0.2018 - accuracy: 0.9220\n",
            "Epoch 128/250\n",
            "140/140 [==============================] - 2s 11ms/step - loss: 0.1269 - accuracy: 0.9511\n",
            "Epoch 129/250\n",
            "140/140 [==============================] - 2s 11ms/step - loss: 0.1254 - accuracy: 0.9592\n",
            "Epoch 130/250\n",
            "140/140 [==============================] - 2s 11ms/step - loss: 0.0944 - accuracy: 0.9731\n",
            "Epoch 131/250\n",
            "140/140 [==============================] - 2s 11ms/step - loss: 0.0632 - accuracy: 0.9796\n",
            "Epoch 132/250\n",
            "140/140 [==============================] - 2s 11ms/step - loss: 0.0580 - accuracy: 0.9830\n",
            "Epoch 133/250\n",
            "140/140 [==============================] - 2s 11ms/step - loss: 0.0586 - accuracy: 0.9848\n",
            "Epoch 134/250\n",
            "140/140 [==============================] - 2s 11ms/step - loss: 0.0439 - accuracy: 0.9893\n",
            "Epoch 135/250\n",
            "140/140 [==============================] - 2s 11ms/step - loss: 0.0461 - accuracy: 0.9869\n",
            "Epoch 136/250\n",
            "140/140 [==============================] - 2s 11ms/step - loss: 0.0514 - accuracy: 0.9851\n",
            "Epoch 137/250\n",
            "140/140 [==============================] - 2s 11ms/step - loss: 0.0564 - accuracy: 0.9858\n",
            "Epoch 138/250\n",
            "140/140 [==============================] - 2s 11ms/step - loss: 0.0504 - accuracy: 0.9874\n",
            "Epoch 139/250\n",
            "140/140 [==============================] - 2s 11ms/step - loss: 0.0505 - accuracy: 0.9861\n",
            "Epoch 140/250\n",
            "140/140 [==============================] - 2s 11ms/step - loss: 0.0606 - accuracy: 0.9835\n",
            "Epoch 141/250\n",
            "140/140 [==============================] - 2s 11ms/step - loss: 0.0571 - accuracy: 0.9852\n",
            "Epoch 142/250\n",
            "140/140 [==============================] - 2s 11ms/step - loss: 0.0512 - accuracy: 0.9874\n",
            "Epoch 143/250\n",
            "140/140 [==============================] - 2s 11ms/step - loss: 0.0552 - accuracy: 0.9882\n",
            "Epoch 144/250\n",
            "140/140 [==============================] - 1s 11ms/step - loss: 0.0485 - accuracy: 0.9864\n",
            "Epoch 145/250\n",
            "140/140 [==============================] - 2s 11ms/step - loss: 0.0601 - accuracy: 0.9828\n",
            "Epoch 146/250\n",
            "140/140 [==============================] - 1s 11ms/step - loss: 0.0543 - accuracy: 0.9858\n",
            "Epoch 147/250\n",
            "140/140 [==============================] - 2s 11ms/step - loss: 0.0470 - accuracy: 0.9874\n",
            "Epoch 148/250\n",
            "140/140 [==============================] - 2s 11ms/step - loss: 0.0516 - accuracy: 0.9868\n",
            "Epoch 149/250\n",
            "140/140 [==============================] - 2s 12ms/step - loss: 0.0460 - accuracy: 0.9886\n",
            "Epoch 150/250\n",
            "140/140 [==============================] - 2s 11ms/step - loss: 0.0414 - accuracy: 0.9896\n",
            "Epoch 151/250\n",
            "140/140 [==============================] - 2s 11ms/step - loss: 0.0442 - accuracy: 0.9901\n",
            "Epoch 152/250\n",
            "140/140 [==============================] - 2s 11ms/step - loss: 0.0645 - accuracy: 0.9828\n",
            "Epoch 153/250\n",
            "140/140 [==============================] - 2s 11ms/step - loss: 0.0501 - accuracy: 0.9883\n",
            "Epoch 154/250\n",
            "140/140 [==============================] - 2s 11ms/step - loss: 0.0548 - accuracy: 0.9864\n",
            "Epoch 155/250\n",
            "140/140 [==============================] - 2s 11ms/step - loss: 0.0336 - accuracy: 0.9914\n",
            "Epoch 156/250\n",
            "140/140 [==============================] - 2s 11ms/step - loss: 0.0495 - accuracy: 0.9891\n",
            "Epoch 157/250\n",
            "140/140 [==============================] - 2s 11ms/step - loss: 0.0499 - accuracy: 0.9864\n",
            "Epoch 158/250\n",
            "140/140 [==============================] - 2s 11ms/step - loss: 0.0376 - accuracy: 0.9910\n",
            "Epoch 159/250\n",
            "140/140 [==============================] - 2s 11ms/step - loss: 0.0439 - accuracy: 0.9875\n",
            "Epoch 160/250\n",
            "140/140 [==============================] - 2s 11ms/step - loss: 0.0527 - accuracy: 0.9876\n",
            "Epoch 161/250\n",
            "140/140 [==============================] - 2s 11ms/step - loss: 0.0449 - accuracy: 0.9891\n",
            "Epoch 162/250\n",
            "140/140 [==============================] - 2s 11ms/step - loss: 0.0500 - accuracy: 0.9878\n",
            "Epoch 163/250\n",
            "140/140 [==============================] - 2s 11ms/step - loss: 0.0466 - accuracy: 0.9885\n",
            "Epoch 164/250\n",
            "140/140 [==============================] - 2s 11ms/step - loss: 0.0339 - accuracy: 0.9923\n",
            "Epoch 165/250\n",
            "140/140 [==============================] - 2s 11ms/step - loss: 0.0928 - accuracy: 0.9751\n",
            "Epoch 166/250\n",
            "140/140 [==============================] - 2s 11ms/step - loss: 0.0868 - accuracy: 0.9762\n",
            "Epoch 167/250\n",
            "140/140 [==============================] - 2s 11ms/step - loss: 0.0513 - accuracy: 0.9862\n",
            "Epoch 168/250\n",
            "140/140 [==============================] - 2s 11ms/step - loss: 0.0388 - accuracy: 0.9890\n",
            "Epoch 169/250\n",
            "140/140 [==============================] - 2s 11ms/step - loss: 0.0524 - accuracy: 0.9851\n",
            "Epoch 170/250\n",
            "140/140 [==============================] - 2s 11ms/step - loss: 0.0435 - accuracy: 0.9883\n",
            "Epoch 171/250\n",
            "140/140 [==============================] - 2s 11ms/step - loss: 0.0565 - accuracy: 0.9857\n",
            "Epoch 172/250\n",
            "140/140 [==============================] - 2s 11ms/step - loss: 0.0443 - accuracy: 0.9885\n",
            "Epoch 173/250\n",
            "140/140 [==============================] - 2s 11ms/step - loss: 0.0459 - accuracy: 0.9886\n",
            "Epoch 174/250\n",
            "140/140 [==============================] - 2s 11ms/step - loss: 0.0444 - accuracy: 0.9886\n",
            "Epoch 175/250\n",
            "140/140 [==============================] - 2s 11ms/step - loss: 0.0377 - accuracy: 0.9903\n",
            "Epoch 176/250\n",
            "140/140 [==============================] - 2s 11ms/step - loss: 0.0450 - accuracy: 0.9901\n",
            "Epoch 177/250\n",
            "140/140 [==============================] - 2s 11ms/step - loss: 0.0499 - accuracy: 0.9884\n",
            "Epoch 178/250\n",
            "140/140 [==============================] - 2s 11ms/step - loss: 0.0898 - accuracy: 0.9775\n",
            "Epoch 179/250\n",
            "140/140 [==============================] - 2s 11ms/step - loss: 0.0770 - accuracy: 0.9815\n",
            "Epoch 180/250\n",
            "140/140 [==============================] - 2s 12ms/step - loss: 0.0484 - accuracy: 0.9874\n",
            "Epoch 181/250\n",
            "140/140 [==============================] - 2s 12ms/step - loss: 0.0444 - accuracy: 0.9896\n",
            "Epoch 182/250\n",
            "140/140 [==============================] - 2s 11ms/step - loss: 0.0469 - accuracy: 0.9874\n",
            "Epoch 183/250\n",
            "140/140 [==============================] - 2s 11ms/step - loss: 0.0424 - accuracy: 0.9892\n",
            "Epoch 184/250\n",
            "140/140 [==============================] - 2s 11ms/step - loss: 0.0472 - accuracy: 0.9885\n",
            "Epoch 185/250\n",
            "140/140 [==============================] - 2s 11ms/step - loss: 0.0394 - accuracy: 0.9887\n",
            "Epoch 186/250\n",
            "140/140 [==============================] - 2s 11ms/step - loss: 0.0504 - accuracy: 0.9883\n",
            "Epoch 187/250\n",
            "140/140 [==============================] - 2s 11ms/step - loss: 0.0421 - accuracy: 0.9893\n",
            "Epoch 188/250\n",
            "140/140 [==============================] - 2s 11ms/step - loss: 0.0436 - accuracy: 0.9889\n",
            "Epoch 189/250\n",
            "140/140 [==============================] - 2s 11ms/step - loss: 0.0441 - accuracy: 0.9870\n",
            "Epoch 190/250\n",
            "140/140 [==============================] - 2s 11ms/step - loss: 0.0401 - accuracy: 0.9899\n",
            "Epoch 191/250\n",
            "140/140 [==============================] - 2s 11ms/step - loss: 0.1771 - accuracy: 0.9449\n",
            "Epoch 192/250\n",
            "140/140 [==============================] - 2s 11ms/step - loss: 0.0734 - accuracy: 0.9788\n",
            "Epoch 193/250\n",
            "140/140 [==============================] - 2s 11ms/step - loss: 0.0568 - accuracy: 0.9839\n",
            "Epoch 194/250\n",
            "140/140 [==============================] - 2s 11ms/step - loss: 0.0465 - accuracy: 0.9868\n",
            "Epoch 195/250\n",
            "140/140 [==============================] - 2s 12ms/step - loss: 0.0451 - accuracy: 0.9876\n",
            "Epoch 196/250\n",
            "140/140 [==============================] - 2s 11ms/step - loss: 0.0382 - accuracy: 0.9922\n",
            "Epoch 197/250\n",
            "140/140 [==============================] - 2s 11ms/step - loss: 0.0363 - accuracy: 0.9900\n",
            "Epoch 198/250\n",
            "140/140 [==============================] - 2s 11ms/step - loss: 0.0402 - accuracy: 0.9911\n",
            "Epoch 199/250\n",
            "140/140 [==============================] - 2s 11ms/step - loss: 0.0382 - accuracy: 0.9902\n",
            "Epoch 200/250\n",
            "140/140 [==============================] - 2s 11ms/step - loss: 0.0509 - accuracy: 0.9864\n",
            "Epoch 201/250\n",
            "140/140 [==============================] - 2s 11ms/step - loss: 0.0289 - accuracy: 0.9925\n",
            "Epoch 202/250\n",
            "140/140 [==============================] - 2s 11ms/step - loss: 0.0370 - accuracy: 0.9913\n",
            "Epoch 203/250\n",
            "140/140 [==============================] - 2s 11ms/step - loss: 0.0351 - accuracy: 0.9929\n",
            "Epoch 204/250\n",
            "140/140 [==============================] - 2s 11ms/step - loss: 0.0382 - accuracy: 0.9901\n",
            "Epoch 205/250\n",
            "140/140 [==============================] - 2s 11ms/step - loss: 0.0381 - accuracy: 0.9888\n",
            "Epoch 206/250\n",
            "140/140 [==============================] - 2s 11ms/step - loss: 0.0406 - accuracy: 0.9896\n",
            "Epoch 207/250\n",
            "140/140 [==============================] - 2s 11ms/step - loss: 0.0382 - accuracy: 0.9902\n",
            "Epoch 208/250\n",
            "140/140 [==============================] - 2s 11ms/step - loss: 0.0442 - accuracy: 0.9875\n",
            "Epoch 209/250\n",
            "140/140 [==============================] - 2s 11ms/step - loss: 0.0440 - accuracy: 0.9866\n",
            "Epoch 210/250\n",
            "140/140 [==============================] - 1s 11ms/step - loss: 0.0304 - accuracy: 0.9929\n",
            "Epoch 211/250\n",
            "140/140 [==============================] - 2s 11ms/step - loss: 0.0376 - accuracy: 0.9903\n",
            "Epoch 212/250\n",
            "140/140 [==============================] - 2s 11ms/step - loss: 0.0452 - accuracy: 0.9881\n",
            "Epoch 213/250\n",
            "140/140 [==============================] - 2s 11ms/step - loss: 0.0505 - accuracy: 0.9860\n",
            "Epoch 214/250\n",
            "140/140 [==============================] - 2s 11ms/step - loss: 0.0455 - accuracy: 0.9872\n",
            "Epoch 215/250\n",
            "140/140 [==============================] - 2s 11ms/step - loss: 0.0286 - accuracy: 0.9939\n",
            "Epoch 216/250\n",
            "140/140 [==============================] - 2s 11ms/step - loss: 0.0469 - accuracy: 0.9860\n",
            "Epoch 217/250\n",
            "140/140 [==============================] - 2s 11ms/step - loss: 0.0393 - accuracy: 0.9895\n",
            "Epoch 218/250\n",
            "140/140 [==============================] - 2s 11ms/step - loss: 0.0335 - accuracy: 0.9918\n",
            "Epoch 219/250\n",
            "140/140 [==============================] - 2s 11ms/step - loss: 0.0267 - accuracy: 0.9934\n",
            "Epoch 220/250\n",
            "140/140 [==============================] - 1s 11ms/step - loss: 0.0351 - accuracy: 0.9923\n",
            "Epoch 221/250\n",
            "140/140 [==============================] - 1s 11ms/step - loss: 0.0312 - accuracy: 0.9919\n",
            "Epoch 222/250\n",
            "140/140 [==============================] - 2s 11ms/step - loss: 0.0404 - accuracy: 0.9883\n",
            "Epoch 223/250\n",
            "140/140 [==============================] - 2s 11ms/step - loss: 0.0421 - accuracy: 0.9889\n",
            "Epoch 224/250\n",
            "140/140 [==============================] - 2s 11ms/step - loss: 0.0311 - accuracy: 0.9921\n",
            "Epoch 225/250\n",
            "140/140 [==============================] - 2s 11ms/step - loss: 0.0395 - accuracy: 0.9899\n",
            "Epoch 226/250\n",
            "140/140 [==============================] - 2s 11ms/step - loss: 0.0427 - accuracy: 0.9891\n",
            "Epoch 227/250\n",
            "140/140 [==============================] - 2s 11ms/step - loss: 0.0380 - accuracy: 0.9901\n",
            "Epoch 228/250\n",
            "140/140 [==============================] - 2s 11ms/step - loss: 0.0309 - accuracy: 0.9914\n",
            "Epoch 229/250\n",
            "140/140 [==============================] - 1s 11ms/step - loss: 0.0296 - accuracy: 0.9921\n",
            "Epoch 230/250\n",
            "140/140 [==============================] - 2s 11ms/step - loss: 0.0302 - accuracy: 0.9928\n",
            "Epoch 231/250\n",
            "140/140 [==============================] - 2s 11ms/step - loss: 0.0307 - accuracy: 0.9925\n",
            "Epoch 232/250\n",
            "140/140 [==============================] - 2s 11ms/step - loss: 0.0448 - accuracy: 0.9888\n",
            "Epoch 233/250\n",
            "140/140 [==============================] - 2s 11ms/step - loss: 0.0421 - accuracy: 0.9882\n",
            "Epoch 234/250\n",
            "140/140 [==============================] - 2s 11ms/step - loss: 0.0452 - accuracy: 0.9869\n",
            "Epoch 235/250\n",
            "140/140 [==============================] - 2s 11ms/step - loss: 0.0312 - accuracy: 0.9928\n",
            "Epoch 236/250\n",
            "140/140 [==============================] - 1s 11ms/step - loss: 0.0457 - accuracy: 0.9861\n",
            "Epoch 237/250\n",
            "140/140 [==============================] - 2s 11ms/step - loss: 0.0379 - accuracy: 0.9894\n",
            "Epoch 238/250\n",
            "140/140 [==============================] - 2s 11ms/step - loss: 0.0397 - accuracy: 0.9888\n",
            "Epoch 239/250\n",
            "140/140 [==============================] - 1s 11ms/step - loss: 0.0358 - accuracy: 0.9913\n",
            "Epoch 240/250\n",
            "140/140 [==============================] - 1s 11ms/step - loss: 0.0245 - accuracy: 0.9933\n",
            "Epoch 241/250\n",
            "140/140 [==============================] - 1s 11ms/step - loss: 0.0240 - accuracy: 0.9939\n",
            "Epoch 242/250\n",
            "140/140 [==============================] - 1s 11ms/step - loss: 0.0340 - accuracy: 0.9916\n",
            "Epoch 243/250\n",
            "140/140 [==============================] - 1s 11ms/step - loss: 0.0311 - accuracy: 0.9916\n",
            "Epoch 244/250\n",
            "140/140 [==============================] - 1s 10ms/step - loss: 0.0313 - accuracy: 0.9914\n",
            "Epoch 245/250\n",
            "140/140 [==============================] - 2s 11ms/step - loss: 0.0353 - accuracy: 0.9884\n",
            "Epoch 246/250\n",
            "140/140 [==============================] - 2s 12ms/step - loss: 0.0341 - accuracy: 0.9912\n",
            "Epoch 247/250\n",
            "140/140 [==============================] - 2s 11ms/step - loss: 0.0584 - accuracy: 0.9849\n",
            "Epoch 248/250\n",
            "140/140 [==============================] - 2s 11ms/step - loss: 0.0383 - accuracy: 0.9896\n",
            "Epoch 249/250\n",
            "140/140 [==============================] - 2s 12ms/step - loss: 0.0278 - accuracy: 0.9928\n",
            "Epoch 250/250\n",
            "140/140 [==============================] - 2s 11ms/step - loss: 0.0264 - accuracy: 0.9932\n"
          ],
          "name": "stdout"
        }
      ]
    },
    {
      "cell_type": "code",
      "metadata": {
        "colab": {
          "base_uri": "https://localhost:8080/"
        },
        "id": "A6BGjnzu-wtp",
        "outputId": "dd0dd542-0f29-44fd-db69-6445ae150560"
      },
      "source": [
        "history_dict = history.history\n",
        "print(history_dict.keys())\n",
        "# to keep for later \n",
        "%store history_dict"
      ],
      "execution_count": 31,
      "outputs": [
        {
          "output_type": "stream",
          "text": [
            "dict_keys(['loss', 'accuracy'])\n",
            "Stored 'history_dict' (dict)\n"
          ],
          "name": "stdout"
        }
      ]
    },
    {
      "cell_type": "code",
      "metadata": {
        "id": "qjHvIqe1-0zr"
      },
      "source": [
        "# imports \n",
        "import matplotlib.pyplot as plt \n",
        "import matplotlib.image as mpimg"
      ],
      "execution_count": 32,
      "outputs": []
    },
    {
      "cell_type": "code",
      "metadata": {
        "id": "M816JvwK-3GJ"
      },
      "source": [
        "# function to plot training given history dictionary \n",
        "def plot_training(history_dict):\n",
        "\t\"\"\"\n",
        "\tPlots the training accuracy and loss graphs for a Keras model (validation graphs not included). \n",
        "\tParameters:\n",
        "\t\t- history_dict: a dictionary of \"history\" object from Keras \n",
        "\t\"\"\"\n",
        "\t# plot training accuracy graph \n",
        "\tplt.plot(history_dict['accuracy'])\n",
        "\tplt.title('Training Accuracy')\n",
        "\tplt.ylabel('accuracy')\n",
        "\tplt.xlabel('epoch')\n",
        "\tplt.legend(['train'], loc='upper left')\n",
        "\tplt.show()\n",
        "\n",
        "\t# plot training loss graph \n",
        "\tplt.plot(history_dict['loss'])\n",
        "\tplt.title('Training Loss')\n",
        "\tplt.ylabel('loss')\n",
        "\tplt.xlabel('epoch')\n",
        "\tplt.legend(['train'], loc='upper left')\n",
        "\tplt.show()"
      ],
      "execution_count": 33,
      "outputs": []
    },
    {
      "cell_type": "code",
      "metadata": {
        "colab": {
          "base_uri": "https://localhost:8080/",
          "height": 573
        },
        "id": "wTeJt4ZD-4u_",
        "outputId": "14e3aeff-dfbf-4037-d219-81f4c3383a3b"
      },
      "source": [
        "plot_training(history_dict)"
      ],
      "execution_count": 34,
      "outputs": [
        {
          "output_type": "display_data",
          "data": {
            "image/png": "[encoded data removed]",
            "text/plain": [
              "<Figure size 432x288 with 1 Axes>"
            ]
          },
          "metadata": {
            "tags": [],
            "needs_background": "light"
          }
        },
        {
          "output_type": "display_data",
          "data": {
            "image/png": "[encoded data removed]",
            "text/plain": [
              "<Figure size 432x288 with 1 Axes>"
            ]
          },
          "metadata": {
            "tags": [],
            "needs_background": "light"
          }
        }
      ]
    },
    {
      "cell_type": "code",
      "metadata": {
        "colab": {
          "base_uri": "https://localhost:8080/"
        },
        "id": "sgx89I-e-88c",
        "outputId": "a385c744-92fe-487b-bf74-b250b5d55013"
      },
      "source": [
        "test_loss, test_accuracy = model.evaluate(test_samples,  test_labels, verbose=2)\n",
        "print('Test accuracy:', test_accuracy)"
      ],
      "execution_count": 35,
      "outputs": [
        {
          "output_type": "stream",
          "text": [
            "16/16 - 1s - loss: 0.0781 - accuracy: 0.9880\n",
            "Test accuracy: 0.9879518151283264\n"
          ],
          "name": "stdout"
        }
      ]
    },
    {
      "cell_type": "code",
      "metadata": {
        "colab": {
          "base_uri": "https://localhost:8080/"
        },
        "id": "t7yd5t-U-9Xf",
        "outputId": "be8ccdd2-b061-4e7d-cb0e-d4785b5963c1"
      },
      "source": [
        "predictions = model.predict_classes(test_samples) # generates a list of predictions"
      ],
      "execution_count": 36,
      "outputs": [
        {
          "output_type": "stream",
          "text": [
            "/usr/local/lib/python3.7/dist-packages/tensorflow/python/keras/engine/sequential.py:450: UserWarning: `model.predict_classes()` is deprecated and will be removed after 2021-01-01. Please use instead:* `np.argmax(model.predict(x), axis=-1)`,   if your model does multi-class classification   (e.g. if it uses a `softmax` last-layer activation).* `(model.predict(x) > 0.5).astype(\"int32\")`,   if your model does binary classification   (e.g. if it uses a `sigmoid` last-layer activation).\n",
            "  warnings.warn('`model.predict_classes()` is deprecated and '\n"
          ],
          "name": "stderr"
        }
      ]
    },
    {
      "cell_type": "code",
      "metadata": {
        "colab": {
          "base_uri": "https://localhost:8080/"
        },
        "id": "brlBgmRU--5Z",
        "outputId": "73b31b6e-729c-459b-f2a4-a08ab9b3c4df"
      },
      "source": [
        "print(\"Test labels: \\n\", test_labels)\n",
        "print(\"Test predictions: \\n\", predictions)"
      ],
      "execution_count": 37,
      "outputs": [
        {
          "output_type": "stream",
          "text": [
            "Test labels: \n",
            " [1 1 1 1 1 1 1 1 1 1 1 1 1 1 1 1 1 1 1 1 1 1 1 1 1 1 1 1 1 1 1 1 1 1 1 1 1\n",
            " 1 1 1 1 1 1 1 1 1 1 1 1 1 1 1 1 1 1 1 1 1 1 1 1 1 1 1 1 1 1 1 1 1 1 1 1 1\n",
            " 1 1 1 1 1 1 1 1 1 1 1 1 1 1 1 1 1 1 1 1 1 1 1 1 1 1 1 1 1 1 1 1 1 1 1 1 1\n",
            " 1 1 1 1 1 1 1 1 1 1 1 1 1 1 1 1 1 1 1 1 1 1 1 1 1 1 1 1 1 1 1 1 1 1 1 1 1\n",
            " 1 1 1 1 1 1 1 1 1 1 1 1 1 1 1 1 1 1 1 1 1 1 1 1 1 1 1 1 1 1 1 1 1 1 1 1 1\n",
            " 1 1 1 1 1 1 1 1 1 1 1 1 1 1 1 1 1 1 1 1 1 1 1 1 1 1 1 1 1 1 1 1 1 1 1 1 1\n",
            " 1 1 1 1 1 1 1 1 1 1 1 1 1 1 1 1 1 1 1 1 1 1 1 1 1 1 1 0 0 0 0 0 0 0 0 0 0\n",
            " 0 0 0 0 0 0 0 0 0 0 0 0 0 0 0 0 0 0 0 0 0 0 0 0 0 0 0 0 0 0 0 0 0 0 0 0 0\n",
            " 0 0 0 0 0 0 0 0 0 0 0 0 0 0 0 0 0 0 0 0 0 0 0 0 0 0 0 0 0 0 0 0 0 0 0 0 0\n",
            " 0 0 0 0 0 0 0 0 0 0 0 0 0 0 0 0 0 0 0 0 0 0 0 0 0 0 0 0 0 0 0 0 0 0 0 0 0\n",
            " 0 0 0 0 0 0 0 0 0 0 0 0 0 0 0 0 0 0 0 0 0 0 0 0 0 0 0 0 0 0 0 0 0 0 0 0 0\n",
            " 0 0 0 0 0 0 0 0 0 0 0 0 0 0 0 0 0 0 0 0 0 0 0 0 0 0 0 0 0 0 0 0 0 0 0 0 0\n",
            " 0 0 0 0 0 0 0 0 0 0 0 0 0 0 0 0 0 0 0 0 0 0 0 0 0 0 0 0 0 0 0 0 0 0 0 0 0\n",
            " 0 0 0 0 0 0 0 0 0 0 0 0 0 0 0 0 0]\n",
            "Test predictions: \n",
            " [1 1 1 1 1 1 1 1 1 1 1 1 1 1 1 1 1 1 1 1 1 1 1 1 1 1 1 1 1 1 1 1 1 1 1 1 1\n",
            " 1 1 1 1 1 1 1 1 1 1 1 1 1 1 1 1 1 1 1 1 1 1 1 1 1 1 1 1 1 1 1 1 1 1 1 1 1\n",
            " 1 1 1 1 1 1 1 1 1 1 1 1 1 1 1 1 0 1 1 1 1 1 1 1 1 1 1 1 1 1 1 1 1 1 1 1 1\n",
            " 1 1 1 1 1 1 1 1 1 1 1 1 1 1 1 1 1 1 1 1 1 1 1 1 1 1 1 1 1 1 1 1 1 1 1 1 1\n",
            " 0 1 1 1 1 1 1 1 1 1 1 1 1 1 1 1 1 0 1 1 1 1 1 1 1 1 1 1 1 1 1 1 1 1 1 1 1\n",
            " 1 1 1 1 1 1 1 1 1 1 1 1 1 1 1 1 1 1 1 1 1 1 1 1 1 1 1 1 1 1 1 1 1 1 1 1 1\n",
            " 1 1 1 1 1 1 1 1 1 1 1 1 1 1 1 1 1 1 1 1 1 1 1 1 1 1 1 0 0 0 0 0 0 0 0 0 0\n",
            " 0 0 0 0 0 0 0 0 0 0 0 0 0 0 0 0 0 0 0 0 0 0 0 0 0 0 0 0 0 0 0 0 0 0 0 0 0\n",
            " 0 0 0 0 0 0 0 0 0 0 0 0 0 0 0 0 0 0 0 0 0 0 0 0 0 0 0 0 0 0 0 0 0 0 0 0 0\n",
            " 0 0 0 0 0 0 0 0 0 0 0 0 0 0 0 0 0 0 0 0 0 0 0 0 0 0 0 0 0 0 0 0 0 0 0 0 0\n",
            " 0 0 0 0 0 0 0 0 0 0 0 0 0 0 0 0 0 0 0 0 0 0 0 0 0 0 0 0 0 0 0 0 0 0 0 0 0\n",
            " 0 0 0 0 1 0 0 0 0 0 0 0 0 0 1 0 0 0 0 0 0 0 0 0 0 0 0 0 0 0 0 0 0 0 0 0 0\n",
            " 0 0 0 0 0 0 0 0 0 0 0 0 0 0 0 0 0 0 0 0 0 0 0 0 0 0 0 0 0 0 0 0 0 0 0 0 0\n",
            " 0 0 0 0 0 0 0 0 0 0 0 0 0 0 0 0 1]\n"
          ],
          "name": "stdout"
        }
      ]
    },
    {
      "cell_type": "code",
      "metadata": {
        "id": "_-1hBrbZ_BXu"
      },
      "source": [
        "correct = 0\n",
        "for i in range(len(predictions)):\n",
        "  if predictions[i] == test_labels[i]:\n",
        "    correct += 1"
      ],
      "execution_count": 38,
      "outputs": []
    },
    {
      "cell_type": "code",
      "metadata": {
        "colab": {
          "base_uri": "https://localhost:8080/"
        },
        "id": "H-1Qo1cg_Fmw",
        "outputId": "05263aa8-5653-4381-b52f-994c9f2c029e"
      },
      "source": [
        "predictions_accuracy = correct/len(test_labels)\n",
        "predictions_accuracy"
      ],
      "execution_count": 39,
      "outputs": [
        {
          "output_type": "execute_result",
          "data": {
            "text/plain": [
              "0.9879518072289156"
            ]
          },
          "metadata": {
            "tags": []
          },
          "execution_count": 39
        }
      ]
    },
    {
      "cell_type": "code",
      "metadata": {
        "colab": {
          "base_uri": "https://localhost:8080/"
        },
        "id": "UgWb9OpT_IAO",
        "outputId": "4c7e9623-3303-43e7-d95d-2b7aac69e2b0"
      },
      "source": [
        "print(\"The accuracy is: \" + str(round(predictions_accuracy * 100, 1)) + \"%\")"
      ],
      "execution_count": 40,
      "outputs": [
        {
          "output_type": "stream",
          "text": [
            "The accuracy is: 98.8%\n"
          ],
          "name": "stdout"
        }
      ]
    },
    {
      "cell_type": "code",
      "metadata": {
        "colab": {
          "base_uri": "https://localhost:8080/"
        },
        "id": "ZO9-r5vWMdLR",
        "outputId": "06aaa79d-58da-4396-8293-6ac81664269e"
      },
      "source": [
        "c = 0\n",
        "for elem in test_labels:\n",
        "  if elem == 1:\n",
        "    c += 1\n",
        "print(c)"
      ],
      "execution_count": 42,
      "outputs": [
        {
          "output_type": "stream",
          "text": [
            "249\n"
          ],
          "name": "stdout"
        }
      ]
    },
    {
      "cell_type": "markdown",
      "metadata": {
        "id": "7Af0AohIK7HM"
      },
      "source": [
        "Now on the speech samples: "
      ]
    },
    {
      "cell_type": "code",
      "metadata": {
        "id": "tGn8qYWV_KOY"
      },
      "source": [
        "speech_correct = 0\n",
        "for i in range(len(test_labels[:249])):\n",
        "    if predictions[i] == test_labels[i]:\n",
        "      speech_correct += 1"
      ],
      "execution_count": 43,
      "outputs": []
    },
    {
      "cell_type": "code",
      "metadata": {
        "colab": {
          "base_uri": "https://localhost:8080/"
        },
        "id": "-Ab7lBOm_NXD",
        "outputId": "3d747928-b1e4-48f6-e1da-3a1e7a7c4658"
      },
      "source": [
        "speech_correct/len(test_labels[:249])"
      ],
      "execution_count": 44,
      "outputs": [
        {
          "output_type": "execute_result",
          "data": {
            "text/plain": [
              "0.9879518072289156"
            ]
          },
          "metadata": {
            "tags": []
          },
          "execution_count": 44
        }
      ]
    },
    {
      "cell_type": "markdown",
      "metadata": {
        "id": "OfEYvOZtM3NK"
      },
      "source": [
        "Wow! 98.7% on the speech samples! "
      ]
    },
    {
      "cell_type": "code",
      "metadata": {
        "id": "wED00VHTNDx3"
      },
      "source": [
        "no_speech_correct = 0\n",
        "for i in range(len(test_labels[249:])):\n",
        "    if predictions[i] == test_labels[i]:\n",
        "      no_speech_correct += 1"
      ],
      "execution_count": 45,
      "outputs": []
    },
    {
      "cell_type": "code",
      "metadata": {
        "colab": {
          "base_uri": "https://localhost:8080/"
        },
        "id": "Y50VI_0pNJKT",
        "outputId": "c9451953-d961-4e8b-f762-6b44b3a0486e"
      },
      "source": [
        "print(no_speech_correct/249)"
      ],
      "execution_count": 46,
      "outputs": [
        {
          "output_type": "stream",
          "text": [
            "0.9879518072289156\n"
          ],
          "name": "stdout"
        }
      ]
    },
    {
      "cell_type": "markdown",
      "metadata": {
        "id": "z2exh8oLNMcm"
      },
      "source": [
        "Same with no speech samples. Looking above, only three wrong for both categories and six wrong total. "
      ]
    },
    {
      "cell_type": "markdown",
      "metadata": {
        "id": "nRgjX9_LM9WX"
      },
      "source": [
        "### Confusion matrix and classification report"
      ]
    },
    {
      "cell_type": "code",
      "metadata": {
        "id": "IScycLKDNBR7"
      },
      "source": [
        "import numpy as np\n",
        "import itertools\n",
        "from sklearn.metrics import confusion_matrix"
      ],
      "execution_count": 47,
      "outputs": []
    },
    {
      "cell_type": "code",
      "metadata": {
        "id": "nouK1rWUNb5W"
      },
      "source": [
        "cm = confusion_matrix(test_labels, predictions)"
      ],
      "execution_count": 48,
      "outputs": []
    },
    {
      "cell_type": "code",
      "metadata": {
        "id": "TSOeK4p4NdX2"
      },
      "source": [
        "def plot_cm(cm, classes, normalize=False, title='Confusion Matrix', cmap=plt.cm.Blues):\n",
        "  plt.imshow(cm, interpolation='nearest', cmap=cmap)\n",
        "  plt.title(title)\n",
        "  plt.colorbar()\n",
        "  tick_marks = np.arange(len(classes))\n",
        "  plt.xticks(tick_marks, classes, rotation=45)\n",
        "  plt.yticks(tick_marks, classes)\n",
        "\n",
        "  if normalize:\n",
        "    cm = cm.astypea('float') / cm.sum(axis=1)[:, np.newaxis]\n",
        "    print('Normalized confusion matrix')\n",
        "  else:\n",
        "    print('Confusion matrix without normalization')\n",
        "\n",
        "  print(cm)\n",
        "\n",
        "  thresh = cm.max()/2.\n",
        "  for i, j in itertools.product(range(cm.shape[0]), range(cm.shape[1])):\n",
        "      plt.text(j, i, cm[i, j],\n",
        "               horizontalalignment=\"center\",\n",
        "               color=\"white\" if cm[i, j] > thresh else \"black\")\n",
        "  \n",
        "  plt.tight_layout()\n",
        "  plt.ylabel('True label')\n",
        "  plt.xlabel('Predicted label')"
      ],
      "execution_count": 49,
      "outputs": []
    },
    {
      "cell_type": "code",
      "metadata": {
        "colab": {
          "base_uri": "https://localhost:8080/",
          "height": 362
        },
        "id": "jm9eZ_gMNe6y",
        "outputId": "358a785e-ae02-4df6-9a58-8982cfde4d5b"
      },
      "source": [
        "plot_cm(cm, ['no speech','speech'], title='Test Samples Confusion Matrix')"
      ],
      "execution_count": 50,
      "outputs": [
        {
          "output_type": "stream",
          "text": [
            "Confusion matrix without normalization\n",
            "[[246   3]\n",
            " [  3 246]]\n"
          ],
          "name": "stdout"
        },
        {
          "output_type": "display_data",
          "data": {
            "image/png": "[encoded data removed]",
            "text/plain": [
              "<Figure size 432x288 with 2 Axes>"
            ]
          },
          "metadata": {
            "tags": [],
            "needs_background": "light"
          }
        }
      ]
    },
    {
      "cell_type": "code",
      "metadata": {
        "colab": {
          "base_uri": "https://localhost:8080/"
        },
        "id": "pU1gOl1bNgim",
        "outputId": "9421bbe4-d96b-4fa7-9061-0110a9c3bd3c"
      },
      "source": [
        "from sklearn.metrics import classification_report\n",
        "print(classification_report(test_labels, predictions, target_names=['no speech','speech']))"
      ],
      "execution_count": 51,
      "outputs": [
        {
          "output_type": "stream",
          "text": [
            "              precision    recall  f1-score   support\n",
            "\n",
            "   no speech       0.99      0.99      0.99       249\n",
            "      speech       0.99      0.99      0.99       249\n",
            "\n",
            "    accuracy                           0.99       498\n",
            "   macro avg       0.99      0.99      0.99       498\n",
            "weighted avg       0.99      0.99      0.99       498\n",
            "\n"
          ],
          "name": "stdout"
        }
      ]
    }
  ]
}