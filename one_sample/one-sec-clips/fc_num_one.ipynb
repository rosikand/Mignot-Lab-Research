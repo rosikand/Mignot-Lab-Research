{
  "nbformat": 4,
  "nbformat_minor": 0,
  "metadata": {
    "colab": {
      "name": "fc_num_one.ipynb",
      "provenance": []
    },
    "kernelspec": {
      "name": "python3",
      "display_name": "Python 3"
    },
    "accelerator": "GPU"
  },
  "cells": [
    {
      "cell_type": "code",
      "metadata": {
        "colab": {
          "base_uri": "https://localhost:8080/"
        },
        "id": "p2wqOi1f-OGu",
        "outputId": "47c35b27-81ec-4fa7-82f7-77a2350f7d31"
      },
      "source": [
        "from google.colab import drive\n",
        "drive.mount('/content/drive')"
      ],
      "execution_count": 2,
      "outputs": [
        {
          "output_type": "stream",
          "text": [
            "Drive already mounted at /content/drive; to attempt to forcibly remount, call drive.mount(\"/content/drive\", force_remount=True).\n"
          ],
          "name": "stdout"
        }
      ]
    },
    {
      "cell_type": "code",
      "metadata": {
        "id": "KkFvuXHV-VAF"
      },
      "source": [
        "import pickle\n",
        "\n",
        "# load in labels and samples for the training subset\n",
        "training_samples_file = open('/content/drive/MyDrive/Mignot Lab Research/Experiments/one_sample/one-second-splits/train_samples.pkl', 'rb')\n",
        "training_labels_file = open('/content/drive/MyDrive/Mignot Lab Research/Experiments/one_sample/one-second-splits/train_labels.pkl', 'rb')\n",
        "\n",
        "# load in labels and samples for the test subset\n",
        "test_samples_file = open('/content/drive/MyDrive/Mignot Lab Research/Experiments/one_sample/one-second-splits/test_samples.pkl', 'rb')\n",
        "test_labels_file = open('/content/drive/MyDrive/Mignot Lab Research/Experiments/one_sample/one-second-splits/test_labels_real.pkl', 'rb')\n"
      ],
      "execution_count": 3,
      "outputs": []
    },
    {
      "cell_type": "code",
      "metadata": {
        "id": "kF4LjhYE-jN2"
      },
      "source": [
        "# training\n",
        "X = pickle.load(training_samples_file)\n",
        "y = pickle.load(training_labels_file)\n",
        "\n",
        "# test\n",
        "test_samples = pickle.load(test_samples_file)\n",
        "test_labels = pickle.load(test_labels_file)"
      ],
      "execution_count": 4,
      "outputs": []
    },
    {
      "cell_type": "code",
      "metadata": {
        "colab": {
          "base_uri": "https://localhost:8080/"
        },
        "id": "n15U_4vbJ9Pl",
        "outputId": "36f3f1b2-aaad-4779-f3d6-1e0e8ec49405"
      },
      "source": [
        "# confirm that these are correct \n",
        "len(test_samples) + len(X)"
      ],
      "execution_count": 5,
      "outputs": [
        {
          "output_type": "execute_result",
          "data": {
            "text/plain": [
              "4974"
            ]
          },
          "metadata": {
            "tags": []
          },
          "execution_count": 5
        }
      ]
    },
    {
      "cell_type": "markdown",
      "metadata": {
        "id": "3ITmGJ1q_6D0"
      },
      "source": [
        "### Model "
      ]
    },
    {
      "cell_type": "code",
      "metadata": {
        "colab": {
          "base_uri": "https://localhost:8080/"
        },
        "id": "zvgP2UpJKr0u",
        "outputId": "f68ee8bb-ae9b-40dc-8a14-827717658b44"
      },
      "source": [
        "X[0].shape"
      ],
      "execution_count": 6,
      "outputs": [
        {
          "output_type": "execute_result",
          "data": {
            "text/plain": [
              "(128, 44)"
            ]
          },
          "metadata": {
            "tags": []
          },
          "execution_count": 6
        }
      ]
    },
    {
      "cell_type": "code",
      "metadata": {
        "id": "fJZ4WyVd-lLk"
      },
      "source": [
        "import tensorflow as tf\n",
        "import keras\n",
        "\n",
        "model = tf.keras.Sequential([\n",
        "    tf.keras.layers.Flatten(input_shape=(128, 44)),\n",
        "    tf.keras.layers.Dense(128, activation='relu'),\n",
        "    tf.keras.layers.Dense(2, activation='softmax')\n",
        "])"
      ],
      "execution_count": 7,
      "outputs": []
    },
    {
      "cell_type": "code",
      "metadata": {
        "colab": {
          "base_uri": "https://localhost:8080/"
        },
        "id": "YcBzGRgEAGJ1",
        "outputId": "e4e84471-7993-41d7-be17-5dc044cae993"
      },
      "source": [
        "model.summary()"
      ],
      "execution_count": 8,
      "outputs": [
        {
          "output_type": "stream",
          "text": [
            "Model: \"sequential\"\n",
            "_________________________________________________________________\n",
            "Layer (type)                 Output Shape              Param #   \n",
            "=================================================================\n",
            "flatten (Flatten)            (None, 5632)              0         \n",
            "_________________________________________________________________\n",
            "dense (Dense)                (None, 128)               721024    \n",
            "_________________________________________________________________\n",
            "dense_1 (Dense)              (None, 2)                 258       \n",
            "=================================================================\n",
            "Total params: 721,282\n",
            "Trainable params: 721,282\n",
            "Non-trainable params: 0\n",
            "_________________________________________________________________\n"
          ],
          "name": "stdout"
        }
      ]
    },
    {
      "cell_type": "code",
      "metadata": {
        "id": "BZfbTudz-r3S"
      },
      "source": [
        "model.compile(optimizer='adam',\n",
        "              loss=tf.keras.losses.SparseCategoricalCrossentropy(from_logits=True),\n",
        "              metrics=['accuracy'])"
      ],
      "execution_count": 9,
      "outputs": []
    },
    {
      "cell_type": "markdown",
      "metadata": {
        "id": "XJqE3LzrNwLU"
      },
      "source": [
        "Let's try training again and for more epochs: "
      ]
    },
    {
      "cell_type": "code",
      "metadata": {
        "colab": {
          "base_uri": "https://localhost:8080/"
        },
        "id": "8PnBRuEK-u3-",
        "outputId": "6a562fd9-4433-4d23-e663-17a2a033d0d0"
      },
      "source": [
        "history = model.fit(X, y, epochs=250)"
      ],
      "execution_count": 10,
      "outputs": [
        {
          "output_type": "stream",
          "text": [
            "Epoch 1/250\n",
            "140/140 [==============================] - 2s 3ms/step - loss: 0.5463 - accuracy: 0.7736\n",
            "Epoch 2/250\n",
            "140/140 [==============================] - 0s 2ms/step - loss: 0.3075 - accuracy: 0.9318\n",
            "Epoch 3/250\n",
            "140/140 [==============================] - 0s 2ms/step - loss: 0.2146 - accuracy: 0.9360\n",
            "Epoch 4/250\n",
            "140/140 [==============================] - 0s 3ms/step - loss: 0.1678 - accuracy: 0.9476\n",
            "Epoch 5/250\n",
            "140/140 [==============================] - 0s 3ms/step - loss: 0.1438 - accuracy: 0.9565\n",
            "Epoch 6/250\n",
            "140/140 [==============================] - 0s 2ms/step - loss: 0.1276 - accuracy: 0.9578\n",
            "Epoch 7/250\n",
            "140/140 [==============================] - 0s 2ms/step - loss: 0.1216 - accuracy: 0.9620\n",
            "Epoch 8/250\n",
            "140/140 [==============================] - 0s 2ms/step - loss: 0.1090 - accuracy: 0.9618\n",
            "Epoch 9/250\n",
            "140/140 [==============================] - 0s 2ms/step - loss: 0.1012 - accuracy: 0.9619\n",
            "Epoch 10/250\n",
            "140/140 [==============================] - 0s 3ms/step - loss: 0.0871 - accuracy: 0.9684\n",
            "Epoch 11/250\n",
            "140/140 [==============================] - 0s 2ms/step - loss: 0.0845 - accuracy: 0.9712\n",
            "Epoch 12/250\n",
            "140/140 [==============================] - 0s 2ms/step - loss: 0.0825 - accuracy: 0.9711\n",
            "Epoch 13/250\n",
            "140/140 [==============================] - 0s 2ms/step - loss: 0.0732 - accuracy: 0.9769\n",
            "Epoch 14/250\n",
            "140/140 [==============================] - 0s 2ms/step - loss: 0.0735 - accuracy: 0.9809\n",
            "Epoch 15/250\n",
            "140/140 [==============================] - 0s 2ms/step - loss: 0.0578 - accuracy: 0.9873\n",
            "Epoch 16/250\n",
            "140/140 [==============================] - 0s 2ms/step - loss: 0.0654 - accuracy: 0.9867\n",
            "Epoch 17/250\n",
            "140/140 [==============================] - 0s 2ms/step - loss: 0.0536 - accuracy: 0.9872\n",
            "Epoch 18/250\n",
            "140/140 [==============================] - 0s 2ms/step - loss: 0.0533 - accuracy: 0.9893\n",
            "Epoch 19/250\n",
            "140/140 [==============================] - 0s 2ms/step - loss: 0.0827 - accuracy: 0.9879\n",
            "Epoch 20/250\n",
            "140/140 [==============================] - 0s 2ms/step - loss: 0.0624 - accuracy: 0.9889\n",
            "Epoch 21/250\n",
            "140/140 [==============================] - 0s 2ms/step - loss: 0.0515 - accuracy: 0.9889\n",
            "Epoch 22/250\n",
            "140/140 [==============================] - 0s 2ms/step - loss: 0.0466 - accuracy: 0.9897\n",
            "Epoch 23/250\n",
            "140/140 [==============================] - 0s 2ms/step - loss: 0.0466 - accuracy: 0.9916\n",
            "Epoch 24/250\n",
            "140/140 [==============================] - 0s 3ms/step - loss: 0.0589 - accuracy: 0.9868\n",
            "Epoch 25/250\n",
            "140/140 [==============================] - 0s 2ms/step - loss: 0.0360 - accuracy: 0.9933\n",
            "Epoch 26/250\n",
            "140/140 [==============================] - 0s 2ms/step - loss: 0.0466 - accuracy: 0.9904\n",
            "Epoch 27/250\n",
            "140/140 [==============================] - 0s 2ms/step - loss: 0.0399 - accuracy: 0.9912\n",
            "Epoch 28/250\n",
            "140/140 [==============================] - 0s 2ms/step - loss: 0.0420 - accuracy: 0.9911\n",
            "Epoch 29/250\n",
            "140/140 [==============================] - 0s 2ms/step - loss: 0.0366 - accuracy: 0.9927\n",
            "Epoch 30/250\n",
            "140/140 [==============================] - 0s 2ms/step - loss: 0.0456 - accuracy: 0.9908\n",
            "Epoch 31/250\n",
            "140/140 [==============================] - 0s 2ms/step - loss: 0.0429 - accuracy: 0.9898\n",
            "Epoch 32/250\n",
            "140/140 [==============================] - 0s 2ms/step - loss: 0.0434 - accuracy: 0.9905\n",
            "Epoch 33/250\n",
            "140/140 [==============================] - 0s 2ms/step - loss: 0.0360 - accuracy: 0.9919\n",
            "Epoch 34/250\n",
            "140/140 [==============================] - 0s 2ms/step - loss: 0.0400 - accuracy: 0.9920\n",
            "Epoch 35/250\n",
            "140/140 [==============================] - 0s 2ms/step - loss: 0.0400 - accuracy: 0.9908\n",
            "Epoch 36/250\n",
            "140/140 [==============================] - 0s 2ms/step - loss: 0.0361 - accuracy: 0.9926\n",
            "Epoch 37/250\n",
            "140/140 [==============================] - 0s 2ms/step - loss: 0.0408 - accuracy: 0.9916\n",
            "Epoch 38/250\n",
            "140/140 [==============================] - 0s 2ms/step - loss: 0.0430 - accuracy: 0.9902\n",
            "Epoch 39/250\n",
            "140/140 [==============================] - 0s 2ms/step - loss: 0.0342 - accuracy: 0.9929\n",
            "Epoch 40/250\n",
            "140/140 [==============================] - 0s 2ms/step - loss: 0.0377 - accuracy: 0.9903\n",
            "Epoch 41/250\n",
            "140/140 [==============================] - 0s 2ms/step - loss: 0.0317 - accuracy: 0.9937\n",
            "Epoch 42/250\n",
            "140/140 [==============================] - 0s 2ms/step - loss: 0.0386 - accuracy: 0.9913\n",
            "Epoch 43/250\n",
            "140/140 [==============================] - 0s 2ms/step - loss: 0.0324 - accuracy: 0.9920\n",
            "Epoch 44/250\n",
            "140/140 [==============================] - 0s 2ms/step - loss: 0.0293 - accuracy: 0.9942\n",
            "Epoch 45/250\n",
            "140/140 [==============================] - 0s 2ms/step - loss: 0.0349 - accuracy: 0.9924\n",
            "Epoch 46/250\n",
            "140/140 [==============================] - 0s 2ms/step - loss: 0.0283 - accuracy: 0.9936\n",
            "Epoch 47/250\n",
            "140/140 [==============================] - 0s 2ms/step - loss: 0.0477 - accuracy: 0.9914\n",
            "Epoch 48/250\n",
            "140/140 [==============================] - 0s 3ms/step - loss: 0.0344 - accuracy: 0.9909\n",
            "Epoch 49/250\n",
            "140/140 [==============================] - 0s 2ms/step - loss: 0.0680 - accuracy: 0.9907\n",
            "Epoch 50/250\n",
            "140/140 [==============================] - 0s 2ms/step - loss: 0.0298 - accuracy: 0.9928\n",
            "Epoch 51/250\n",
            "140/140 [==============================] - 0s 2ms/step - loss: 0.0216 - accuracy: 0.9954\n",
            "Epoch 52/250\n",
            "140/140 [==============================] - 0s 2ms/step - loss: 0.0294 - accuracy: 0.9937\n",
            "Epoch 53/250\n",
            "140/140 [==============================] - 0s 2ms/step - loss: 0.0210 - accuracy: 0.9955\n",
            "Epoch 54/250\n",
            "140/140 [==============================] - 0s 2ms/step - loss: 0.0189 - accuracy: 0.9958\n",
            "Epoch 55/250\n",
            "140/140 [==============================] - 0s 2ms/step - loss: 0.0262 - accuracy: 0.9938\n",
            "Epoch 56/250\n",
            "140/140 [==============================] - 0s 2ms/step - loss: 0.0277 - accuracy: 0.9934\n",
            "Epoch 57/250\n",
            "140/140 [==============================] - 0s 2ms/step - loss: 0.0216 - accuracy: 0.9958\n",
            "Epoch 58/250\n",
            "140/140 [==============================] - 0s 2ms/step - loss: 0.0263 - accuracy: 0.9941\n",
            "Epoch 59/250\n",
            "140/140 [==============================] - 0s 2ms/step - loss: 0.0180 - accuracy: 0.9959\n",
            "Epoch 60/250\n",
            "140/140 [==============================] - 0s 2ms/step - loss: 0.0246 - accuracy: 0.9943\n",
            "Epoch 61/250\n",
            "140/140 [==============================] - 0s 2ms/step - loss: 0.0218 - accuracy: 0.9943\n",
            "Epoch 62/250\n",
            "140/140 [==============================] - 0s 2ms/step - loss: 0.0212 - accuracy: 0.9942\n",
            "Epoch 63/250\n",
            "140/140 [==============================] - 0s 2ms/step - loss: 0.0232 - accuracy: 0.9940\n",
            "Epoch 64/250\n",
            "140/140 [==============================] - 0s 2ms/step - loss: 0.0244 - accuracy: 0.9937\n",
            "Epoch 65/250\n",
            "140/140 [==============================] - 0s 2ms/step - loss: 0.0153 - accuracy: 0.9967\n",
            "Epoch 66/250\n",
            "140/140 [==============================] - 0s 2ms/step - loss: 0.0166 - accuracy: 0.9958\n",
            "Epoch 67/250\n",
            "140/140 [==============================] - 0s 2ms/step - loss: 0.0166 - accuracy: 0.9954\n",
            "Epoch 68/250\n",
            "140/140 [==============================] - 0s 2ms/step - loss: 0.0201 - accuracy: 0.9949\n",
            "Epoch 69/250\n",
            "140/140 [==============================] - 0s 2ms/step - loss: 0.0173 - accuracy: 0.9951\n",
            "Epoch 70/250\n",
            "140/140 [==============================] - 0s 2ms/step - loss: 0.0159 - accuracy: 0.9956\n",
            "Epoch 71/250\n",
            "140/140 [==============================] - 0s 2ms/step - loss: 0.0201 - accuracy: 0.9934\n",
            "Epoch 72/250\n",
            "140/140 [==============================] - 0s 3ms/step - loss: 0.0139 - accuracy: 0.9955\n",
            "Epoch 73/250\n",
            "140/140 [==============================] - 0s 2ms/step - loss: 0.0148 - accuracy: 0.9950\n",
            "Epoch 74/250\n",
            "140/140 [==============================] - 0s 2ms/step - loss: 0.0116 - accuracy: 0.9969\n",
            "Epoch 75/250\n",
            "140/140 [==============================] - 0s 2ms/step - loss: 0.0125 - accuracy: 0.9960\n",
            "Epoch 76/250\n",
            "140/140 [==============================] - 0s 2ms/step - loss: 0.0149 - accuracy: 0.9948\n",
            "Epoch 77/250\n",
            "140/140 [==============================] - 0s 2ms/step - loss: 0.0161 - accuracy: 0.9936\n",
            "Epoch 78/250\n",
            "140/140 [==============================] - 0s 2ms/step - loss: 0.0127 - accuracy: 0.9956\n",
            "Epoch 79/250\n",
            "140/140 [==============================] - 0s 2ms/step - loss: 0.0126 - accuracy: 0.9957\n",
            "Epoch 80/250\n",
            "140/140 [==============================] - 0s 2ms/step - loss: 0.0097 - accuracy: 0.9968\n",
            "Epoch 81/250\n",
            "140/140 [==============================] - 0s 2ms/step - loss: 0.0106 - accuracy: 0.9972\n",
            "Epoch 82/250\n",
            "140/140 [==============================] - 0s 2ms/step - loss: 0.0108 - accuracy: 0.9956\n",
            "Epoch 83/250\n",
            "140/140 [==============================] - 0s 2ms/step - loss: 0.0111 - accuracy: 0.9962\n",
            "Epoch 84/250\n",
            "140/140 [==============================] - 0s 2ms/step - loss: 0.1364 - accuracy: 0.9947\n",
            "Epoch 85/250\n",
            "140/140 [==============================] - 0s 2ms/step - loss: 2.2534 - accuracy: 0.9929\n",
            "Epoch 86/250\n",
            "140/140 [==============================] - 0s 2ms/step - loss: 0.0104 - accuracy: 0.9967\n",
            "Epoch 87/250\n",
            "140/140 [==============================] - 0s 2ms/step - loss: 0.0092 - accuracy: 0.9973\n",
            "Epoch 88/250\n",
            "140/140 [==============================] - 0s 2ms/step - loss: 0.0082 - accuracy: 0.9977\n",
            "Epoch 89/250\n",
            "140/140 [==============================] - 0s 2ms/step - loss: 0.0095 - accuracy: 0.9977\n",
            "Epoch 90/250\n",
            "140/140 [==============================] - 0s 2ms/step - loss: 0.0100 - accuracy: 0.9966\n",
            "Epoch 91/250\n",
            "140/140 [==============================] - 0s 2ms/step - loss: 0.0084 - accuracy: 0.9974\n",
            "Epoch 92/250\n",
            "140/140 [==============================] - 0s 2ms/step - loss: 0.0057 - accuracy: 0.9987\n",
            "Epoch 93/250\n",
            "140/140 [==============================] - 0s 2ms/step - loss: 0.0065 - accuracy: 0.9986\n",
            "Epoch 94/250\n",
            "140/140 [==============================] - 0s 2ms/step - loss: 0.0072 - accuracy: 0.9981\n",
            "Epoch 95/250\n",
            "140/140 [==============================] - 0s 2ms/step - loss: 0.0078 - accuracy: 0.9985\n",
            "Epoch 96/250\n",
            "140/140 [==============================] - 0s 3ms/step - loss: 0.0075 - accuracy: 0.9978\n",
            "Epoch 97/250\n",
            "140/140 [==============================] - 0s 2ms/step - loss: 0.0057 - accuracy: 0.9988\n",
            "Epoch 98/250\n",
            "140/140 [==============================] - 0s 2ms/step - loss: 0.0070 - accuracy: 0.9987\n",
            "Epoch 99/250\n",
            "140/140 [==============================] - 0s 2ms/step - loss: 0.0059 - accuracy: 0.9990\n",
            "Epoch 100/250\n",
            "140/140 [==============================] - 0s 2ms/step - loss: 0.0052 - accuracy: 0.9995\n",
            "Epoch 101/250\n",
            "140/140 [==============================] - 0s 2ms/step - loss: 0.0053 - accuracy: 0.9986\n",
            "Epoch 102/250\n",
            "140/140 [==============================] - 0s 2ms/step - loss: 0.0052 - accuracy: 0.9985\n",
            "Epoch 103/250\n",
            "140/140 [==============================] - 0s 2ms/step - loss: 0.0063 - accuracy: 0.9991\n",
            "Epoch 104/250\n",
            "140/140 [==============================] - 0s 2ms/step - loss: 0.0057 - accuracy: 0.9980\n",
            "Epoch 105/250\n",
            "140/140 [==============================] - 0s 2ms/step - loss: 0.0056 - accuracy: 0.9975\n",
            "Epoch 106/250\n",
            "140/140 [==============================] - 0s 2ms/step - loss: 0.0055 - accuracy: 0.9987\n",
            "Epoch 107/250\n",
            "140/140 [==============================] - 0s 2ms/step - loss: 0.0045 - accuracy: 0.9990\n",
            "Epoch 108/250\n",
            "140/140 [==============================] - 0s 2ms/step - loss: 0.0043 - accuracy: 0.9993\n",
            "Epoch 109/250\n",
            "140/140 [==============================] - 0s 2ms/step - loss: 0.0045 - accuracy: 0.9992\n",
            "Epoch 110/250\n",
            "140/140 [==============================] - 0s 2ms/step - loss: 0.0041 - accuracy: 0.9994\n",
            "Epoch 111/250\n",
            "140/140 [==============================] - 0s 2ms/step - loss: 0.0035 - accuracy: 0.9993\n",
            "Epoch 112/250\n",
            "140/140 [==============================] - 0s 2ms/step - loss: 0.0040 - accuracy: 0.9987\n",
            "Epoch 113/250\n",
            "140/140 [==============================] - 0s 2ms/step - loss: 0.0028 - accuracy: 1.0000\n",
            "Epoch 114/250\n",
            "140/140 [==============================] - 0s 2ms/step - loss: 0.0040 - accuracy: 0.9991\n",
            "Epoch 115/250\n",
            "140/140 [==============================] - 0s 2ms/step - loss: 0.0030 - accuracy: 0.9998\n",
            "Epoch 116/250\n",
            "140/140 [==============================] - 0s 2ms/step - loss: 0.0080 - accuracy: 0.9995\n",
            "Epoch 117/250\n",
            "140/140 [==============================] - 0s 2ms/step - loss: 0.0486 - accuracy: 0.9978\n",
            "Epoch 118/250\n",
            "140/140 [==============================] - 0s 3ms/step - loss: 0.0032 - accuracy: 0.9998\n",
            "Epoch 119/250\n",
            "140/140 [==============================] - 0s 3ms/step - loss: 0.0031 - accuracy: 1.0000\n",
            "Epoch 120/250\n",
            "140/140 [==============================] - 0s 2ms/step - loss: 0.0029 - accuracy: 1.0000\n",
            "Epoch 121/250\n",
            "140/140 [==============================] - 0s 2ms/step - loss: 0.0038 - accuracy: 1.0000\n",
            "Epoch 122/250\n",
            "140/140 [==============================] - 0s 2ms/step - loss: 0.0029 - accuracy: 1.0000\n",
            "Epoch 123/250\n",
            "140/140 [==============================] - 0s 2ms/step - loss: 0.0024 - accuracy: 1.0000\n",
            "Epoch 124/250\n",
            "140/140 [==============================] - 0s 2ms/step - loss: 0.0024 - accuracy: 1.0000\n",
            "Epoch 125/250\n",
            "140/140 [==============================] - 0s 2ms/step - loss: 0.0025 - accuracy: 1.0000\n",
            "Epoch 126/250\n",
            "140/140 [==============================] - 0s 2ms/step - loss: 0.0022 - accuracy: 1.0000\n",
            "Epoch 127/250\n",
            "140/140 [==============================] - 0s 2ms/step - loss: 0.0025 - accuracy: 1.0000\n",
            "Epoch 128/250\n",
            "140/140 [==============================] - 0s 2ms/step - loss: 0.0023 - accuracy: 1.0000\n",
            "Epoch 129/250\n",
            "140/140 [==============================] - 0s 2ms/step - loss: 0.0022 - accuracy: 1.0000\n",
            "Epoch 130/250\n",
            "140/140 [==============================] - 0s 2ms/step - loss: 0.0026 - accuracy: 1.0000\n",
            "Epoch 131/250\n",
            "140/140 [==============================] - 0s 2ms/step - loss: 0.0017 - accuracy: 1.0000\n",
            "Epoch 132/250\n",
            "140/140 [==============================] - 0s 2ms/step - loss: 0.0017 - accuracy: 1.0000\n",
            "Epoch 133/250\n",
            "140/140 [==============================] - 0s 2ms/step - loss: 0.0018 - accuracy: 1.0000\n",
            "Epoch 134/250\n",
            "140/140 [==============================] - 0s 2ms/step - loss: 0.0019 - accuracy: 1.0000\n",
            "Epoch 135/250\n",
            "140/140 [==============================] - 0s 2ms/step - loss: 0.0017 - accuracy: 1.0000\n",
            "Epoch 136/250\n",
            "140/140 [==============================] - 0s 2ms/step - loss: 0.0016 - accuracy: 1.0000\n",
            "Epoch 137/250\n",
            "140/140 [==============================] - 0s 2ms/step - loss: 0.0012 - accuracy: 1.0000\n",
            "Epoch 138/250\n",
            "140/140 [==============================] - 0s 2ms/step - loss: 0.0014 - accuracy: 1.0000\n",
            "Epoch 139/250\n",
            "140/140 [==============================] - 0s 2ms/step - loss: 0.0016 - accuracy: 1.0000\n",
            "Epoch 140/250\n",
            "140/140 [==============================] - 0s 2ms/step - loss: 0.0012 - accuracy: 1.0000\n",
            "Epoch 141/250\n",
            "140/140 [==============================] - 0s 3ms/step - loss: 0.0012 - accuracy: 1.0000\n",
            "Epoch 142/250\n",
            "140/140 [==============================] - 0s 2ms/step - loss: 0.0012 - accuracy: 1.0000\n",
            "Epoch 143/250\n",
            "140/140 [==============================] - 0s 2ms/step - loss: 0.0014 - accuracy: 1.0000\n",
            "Epoch 144/250\n",
            "140/140 [==============================] - 0s 3ms/step - loss: 0.0011 - accuracy: 1.0000\n",
            "Epoch 145/250\n",
            "140/140 [==============================] - 0s 2ms/step - loss: 9.3305e-04 - accuracy: 1.0000\n",
            "Epoch 146/250\n",
            "140/140 [==============================] - 0s 2ms/step - loss: 9.5287e-04 - accuracy: 1.0000\n",
            "Epoch 147/250\n",
            "140/140 [==============================] - 0s 2ms/step - loss: 9.1800e-04 - accuracy: 1.0000\n",
            "Epoch 148/250\n",
            "140/140 [==============================] - 0s 2ms/step - loss: 9.8114e-04 - accuracy: 1.0000\n",
            "Epoch 149/250\n",
            "140/140 [==============================] - 0s 2ms/step - loss: 8.7909e-04 - accuracy: 1.0000\n",
            "Epoch 150/250\n",
            "140/140 [==============================] - 0s 2ms/step - loss: 8.6537e-04 - accuracy: 1.0000\n",
            "Epoch 151/250\n",
            "140/140 [==============================] - 0s 2ms/step - loss: 6.7483e-04 - accuracy: 1.0000\n",
            "Epoch 152/250\n",
            "140/140 [==============================] - 0s 2ms/step - loss: 6.4066e-04 - accuracy: 1.0000\n",
            "Epoch 153/250\n",
            "140/140 [==============================] - 0s 2ms/step - loss: 7.3812e-04 - accuracy: 1.0000\n",
            "Epoch 154/250\n",
            "140/140 [==============================] - 0s 2ms/step - loss: 6.5418e-04 - accuracy: 1.0000\n",
            "Epoch 155/250\n",
            "140/140 [==============================] - 0s 2ms/step - loss: 0.0522 - accuracy: 0.9973\n",
            "Epoch 156/250\n",
            "140/140 [==============================] - 0s 2ms/step - loss: 0.0091 - accuracy: 0.9991\n",
            "Epoch 157/250\n",
            "140/140 [==============================] - 0s 2ms/step - loss: 0.0029 - accuracy: 0.9993\n",
            "Epoch 158/250\n",
            "140/140 [==============================] - 0s 2ms/step - loss: 8.5753e-04 - accuracy: 1.0000\n",
            "Epoch 159/250\n",
            "140/140 [==============================] - 0s 2ms/step - loss: 7.7250e-04 - accuracy: 1.0000\n",
            "Epoch 160/250\n",
            "140/140 [==============================] - 0s 2ms/step - loss: 7.6291e-04 - accuracy: 1.0000\n",
            "Epoch 161/250\n",
            "140/140 [==============================] - 0s 2ms/step - loss: 7.6652e-04 - accuracy: 1.0000\n",
            "Epoch 162/250\n",
            "140/140 [==============================] - 0s 3ms/step - loss: 8.1761e-04 - accuracy: 1.0000\n",
            "Epoch 163/250\n",
            "140/140 [==============================] - 0s 2ms/step - loss: 6.6598e-04 - accuracy: 1.0000\n",
            "Epoch 164/250\n",
            "140/140 [==============================] - 0s 2ms/step - loss: 6.7373e-04 - accuracy: 1.0000\n",
            "Epoch 165/250\n",
            "140/140 [==============================] - 0s 2ms/step - loss: 5.9743e-04 - accuracy: 1.0000\n",
            "Epoch 166/250\n",
            "140/140 [==============================] - 0s 2ms/step - loss: 6.0576e-04 - accuracy: 1.0000\n",
            "Epoch 167/250\n",
            "140/140 [==============================] - 0s 2ms/step - loss: 5.8608e-04 - accuracy: 1.0000\n",
            "Epoch 168/250\n",
            "140/140 [==============================] - 0s 2ms/step - loss: 5.3127e-04 - accuracy: 1.0000\n",
            "Epoch 169/250\n",
            "140/140 [==============================] - 0s 2ms/step - loss: 5.2023e-04 - accuracy: 1.0000\n",
            "Epoch 170/250\n",
            "140/140 [==============================] - 0s 2ms/step - loss: 5.4055e-04 - accuracy: 1.0000\n",
            "Epoch 171/250\n",
            "140/140 [==============================] - 0s 2ms/step - loss: 5.5671e-04 - accuracy: 1.0000\n",
            "Epoch 172/250\n",
            "140/140 [==============================] - 0s 2ms/step - loss: 5.5525e-04 - accuracy: 1.0000\n",
            "Epoch 173/250\n",
            "140/140 [==============================] - 0s 2ms/step - loss: 5.3559e-04 - accuracy: 1.0000\n",
            "Epoch 174/250\n",
            "140/140 [==============================] - 0s 2ms/step - loss: 4.5874e-04 - accuracy: 1.0000\n",
            "Epoch 175/250\n",
            "140/140 [==============================] - 0s 2ms/step - loss: 4.7939e-04 - accuracy: 1.0000\n",
            "Epoch 176/250\n",
            "140/140 [==============================] - 0s 2ms/step - loss: 4.7073e-04 - accuracy: 1.0000\n",
            "Epoch 177/250\n",
            "140/140 [==============================] - 0s 2ms/step - loss: 4.7475e-04 - accuracy: 1.0000\n",
            "Epoch 178/250\n",
            "140/140 [==============================] - 0s 2ms/step - loss: 4.8933e-04 - accuracy: 1.0000\n",
            "Epoch 179/250\n",
            "140/140 [==============================] - 0s 2ms/step - loss: 4.2800e-04 - accuracy: 1.0000\n",
            "Epoch 180/250\n",
            "140/140 [==============================] - 0s 2ms/step - loss: 4.2460e-04 - accuracy: 1.0000\n",
            "Epoch 181/250\n",
            "140/140 [==============================] - 0s 2ms/step - loss: 3.8636e-04 - accuracy: 1.0000\n",
            "Epoch 182/250\n",
            "140/140 [==============================] - 0s 2ms/step - loss: 3.7935e-04 - accuracy: 1.0000\n",
            "Epoch 183/250\n",
            "140/140 [==============================] - 0s 3ms/step - loss: 0.0036 - accuracy: 0.9998\n",
            "Epoch 184/250\n",
            "140/140 [==============================] - 0s 2ms/step - loss: 4.2588e-04 - accuracy: 1.0000\n",
            "Epoch 185/250\n",
            "140/140 [==============================] - 0s 2ms/step - loss: 4.0862e-04 - accuracy: 1.0000\n",
            "Epoch 186/250\n",
            "140/140 [==============================] - 0s 2ms/step - loss: 3.7499e-04 - accuracy: 1.0000\n",
            "Epoch 187/250\n",
            "140/140 [==============================] - 0s 2ms/step - loss: 3.1385e-04 - accuracy: 1.0000\n",
            "Epoch 188/250\n",
            "140/140 [==============================] - 0s 2ms/step - loss: 2.7963e-04 - accuracy: 1.0000\n",
            "Epoch 189/250\n",
            "140/140 [==============================] - 0s 2ms/step - loss: 2.8909e-04 - accuracy: 1.0000\n",
            "Epoch 190/250\n",
            "140/140 [==============================] - 0s 2ms/step - loss: 3.1287e-04 - accuracy: 1.0000\n",
            "Epoch 191/250\n",
            "140/140 [==============================] - 0s 2ms/step - loss: 2.9223e-04 - accuracy: 1.0000\n",
            "Epoch 192/250\n",
            "140/140 [==============================] - 0s 2ms/step - loss: 3.0325e-04 - accuracy: 1.0000\n",
            "Epoch 193/250\n",
            "140/140 [==============================] - 0s 2ms/step - loss: 2.5136e-04 - accuracy: 1.0000\n",
            "Epoch 194/250\n",
            "140/140 [==============================] - 0s 2ms/step - loss: 2.8662e-04 - accuracy: 1.0000\n",
            "Epoch 195/250\n",
            "140/140 [==============================] - 0s 2ms/step - loss: 2.6662e-04 - accuracy: 1.0000\n",
            "Epoch 196/250\n",
            "140/140 [==============================] - 0s 2ms/step - loss: 2.5771e-04 - accuracy: 1.0000\n",
            "Epoch 197/250\n",
            "140/140 [==============================] - 0s 2ms/step - loss: 2.3273e-04 - accuracy: 1.0000\n",
            "Epoch 198/250\n",
            "140/140 [==============================] - 0s 2ms/step - loss: 2.4422e-04 - accuracy: 1.0000\n",
            "Epoch 199/250\n",
            "140/140 [==============================] - 0s 2ms/step - loss: 2.2485e-04 - accuracy: 1.0000\n",
            "Epoch 200/250\n",
            "140/140 [==============================] - 0s 2ms/step - loss: 1.7804e-04 - accuracy: 1.0000\n",
            "Epoch 201/250\n",
            "140/140 [==============================] - 0s 2ms/step - loss: 2.4783e-04 - accuracy: 1.0000\n",
            "Epoch 202/250\n",
            "140/140 [==============================] - 0s 2ms/step - loss: 1.8895e-04 - accuracy: 1.0000\n",
            "Epoch 203/250\n",
            "140/140 [==============================] - 0s 3ms/step - loss: 2.2443e-04 - accuracy: 1.0000\n",
            "Epoch 204/250\n",
            "140/140 [==============================] - 0s 3ms/step - loss: 1.9265e-04 - accuracy: 1.0000\n",
            "Epoch 205/250\n",
            "140/140 [==============================] - 0s 2ms/step - loss: 1.8161e-04 - accuracy: 1.0000\n",
            "Epoch 206/250\n",
            "140/140 [==============================] - 0s 2ms/step - loss: 1.5072e-04 - accuracy: 1.0000\n",
            "Epoch 207/250\n",
            "140/140 [==============================] - 0s 2ms/step - loss: 1.7257e-04 - accuracy: 1.0000\n",
            "Epoch 208/250\n",
            "140/140 [==============================] - 0s 2ms/step - loss: 1.5073e-04 - accuracy: 1.0000\n",
            "Epoch 209/250\n",
            "140/140 [==============================] - 0s 2ms/step - loss: 1.4459e-04 - accuracy: 1.0000\n",
            "Epoch 210/250\n",
            "140/140 [==============================] - 0s 2ms/step - loss: 1.3361e-04 - accuracy: 1.0000\n",
            "Epoch 211/250\n",
            "140/140 [==============================] - 0s 2ms/step - loss: 1.3645e-04 - accuracy: 1.0000\n",
            "Epoch 212/250\n",
            "140/140 [==============================] - 0s 2ms/step - loss: 1.4113e-04 - accuracy: 1.0000\n",
            "Epoch 213/250\n",
            "140/140 [==============================] - 0s 2ms/step - loss: 9.8903e-05 - accuracy: 1.0000\n",
            "Epoch 214/250\n",
            "140/140 [==============================] - 0s 2ms/step - loss: 1.2540e-04 - accuracy: 1.0000\n",
            "Epoch 215/250\n",
            "140/140 [==============================] - 0s 3ms/step - loss: 1.0013e-04 - accuracy: 1.0000\n",
            "Epoch 216/250\n",
            "140/140 [==============================] - 0s 2ms/step - loss: 1.2072e-04 - accuracy: 1.0000\n",
            "Epoch 217/250\n",
            "140/140 [==============================] - 0s 2ms/step - loss: 1.0774e-04 - accuracy: 1.0000\n",
            "Epoch 218/250\n",
            "140/140 [==============================] - 0s 2ms/step - loss: 9.5189e-05 - accuracy: 1.0000\n",
            "Epoch 219/250\n",
            "140/140 [==============================] - 0s 2ms/step - loss: 1.0702e-04 - accuracy: 1.0000\n",
            "Epoch 220/250\n",
            "140/140 [==============================] - 0s 2ms/step - loss: 8.8334e-05 - accuracy: 1.0000\n",
            "Epoch 221/250\n",
            "140/140 [==============================] - 0s 2ms/step - loss: 8.8247e-05 - accuracy: 1.0000\n",
            "Epoch 222/250\n",
            "140/140 [==============================] - 0s 2ms/step - loss: 8.0856e-05 - accuracy: 1.0000\n",
            "Epoch 223/250\n",
            "140/140 [==============================] - 0s 2ms/step - loss: 7.8615e-05 - accuracy: 1.0000\n",
            "Epoch 224/250\n",
            "140/140 [==============================] - 0s 2ms/step - loss: 7.9808e-05 - accuracy: 1.0000\n",
            "Epoch 225/250\n",
            "140/140 [==============================] - 0s 2ms/step - loss: 7.6958e-05 - accuracy: 1.0000\n",
            "Epoch 226/250\n",
            "140/140 [==============================] - 0s 3ms/step - loss: 8.2504e-05 - accuracy: 1.0000\n",
            "Epoch 227/250\n",
            "140/140 [==============================] - 0s 3ms/step - loss: 6.3176e-05 - accuracy: 1.0000\n",
            "Epoch 228/250\n",
            "140/140 [==============================] - 0s 2ms/step - loss: 5.9578e-05 - accuracy: 1.0000\n",
            "Epoch 229/250\n",
            "140/140 [==============================] - 0s 2ms/step - loss: 5.2954e-05 - accuracy: 1.0000\n",
            "Epoch 230/250\n",
            "140/140 [==============================] - 0s 2ms/step - loss: 5.3653e-05 - accuracy: 1.0000\n",
            "Epoch 231/250\n",
            "140/140 [==============================] - 0s 2ms/step - loss: 5.6678e-05 - accuracy: 1.0000\n",
            "Epoch 232/250\n",
            "140/140 [==============================] - 0s 2ms/step - loss: 4.4834e-05 - accuracy: 1.0000\n",
            "Epoch 233/250\n",
            "140/140 [==============================] - 0s 2ms/step - loss: 4.5870e-05 - accuracy: 1.0000\n",
            "Epoch 234/250\n",
            "140/140 [==============================] - 0s 2ms/step - loss: 4.1354e-05 - accuracy: 1.0000\n",
            "Epoch 235/250\n",
            "140/140 [==============================] - 0s 2ms/step - loss: 3.8805e-05 - accuracy: 1.0000\n",
            "Epoch 236/250\n",
            "140/140 [==============================] - 0s 2ms/step - loss: 3.8166e-05 - accuracy: 1.0000\n",
            "Epoch 237/250\n",
            "140/140 [==============================] - 0s 2ms/step - loss: 3.3519e-05 - accuracy: 1.0000\n",
            "Epoch 238/250\n",
            "140/140 [==============================] - 0s 2ms/step - loss: 3.5581e-05 - accuracy: 1.0000\n",
            "Epoch 239/250\n",
            "140/140 [==============================] - 0s 2ms/step - loss: 3.2685e-05 - accuracy: 1.0000\n",
            "Epoch 240/250\n",
            "140/140 [==============================] - 0s 2ms/step - loss: 3.3341e-05 - accuracy: 1.0000\n",
            "Epoch 241/250\n",
            "140/140 [==============================] - 0s 2ms/step - loss: 3.1848e-05 - accuracy: 1.0000\n",
            "Epoch 242/250\n",
            "140/140 [==============================] - 0s 2ms/step - loss: 2.8168e-05 - accuracy: 1.0000\n",
            "Epoch 243/250\n",
            "140/140 [==============================] - 0s 2ms/step - loss: 2.6924e-05 - accuracy: 1.0000\n",
            "Epoch 244/250\n",
            "140/140 [==============================] - 0s 2ms/step - loss: 2.9320e-05 - accuracy: 1.0000\n",
            "Epoch 245/250\n",
            "140/140 [==============================] - 0s 2ms/step - loss: 2.7388e-05 - accuracy: 1.0000\n",
            "Epoch 246/250\n",
            "140/140 [==============================] - 0s 2ms/step - loss: 0.0382 - accuracy: 0.9981\n",
            "Epoch 247/250\n",
            "140/140 [==============================] - 0s 2ms/step - loss: 0.2569 - accuracy: 0.9985\n",
            "Epoch 248/250\n",
            "140/140 [==============================] - 0s 2ms/step - loss: 0.1248 - accuracy: 0.9984\n",
            "Epoch 249/250\n",
            "140/140 [==============================] - 0s 3ms/step - loss: 1.4410e-04 - accuracy: 1.0000\n",
            "Epoch 250/250\n",
            "140/140 [==============================] - 0s 2ms/step - loss: 1.3643e-04 - accuracy: 1.0000\n"
          ],
          "name": "stdout"
        }
      ]
    },
    {
      "cell_type": "code",
      "metadata": {
        "colab": {
          "base_uri": "https://localhost:8080/"
        },
        "id": "A6BGjnzu-wtp",
        "outputId": "cd560ea1-a081-4326-97f2-055e998c172b"
      },
      "source": [
        "history_dict = history.history\n",
        "print(history_dict.keys())\n",
        "# to keep for later \n",
        "%store history_dict"
      ],
      "execution_count": 11,
      "outputs": [
        {
          "output_type": "stream",
          "text": [
            "dict_keys(['loss', 'accuracy'])\n",
            "Stored 'history_dict' (dict)\n"
          ],
          "name": "stdout"
        }
      ]
    },
    {
      "cell_type": "code",
      "metadata": {
        "id": "qjHvIqe1-0zr"
      },
      "source": [
        "# imports \n",
        "import matplotlib.pyplot as plt \n",
        "import matplotlib.image as mpimg"
      ],
      "execution_count": 12,
      "outputs": []
    },
    {
      "cell_type": "code",
      "metadata": {
        "id": "M816JvwK-3GJ"
      },
      "source": [
        "# function to plot training given history dictionary \n",
        "def plot_training(history_dict):\n",
        "\t\"\"\"\n",
        "\tPlots the training accuracy and loss graphs for a Keras model (validation graphs not included). \n",
        "\tParameters:\n",
        "\t\t- history_dict: a dictionary of \"history\" object from Keras \n",
        "\t\"\"\"\n",
        "\t# plot training accuracy graph \n",
        "\tplt.plot(history_dict['accuracy'])\n",
        "\tplt.title('Training Accuracy')\n",
        "\tplt.ylabel('accuracy')\n",
        "\tplt.xlabel('epoch')\n",
        "\tplt.legend(['train'], loc='upper left')\n",
        "\tplt.show()\n",
        "\n",
        "\t# plot training loss graph \n",
        "\tplt.plot(history_dict['loss'])\n",
        "\tplt.title('Training Loss')\n",
        "\tplt.ylabel('loss')\n",
        "\tplt.xlabel('epoch')\n",
        "\tplt.legend(['train'], loc='upper left')\n",
        "\tplt.show()"
      ],
      "execution_count": 13,
      "outputs": []
    },
    {
      "cell_type": "code",
      "metadata": {
        "colab": {
          "base_uri": "https://localhost:8080/",
          "height": 573
        },
        "id": "wTeJt4ZD-4u_",
        "outputId": "ce0f0418-b4d4-4bc2-81e9-294867a3de1f"
      },
      "source": [
        "plot_training(history_dict)"
      ],
      "execution_count": 14,
      "outputs": [
        {
          "output_type": "display_data",
          "data": {
            "image/png": "[encoded data removed]",
            "text/plain": [
              "<Figure size 432x288 with 1 Axes>"
            ]
          },
          "metadata": {
            "tags": [],
            "needs_background": "light"
          }
        },
        {
          "output_type": "display_data",
          "data": {
            "image/png": "[encoded data removed]",
            "text/plain": [
              "<Figure size 432x288 with 1 Axes>"
            ]
          },
          "metadata": {
            "tags": [],
            "needs_background": "light"
          }
        }
      ]
    },
    {
      "cell_type": "code",
      "metadata": {
        "colab": {
          "base_uri": "https://localhost:8080/"
        },
        "id": "sgx89I-e-88c",
        "outputId": "1ed7aef7-c603-4490-c032-dc26c8290b9f"
      },
      "source": [
        "test_loss, test_accuracy = model.evaluate(test_samples,  test_labels, verbose=2)\n",
        "print('Test accuracy:', test_accuracy)"
      ],
      "execution_count": 15,
      "outputs": [
        {
          "output_type": "stream",
          "text": [
            "16/16 - 0s - loss: 2.1869 - accuracy: 0.9900\n",
            "Test accuracy: 0.9899598360061646\n"
          ],
          "name": "stdout"
        }
      ]
    },
    {
      "cell_type": "code",
      "metadata": {
        "colab": {
          "base_uri": "https://localhost:8080/"
        },
        "id": "t7yd5t-U-9Xf",
        "outputId": "da3afb0b-e93a-4a65-d0eb-a461ae4c9bea"
      },
      "source": [
        "predictions = model.predict_classes(test_samples) # generates a list of predictions"
      ],
      "execution_count": 16,
      "outputs": [
        {
          "output_type": "stream",
          "text": [
            "/usr/local/lib/python3.7/dist-packages/tensorflow/python/keras/engine/sequential.py:450: UserWarning: `model.predict_classes()` is deprecated and will be removed after 2021-01-01. Please use instead:* `np.argmax(model.predict(x), axis=-1)`,   if your model does multi-class classification   (e.g. if it uses a `softmax` last-layer activation).* `(model.predict(x) > 0.5).astype(\"int32\")`,   if your model does binary classification   (e.g. if it uses a `sigmoid` last-layer activation).\n",
            "  warnings.warn('`model.predict_classes()` is deprecated and '\n"
          ],
          "name": "stderr"
        }
      ]
    },
    {
      "cell_type": "code",
      "metadata": {
        "colab": {
          "base_uri": "https://localhost:8080/"
        },
        "id": "brlBgmRU--5Z",
        "outputId": "a37136a5-ce32-4a90-d535-b139c0f523ca"
      },
      "source": [
        "print(\"Test labels: \\n\", test_labels)\n",
        "print(\"Test predictions: \\n\", predictions)"
      ],
      "execution_count": 17,
      "outputs": [
        {
          "output_type": "stream",
          "text": [
            "Test labels: \n",
            " [1 1 1 1 1 1 1 1 1 1 1 1 1 1 1 1 1 1 1 1 1 1 1 1 1 1 1 1 1 1 1 1 1 1 1 1 1\n",
            " 1 1 1 1 1 1 1 1 1 1 1 1 1 1 1 1 1 1 1 1 1 1 1 1 1 1 1 1 1 1 1 1 1 1 1 1 1\n",
            " 1 1 1 1 1 1 1 1 1 1 1 1 1 1 1 1 1 1 1 1 1 1 1 1 1 1 1 1 1 1 1 1 1 1 1 1 1\n",
            " 1 1 1 1 1 1 1 1 1 1 1 1 1 1 1 1 1 1 1 1 1 1 1 1 1 1 1 1 1 1 1 1 1 1 1 1 1\n",
            " 1 1 1 1 1 1 1 1 1 1 1 1 1 1 1 1 1 1 1 1 1 1 1 1 1 1 1 1 1 1 1 1 1 1 1 1 1\n",
            " 1 1 1 1 1 1 1 1 1 1 1 1 1 1 1 1 1 1 1 1 1 1 1 1 1 1 1 1 1 1 1 1 1 1 1 1 1\n",
            " 1 1 1 1 1 1 1 1 1 1 1 1 1 1 1 1 1 1 1 1 1 1 1 1 1 1 1 0 0 0 0 0 0 0 0 0 0\n",
            " 0 0 0 0 0 0 0 0 0 0 0 0 0 0 0 0 0 0 0 0 0 0 0 0 0 0 0 0 0 0 0 0 0 0 0 0 0\n",
            " 0 0 0 0 0 0 0 0 0 0 0 0 0 0 0 0 0 0 0 0 0 0 0 0 0 0 0 0 0 0 0 0 0 0 0 0 0\n",
            " 0 0 0 0 0 0 0 0 0 0 0 0 0 0 0 0 0 0 0 0 0 0 0 0 0 0 0 0 0 0 0 0 0 0 0 0 0\n",
            " 0 0 0 0 0 0 0 0 0 0 0 0 0 0 0 0 0 0 0 0 0 0 0 0 0 0 0 0 0 0 0 0 0 0 0 0 0\n",
            " 0 0 0 0 0 0 0 0 0 0 0 0 0 0 0 0 0 0 0 0 0 0 0 0 0 0 0 0 0 0 0 0 0 0 0 0 0\n",
            " 0 0 0 0 0 0 0 0 0 0 0 0 0 0 0 0 0 0 0 0 0 0 0 0 0 0 0 0 0 0 0 0 0 0 0 0 0\n",
            " 0 0 0 0 0 0 0 0 0 0 0 0 0 0 0 0 0]\n",
            "Test predictions: \n",
            " [1 1 1 1 1 1 1 1 1 1 1 1 1 1 1 1 1 1 1 1 1 1 0 1 1 1 1 1 1 1 1 1 1 1 1 1 1\n",
            " 1 1 1 1 1 1 1 1 1 1 1 1 1 1 1 1 1 1 1 1 1 1 1 1 1 1 1 1 1 1 1 1 1 1 1 1 1\n",
            " 1 1 1 1 1 1 1 1 1 1 1 1 1 1 1 1 1 1 1 1 1 1 1 1 1 1 1 1 1 1 1 1 1 1 1 1 1\n",
            " 1 1 1 1 1 1 1 1 1 1 1 1 1 1 1 1 1 1 1 1 1 1 1 1 1 1 1 1 1 1 1 1 1 1 1 1 1\n",
            " 1 1 1 1 1 1 1 1 1 1 1 1 1 1 1 1 1 1 1 0 1 1 1 1 1 1 1 1 1 1 1 1 1 1 1 1 1\n",
            " 1 1 1 1 1 1 1 1 1 1 1 1 1 1 1 1 1 1 1 1 1 1 1 1 1 1 1 1 1 1 1 1 1 1 1 1 1\n",
            " 1 1 1 1 1 1 1 1 1 1 1 1 1 1 1 1 1 1 1 1 1 1 1 1 1 1 1 0 0 0 0 0 0 0 0 0 0\n",
            " 0 0 0 0 0 0 0 0 0 0 0 0 0 0 0 0 0 0 0 0 0 0 0 0 0 0 0 0 0 0 0 0 0 0 0 0 0\n",
            " 0 0 0 0 0 0 0 0 0 0 0 0 0 0 0 0 0 0 0 0 0 0 0 0 0 0 0 0 0 0 0 0 0 0 0 0 0\n",
            " 0 0 0 0 0 0 0 0 0 0 0 0 0 0 0 0 0 0 0 0 0 0 0 0 0 0 1 0 0 0 0 0 0 0 0 0 0\n",
            " 0 0 0 0 0 0 0 0 0 0 0 0 0 0 0 0 0 0 0 0 0 0 0 0 0 0 0 0 0 0 0 0 0 0 0 0 0\n",
            " 0 0 0 0 0 0 0 0 0 0 0 0 0 0 1 0 0 0 0 0 0 0 0 0 0 0 0 0 0 0 0 0 0 0 0 0 0\n",
            " 0 0 0 0 0 0 0 0 0 0 0 0 0 0 0 0 0 0 0 0 0 0 0 0 0 0 0 0 0 0 0 0 0 0 0 0 0\n",
            " 0 0 0 0 0 0 0 0 0 0 0 0 0 0 0 0 1]\n"
          ],
          "name": "stdout"
        }
      ]
    },
    {
      "cell_type": "code",
      "metadata": {
        "id": "_-1hBrbZ_BXu"
      },
      "source": [
        "correct = 0\n",
        "for i in range(len(predictions)):\n",
        "  if predictions[i] == test_labels[i]:\n",
        "    correct += 1"
      ],
      "execution_count": 18,
      "outputs": []
    },
    {
      "cell_type": "code",
      "metadata": {
        "colab": {
          "base_uri": "https://localhost:8080/"
        },
        "id": "H-1Qo1cg_Fmw",
        "outputId": "d6ceae65-15f6-409c-bdfc-e78e36f5882d"
      },
      "source": [
        "predictions_accuracy = correct/len(test_labels)\n",
        "predictions_accuracy"
      ],
      "execution_count": 19,
      "outputs": [
        {
          "output_type": "execute_result",
          "data": {
            "text/plain": [
              "0.9899598393574297"
            ]
          },
          "metadata": {
            "tags": []
          },
          "execution_count": 19
        }
      ]
    },
    {
      "cell_type": "code",
      "metadata": {
        "id": "U1nDnvXdVmkt",
        "outputId": "bcbadbe2-9dd2-43f0-adc4-01dd316a0313",
        "colab": {
          "base_uri": "https://localhost:8080/"
        }
      },
      "source": [
        "correct"
      ],
      "execution_count": 33,
      "outputs": [
        {
          "output_type": "execute_result",
          "data": {
            "text/plain": [
              "493"
            ]
          },
          "metadata": {
            "tags": []
          },
          "execution_count": 33
        }
      ]
    },
    {
      "cell_type": "code",
      "metadata": {
        "id": "jK7q8keuVnzg",
        "outputId": "58bbd047-cf1e-4bda-ad00-282a4d67b0aa",
        "colab": {
          "base_uri": "https://localhost:8080/"
        }
      },
      "source": [
        "len(test_labels)"
      ],
      "execution_count": 35,
      "outputs": [
        {
          "output_type": "execute_result",
          "data": {
            "text/plain": [
              "498"
            ]
          },
          "metadata": {
            "tags": []
          },
          "execution_count": 35
        }
      ]
    },
    {
      "cell_type": "code",
      "metadata": {
        "colab": {
          "base_uri": "https://localhost:8080/"
        },
        "id": "UgWb9OpT_IAO",
        "outputId": "b3a2bc5c-5e34-4b86-d836-70efa000c188"
      },
      "source": [
        "print(\"The accuracy is: \" + str(round(predictions_accuracy * 100, 1)) + \"%\")"
      ],
      "execution_count": 20,
      "outputs": [
        {
          "output_type": "stream",
          "text": [
            "The accuracy is: 99.0%\n"
          ],
          "name": "stdout"
        }
      ]
    },
    {
      "cell_type": "code",
      "metadata": {
        "colab": {
          "base_uri": "https://localhost:8080/"
        },
        "id": "ZO9-r5vWMdLR",
        "outputId": "55b682c2-650c-4821-9da1-b278ce4d797a"
      },
      "source": [
        "c = 0\n",
        "for elem in test_labels:\n",
        "  if elem == 1:\n",
        "    c += 1\n",
        "print(c)"
      ],
      "execution_count": 21,
      "outputs": [
        {
          "output_type": "stream",
          "text": [
            "249\n"
          ],
          "name": "stdout"
        }
      ]
    },
    {
      "cell_type": "markdown",
      "metadata": {
        "id": "7Af0AohIK7HM"
      },
      "source": [
        "Now on the speech samples: "
      ]
    },
    {
      "cell_type": "code",
      "metadata": {
        "id": "tGn8qYWV_KOY"
      },
      "source": [
        "speech_correct = 0\n",
        "for i in range(len(test_labels[:249])):\n",
        "    if predictions[i] == test_labels[i]:\n",
        "      speech_correct += 1"
      ],
      "execution_count": 22,
      "outputs": []
    },
    {
      "cell_type": "code",
      "metadata": {
        "id": "a1p0g8YxVb1W",
        "outputId": "14d51255-b0ee-4c52-e236-8e69d7d00eb4",
        "colab": {
          "base_uri": "https://localhost:8080/"
        }
      },
      "source": [
        "speech_correct"
      ],
      "execution_count": 32,
      "outputs": [
        {
          "output_type": "execute_result",
          "data": {
            "text/plain": [
              "247"
            ]
          },
          "metadata": {
            "tags": []
          },
          "execution_count": 32
        }
      ]
    },
    {
      "cell_type": "code",
      "metadata": {
        "colab": {
          "base_uri": "https://localhost:8080/"
        },
        "id": "-Ab7lBOm_NXD",
        "outputId": "81b853b4-48d2-47aa-aa72-7951aed185d7"
      },
      "source": [
        "speech_correct/len(test_labels[:249])"
      ],
      "execution_count": 23,
      "outputs": [
        {
          "output_type": "execute_result",
          "data": {
            "text/plain": [
              "0.9919678714859438"
            ]
          },
          "metadata": {
            "tags": []
          },
          "execution_count": 23
        }
      ]
    },
    {
      "cell_type": "markdown",
      "metadata": {
        "id": "ArbTD99rWHOF"
      },
      "source": [
        "**99% on speech**"
      ]
    },
    {
      "cell_type": "code",
      "metadata": {
        "id": "wED00VHTNDx3"
      },
      "source": [
        "no_speech_correct = 0\n",
        "for i in range(len(test_labels[249:])):\n",
        "    if predictions[i] == test_labels[i]:\n",
        "      no_speech_correct += 1"
      ],
      "execution_count": 38,
      "outputs": []
    },
    {
      "cell_type": "code",
      "metadata": {
        "id": "UL6479EYVa1U",
        "outputId": "d1fd2ca3-db27-45cf-f70b-7785381381b5",
        "colab": {
          "base_uri": "https://localhost:8080/"
        }
      },
      "source": [
        "no_speech_correct"
      ],
      "execution_count": 39,
      "outputs": [
        {
          "output_type": "execute_result",
          "data": {
            "text/plain": [
              "247"
            ]
          },
          "metadata": {
            "tags": []
          },
          "execution_count": 39
        }
      ]
    },
    {
      "cell_type": "code",
      "metadata": {
        "id": "_3OrHs5CV3dh",
        "outputId": "98b8cbda-dd2e-4bd0-da55-db7642273203",
        "colab": {
          "base_uri": "https://localhost:8080/"
        }
      },
      "source": [
        "len(test_labels)"
      ],
      "execution_count": 40,
      "outputs": [
        {
          "output_type": "execute_result",
          "data": {
            "text/plain": [
              "498"
            ]
          },
          "metadata": {
            "tags": []
          },
          "execution_count": 40
        }
      ]
    },
    {
      "cell_type": "code",
      "metadata": {
        "colab": {
          "base_uri": "https://localhost:8080/"
        },
        "id": "Y50VI_0pNJKT",
        "outputId": "6f6354ed-6e38-4a92-fcf2-ba7b9dc04f4c"
      },
      "source": [
        "print(no_speech_correct/249)"
      ],
      "execution_count": 25,
      "outputs": [
        {
          "output_type": "stream",
          "text": [
            "0.9919678714859438\n"
          ],
          "name": "stdout"
        }
      ]
    },
    {
      "cell_type": "markdown",
      "metadata": {
        "id": "nRgjX9_LM9WX"
      },
      "source": [
        "### Confusion matrix and classification report"
      ]
    },
    {
      "cell_type": "code",
      "metadata": {
        "id": "IScycLKDNBR7"
      },
      "source": [
        "import numpy as np\n",
        "import itertools\n",
        "from sklearn.metrics import confusion_matrix"
      ],
      "execution_count": 26,
      "outputs": []
    },
    {
      "cell_type": "code",
      "metadata": {
        "id": "nouK1rWUNb5W"
      },
      "source": [
        "cm = confusion_matrix(test_labels, predictions)"
      ],
      "execution_count": 27,
      "outputs": []
    },
    {
      "cell_type": "code",
      "metadata": {
        "id": "TSOeK4p4NdX2"
      },
      "source": [
        "def plot_cm(cm, classes, normalize=False, title='Confusion Matrix', cmap=plt.cm.Blues):\n",
        "  plt.imshow(cm, interpolation='nearest', cmap=cmap)\n",
        "  plt.title(title)\n",
        "  plt.colorbar()\n",
        "  tick_marks = np.arange(len(classes))\n",
        "  plt.xticks(tick_marks, classes, rotation=45)\n",
        "  plt.yticks(tick_marks, classes)\n",
        "\n",
        "  if normalize:\n",
        "    cm = cm.astypea('float') / cm.sum(axis=1)[:, np.newaxis]\n",
        "    print('Normalized confusion matrix')\n",
        "  else:\n",
        "    print('Confusion matrix without normalization')\n",
        "\n",
        "  print(cm)\n",
        "\n",
        "  thresh = cm.max()/2.\n",
        "  for i, j in itertools.product(range(cm.shape[0]), range(cm.shape[1])):\n",
        "      plt.text(j, i, cm[i, j],\n",
        "               horizontalalignment=\"center\",\n",
        "               color=\"white\" if cm[i, j] > thresh else \"black\")\n",
        "  \n",
        "  plt.tight_layout()\n",
        "  plt.ylabel('True label')\n",
        "  plt.xlabel('Predicted label')"
      ],
      "execution_count": 28,
      "outputs": []
    },
    {
      "cell_type": "code",
      "metadata": {
        "colab": {
          "base_uri": "https://localhost:8080/",
          "height": 362
        },
        "id": "jm9eZ_gMNe6y",
        "outputId": "f3f364d2-8571-4b26-fa51-1c828e63a4c1"
      },
      "source": [
        "plot_cm(cm, ['no speech','speech'], title='Test Samples Confusion Matrix')"
      ],
      "execution_count": 29,
      "outputs": [
        {
          "output_type": "stream",
          "text": [
            "Confusion matrix without normalization\n",
            "[[246   3]\n",
            " [  2 247]]\n"
          ],
          "name": "stdout"
        },
        {
          "output_type": "display_data",
          "data": {
            "image/png": "[encoded data removed]",
            "text/plain": [
              "<Figure size 432x288 with 2 Axes>"
            ]
          },
          "metadata": {
            "tags": [],
            "needs_background": "light"
          }
        }
      ]
    },
    {
      "cell_type": "code",
      "metadata": {
        "colab": {
          "base_uri": "https://localhost:8080/"
        },
        "id": "pU1gOl1bNgim",
        "outputId": "b2834f2f-b1bc-4dd2-f856-27f0858c0379"
      },
      "source": [
        "from sklearn.metrics import classification_report\n",
        "print(classification_report(test_labels, predictions, target_names=['no speech','speech']))"
      ],
      "execution_count": 30,
      "outputs": [
        {
          "output_type": "stream",
          "text": [
            "              precision    recall  f1-score   support\n",
            "\n",
            "   no speech       0.99      0.99      0.99       249\n",
            "      speech       0.99      0.99      0.99       249\n",
            "\n",
            "    accuracy                           0.99       498\n",
            "   macro avg       0.99      0.99      0.99       498\n",
            "weighted avg       0.99      0.99      0.99       498\n",
            "\n"
          ],
          "name": "stdout"
        }
      ]
    }
  ]
}