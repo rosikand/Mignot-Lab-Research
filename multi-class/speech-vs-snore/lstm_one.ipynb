{
  "nbformat": 4,
  "nbformat_minor": 0,
  "metadata": {
    "colab": {
      "name": "lstm_num_one.ipynb",
      "provenance": []
    },
    "kernelspec": {
      "name": "python3",
      "display_name": "Python 3"
    },
    "accelerator": "GPU"
  },
  "cells": [
    {
      "cell_type": "code",
      "metadata": {
        "colab": {
          "base_uri": "https://localhost:8080/"
        },
        "id": "p2wqOi1f-OGu",
        "outputId": "0f1094a8-0ff1-4dfe-b814-fed44e4f7dc1"
      },
      "source": [
        "from google.colab import drive\n",
        "drive.mount('/content/drive')"
      ],
      "execution_count": 1,
      "outputs": [
        {
          "output_type": "stream",
          "text": [
            "Mounted at /content/drive\n"
          ],
          "name": "stdout"
        }
      ]
    },
    {
      "cell_type": "code",
      "metadata": {
        "id": "KkFvuXHV-VAF"
      },
      "source": [
        "import pickle\n",
        "\n",
        "# load in labels and samples for the training subset\n",
        "training_samples_file = open('/content/drive/MyDrive/Mignot Lab Research/Experiments/speech-vs-snore/train_samples.pkl', 'rb')\n",
        "training_labels_file = open('/content/drive/MyDrive/Mignot Lab Research/Experiments/speech-vs-snore/train_labels.pkl', 'rb')\n",
        "\n",
        "# load in labels and samples for the test subset\n",
        "test_samples_file = open('/content/drive/MyDrive/Mignot Lab Research/Experiments/speech-vs-snore/test_samples.pkl', 'rb')\n",
        "test_labels_file = open('/content/drive/MyDrive/Mignot Lab Research/Experiments/speech-vs-snore/test_labels.pkl', 'rb')"
      ],
      "execution_count": 2,
      "outputs": []
    },
    {
      "cell_type": "code",
      "metadata": {
        "id": "kF4LjhYE-jN2"
      },
      "source": [
        "# training\n",
        "X = pickle.load(training_samples_file)\n",
        "y = pickle.load(training_labels_file)\n",
        "\n",
        "# test\n",
        "test_samples = pickle.load(test_samples_file)\n",
        "test_labels = pickle.load(test_labels_file)"
      ],
      "execution_count": 3,
      "outputs": []
    },
    {
      "cell_type": "code",
      "metadata": {
        "colab": {
          "base_uri": "https://localhost:8080/"
        },
        "id": "n15U_4vbJ9Pl",
        "outputId": "f148bf29-2c01-40c4-e364-2967b84604b1"
      },
      "source": [
        "# confirm that these are correct \n",
        "len(test_samples) + len(X)"
      ],
      "execution_count": 4,
      "outputs": [
        {
          "output_type": "execute_result",
          "data": {
            "text/plain": [
              "1000"
            ]
          },
          "metadata": {
            "tags": []
          },
          "execution_count": 4
        }
      ]
    },
    {
      "cell_type": "markdown",
      "metadata": {
        "id": "3ITmGJ1q_6D0"
      },
      "source": [
        "### LSTM "
      ]
    },
    {
      "cell_type": "code",
      "metadata": {
        "colab": {
          "base_uri": "https://localhost:8080/"
        },
        "id": "zvgP2UpJKr0u",
        "outputId": "4e1b0133-2d8f-45b5-c8e5-5bc6909dda97"
      },
      "source": [
        "X[0].shape"
      ],
      "execution_count": 5,
      "outputs": [
        {
          "output_type": "execute_result",
          "data": {
            "text/plain": [
              "(128, 44)"
            ]
          },
          "metadata": {
            "tags": []
          },
          "execution_count": 5
        }
      ]
    },
    {
      "cell_type": "code",
      "metadata": {
        "id": "fJZ4WyVd-lLk"
      },
      "source": [
        "import tensorflow as tf\n",
        "import keras\n",
        "\n",
        "model = keras.Sequential()\n",
        "model.add(keras.layers.LSTM(64, input_shape=(128, 44), return_sequences=True))\n",
        "model.add(keras.layers.LSTM(64))\n",
        "model.add(keras.layers.Dense(64, activation='relu'))\n",
        "model.add(keras.layers.Dropout(0.3))\n",
        "model.add(keras.layers.Dense(2, activation='softmax'))"
      ],
      "execution_count": 6,
      "outputs": []
    },
    {
      "cell_type": "code",
      "metadata": {
        "colab": {
          "base_uri": "https://localhost:8080/"
        },
        "id": "YcBzGRgEAGJ1",
        "outputId": "de24b6f2-6bb6-48bb-b87b-ae7cdfc15f28"
      },
      "source": [
        "model.summary()"
      ],
      "execution_count": 7,
      "outputs": [
        {
          "output_type": "stream",
          "text": [
            "Model: \"sequential\"\n",
            "_________________________________________________________________\n",
            "Layer (type)                 Output Shape              Param #   \n",
            "=================================================================\n",
            "lstm (LSTM)                  (None, 128, 64)           27904     \n",
            "_________________________________________________________________\n",
            "lstm_1 (LSTM)                (None, 64)                33024     \n",
            "_________________________________________________________________\n",
            "dense (Dense)                (None, 64)                4160      \n",
            "_________________________________________________________________\n",
            "dropout (Dropout)            (None, 64)                0         \n",
            "_________________________________________________________________\n",
            "dense_1 (Dense)              (None, 2)                 130       \n",
            "=================================================================\n",
            "Total params: 65,218\n",
            "Trainable params: 65,218\n",
            "Non-trainable params: 0\n",
            "_________________________________________________________________\n"
          ],
          "name": "stdout"
        }
      ]
    },
    {
      "cell_type": "code",
      "metadata": {
        "id": "BZfbTudz-r3S"
      },
      "source": [
        "model.compile(optimizer='adam',\n",
        "              loss=tf.keras.losses.SparseCategoricalCrossentropy(from_logits=True),\n",
        "              metrics=['accuracy'])"
      ],
      "execution_count": 8,
      "outputs": []
    },
    {
      "cell_type": "code",
      "metadata": {
        "colab": {
          "base_uri": "https://localhost:8080/"
        },
        "id": "8PnBRuEK-u3-",
        "outputId": "b11f1e22-10d1-4e2a-ff05-058cfbbd87ce"
      },
      "source": [
        "history = model.fit(X, y, epochs=250)"
      ],
      "execution_count": 9,
      "outputs": [
        {
          "output_type": "stream",
          "text": [
            "Epoch 1/250\n",
            "29/29 [==============================] - 32s 17ms/step - loss: 0.6450 - accuracy: 0.7265\n",
            "Epoch 2/250\n",
            "29/29 [==============================] - 0s 14ms/step - loss: 0.4416 - accuracy: 0.7868\n",
            "Epoch 3/250\n",
            "29/29 [==============================] - 0s 14ms/step - loss: 0.1760 - accuracy: 0.9542\n",
            "Epoch 4/250\n",
            "29/29 [==============================] - 0s 14ms/step - loss: 0.1840 - accuracy: 0.9582\n",
            "Epoch 5/250\n",
            "29/29 [==============================] - 0s 14ms/step - loss: 0.0778 - accuracy: 0.9828\n",
            "Epoch 6/250\n",
            "29/29 [==============================] - 0s 14ms/step - loss: 0.0472 - accuracy: 0.9877\n",
            "Epoch 7/250\n",
            "29/29 [==============================] - 0s 14ms/step - loss: 0.1715 - accuracy: 0.9656\n",
            "Epoch 8/250\n",
            "29/29 [==============================] - 0s 15ms/step - loss: 0.0618 - accuracy: 0.9838\n",
            "Epoch 9/250\n",
            "29/29 [==============================] - 0s 14ms/step - loss: 0.0327 - accuracy: 0.9935\n",
            "Epoch 10/250\n",
            "29/29 [==============================] - 0s 14ms/step - loss: 0.0397 - accuracy: 0.9891\n",
            "Epoch 11/250\n",
            "29/29 [==============================] - 0s 14ms/step - loss: 0.0233 - accuracy: 0.9959\n",
            "Epoch 12/250\n",
            "29/29 [==============================] - 0s 14ms/step - loss: 0.0208 - accuracy: 0.9961\n",
            "Epoch 13/250\n",
            "29/29 [==============================] - 0s 14ms/step - loss: 0.0315 - accuracy: 0.9940\n",
            "Epoch 14/250\n",
            "29/29 [==============================] - 0s 14ms/step - loss: 0.0311 - accuracy: 0.9934\n",
            "Epoch 15/250\n",
            "29/29 [==============================] - 0s 14ms/step - loss: 0.0470 - accuracy: 0.9921\n",
            "Epoch 16/250\n",
            "29/29 [==============================] - 0s 14ms/step - loss: 0.0424 - accuracy: 0.9925\n",
            "Epoch 17/250\n",
            "29/29 [==============================] - 0s 14ms/step - loss: 0.0260 - accuracy: 0.9941\n",
            "Epoch 18/250\n",
            "29/29 [==============================] - 0s 14ms/step - loss: 0.0163 - accuracy: 0.9967\n",
            "Epoch 19/250\n",
            "29/29 [==============================] - 0s 14ms/step - loss: 0.0791 - accuracy: 0.9829\n",
            "Epoch 20/250\n",
            "29/29 [==============================] - 0s 15ms/step - loss: 0.0217 - accuracy: 0.9956\n",
            "Epoch 21/250\n",
            "29/29 [==============================] - 0s 15ms/step - loss: 0.0187 - accuracy: 0.9943\n",
            "Epoch 22/250\n",
            "29/29 [==============================] - 0s 14ms/step - loss: 0.0598 - accuracy: 0.9865\n",
            "Epoch 23/250\n",
            "29/29 [==============================] - 0s 14ms/step - loss: 0.0132 - accuracy: 0.9974\n",
            "Epoch 24/250\n",
            "29/29 [==============================] - 0s 14ms/step - loss: 0.0092 - accuracy: 0.9975\n",
            "Epoch 25/250\n",
            "29/29 [==============================] - 0s 14ms/step - loss: 0.0166 - accuracy: 0.9946\n",
            "Epoch 26/250\n",
            "29/29 [==============================] - 0s 14ms/step - loss: 0.0116 - accuracy: 0.9969\n",
            "Epoch 27/250\n",
            "29/29 [==============================] - 0s 14ms/step - loss: 0.0167 - accuracy: 0.9926\n",
            "Epoch 28/250\n",
            "29/29 [==============================] - 0s 15ms/step - loss: 0.0120 - accuracy: 0.9946\n",
            "Epoch 29/250\n",
            "29/29 [==============================] - 0s 14ms/step - loss: 0.0036 - accuracy: 1.0000\n",
            "Epoch 30/250\n",
            "29/29 [==============================] - 0s 14ms/step - loss: 0.0154 - accuracy: 0.9956\n",
            "Epoch 31/250\n",
            "29/29 [==============================] - 0s 15ms/step - loss: 0.0054 - accuracy: 1.0000\n",
            "Epoch 32/250\n",
            "29/29 [==============================] - 0s 14ms/step - loss: 0.0033 - accuracy: 0.9996\n",
            "Epoch 33/250\n",
            "29/29 [==============================] - 0s 14ms/step - loss: 0.0105 - accuracy: 0.9981\n",
            "Epoch 34/250\n",
            "29/29 [==============================] - 0s 14ms/step - loss: 0.0499 - accuracy: 0.9906\n",
            "Epoch 35/250\n",
            "29/29 [==============================] - 0s 14ms/step - loss: 0.0166 - accuracy: 0.9963\n",
            "Epoch 36/250\n",
            "29/29 [==============================] - 0s 14ms/step - loss: 0.2981 - accuracy: 0.9150\n",
            "Epoch 37/250\n",
            "29/29 [==============================] - 0s 15ms/step - loss: 0.0288 - accuracy: 0.9924\n",
            "Epoch 38/250\n",
            "29/29 [==============================] - 0s 14ms/step - loss: 0.0233 - accuracy: 0.9938\n",
            "Epoch 39/250\n",
            "29/29 [==============================] - 0s 14ms/step - loss: 0.0157 - accuracy: 0.9953\n",
            "Epoch 40/250\n",
            "29/29 [==============================] - 0s 14ms/step - loss: 0.0124 - accuracy: 0.9961\n",
            "Epoch 41/250\n",
            "29/29 [==============================] - 0s 15ms/step - loss: 0.0085 - accuracy: 0.9969\n",
            "Epoch 42/250\n",
            "29/29 [==============================] - 0s 14ms/step - loss: 0.0017 - accuracy: 0.9998\n",
            "Epoch 43/250\n",
            "29/29 [==============================] - 0s 14ms/step - loss: 0.0098 - accuracy: 0.9974\n",
            "Epoch 44/250\n",
            "29/29 [==============================] - 0s 14ms/step - loss: 0.0091 - accuracy: 0.9969\n",
            "Epoch 45/250\n",
            "29/29 [==============================] - 0s 14ms/step - loss: 0.0025 - accuracy: 0.9997\n",
            "Epoch 46/250\n",
            "29/29 [==============================] - 0s 14ms/step - loss: 0.0165 - accuracy: 0.9939\n",
            "Epoch 47/250\n",
            "29/29 [==============================] - 0s 14ms/step - loss: 0.0028 - accuracy: 0.9984\n",
            "Epoch 48/250\n",
            "29/29 [==============================] - 0s 14ms/step - loss: 0.0034 - accuracy: 0.9979\n",
            "Epoch 49/250\n",
            "29/29 [==============================] - 0s 14ms/step - loss: 0.0059 - accuracy: 0.9994\n",
            "Epoch 50/250\n",
            "29/29 [==============================] - 0s 14ms/step - loss: 0.0019 - accuracy: 0.9996\n",
            "Epoch 51/250\n",
            "29/29 [==============================] - 0s 14ms/step - loss: 0.0014 - accuracy: 1.0000\n",
            "Epoch 52/250\n",
            "29/29 [==============================] - 0s 14ms/step - loss: 0.0049 - accuracy: 0.9980\n",
            "Epoch 53/250\n",
            "29/29 [==============================] - 0s 15ms/step - loss: 2.0613e-04 - accuracy: 1.0000\n",
            "Epoch 54/250\n",
            "29/29 [==============================] - 0s 14ms/step - loss: 2.9961e-04 - accuracy: 1.0000\n",
            "Epoch 55/250\n",
            "29/29 [==============================] - 0s 15ms/step - loss: 1.2619e-04 - accuracy: 1.0000\n",
            "Epoch 56/250\n",
            "29/29 [==============================] - 0s 14ms/step - loss: 7.9873e-05 - accuracy: 1.0000\n",
            "Epoch 57/250\n",
            "29/29 [==============================] - 0s 14ms/step - loss: 7.8910e-05 - accuracy: 1.0000\n",
            "Epoch 58/250\n",
            "29/29 [==============================] - 0s 14ms/step - loss: 7.9093e-05 - accuracy: 1.0000\n",
            "Epoch 59/250\n",
            "29/29 [==============================] - 0s 15ms/step - loss: 7.1679e-05 - accuracy: 1.0000\n",
            "Epoch 60/250\n",
            "29/29 [==============================] - 0s 14ms/step - loss: 7.4035e-05 - accuracy: 1.0000\n",
            "Epoch 61/250\n",
            "29/29 [==============================] - 0s 14ms/step - loss: 1.0394e-04 - accuracy: 1.0000\n",
            "Epoch 62/250\n",
            "29/29 [==============================] - 0s 15ms/step - loss: 6.0965e-05 - accuracy: 1.0000\n",
            "Epoch 63/250\n",
            "29/29 [==============================] - 0s 14ms/step - loss: 6.4196e-05 - accuracy: 1.0000\n",
            "Epoch 64/250\n",
            "29/29 [==============================] - 0s 14ms/step - loss: 1.0728e-04 - accuracy: 1.0000\n",
            "Epoch 65/250\n",
            "29/29 [==============================] - 0s 14ms/step - loss: 1.1788e-04 - accuracy: 1.0000\n",
            "Epoch 66/250\n",
            "29/29 [==============================] - 0s 14ms/step - loss: 5.6340e-05 - accuracy: 1.0000\n",
            "Epoch 67/250\n",
            "29/29 [==============================] - 0s 14ms/step - loss: 5.8139e-05 - accuracy: 1.0000\n",
            "Epoch 68/250\n",
            "29/29 [==============================] - 0s 14ms/step - loss: 3.8990e-05 - accuracy: 1.0000\n",
            "Epoch 69/250\n",
            "29/29 [==============================] - 0s 14ms/step - loss: 3.8145e-05 - accuracy: 1.0000\n",
            "Epoch 70/250\n",
            "29/29 [==============================] - 0s 14ms/step - loss: 4.5778e-05 - accuracy: 1.0000\n",
            "Epoch 71/250\n",
            "29/29 [==============================] - 0s 14ms/step - loss: 8.7262e-05 - accuracy: 1.0000\n",
            "Epoch 72/250\n",
            "29/29 [==============================] - 0s 15ms/step - loss: 3.0936e-05 - accuracy: 1.0000\n",
            "Epoch 73/250\n",
            "29/29 [==============================] - 0s 14ms/step - loss: 3.0320e-05 - accuracy: 1.0000\n",
            "Epoch 74/250\n",
            "29/29 [==============================] - 0s 14ms/step - loss: 2.4080e-05 - accuracy: 1.0000\n",
            "Epoch 75/250\n",
            "29/29 [==============================] - 0s 14ms/step - loss: 1.9553e-05 - accuracy: 1.0000\n",
            "Epoch 76/250\n",
            "29/29 [==============================] - 0s 14ms/step - loss: 1.0326e-04 - accuracy: 1.0000\n",
            "Epoch 77/250\n",
            "29/29 [==============================] - 0s 14ms/step - loss: 3.4544e-05 - accuracy: 1.0000\n",
            "Epoch 78/250\n",
            "29/29 [==============================] - 0s 14ms/step - loss: 2.2201e-05 - accuracy: 1.0000\n",
            "Epoch 79/250\n",
            "29/29 [==============================] - 0s 15ms/step - loss: 2.6955e-05 - accuracy: 1.0000\n",
            "Epoch 80/250\n",
            "29/29 [==============================] - 0s 14ms/step - loss: 2.4691e-05 - accuracy: 1.0000\n",
            "Epoch 81/250\n",
            "29/29 [==============================] - 0s 14ms/step - loss: 4.8657e-05 - accuracy: 1.0000\n",
            "Epoch 82/250\n",
            "29/29 [==============================] - 0s 14ms/step - loss: 1.9122e-05 - accuracy: 1.0000\n",
            "Epoch 83/250\n",
            "29/29 [==============================] - 0s 14ms/step - loss: 6.0127e-05 - accuracy: 1.0000\n",
            "Epoch 84/250\n",
            "29/29 [==============================] - 0s 15ms/step - loss: 5.1393e-05 - accuracy: 1.0000\n",
            "Epoch 85/250\n",
            "29/29 [==============================] - 0s 15ms/step - loss: 3.6543e-05 - accuracy: 1.0000\n",
            "Epoch 86/250\n",
            "29/29 [==============================] - 0s 14ms/step - loss: 2.5606e-05 - accuracy: 1.0000\n",
            "Epoch 87/250\n",
            "29/29 [==============================] - 0s 14ms/step - loss: 2.5581e-05 - accuracy: 1.0000\n",
            "Epoch 88/250\n",
            "29/29 [==============================] - 0s 14ms/step - loss: 2.1356e-05 - accuracy: 1.0000\n",
            "Epoch 89/250\n",
            "29/29 [==============================] - 0s 14ms/step - loss: 2.1988e-05 - accuracy: 1.0000\n",
            "Epoch 90/250\n",
            "29/29 [==============================] - 0s 14ms/step - loss: 1.2635e-05 - accuracy: 1.0000\n",
            "Epoch 91/250\n",
            "29/29 [==============================] - 0s 15ms/step - loss: 1.6064e-05 - accuracy: 1.0000\n",
            "Epoch 92/250\n",
            "29/29 [==============================] - 0s 15ms/step - loss: 1.3566e-05 - accuracy: 1.0000\n",
            "Epoch 93/250\n",
            "29/29 [==============================] - 0s 14ms/step - loss: 1.8780e-05 - accuracy: 1.0000\n",
            "Epoch 94/250\n",
            "29/29 [==============================] - 0s 15ms/step - loss: 2.8803e-05 - accuracy: 1.0000\n",
            "Epoch 95/250\n",
            "29/29 [==============================] - 0s 15ms/step - loss: 8.5011e-05 - accuracy: 1.0000\n",
            "Epoch 96/250\n",
            "29/29 [==============================] - 0s 14ms/step - loss: 1.5930e-05 - accuracy: 1.0000\n",
            "Epoch 97/250\n",
            "29/29 [==============================] - 0s 14ms/step - loss: 1.1119e-05 - accuracy: 1.0000\n",
            "Epoch 98/250\n",
            "29/29 [==============================] - 0s 14ms/step - loss: 6.4560e-06 - accuracy: 1.0000\n",
            "Epoch 99/250\n",
            "29/29 [==============================] - 0s 15ms/step - loss: 9.3034e-06 - accuracy: 1.0000\n",
            "Epoch 100/250\n",
            "29/29 [==============================] - 0s 14ms/step - loss: 1.7355e-05 - accuracy: 1.0000\n",
            "Epoch 101/250\n",
            "29/29 [==============================] - 0s 15ms/step - loss: 4.0280e-06 - accuracy: 1.0000\n",
            "Epoch 102/250\n",
            "29/29 [==============================] - 0s 14ms/step - loss: 7.0365e-06 - accuracy: 1.0000\n",
            "Epoch 103/250\n",
            "29/29 [==============================] - 0s 14ms/step - loss: 1.2160e-05 - accuracy: 1.0000\n",
            "Epoch 104/250\n",
            "29/29 [==============================] - 0s 14ms/step - loss: 9.2311e-06 - accuracy: 1.0000\n",
            "Epoch 105/250\n",
            "29/29 [==============================] - 0s 14ms/step - loss: 7.0521e-06 - accuracy: 1.0000\n",
            "Epoch 106/250\n",
            "29/29 [==============================] - 0s 15ms/step - loss: 8.0355e-06 - accuracy: 1.0000\n",
            "Epoch 107/250\n",
            "29/29 [==============================] - 0s 14ms/step - loss: 9.3083e-06 - accuracy: 1.0000\n",
            "Epoch 108/250\n",
            "29/29 [==============================] - 0s 14ms/step - loss: 1.1723e-05 - accuracy: 1.0000\n",
            "Epoch 109/250\n",
            "29/29 [==============================] - 0s 14ms/step - loss: 4.5226e-06 - accuracy: 1.0000\n",
            "Epoch 110/250\n",
            "29/29 [==============================] - 0s 14ms/step - loss: 4.7446e-06 - accuracy: 1.0000\n",
            "Epoch 111/250\n",
            "29/29 [==============================] - 0s 14ms/step - loss: 4.6823e-06 - accuracy: 1.0000\n",
            "Epoch 112/250\n",
            "29/29 [==============================] - 0s 14ms/step - loss: 2.4550e-05 - accuracy: 1.0000\n",
            "Epoch 113/250\n",
            "29/29 [==============================] - 0s 15ms/step - loss: 7.5976e-06 - accuracy: 1.0000\n",
            "Epoch 114/250\n",
            "29/29 [==============================] - 0s 14ms/step - loss: 7.2719e-06 - accuracy: 1.0000\n",
            "Epoch 115/250\n",
            "29/29 [==============================] - 0s 15ms/step - loss: 5.8191e-06 - accuracy: 1.0000\n",
            "Epoch 116/250\n",
            "29/29 [==============================] - 0s 15ms/step - loss: 4.1060e-06 - accuracy: 1.0000\n",
            "Epoch 117/250\n",
            "29/29 [==============================] - 0s 14ms/step - loss: 3.6230e-06 - accuracy: 1.0000\n",
            "Epoch 118/250\n",
            "29/29 [==============================] - 0s 15ms/step - loss: 1.5380e-05 - accuracy: 1.0000\n",
            "Epoch 119/250\n",
            "29/29 [==============================] - 0s 14ms/step - loss: 9.3067e-06 - accuracy: 1.0000\n",
            "Epoch 120/250\n",
            "29/29 [==============================] - 0s 14ms/step - loss: 9.2062e-06 - accuracy: 1.0000\n",
            "Epoch 121/250\n",
            "29/29 [==============================] - 0s 14ms/step - loss: 5.5650e-06 - accuracy: 1.0000\n",
            "Epoch 122/250\n",
            "29/29 [==============================] - 0s 14ms/step - loss: 6.1784e-06 - accuracy: 1.0000\n",
            "Epoch 123/250\n",
            "29/29 [==============================] - 0s 14ms/step - loss: 4.4575e-06 - accuracy: 1.0000\n",
            "Epoch 124/250\n",
            "29/29 [==============================] - 0s 14ms/step - loss: 2.3544e-06 - accuracy: 1.0000\n",
            "Epoch 125/250\n",
            "29/29 [==============================] - 0s 14ms/step - loss: 1.1294e-05 - accuracy: 1.0000\n",
            "Epoch 126/250\n",
            "29/29 [==============================] - 0s 14ms/step - loss: 1.9418e-06 - accuracy: 1.0000\n",
            "Epoch 127/250\n",
            "29/29 [==============================] - 0s 14ms/step - loss: 2.4415e-06 - accuracy: 1.0000\n",
            "Epoch 128/250\n",
            "29/29 [==============================] - 0s 14ms/step - loss: 2.5155e-06 - accuracy: 1.0000\n",
            "Epoch 129/250\n",
            "29/29 [==============================] - 0s 14ms/step - loss: 2.1880e-06 - accuracy: 1.0000\n",
            "Epoch 130/250\n",
            "29/29 [==============================] - 0s 14ms/step - loss: 2.8820e-06 - accuracy: 1.0000\n",
            "Epoch 131/250\n",
            "29/29 [==============================] - 0s 15ms/step - loss: 4.9862e-06 - accuracy: 1.0000\n",
            "Epoch 132/250\n",
            "29/29 [==============================] - 0s 15ms/step - loss: 8.0096e-06 - accuracy: 1.0000\n",
            "Epoch 133/250\n",
            "29/29 [==============================] - 0s 15ms/step - loss: 6.7304e-06 - accuracy: 1.0000\n",
            "Epoch 134/250\n",
            "29/29 [==============================] - 0s 14ms/step - loss: 3.7555e-06 - accuracy: 1.0000\n",
            "Epoch 135/250\n",
            "29/29 [==============================] - 0s 15ms/step - loss: 1.8633e-05 - accuracy: 1.0000\n",
            "Epoch 136/250\n",
            "29/29 [==============================] - 0s 14ms/step - loss: 6.8278e-06 - accuracy: 1.0000\n",
            "Epoch 137/250\n",
            "29/29 [==============================] - 0s 15ms/step - loss: 6.1288e-06 - accuracy: 1.0000\n",
            "Epoch 138/250\n",
            "29/29 [==============================] - 0s 15ms/step - loss: 3.5627e-06 - accuracy: 1.0000\n",
            "Epoch 139/250\n",
            "29/29 [==============================] - 0s 15ms/step - loss: 3.9257e-06 - accuracy: 1.0000\n",
            "Epoch 140/250\n",
            "29/29 [==============================] - 0s 14ms/step - loss: 1.1971e-05 - accuracy: 1.0000\n",
            "Epoch 141/250\n",
            "29/29 [==============================] - 0s 14ms/step - loss: 4.1112e-06 - accuracy: 1.0000\n",
            "Epoch 142/250\n",
            "29/29 [==============================] - 0s 14ms/step - loss: 1.3532e-05 - accuracy: 1.0000\n",
            "Epoch 143/250\n",
            "29/29 [==============================] - 0s 14ms/step - loss: 1.6954e-06 - accuracy: 1.0000\n",
            "Epoch 144/250\n",
            "29/29 [==============================] - 0s 15ms/step - loss: 2.2737e-06 - accuracy: 1.0000\n",
            "Epoch 145/250\n",
            "29/29 [==============================] - 0s 15ms/step - loss: 4.9829e-06 - accuracy: 1.0000\n",
            "Epoch 146/250\n",
            "29/29 [==============================] - 0s 15ms/step - loss: 5.2041e-06 - accuracy: 1.0000\n",
            "Epoch 147/250\n",
            "29/29 [==============================] - 0s 15ms/step - loss: 3.8191e-06 - accuracy: 1.0000\n",
            "Epoch 148/250\n",
            "29/29 [==============================] - 0s 15ms/step - loss: 1.6892e-06 - accuracy: 1.0000\n",
            "Epoch 149/250\n",
            "29/29 [==============================] - 0s 15ms/step - loss: 1.8118e-06 - accuracy: 1.0000\n",
            "Epoch 150/250\n",
            "29/29 [==============================] - 0s 14ms/step - loss: 2.3524e-06 - accuracy: 1.0000\n",
            "Epoch 151/250\n",
            "29/29 [==============================] - 0s 15ms/step - loss: 2.1456e-06 - accuracy: 1.0000\n",
            "Epoch 152/250\n",
            "29/29 [==============================] - 0s 15ms/step - loss: 1.2946e-06 - accuracy: 1.0000\n",
            "Epoch 153/250\n",
            "29/29 [==============================] - 0s 14ms/step - loss: 1.3135e-06 - accuracy: 1.0000\n",
            "Epoch 154/250\n",
            "29/29 [==============================] - 0s 14ms/step - loss: 3.6838e-06 - accuracy: 1.0000\n",
            "Epoch 155/250\n",
            "29/29 [==============================] - 0s 14ms/step - loss: 1.1217e-06 - accuracy: 1.0000\n",
            "Epoch 156/250\n",
            "29/29 [==============================] - 0s 14ms/step - loss: 4.0941e-06 - accuracy: 1.0000\n",
            "Epoch 157/250\n",
            "29/29 [==============================] - 0s 14ms/step - loss: 8.6242e-06 - accuracy: 1.0000\n",
            "Epoch 158/250\n",
            "29/29 [==============================] - 0s 15ms/step - loss: 1.4302e-06 - accuracy: 1.0000\n",
            "Epoch 159/250\n",
            "29/29 [==============================] - 0s 15ms/step - loss: 4.7989e-06 - accuracy: 1.0000\n",
            "Epoch 160/250\n",
            "29/29 [==============================] - 0s 14ms/step - loss: 1.7279e-06 - accuracy: 1.0000\n",
            "Epoch 161/250\n",
            "29/29 [==============================] - 0s 14ms/step - loss: 1.8569e-06 - accuracy: 1.0000\n",
            "Epoch 162/250\n",
            "29/29 [==============================] - 0s 14ms/step - loss: 2.3375e-06 - accuracy: 1.0000\n",
            "Epoch 163/250\n",
            "29/29 [==============================] - 0s 15ms/step - loss: 2.6079e-06 - accuracy: 1.0000\n",
            "Epoch 164/250\n",
            "29/29 [==============================] - 0s 15ms/step - loss: 1.3874e-06 - accuracy: 1.0000\n",
            "Epoch 165/250\n",
            "29/29 [==============================] - 0s 14ms/step - loss: 9.9752e-07 - accuracy: 1.0000\n",
            "Epoch 166/250\n",
            "29/29 [==============================] - 0s 14ms/step - loss: 1.2892e-06 - accuracy: 1.0000\n",
            "Epoch 167/250\n",
            "29/29 [==============================] - 0s 15ms/step - loss: 1.1423e-06 - accuracy: 1.0000\n",
            "Epoch 168/250\n",
            "29/29 [==============================] - 0s 14ms/step - loss: 7.5428e-07 - accuracy: 1.0000\n",
            "Epoch 169/250\n",
            "29/29 [==============================] - 0s 14ms/step - loss: 2.8273e-06 - accuracy: 1.0000\n",
            "Epoch 170/250\n",
            "29/29 [==============================] - 0s 14ms/step - loss: 8.4372e-07 - accuracy: 1.0000\n",
            "Epoch 171/250\n",
            "29/29 [==============================] - 0s 14ms/step - loss: 2.2372e-06 - accuracy: 1.0000\n",
            "Epoch 172/250\n",
            "29/29 [==============================] - 0s 14ms/step - loss: 1.1684e-06 - accuracy: 1.0000\n",
            "Epoch 173/250\n",
            "29/29 [==============================] - 0s 14ms/step - loss: 1.0308e-06 - accuracy: 1.0000\n",
            "Epoch 174/250\n",
            "29/29 [==============================] - 0s 15ms/step - loss: 9.9045e-07 - accuracy: 1.0000\n",
            "Epoch 175/250\n",
            "29/29 [==============================] - 0s 15ms/step - loss: 5.8221e-07 - accuracy: 1.0000\n",
            "Epoch 176/250\n",
            "29/29 [==============================] - 0s 15ms/step - loss: 1.4069e-06 - accuracy: 1.0000\n",
            "Epoch 177/250\n",
            "29/29 [==============================] - 0s 15ms/step - loss: 5.9546e-07 - accuracy: 1.0000\n",
            "Epoch 178/250\n",
            "29/29 [==============================] - 0s 15ms/step - loss: 1.9454e-06 - accuracy: 1.0000\n",
            "Epoch 179/250\n",
            "29/29 [==============================] - 0s 15ms/step - loss: 7.1640e-07 - accuracy: 1.0000\n",
            "Epoch 180/250\n",
            "29/29 [==============================] - 0s 15ms/step - loss: 1.8411e-06 - accuracy: 1.0000\n",
            "Epoch 181/250\n",
            "29/29 [==============================] - 0s 15ms/step - loss: 6.1528e-07 - accuracy: 1.0000\n",
            "Epoch 182/250\n",
            "29/29 [==============================] - 0s 14ms/step - loss: 3.2605e-06 - accuracy: 1.0000\n",
            "Epoch 183/250\n",
            "29/29 [==============================] - 0s 15ms/step - loss: 2.6950e-06 - accuracy: 1.0000\n",
            "Epoch 184/250\n",
            "29/29 [==============================] - 0s 15ms/step - loss: 1.6138e-06 - accuracy: 1.0000\n",
            "Epoch 185/250\n",
            "29/29 [==============================] - 0s 15ms/step - loss: 2.4010e-06 - accuracy: 1.0000\n",
            "Epoch 186/250\n",
            "29/29 [==============================] - 0s 15ms/step - loss: 6.8419e-07 - accuracy: 1.0000\n",
            "Epoch 187/250\n",
            "29/29 [==============================] - 0s 15ms/step - loss: 1.1403e-06 - accuracy: 1.0000\n",
            "Epoch 188/250\n",
            "29/29 [==============================] - 0s 14ms/step - loss: 1.0438e-06 - accuracy: 1.0000\n",
            "Epoch 189/250\n",
            "29/29 [==============================] - 0s 15ms/step - loss: 1.6664e-06 - accuracy: 1.0000\n",
            "Epoch 190/250\n",
            "29/29 [==============================] - 0s 14ms/step - loss: 7.5399e-07 - accuracy: 1.0000\n",
            "Epoch 191/250\n",
            "29/29 [==============================] - 0s 15ms/step - loss: 7.8980e-07 - accuracy: 1.0000\n",
            "Epoch 192/250\n",
            "29/29 [==============================] - 0s 14ms/step - loss: 1.0719e-06 - accuracy: 1.0000\n",
            "Epoch 193/250\n",
            "29/29 [==============================] - 0s 15ms/step - loss: 2.9811e-06 - accuracy: 1.0000\n",
            "Epoch 194/250\n",
            "29/29 [==============================] - 0s 14ms/step - loss: 7.8262e-07 - accuracy: 1.0000\n",
            "Epoch 195/250\n",
            "29/29 [==============================] - 0s 14ms/step - loss: 4.8266e-07 - accuracy: 1.0000\n",
            "Epoch 196/250\n",
            "29/29 [==============================] - 0s 15ms/step - loss: 7.9894e-07 - accuracy: 1.0000\n",
            "Epoch 197/250\n",
            "29/29 [==============================] - 0s 14ms/step - loss: 3.1708e-06 - accuracy: 1.0000\n",
            "Epoch 198/250\n",
            "29/29 [==============================] - 0s 15ms/step - loss: 2.7408e-06 - accuracy: 1.0000\n",
            "Epoch 199/250\n",
            "29/29 [==============================] - 0s 14ms/step - loss: 1.7010e-06 - accuracy: 1.0000\n",
            "Epoch 200/250\n",
            "29/29 [==============================] - 0s 14ms/step - loss: 9.7051e-07 - accuracy: 1.0000\n",
            "Epoch 201/250\n",
            "29/29 [==============================] - 0s 15ms/step - loss: 3.0300e-06 - accuracy: 1.0000\n",
            "Epoch 202/250\n",
            "29/29 [==============================] - 0s 15ms/step - loss: 1.5613e-06 - accuracy: 1.0000\n",
            "Epoch 203/250\n",
            "29/29 [==============================] - 0s 15ms/step - loss: 6.7019e-07 - accuracy: 1.0000\n",
            "Epoch 204/250\n",
            "29/29 [==============================] - 0s 14ms/step - loss: 6.7587e-07 - accuracy: 1.0000\n",
            "Epoch 205/250\n",
            "29/29 [==============================] - 0s 14ms/step - loss: 3.6456e-07 - accuracy: 1.0000\n",
            "Epoch 206/250\n",
            "29/29 [==============================] - 0s 15ms/step - loss: 1.0467e-06 - accuracy: 1.0000\n",
            "Epoch 207/250\n",
            "29/29 [==============================] - 0s 15ms/step - loss: 1.5536e-06 - accuracy: 1.0000\n",
            "Epoch 208/250\n",
            "29/29 [==============================] - 0s 15ms/step - loss: 1.1293e-06 - accuracy: 1.0000\n",
            "Epoch 209/250\n",
            "29/29 [==============================] - 0s 15ms/step - loss: 5.1702e-07 - accuracy: 1.0000\n",
            "Epoch 210/250\n",
            "29/29 [==============================] - 0s 15ms/step - loss: 6.3863e-07 - accuracy: 1.0000\n",
            "Epoch 211/250\n",
            "29/29 [==============================] - 0s 15ms/step - loss: 7.1316e-07 - accuracy: 1.0000\n",
            "Epoch 212/250\n",
            "29/29 [==============================] - 0s 15ms/step - loss: 6.6190e-07 - accuracy: 1.0000\n",
            "Epoch 213/250\n",
            "29/29 [==============================] - 0s 15ms/step - loss: 1.5628e-06 - accuracy: 1.0000\n",
            "Epoch 214/250\n",
            "29/29 [==============================] - 0s 15ms/step - loss: 8.0058e-07 - accuracy: 1.0000\n",
            "Epoch 215/250\n",
            "29/29 [==============================] - 0s 14ms/step - loss: 1.8468e-06 - accuracy: 1.0000\n",
            "Epoch 216/250\n",
            "29/29 [==============================] - 0s 15ms/step - loss: 8.5580e-07 - accuracy: 1.0000\n",
            "Epoch 217/250\n",
            "29/29 [==============================] - 0s 14ms/step - loss: 5.6232e-07 - accuracy: 1.0000\n",
            "Epoch 218/250\n",
            "29/29 [==============================] - 0s 15ms/step - loss: 6.6265e-07 - accuracy: 1.0000\n",
            "Epoch 219/250\n",
            "29/29 [==============================] - 0s 14ms/step - loss: 3.9116e-07 - accuracy: 1.0000\n",
            "Epoch 220/250\n",
            "29/29 [==============================] - 0s 14ms/step - loss: 2.2909e-07 - accuracy: 1.0000\n",
            "Epoch 221/250\n",
            "29/29 [==============================] - 0s 14ms/step - loss: 5.1815e-07 - accuracy: 1.0000\n",
            "Epoch 222/250\n",
            "29/29 [==============================] - 0s 15ms/step - loss: 6.6709e-07 - accuracy: 1.0000\n",
            "Epoch 223/250\n",
            "29/29 [==============================] - 0s 15ms/step - loss: 9.3167e-07 - accuracy: 1.0000\n",
            "Epoch 224/250\n",
            "29/29 [==============================] - 0s 15ms/step - loss: 1.2980e-06 - accuracy: 1.0000\n",
            "Epoch 225/250\n",
            "29/29 [==============================] - 0s 15ms/step - loss: 1.9076e-07 - accuracy: 1.0000\n",
            "Epoch 226/250\n",
            "29/29 [==============================] - 0s 15ms/step - loss: 2.1796e-07 - accuracy: 1.0000\n",
            "Epoch 227/250\n",
            "29/29 [==============================] - 0s 14ms/step - loss: 6.0292e-07 - accuracy: 1.0000\n",
            "Epoch 228/250\n",
            "29/29 [==============================] - 0s 14ms/step - loss: 9.6448e-07 - accuracy: 1.0000\n",
            "Epoch 229/250\n",
            "29/29 [==============================] - 0s 15ms/step - loss: 1.4155e-06 - accuracy: 1.0000\n",
            "Epoch 230/250\n",
            "29/29 [==============================] - 0s 15ms/step - loss: 2.8936e-07 - accuracy: 1.0000\n",
            "Epoch 231/250\n",
            "29/29 [==============================] - 0s 14ms/step - loss: 8.9950e-07 - accuracy: 1.0000\n",
            "Epoch 232/250\n",
            "29/29 [==============================] - 0s 14ms/step - loss: 1.8100e-07 - accuracy: 1.0000\n",
            "Epoch 233/250\n",
            "29/29 [==============================] - 0s 14ms/step - loss: 1.3322e-06 - accuracy: 1.0000\n",
            "Epoch 234/250\n",
            "29/29 [==============================] - 0s 15ms/step - loss: 2.1200e-06 - accuracy: 1.0000\n",
            "Epoch 235/250\n",
            "29/29 [==============================] - 0s 15ms/step - loss: 5.3887e-07 - accuracy: 1.0000\n",
            "Epoch 236/250\n",
            "29/29 [==============================] - 0s 15ms/step - loss: 6.9692e-07 - accuracy: 1.0000\n",
            "Epoch 237/250\n",
            "29/29 [==============================] - 0s 15ms/step - loss: 5.6220e-07 - accuracy: 1.0000\n",
            "Epoch 238/250\n",
            "29/29 [==============================] - 0s 14ms/step - loss: 1.4410e-06 - accuracy: 1.0000\n",
            "Epoch 239/250\n",
            "29/29 [==============================] - 0s 15ms/step - loss: 6.7831e-07 - accuracy: 1.0000\n",
            "Epoch 240/250\n",
            "29/29 [==============================] - 0s 14ms/step - loss: 3.5115e-07 - accuracy: 1.0000\n",
            "Epoch 241/250\n",
            "29/29 [==============================] - 0s 15ms/step - loss: 3.3816e-07 - accuracy: 1.0000\n",
            "Epoch 242/250\n",
            "29/29 [==============================] - 0s 15ms/step - loss: 3.0504e-07 - accuracy: 1.0000\n",
            "Epoch 243/250\n",
            "29/29 [==============================] - 0s 14ms/step - loss: 3.7744e-06 - accuracy: 1.0000\n",
            "Epoch 244/250\n",
            "29/29 [==============================] - 0s 15ms/step - loss: 3.3836e-07 - accuracy: 1.0000\n",
            "Epoch 245/250\n",
            "29/29 [==============================] - 0s 15ms/step - loss: 6.9189e-07 - accuracy: 1.0000\n",
            "Epoch 246/250\n",
            "29/29 [==============================] - 0s 15ms/step - loss: 4.8881e-07 - accuracy: 1.0000\n",
            "Epoch 247/250\n",
            "29/29 [==============================] - 0s 15ms/step - loss: 2.0475e-07 - accuracy: 1.0000\n",
            "Epoch 248/250\n",
            "29/29 [==============================] - 0s 14ms/step - loss: 4.1145e-07 - accuracy: 1.0000\n",
            "Epoch 249/250\n",
            "29/29 [==============================] - 0s 14ms/step - loss: 8.2697e-07 - accuracy: 1.0000\n",
            "Epoch 250/250\n",
            "29/29 [==============================] - 0s 15ms/step - loss: 2.3304e-07 - accuracy: 1.0000\n"
          ],
          "name": "stdout"
        }
      ]
    },
    {
      "cell_type": "code",
      "metadata": {
        "colab": {
          "base_uri": "https://localhost:8080/"
        },
        "id": "A6BGjnzu-wtp",
        "outputId": "0411815b-70b5-4f9c-8ea1-c4f01e96207f"
      },
      "source": [
        "history_dict = history.history\n",
        "print(history_dict.keys())\n",
        "# to keep for later \n",
        "%store history_dict"
      ],
      "execution_count": 10,
      "outputs": [
        {
          "output_type": "stream",
          "text": [
            "dict_keys(['loss', 'accuracy'])\n",
            "Stored 'history_dict' (dict)\n"
          ],
          "name": "stdout"
        }
      ]
    },
    {
      "cell_type": "code",
      "metadata": {
        "id": "qjHvIqe1-0zr"
      },
      "source": [
        "# imports \n",
        "import matplotlib.pyplot as plt \n",
        "import matplotlib.image as mpimg"
      ],
      "execution_count": 11,
      "outputs": []
    },
    {
      "cell_type": "code",
      "metadata": {
        "id": "M816JvwK-3GJ"
      },
      "source": [
        "# function to plot training given history dictionary \n",
        "def plot_training(history_dict):\n",
        "\t\"\"\"\n",
        "\tPlots the training accuracy and loss graphs for a Keras model (validation graphs not included). \n",
        "\tParameters:\n",
        "\t\t- history_dict: a dictionary of \"history\" object from Keras \n",
        "\t\"\"\"\n",
        "\t# plot training accuracy graph \n",
        "\tplt.plot(history_dict['accuracy'])\n",
        "\tplt.title('Training Accuracy')\n",
        "\tplt.ylabel('accuracy')\n",
        "\tplt.xlabel('epoch')\n",
        "\tplt.legend(['train'], loc='upper left')\n",
        "\tplt.show()\n",
        "\n",
        "\t# plot training loss graph \n",
        "\tplt.plot(history_dict['loss'])\n",
        "\tplt.title('Training Loss')\n",
        "\tplt.ylabel('loss')\n",
        "\tplt.xlabel('epoch')\n",
        "\tplt.legend(['train'], loc='upper left')\n",
        "\tplt.show()"
      ],
      "execution_count": 12,
      "outputs": []
    },
    {
      "cell_type": "code",
      "metadata": {
        "colab": {
          "base_uri": "https://localhost:8080/",
          "height": 573
        },
        "id": "wTeJt4ZD-4u_",
        "outputId": "1f120cb4-a26b-4bcc-af44-2dc1f07daa3c"
      },
      "source": [
        "plot_training(history_dict)"
      ],
      "execution_count": 13,
      "outputs": [
        {
          "output_type": "display_data",
          "data": {
            "image/png": "[encoded data removed]",
            "text/plain": [
              "<Figure size 432x288 with 1 Axes>"
            ]
          },
          "metadata": {
            "tags": [],
            "needs_background": "light"
          }
        },
        {
          "output_type": "display_data",
          "data": {
            "image/png": "[encoded data removed]",
            "text/plain": [
              "<Figure size 432x288 with 1 Axes>"
            ]
          },
          "metadata": {
            "tags": [],
            "needs_background": "light"
          }
        }
      ]
    },
    {
      "cell_type": "code",
      "metadata": {
        "colab": {
          "base_uri": "https://localhost:8080/"
        },
        "id": "sgx89I-e-88c",
        "outputId": "486dce6c-a3e7-4c2b-d3f5-284907308987"
      },
      "source": [
        "test_loss, test_accuracy = model.evaluate(test_samples,  test_labels, verbose=2)\n",
        "print('Test accuracy:', test_accuracy)"
      ],
      "execution_count": 14,
      "outputs": [
        {
          "output_type": "stream",
          "text": [
            "4/4 - 1s - loss: 5.9605e-08 - accuracy: 1.0000\n",
            "Test accuracy: 1.0\n"
          ],
          "name": "stdout"
        }
      ]
    },
    {
      "cell_type": "code",
      "metadata": {
        "colab": {
          "base_uri": "https://localhost:8080/"
        },
        "id": "t7yd5t-U-9Xf",
        "outputId": "7b984410-b3b7-487a-b914-316047bd5416"
      },
      "source": [
        "predictions = model.predict_classes(test_samples) # generates a list of predictions"
      ],
      "execution_count": 15,
      "outputs": [
        {
          "output_type": "stream",
          "text": [
            "/usr/local/lib/python3.7/dist-packages/tensorflow/python/keras/engine/sequential.py:450: UserWarning: `model.predict_classes()` is deprecated and will be removed after 2021-01-01. Please use instead:* `np.argmax(model.predict(x), axis=-1)`,   if your model does multi-class classification   (e.g. if it uses a `softmax` last-layer activation).* `(model.predict(x) > 0.5).astype(\"int32\")`,   if your model does binary classification   (e.g. if it uses a `sigmoid` last-layer activation).\n",
            "  warnings.warn('`model.predict_classes()` is deprecated and '\n"
          ],
          "name": "stderr"
        }
      ]
    },
    {
      "cell_type": "code",
      "metadata": {
        "colab": {
          "base_uri": "https://localhost:8080/"
        },
        "id": "brlBgmRU--5Z",
        "outputId": "e427b3aa-4508-439e-bf3c-fa888be13080"
      },
      "source": [
        "print(\"Test labels: \\n\", test_labels)\n",
        "print(\"Test predictions: \\n\", predictions)"
      ],
      "execution_count": 16,
      "outputs": [
        {
          "output_type": "stream",
          "text": [
            "Test labels: \n",
            " [0 0 0 0 0 0 0 0 0 0 0 0 0 0 0 0 0 0 0 0 0 0 0 0 0 0 0 0 0 0 0 0 0 0 0 0 0\n",
            " 0 0 0 0 0 0 0 0 0 0 0 0 0 1 1 1 1 1 1 1 1 1 1 1 1 1 1 1 1 1 1 1 1 1 1 1 1\n",
            " 1 1 1 1 1 1 1 1 1 1 1 1 1 1 1 1 1 1 1 1 1 1 1 1 1 1]\n",
            "Test predictions: \n",
            " [0 0 0 0 0 0 0 0 0 0 0 0 0 0 0 0 0 0 0 0 0 0 0 0 0 0 0 0 0 0 0 0 0 0 0 0 0\n",
            " 0 0 0 0 0 0 0 0 0 0 0 0 0 1 1 1 1 1 1 1 1 1 1 1 1 1 1 1 1 1 1 1 1 1 1 1 1\n",
            " 1 1 1 1 1 1 1 1 1 1 1 1 1 1 1 1 1 1 1 1 1 1 1 1 1 1]\n"
          ],
          "name": "stdout"
        }
      ]
    },
    {
      "cell_type": "code",
      "metadata": {
        "id": "_-1hBrbZ_BXu"
      },
      "source": [
        "correct = 0\n",
        "for i in range(len(predictions)):\n",
        "  if predictions[i] == test_labels[i]:\n",
        "    correct += 1"
      ],
      "execution_count": 17,
      "outputs": []
    },
    {
      "cell_type": "code",
      "metadata": {
        "colab": {
          "base_uri": "https://localhost:8080/"
        },
        "id": "H-1Qo1cg_Fmw",
        "outputId": "6b2720d2-dfa8-48bb-d954-1e4bb0d642eb"
      },
      "source": [
        "predictions_accuracy = correct/len(test_labels)\n",
        "predictions_accuracy"
      ],
      "execution_count": 18,
      "outputs": [
        {
          "output_type": "execute_result",
          "data": {
            "text/plain": [
              "1.0"
            ]
          },
          "metadata": {
            "tags": []
          },
          "execution_count": 18
        }
      ]
    },
    {
      "cell_type": "code",
      "metadata": {
        "colab": {
          "base_uri": "https://localhost:8080/"
        },
        "id": "UgWb9OpT_IAO",
        "outputId": "9304c61c-576f-4f33-83a0-d7275be9906c"
      },
      "source": [
        "print(\"The accuracy is: \" + str(round(predictions_accuracy * 100, 1)) + \"%\")"
      ],
      "execution_count": 19,
      "outputs": [
        {
          "output_type": "stream",
          "text": [
            "The accuracy is: 100.0%\n"
          ],
          "name": "stdout"
        }
      ]
    },
    {
      "cell_type": "code",
      "metadata": {
        "colab": {
          "base_uri": "https://localhost:8080/"
        },
        "id": "ZO9-r5vWMdLR",
        "outputId": "94b08a75-6efa-4639-83c1-f63530481132"
      },
      "source": [
        "c = 0\n",
        "for elem in test_labels:\n",
        "  if elem == 1:\n",
        "    c += 1\n",
        "print(c)"
      ],
      "execution_count": 20,
      "outputs": [
        {
          "output_type": "stream",
          "text": [
            "50\n"
          ],
          "name": "stdout"
        }
      ]
    },
    {
      "cell_type": "markdown",
      "metadata": {
        "id": "7Af0AohIK7HM"
      },
      "source": [
        "Now on the speech samples: "
      ]
    },
    {
      "cell_type": "code",
      "metadata": {
        "id": "tGn8qYWV_KOY"
      },
      "source": [
        "speech_correct = 0\n",
        "for i in range(len(test_labels[:249])):\n",
        "    if predictions[i] == test_labels[i]:\n",
        "      speech_correct += 1"
      ],
      "execution_count": 21,
      "outputs": []
    },
    {
      "cell_type": "code",
      "metadata": {
        "colab": {
          "base_uri": "https://localhost:8080/"
        },
        "id": "-Ab7lBOm_NXD",
        "outputId": "ebc2a467-2bd3-4821-af34-9e1da0ae3354"
      },
      "source": [
        "speech_correct/len(test_labels[:249])"
      ],
      "execution_count": 22,
      "outputs": [
        {
          "output_type": "execute_result",
          "data": {
            "text/plain": [
              "1.0"
            ]
          },
          "metadata": {
            "tags": []
          },
          "execution_count": 22
        }
      ]
    },
    {
      "cell_type": "markdown",
      "metadata": {
        "id": "OfEYvOZtM3NK"
      },
      "source": [
        "Wow! 98.7% on the speech samples! "
      ]
    },
    {
      "cell_type": "code",
      "metadata": {
        "id": "wED00VHTNDx3"
      },
      "source": [
        "no_speech_correct = 0\n",
        "for i in range(len(test_labels[249:])):\n",
        "    if predictions[i] == test_labels[i]:\n",
        "      no_speech_correct += 1"
      ],
      "execution_count": 23,
      "outputs": []
    },
    {
      "cell_type": "code",
      "metadata": {
        "colab": {
          "base_uri": "https://localhost:8080/"
        },
        "id": "Y50VI_0pNJKT",
        "outputId": "daab0fcc-e007-4d1b-d27c-70b007fe0c20"
      },
      "source": [
        "print(no_speech_correct/249)"
      ],
      "execution_count": 24,
      "outputs": [
        {
          "output_type": "stream",
          "text": [
            "0.0\n"
          ],
          "name": "stdout"
        }
      ]
    },
    {
      "cell_type": "markdown",
      "metadata": {
        "id": "z2exh8oLNMcm"
      },
      "source": [
        "Same with no speech samples. Looking above, only three wrong for both categories and six wrong total. "
      ]
    },
    {
      "cell_type": "markdown",
      "metadata": {
        "id": "nRgjX9_LM9WX"
      },
      "source": [
        "### Confusion matrix and classification report"
      ]
    },
    {
      "cell_type": "code",
      "metadata": {
        "id": "IScycLKDNBR7"
      },
      "source": [
        "import numpy as np\n",
        "import itertools\n",
        "from sklearn.metrics import confusion_matrix"
      ],
      "execution_count": 25,
      "outputs": []
    },
    {
      "cell_type": "code",
      "metadata": {
        "id": "nouK1rWUNb5W"
      },
      "source": [
        "cm = confusion_matrix(test_labels, predictions)"
      ],
      "execution_count": 26,
      "outputs": []
    },
    {
      "cell_type": "code",
      "metadata": {
        "id": "TSOeK4p4NdX2"
      },
      "source": [
        "def plot_cm(cm, classes, normalize=False, title='Confusion Matrix', cmap=plt.cm.Blues):\n",
        "  plt.imshow(cm, interpolation='nearest', cmap=cmap)\n",
        "  plt.title(title)\n",
        "  plt.colorbar()\n",
        "  tick_marks = np.arange(len(classes))\n",
        "  plt.xticks(tick_marks, classes, rotation=45)\n",
        "  plt.yticks(tick_marks, classes)\n",
        "\n",
        "  if normalize:\n",
        "    cm = cm.astypea('float') / cm.sum(axis=1)[:, np.newaxis]\n",
        "    print('Normalized confusion matrix')\n",
        "  else:\n",
        "    print('Confusion matrix without normalization')\n",
        "\n",
        "  print(cm)\n",
        "\n",
        "  thresh = cm.max()/2.\n",
        "  for i, j in itertools.product(range(cm.shape[0]), range(cm.shape[1])):\n",
        "      plt.text(j, i, cm[i, j],\n",
        "               horizontalalignment=\"center\",\n",
        "               color=\"white\" if cm[i, j] > thresh else \"black\")\n",
        "  \n",
        "  plt.tight_layout()\n",
        "  plt.ylabel('True label')\n",
        "  plt.xlabel('Predicted label')"
      ],
      "execution_count": 27,
      "outputs": []
    },
    {
      "cell_type": "code",
      "metadata": {
        "colab": {
          "base_uri": "https://localhost:8080/",
          "height": 362
        },
        "id": "jm9eZ_gMNe6y",
        "outputId": "5cfbaf5e-99f5-4f4a-f8fe-d82de1965c2e"
      },
      "source": [
        "plot_cm(cm, ['no speech','speech'], title='Test Samples Confusion Matrix')"
      ],
      "execution_count": 28,
      "outputs": [
        {
          "output_type": "stream",
          "text": [
            "Confusion matrix without normalization\n",
            "[[50  0]\n",
            " [ 0 50]]\n"
          ],
          "name": "stdout"
        },
        {
          "output_type": "display_data",
          "data": {
            "image/png": "[encoded data removed]",
            "text/plain": [
              "<Figure size 432x288 with 2 Axes>"
            ]
          },
          "metadata": {
            "tags": [],
            "needs_background": "light"
          }
        }
      ]
    },
    {
      "cell_type": "code",
      "metadata": {
        "colab": {
          "base_uri": "https://localhost:8080/"
        },
        "id": "pU1gOl1bNgim",
        "outputId": "c46b0461-8f93-43ee-98ea-ce8ed2be95a0"
      },
      "source": [
        "from sklearn.metrics import classification_report\n",
        "print(classification_report(test_labels, predictions, target_names=['no speech','speech']))"
      ],
      "execution_count": 29,
      "outputs": [
        {
          "output_type": "stream",
          "text": [
            "              precision    recall  f1-score   support\n",
            "\n",
            "   no speech       1.00      1.00      1.00        50\n",
            "      speech       1.00      1.00      1.00        50\n",
            "\n",
            "    accuracy                           1.00       100\n",
            "   macro avg       1.00      1.00      1.00       100\n",
            "weighted avg       1.00      1.00      1.00       100\n",
            "\n"
          ],
          "name": "stdout"
        }
      ]
    }
  ]
}