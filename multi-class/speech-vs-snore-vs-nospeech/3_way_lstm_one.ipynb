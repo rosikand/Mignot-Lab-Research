{
  "nbformat": 4,
  "nbformat_minor": 0,
  "metadata": {
    "colab": {
      "name": "lstm_two.ipynb",
      "provenance": []
    },
    "kernelspec": {
      "name": "python3",
      "display_name": "Python 3"
    },
    "accelerator": "GPU"
  },
  "cells": [
    {
      "cell_type": "code",
      "metadata": {
        "colab": {
          "base_uri": "https://localhost:8080/"
        },
        "id": "p2wqOi1f-OGu",
        "outputId": "49f454d7-0bee-4382-a052-c653305c1c90"
      },
      "source": [
        "from google.colab import drive\n",
        "drive.mount('/content/drive')"
      ],
      "execution_count": 1,
      "outputs": [
        {
          "output_type": "stream",
          "text": [
            "Mounted at /content/drive\n"
          ],
          "name": "stdout"
        }
      ]
    },
    {
      "cell_type": "code",
      "metadata": {
        "id": "KkFvuXHV-VAF"
      },
      "source": [
        "import pickle\n",
        "\n",
        "# load in labels and samples for the training subset\n",
        "training_samples_file = open('/content/drive/MyDrive/Mignot Lab Research/Experiments/speech-vs-snore/train_samples.pkl', 'rb')\n",
        "training_labels_file = open('/content/drive/MyDrive/Mignot Lab Research/Experiments/speech-vs-snore/train_labels.pkl', 'rb')\n",
        "\n",
        "# load in labels and samples for the test subset\n",
        "test_samples_file = open('/content/drive/MyDrive/Mignot Lab Research/Experiments/speech-vs-snore/test_samples.pkl', 'rb')\n",
        "test_labels_file = open('/content/drive/MyDrive/Mignot Lab Research/Experiments/speech-vs-snore/test_labels.pkl', 'rb')"
      ],
      "execution_count": 72,
      "outputs": []
    },
    {
      "cell_type": "code",
      "metadata": {
        "id": "kF4LjhYE-jN2"
      },
      "source": [
        "# training\n",
        "X = pickle.load(training_samples_file)\n",
        "y = pickle.load(training_labels_file)\n",
        "\n",
        "# test\n",
        "test_samples = pickle.load(test_samples_file)\n",
        "test_labels = pickle.load(test_labels_file)"
      ],
      "execution_count": 73,
      "outputs": []
    },
    {
      "cell_type": "code",
      "metadata": {
        "id": "dNF5RESBEY90"
      },
      "source": [
        "no_speech_train_y = []\n",
        "for i in range(450):\n",
        "  no_speech_train_y.append(2)"
      ],
      "execution_count": 74,
      "outputs": []
    },
    {
      "cell_type": "code",
      "metadata": {
        "id": "oHBgnHZzFBQ9"
      },
      "source": [
        "import numpy as np\n",
        "no_speech_train_y = np.array(no_speech_train_y)"
      ],
      "execution_count": 75,
      "outputs": []
    },
    {
      "cell_type": "code",
      "metadata": {
        "id": "GAnvFvNJFU_-"
      },
      "source": [
        "y = np.append(y, no_speech_train_y)"
      ],
      "execution_count": 76,
      "outputs": []
    },
    {
      "cell_type": "code",
      "metadata": {
        "colab": {
          "base_uri": "https://localhost:8080/"
        },
        "id": "soB-NLSyFaXR",
        "outputId": "411c7bfd-66bb-413c-8dfd-eb5f2a535ec6"
      },
      "source": [
        "len(y)"
      ],
      "execution_count": 77,
      "outputs": [
        {
          "output_type": "execute_result",
          "data": {
            "text/plain": [
              "1350"
            ]
          },
          "metadata": {
            "tags": []
          },
          "execution_count": 77
        }
      ]
    },
    {
      "cell_type": "code",
      "metadata": {
        "id": "B2SptZoIFfJE"
      },
      "source": [
        "no_speech_test_y = []\n",
        "for i in range(50):\n",
        "  no_speech_test_y.append(2)"
      ],
      "execution_count": 78,
      "outputs": []
    },
    {
      "cell_type": "code",
      "metadata": {
        "id": "vnzIbnfwFj1d"
      },
      "source": [
        "no_speech_test_y = np.array(no_speech_test_y)"
      ],
      "execution_count": 79,
      "outputs": []
    },
    {
      "cell_type": "code",
      "metadata": {
        "id": "llhaJb5TFnf5"
      },
      "source": [
        "test_labels = np.append(test_labels, no_speech_test_y)"
      ],
      "execution_count": 80,
      "outputs": []
    },
    {
      "cell_type": "code",
      "metadata": {
        "colab": {
          "base_uri": "https://localhost:8080/"
        },
        "id": "VBnhNHAzFxLY",
        "outputId": "8de46de5-9ae5-4887-a9a8-5a6856c90ee2"
      },
      "source": [
        "len(test_labels)"
      ],
      "execution_count": 81,
      "outputs": [
        {
          "output_type": "execute_result",
          "data": {
            "text/plain": [
              "150"
            ]
          },
          "metadata": {
            "tags": []
          },
          "execution_count": 81
        }
      ]
    },
    {
      "cell_type": "code",
      "metadata": {
        "id": "5qTQGrFgFzeA"
      },
      "source": [
        "all_no_speech_samples_file = open('/content/drive/MyDrive/Mignot Lab Research/Experiments/speech-vs-snore-vs-no-sound/no_speech_samples.pkl', 'rb')\n",
        "all_no_speech_samples = pickle.load(all_no_speech_samples_file)"
      ],
      "execution_count": 82,
      "outputs": []
    },
    {
      "cell_type": "code",
      "metadata": {
        "id": "dWVCT3xLGLV8"
      },
      "source": [
        "train_no_speech = all_no_speech_samples[:450]"
      ],
      "execution_count": 83,
      "outputs": []
    },
    {
      "cell_type": "code",
      "metadata": {
        "colab": {
          "base_uri": "https://localhost:8080/"
        },
        "id": "leopX9yjGnjD",
        "outputId": "800aac8a-a544-4dab-a980-acb80a259208"
      },
      "source": [
        "train_no_speech.shape"
      ],
      "execution_count": 84,
      "outputs": [
        {
          "output_type": "execute_result",
          "data": {
            "text/plain": [
              "(450, 128, 44)"
            ]
          },
          "metadata": {
            "tags": []
          },
          "execution_count": 84
        }
      ]
    },
    {
      "cell_type": "code",
      "metadata": {
        "id": "yVTTVnDjHbtn"
      },
      "source": [
        "array1 = np.concatenate([X, train_no_speech])"
      ],
      "execution_count": 85,
      "outputs": []
    },
    {
      "cell_type": "code",
      "metadata": {
        "colab": {
          "base_uri": "https://localhost:8080/"
        },
        "id": "zHcXYgWJHiEd",
        "outputId": "48f2378b-f2eb-4de7-afd2-bcb8d1864f2f"
      },
      "source": [
        "len(array1)"
      ],
      "execution_count": 86,
      "outputs": [
        {
          "output_type": "execute_result",
          "data": {
            "text/plain": [
              "1350"
            ]
          },
          "metadata": {
            "tags": []
          },
          "execution_count": 86
        }
      ]
    },
    {
      "cell_type": "code",
      "metadata": {
        "id": "4Co0uNqpHk4I"
      },
      "source": [
        "X = array1"
      ],
      "execution_count": 87,
      "outputs": []
    },
    {
      "cell_type": "code",
      "metadata": {
        "id": "vPa14SB0HmDT"
      },
      "source": [
        "test_no_speech = all_no_speech_samples[450:]"
      ],
      "execution_count": 88,
      "outputs": []
    },
    {
      "cell_type": "code",
      "metadata": {
        "colab": {
          "base_uri": "https://localhost:8080/"
        },
        "id": "TRayD1pkHqCZ",
        "outputId": "d8a6b32e-2e0b-446d-a382-d20435242e03"
      },
      "source": [
        "len(test_no_speech)"
      ],
      "execution_count": 89,
      "outputs": [
        {
          "output_type": "execute_result",
          "data": {
            "text/plain": [
              "50"
            ]
          },
          "metadata": {
            "tags": []
          },
          "execution_count": 89
        }
      ]
    },
    {
      "cell_type": "code",
      "metadata": {
        "id": "2SSDl7pGHvj-"
      },
      "source": [
        "test_samples = np.concatenate([test_samples, test_no_speech])"
      ],
      "execution_count": 90,
      "outputs": []
    },
    {
      "cell_type": "markdown",
      "metadata": {
        "id": "3ITmGJ1q_6D0"
      },
      "source": [
        "### LSTM "
      ]
    },
    {
      "cell_type": "code",
      "metadata": {
        "colab": {
          "base_uri": "https://localhost:8080/"
        },
        "id": "zvgP2UpJKr0u",
        "outputId": "a39d6717-ea7a-4d0d-b754-201659f5d6c4"
      },
      "source": [
        "X[0].shape"
      ],
      "execution_count": 91,
      "outputs": [
        {
          "output_type": "execute_result",
          "data": {
            "text/plain": [
              "(128, 44)"
            ]
          },
          "metadata": {
            "tags": []
          },
          "execution_count": 91
        }
      ]
    },
    {
      "cell_type": "code",
      "metadata": {
        "id": "fJZ4WyVd-lLk"
      },
      "source": [
        "import tensorflow as tf\n",
        "import keras\n",
        "\n",
        "model = keras.Sequential()\n",
        "model.add(keras.layers.LSTM(64, input_shape=(128, 44), return_sequences=True))\n",
        "model.add(keras.layers.LSTM(64))\n",
        "model.add(keras.layers.Dense(64, activation='relu'))\n",
        "model.add(keras.layers.Dropout(0.3))\n",
        "model.add(keras.layers.Dense(3, activation='softmax'))"
      ],
      "execution_count": 92,
      "outputs": []
    },
    {
      "cell_type": "code",
      "metadata": {
        "colab": {
          "base_uri": "https://localhost:8080/"
        },
        "id": "YcBzGRgEAGJ1",
        "outputId": "087e3c3b-6bfd-43ce-b5c0-f3948353e48d"
      },
      "source": [
        "model.summary()"
      ],
      "execution_count": 93,
      "outputs": [
        {
          "output_type": "stream",
          "text": [
            "Model: \"sequential_1\"\n",
            "_________________________________________________________________\n",
            "Layer (type)                 Output Shape              Param #   \n",
            "=================================================================\n",
            "lstm_2 (LSTM)                (None, 128, 64)           27904     \n",
            "_________________________________________________________________\n",
            "lstm_3 (LSTM)                (None, 64)                33024     \n",
            "_________________________________________________________________\n",
            "dense_2 (Dense)              (None, 64)                4160      \n",
            "_________________________________________________________________\n",
            "dropout_1 (Dropout)          (None, 64)                0         \n",
            "_________________________________________________________________\n",
            "dense_3 (Dense)              (None, 3)                 195       \n",
            "=================================================================\n",
            "Total params: 65,283\n",
            "Trainable params: 65,283\n",
            "Non-trainable params: 0\n",
            "_________________________________________________________________\n"
          ],
          "name": "stdout"
        }
      ]
    },
    {
      "cell_type": "code",
      "metadata": {
        "id": "BZfbTudz-r3S"
      },
      "source": [
        "model.compile(optimizer='adam',\n",
        "              loss=tf.keras.losses.SparseCategoricalCrossentropy(from_logits=True),\n",
        "              metrics=['accuracy'])"
      ],
      "execution_count": 94,
      "outputs": []
    },
    {
      "cell_type": "code",
      "metadata": {
        "colab": {
          "base_uri": "https://localhost:8080/"
        },
        "id": "8PnBRuEK-u3-",
        "outputId": "d3565bcf-cae0-407d-d317-85095d6050e4"
      },
      "source": [
        "history = model.fit(X, y, epochs=250)"
      ],
      "execution_count": 95,
      "outputs": [
        {
          "output_type": "stream",
          "text": [
            "Epoch 1/250\n",
            "43/43 [==============================] - 32s 16ms/step - loss: 0.9930 - accuracy: 0.4941\n",
            "Epoch 2/250\n",
            "43/43 [==============================] - 1s 14ms/step - loss: 0.5237 - accuracy: 0.8086\n",
            "Epoch 3/250\n",
            "43/43 [==============================] - 1s 14ms/step - loss: 0.3724 - accuracy: 0.8690\n",
            "Epoch 4/250\n",
            "43/43 [==============================] - 1s 14ms/step - loss: 0.3559 - accuracy: 0.8776\n",
            "Epoch 5/250\n",
            "43/43 [==============================] - 1s 14ms/step - loss: 0.3570 - accuracy: 0.8918\n",
            "Epoch 6/250\n",
            "43/43 [==============================] - 1s 14ms/step - loss: 0.3248 - accuracy: 0.8760\n",
            "Epoch 7/250\n",
            "43/43 [==============================] - 1s 14ms/step - loss: 0.2965 - accuracy: 0.8840\n",
            "Epoch 8/250\n",
            "43/43 [==============================] - 1s 14ms/step - loss: 0.2758 - accuracy: 0.9002\n",
            "Epoch 9/250\n",
            "43/43 [==============================] - 1s 14ms/step - loss: 0.2512 - accuracy: 0.9078\n",
            "Epoch 10/250\n",
            "43/43 [==============================] - 1s 14ms/step - loss: 0.2467 - accuracy: 0.9151\n",
            "Epoch 11/250\n",
            "43/43 [==============================] - 1s 14ms/step - loss: 0.2786 - accuracy: 0.9125\n",
            "Epoch 12/250\n",
            "43/43 [==============================] - 1s 14ms/step - loss: 0.3038 - accuracy: 0.8824\n",
            "Epoch 13/250\n",
            "43/43 [==============================] - 1s 14ms/step - loss: 0.2091 - accuracy: 0.9392\n",
            "Epoch 14/250\n",
            "43/43 [==============================] - 1s 14ms/step - loss: 0.2110 - accuracy: 0.9324\n",
            "Epoch 15/250\n",
            "43/43 [==============================] - 1s 14ms/step - loss: 0.2459 - accuracy: 0.9179\n",
            "Epoch 16/250\n",
            "43/43 [==============================] - 1s 14ms/step - loss: 0.1983 - accuracy: 0.9364\n",
            "Epoch 17/250\n",
            "43/43 [==============================] - 1s 14ms/step - loss: 0.2035 - accuracy: 0.9480\n",
            "Epoch 18/250\n",
            "43/43 [==============================] - 1s 14ms/step - loss: 0.2185 - accuracy: 0.9359\n",
            "Epoch 19/250\n",
            "43/43 [==============================] - 1s 14ms/step - loss: 0.2516 - accuracy: 0.9140\n",
            "Epoch 20/250\n",
            "43/43 [==============================] - 1s 14ms/step - loss: 0.2152 - accuracy: 0.9359\n",
            "Epoch 21/250\n",
            "43/43 [==============================] - 1s 14ms/step - loss: 0.2298 - accuracy: 0.9181\n",
            "Epoch 22/250\n",
            "43/43 [==============================] - 1s 14ms/step - loss: 0.2602 - accuracy: 0.9161\n",
            "Epoch 23/250\n",
            "43/43 [==============================] - 1s 14ms/step - loss: 0.2437 - accuracy: 0.9164\n",
            "Epoch 24/250\n",
            "43/43 [==============================] - 1s 14ms/step - loss: 0.2699 - accuracy: 0.9015\n",
            "Epoch 25/250\n",
            "43/43 [==============================] - 1s 14ms/step - loss: 0.2692 - accuracy: 0.9084\n",
            "Epoch 26/250\n",
            "43/43 [==============================] - 1s 14ms/step - loss: 0.2277 - accuracy: 0.9286\n",
            "Epoch 27/250\n",
            "43/43 [==============================] - 1s 14ms/step - loss: 0.4909 - accuracy: 0.7314\n",
            "Epoch 28/250\n",
            "43/43 [==============================] - 1s 14ms/step - loss: 0.6083 - accuracy: 0.7076\n",
            "Epoch 29/250\n",
            "43/43 [==============================] - 1s 14ms/step - loss: 0.4252 - accuracy: 0.8541\n",
            "Epoch 30/250\n",
            "43/43 [==============================] - 1s 14ms/step - loss: 0.3441 - accuracy: 0.8974\n",
            "Epoch 31/250\n",
            "43/43 [==============================] - 1s 14ms/step - loss: 0.2765 - accuracy: 0.9087\n",
            "Epoch 32/250\n",
            "43/43 [==============================] - 1s 14ms/step - loss: 0.3115 - accuracy: 0.8909\n",
            "Epoch 33/250\n",
            "43/43 [==============================] - 1s 14ms/step - loss: 0.2580 - accuracy: 0.9190\n",
            "Epoch 34/250\n",
            "43/43 [==============================] - 1s 14ms/step - loss: 0.2479 - accuracy: 0.9250\n",
            "Epoch 35/250\n",
            "43/43 [==============================] - 1s 14ms/step - loss: 0.2879 - accuracy: 0.9157\n",
            "Epoch 36/250\n",
            "43/43 [==============================] - 1s 14ms/step - loss: 0.2553 - accuracy: 0.9138\n",
            "Epoch 37/250\n",
            "43/43 [==============================] - 1s 14ms/step - loss: 0.2828 - accuracy: 0.9083\n",
            "Epoch 38/250\n",
            "43/43 [==============================] - 1s 14ms/step - loss: 0.2694 - accuracy: 0.9145\n",
            "Epoch 39/250\n",
            "43/43 [==============================] - 1s 14ms/step - loss: 0.2702 - accuracy: 0.9089\n",
            "Epoch 40/250\n",
            "43/43 [==============================] - 1s 14ms/step - loss: 0.2680 - accuracy: 0.9141\n",
            "Epoch 41/250\n",
            "43/43 [==============================] - 1s 14ms/step - loss: 0.2643 - accuracy: 0.9097\n",
            "Epoch 42/250\n",
            "43/43 [==============================] - 1s 14ms/step - loss: 0.2522 - accuracy: 0.9185\n",
            "Epoch 43/250\n",
            "43/43 [==============================] - 1s 14ms/step - loss: 0.2480 - accuracy: 0.9210\n",
            "Epoch 44/250\n",
            "43/43 [==============================] - 1s 14ms/step - loss: 0.2514 - accuracy: 0.9207\n",
            "Epoch 45/250\n",
            "43/43 [==============================] - 1s 14ms/step - loss: 0.2415 - accuracy: 0.9256\n",
            "Epoch 46/250\n",
            "43/43 [==============================] - 1s 14ms/step - loss: 0.2606 - accuracy: 0.9205\n",
            "Epoch 47/250\n",
            "43/43 [==============================] - 1s 14ms/step - loss: 0.2495 - accuracy: 0.9150\n",
            "Epoch 48/250\n",
            "43/43 [==============================] - 1s 14ms/step - loss: 0.3072 - accuracy: 0.8868\n",
            "Epoch 49/250\n",
            "43/43 [==============================] - 1s 14ms/step - loss: 0.3338 - accuracy: 0.8520\n",
            "Epoch 50/250\n",
            "43/43 [==============================] - 1s 14ms/step - loss: 0.3260 - accuracy: 0.8594\n",
            "Epoch 51/250\n",
            "43/43 [==============================] - 1s 14ms/step - loss: 0.3606 - accuracy: 0.8454\n",
            "Epoch 52/250\n",
            "43/43 [==============================] - 1s 14ms/step - loss: 0.3148 - accuracy: 0.8698\n",
            "Epoch 53/250\n",
            "43/43 [==============================] - 1s 14ms/step - loss: 0.2902 - accuracy: 0.8726\n",
            "Epoch 54/250\n",
            "43/43 [==============================] - 1s 14ms/step - loss: 0.3035 - accuracy: 0.8809\n",
            "Epoch 55/250\n",
            "43/43 [==============================] - 1s 14ms/step - loss: 0.2881 - accuracy: 0.8941\n",
            "Epoch 56/250\n",
            "43/43 [==============================] - 1s 14ms/step - loss: 0.2578 - accuracy: 0.9057\n",
            "Epoch 57/250\n",
            "43/43 [==============================] - 1s 14ms/step - loss: 0.2544 - accuracy: 0.9078\n",
            "Epoch 58/250\n",
            "43/43 [==============================] - 1s 14ms/step - loss: 0.2925 - accuracy: 0.8838\n",
            "Epoch 59/250\n",
            "43/43 [==============================] - 1s 14ms/step - loss: 0.2492 - accuracy: 0.9052\n",
            "Epoch 60/250\n",
            "43/43 [==============================] - 1s 14ms/step - loss: 0.2569 - accuracy: 0.9084\n",
            "Epoch 61/250\n",
            "43/43 [==============================] - 1s 14ms/step - loss: 0.2455 - accuracy: 0.9132\n",
            "Epoch 62/250\n",
            "43/43 [==============================] - 1s 14ms/step - loss: 0.2634 - accuracy: 0.9065\n",
            "Epoch 63/250\n",
            "43/43 [==============================] - 1s 14ms/step - loss: 0.2665 - accuracy: 0.9113\n",
            "Epoch 64/250\n",
            "43/43 [==============================] - 1s 14ms/step - loss: 0.2378 - accuracy: 0.9111\n",
            "Epoch 65/250\n",
            "43/43 [==============================] - 1s 14ms/step - loss: 0.2190 - accuracy: 0.9276\n",
            "Epoch 66/250\n",
            "43/43 [==============================] - 1s 14ms/step - loss: 0.2376 - accuracy: 0.9159\n",
            "Epoch 67/250\n",
            "43/43 [==============================] - 1s 14ms/step - loss: 0.2245 - accuracy: 0.9183\n",
            "Epoch 68/250\n",
            "43/43 [==============================] - 1s 14ms/step - loss: 0.2464 - accuracy: 0.9136\n",
            "Epoch 69/250\n",
            "43/43 [==============================] - 1s 14ms/step - loss: 0.2004 - accuracy: 0.9338\n",
            "Epoch 70/250\n",
            "43/43 [==============================] - 1s 14ms/step - loss: 0.2514 - accuracy: 0.9148\n",
            "Epoch 71/250\n",
            "43/43 [==============================] - 1s 14ms/step - loss: 0.3051 - accuracy: 0.8846\n",
            "Epoch 72/250\n",
            "43/43 [==============================] - 1s 14ms/step - loss: 0.2533 - accuracy: 0.9063\n",
            "Epoch 73/250\n",
            "43/43 [==============================] - 1s 14ms/step - loss: 0.2231 - accuracy: 0.9234\n",
            "Epoch 74/250\n",
            "43/43 [==============================] - 1s 14ms/step - loss: 0.2554 - accuracy: 0.9170\n",
            "Epoch 75/250\n",
            "43/43 [==============================] - 1s 14ms/step - loss: 0.2365 - accuracy: 0.9253\n",
            "Epoch 76/250\n",
            "43/43 [==============================] - 1s 14ms/step - loss: 0.1918 - accuracy: 0.9464\n",
            "Epoch 77/250\n",
            "43/43 [==============================] - 1s 14ms/step - loss: 0.1752 - accuracy: 0.9489\n",
            "Epoch 78/250\n",
            "43/43 [==============================] - 1s 14ms/step - loss: 0.1697 - accuracy: 0.9486\n",
            "Epoch 79/250\n",
            "43/43 [==============================] - 1s 14ms/step - loss: 0.1982 - accuracy: 0.9347\n",
            "Epoch 80/250\n",
            "43/43 [==============================] - 1s 14ms/step - loss: 0.2151 - accuracy: 0.9368\n",
            "Epoch 81/250\n",
            "43/43 [==============================] - 1s 14ms/step - loss: 0.2367 - accuracy: 0.9147\n",
            "Epoch 82/250\n",
            "43/43 [==============================] - 1s 14ms/step - loss: 0.3479 - accuracy: 0.8577\n",
            "Epoch 83/250\n",
            "43/43 [==============================] - 1s 14ms/step - loss: 0.3166 - accuracy: 0.8644\n",
            "Epoch 84/250\n",
            "43/43 [==============================] - 1s 14ms/step - loss: 0.3185 - accuracy: 0.8554\n",
            "Epoch 85/250\n",
            "43/43 [==============================] - 1s 14ms/step - loss: 0.3686 - accuracy: 0.8108\n",
            "Epoch 86/250\n",
            "43/43 [==============================] - 1s 14ms/step - loss: 0.3272 - accuracy: 0.8415\n",
            "Epoch 87/250\n",
            "43/43 [==============================] - 1s 14ms/step - loss: 0.3238 - accuracy: 0.8438\n",
            "Epoch 88/250\n",
            "43/43 [==============================] - 1s 14ms/step - loss: 0.3263 - accuracy: 0.8495\n",
            "Epoch 89/250\n",
            "43/43 [==============================] - 1s 14ms/step - loss: 0.2631 - accuracy: 0.8944\n",
            "Epoch 90/250\n",
            "43/43 [==============================] - 1s 14ms/step - loss: 0.2869 - accuracy: 0.8785\n",
            "Epoch 91/250\n",
            "43/43 [==============================] - 1s 14ms/step - loss: 0.2730 - accuracy: 0.8811\n",
            "Epoch 92/250\n",
            "43/43 [==============================] - 1s 14ms/step - loss: 0.3083 - accuracy: 0.8830\n",
            "Epoch 93/250\n",
            "43/43 [==============================] - 1s 14ms/step - loss: 0.3068 - accuracy: 0.8566\n",
            "Epoch 94/250\n",
            "43/43 [==============================] - 1s 14ms/step - loss: 0.2817 - accuracy: 0.8691\n",
            "Epoch 95/250\n",
            "43/43 [==============================] - 1s 14ms/step - loss: 0.2436 - accuracy: 0.9106\n",
            "Epoch 96/250\n",
            "43/43 [==============================] - 1s 14ms/step - loss: 0.3998 - accuracy: 0.8483\n",
            "Epoch 97/250\n",
            "43/43 [==============================] - 1s 14ms/step - loss: 0.2546 - accuracy: 0.9125\n",
            "Epoch 98/250\n",
            "43/43 [==============================] - 1s 14ms/step - loss: 0.2521 - accuracy: 0.9182\n",
            "Epoch 99/250\n",
            "43/43 [==============================] - 1s 14ms/step - loss: 0.2312 - accuracy: 0.9113\n",
            "Epoch 100/250\n",
            "43/43 [==============================] - 1s 14ms/step - loss: 0.2532 - accuracy: 0.9116\n",
            "Epoch 101/250\n",
            "43/43 [==============================] - 1s 14ms/step - loss: 0.2509 - accuracy: 0.9045\n",
            "Epoch 102/250\n",
            "43/43 [==============================] - 1s 14ms/step - loss: 0.2344 - accuracy: 0.9163\n",
            "Epoch 103/250\n",
            "43/43 [==============================] - 1s 14ms/step - loss: 0.2562 - accuracy: 0.9081\n",
            "Epoch 104/250\n",
            "43/43 [==============================] - 1s 14ms/step - loss: 0.2111 - accuracy: 0.9272\n",
            "Epoch 105/250\n",
            "43/43 [==============================] - 1s 14ms/step - loss: 0.2696 - accuracy: 0.8959\n",
            "Epoch 106/250\n",
            "43/43 [==============================] - 1s 14ms/step - loss: 0.1935 - accuracy: 0.9346\n",
            "Epoch 107/250\n",
            "43/43 [==============================] - 1s 14ms/step - loss: 0.2126 - accuracy: 0.9332\n",
            "Epoch 108/250\n",
            "43/43 [==============================] - 1s 14ms/step - loss: 0.2533 - accuracy: 0.9192\n",
            "Epoch 109/250\n",
            "43/43 [==============================] - 1s 14ms/step - loss: 0.2166 - accuracy: 0.9263\n",
            "Epoch 110/250\n",
            "43/43 [==============================] - 1s 14ms/step - loss: 0.2396 - accuracy: 0.9229\n",
            "Epoch 111/250\n",
            "43/43 [==============================] - 1s 14ms/step - loss: 0.2453 - accuracy: 0.9168\n",
            "Epoch 112/250\n",
            "43/43 [==============================] - 1s 15ms/step - loss: 0.2175 - accuracy: 0.9304\n",
            "Epoch 113/250\n",
            "43/43 [==============================] - 1s 14ms/step - loss: 0.2137 - accuracy: 0.9247\n",
            "Epoch 114/250\n",
            "43/43 [==============================] - 1s 14ms/step - loss: 0.1992 - accuracy: 0.9315\n",
            "Epoch 115/250\n",
            "43/43 [==============================] - 1s 14ms/step - loss: 0.2050 - accuracy: 0.9182\n",
            "Epoch 116/250\n",
            "43/43 [==============================] - 1s 14ms/step - loss: 0.1653 - accuracy: 0.9434\n",
            "Epoch 117/250\n",
            "43/43 [==============================] - 1s 14ms/step - loss: 0.2531 - accuracy: 0.9250\n",
            "Epoch 118/250\n",
            "43/43 [==============================] - 1s 14ms/step - loss: 0.2019 - accuracy: 0.9299\n",
            "Epoch 119/250\n",
            "43/43 [==============================] - 1s 14ms/step - loss: 0.1420 - accuracy: 0.9518\n",
            "Epoch 120/250\n",
            "43/43 [==============================] - 1s 14ms/step - loss: 0.1583 - accuracy: 0.9474\n",
            "Epoch 121/250\n",
            "43/43 [==============================] - 1s 14ms/step - loss: 0.2569 - accuracy: 0.9161\n",
            "Epoch 122/250\n",
            "43/43 [==============================] - 1s 14ms/step - loss: 0.1927 - accuracy: 0.9288\n",
            "Epoch 123/250\n",
            "43/43 [==============================] - 1s 14ms/step - loss: 0.1973 - accuracy: 0.9303\n",
            "Epoch 124/250\n",
            "43/43 [==============================] - 1s 14ms/step - loss: 0.2469 - accuracy: 0.9189\n",
            "Epoch 125/250\n",
            "43/43 [==============================] - 1s 14ms/step - loss: 0.2150 - accuracy: 0.9225\n",
            "Epoch 126/250\n",
            "43/43 [==============================] - 1s 14ms/step - loss: 0.1603 - accuracy: 0.9457\n",
            "Epoch 127/250\n",
            "43/43 [==============================] - 1s 14ms/step - loss: 0.1737 - accuracy: 0.9406\n",
            "Epoch 128/250\n",
            "43/43 [==============================] - 1s 14ms/step - loss: 0.1775 - accuracy: 0.9475\n",
            "Epoch 129/250\n",
            "43/43 [==============================] - 1s 14ms/step - loss: 0.1828 - accuracy: 0.9447\n",
            "Epoch 130/250\n",
            "43/43 [==============================] - 1s 14ms/step - loss: 0.1422 - accuracy: 0.9516\n",
            "Epoch 131/250\n",
            "43/43 [==============================] - 1s 14ms/step - loss: 0.1244 - accuracy: 0.9481\n",
            "Epoch 132/250\n",
            "43/43 [==============================] - 1s 14ms/step - loss: 0.1564 - accuracy: 0.9420\n",
            "Epoch 133/250\n",
            "43/43 [==============================] - 1s 14ms/step - loss: 0.1073 - accuracy: 0.9620\n",
            "Epoch 134/250\n",
            "43/43 [==============================] - 1s 14ms/step - loss: 0.1263 - accuracy: 0.9489\n",
            "Epoch 135/250\n",
            "43/43 [==============================] - 1s 14ms/step - loss: 0.2949 - accuracy: 0.9007\n",
            "Epoch 136/250\n",
            "43/43 [==============================] - 1s 14ms/step - loss: 0.2577 - accuracy: 0.9260\n",
            "Epoch 137/250\n",
            "43/43 [==============================] - 1s 14ms/step - loss: 0.2631 - accuracy: 0.9007\n",
            "Epoch 138/250\n",
            "43/43 [==============================] - 1s 14ms/step - loss: 0.2439 - accuracy: 0.9144\n",
            "Epoch 139/250\n",
            "43/43 [==============================] - 1s 14ms/step - loss: 0.2230 - accuracy: 0.9221\n",
            "Epoch 140/250\n",
            "43/43 [==============================] - 1s 14ms/step - loss: 0.2106 - accuracy: 0.9273\n",
            "Epoch 141/250\n",
            "43/43 [==============================] - 1s 14ms/step - loss: 0.2407 - accuracy: 0.9089\n",
            "Epoch 142/250\n",
            "43/43 [==============================] - 1s 14ms/step - loss: 0.2007 - accuracy: 0.9338\n",
            "Epoch 143/250\n",
            "43/43 [==============================] - 1s 14ms/step - loss: 0.2443 - accuracy: 0.8985\n",
            "Epoch 144/250\n",
            "43/43 [==============================] - 1s 14ms/step - loss: 0.2534 - accuracy: 0.9094\n",
            "Epoch 145/250\n",
            "43/43 [==============================] - 1s 14ms/step - loss: 0.2475 - accuracy: 0.8992\n",
            "Epoch 146/250\n",
            "43/43 [==============================] - 1s 14ms/step - loss: 0.2164 - accuracy: 0.9117\n",
            "Epoch 147/250\n",
            "43/43 [==============================] - 1s 14ms/step - loss: 0.2317 - accuracy: 0.9248\n",
            "Epoch 148/250\n",
            "43/43 [==============================] - 1s 14ms/step - loss: 0.1886 - accuracy: 0.9386\n",
            "Epoch 149/250\n",
            "43/43 [==============================] - 1s 14ms/step - loss: 0.1922 - accuracy: 0.9372\n",
            "Epoch 150/250\n",
            "43/43 [==============================] - 1s 14ms/step - loss: 0.1940 - accuracy: 0.9334\n",
            "Epoch 151/250\n",
            "43/43 [==============================] - 1s 14ms/step - loss: 0.1983 - accuracy: 0.9304\n",
            "Epoch 152/250\n",
            "43/43 [==============================] - 1s 14ms/step - loss: 0.1742 - accuracy: 0.9420\n",
            "Epoch 153/250\n",
            "43/43 [==============================] - 1s 14ms/step - loss: 0.2574 - accuracy: 0.9089\n",
            "Epoch 154/250\n",
            "43/43 [==============================] - 1s 14ms/step - loss: 0.2163 - accuracy: 0.9162\n",
            "Epoch 155/250\n",
            "43/43 [==============================] - 1s 14ms/step - loss: 0.2200 - accuracy: 0.9163\n",
            "Epoch 156/250\n",
            "43/43 [==============================] - 1s 14ms/step - loss: 0.1891 - accuracy: 0.9354\n",
            "Epoch 157/250\n",
            "43/43 [==============================] - 1s 14ms/step - loss: 0.1810 - accuracy: 0.9365\n",
            "Epoch 158/250\n",
            "43/43 [==============================] - 1s 14ms/step - loss: 0.2117 - accuracy: 0.9177\n",
            "Epoch 159/250\n",
            "43/43 [==============================] - 1s 15ms/step - loss: 0.1876 - accuracy: 0.9352\n",
            "Epoch 160/250\n",
            "43/43 [==============================] - 1s 14ms/step - loss: 0.1706 - accuracy: 0.9340\n",
            "Epoch 161/250\n",
            "43/43 [==============================] - 1s 14ms/step - loss: 0.1659 - accuracy: 0.9465\n",
            "Epoch 162/250\n",
            "43/43 [==============================] - 1s 14ms/step - loss: 0.1732 - accuracy: 0.9398\n",
            "Epoch 163/250\n",
            "43/43 [==============================] - 1s 14ms/step - loss: 0.1886 - accuracy: 0.9345\n",
            "Epoch 164/250\n",
            "43/43 [==============================] - 1s 14ms/step - loss: 0.1774 - accuracy: 0.9447\n",
            "Epoch 165/250\n",
            "43/43 [==============================] - 1s 14ms/step - loss: 0.1668 - accuracy: 0.9392\n",
            "Epoch 166/250\n",
            "43/43 [==============================] - 1s 14ms/step - loss: 0.1922 - accuracy: 0.9320\n",
            "Epoch 167/250\n",
            "43/43 [==============================] - 1s 14ms/step - loss: 0.1711 - accuracy: 0.9431\n",
            "Epoch 168/250\n",
            "43/43 [==============================] - 1s 14ms/step - loss: 0.1752 - accuracy: 0.9407\n",
            "Epoch 169/250\n",
            "43/43 [==============================] - 1s 14ms/step - loss: 0.1887 - accuracy: 0.9293\n",
            "Epoch 170/250\n",
            "43/43 [==============================] - 1s 14ms/step - loss: 0.1407 - accuracy: 0.9523\n",
            "Epoch 171/250\n",
            "43/43 [==============================] - 1s 14ms/step - loss: 0.1776 - accuracy: 0.9293\n",
            "Epoch 172/250\n",
            "43/43 [==============================] - 1s 14ms/step - loss: 0.1752 - accuracy: 0.9357\n",
            "Epoch 173/250\n",
            "43/43 [==============================] - 1s 14ms/step - loss: 0.1732 - accuracy: 0.9362\n",
            "Epoch 174/250\n",
            "43/43 [==============================] - 1s 14ms/step - loss: 0.1837 - accuracy: 0.9365\n",
            "Epoch 175/250\n",
            "43/43 [==============================] - 1s 14ms/step - loss: 0.1739 - accuracy: 0.9380\n",
            "Epoch 176/250\n",
            "43/43 [==============================] - 1s 14ms/step - loss: 0.1878 - accuracy: 0.9258\n",
            "Epoch 177/250\n",
            "43/43 [==============================] - 1s 14ms/step - loss: 0.1626 - accuracy: 0.9374\n",
            "Epoch 178/250\n",
            "43/43 [==============================] - 1s 14ms/step - loss: 0.1864 - accuracy: 0.9338\n",
            "Epoch 179/250\n",
            "43/43 [==============================] - 1s 14ms/step - loss: 0.1530 - accuracy: 0.9474\n",
            "Epoch 180/250\n",
            "43/43 [==============================] - 1s 14ms/step - loss: 0.1536 - accuracy: 0.9494\n",
            "Epoch 181/250\n",
            "43/43 [==============================] - 1s 14ms/step - loss: 0.1516 - accuracy: 0.9496\n",
            "Epoch 182/250\n",
            "43/43 [==============================] - 1s 14ms/step - loss: 0.1712 - accuracy: 0.9416\n",
            "Epoch 183/250\n",
            "43/43 [==============================] - 1s 14ms/step - loss: 0.1574 - accuracy: 0.9485\n",
            "Epoch 184/250\n",
            "43/43 [==============================] - 1s 14ms/step - loss: 0.1971 - accuracy: 0.9351\n",
            "Epoch 185/250\n",
            "43/43 [==============================] - 1s 14ms/step - loss: 0.1749 - accuracy: 0.9311\n",
            "Epoch 186/250\n",
            "43/43 [==============================] - 1s 14ms/step - loss: 0.1854 - accuracy: 0.9334\n",
            "Epoch 187/250\n",
            "43/43 [==============================] - 1s 15ms/step - loss: 0.1879 - accuracy: 0.9329\n",
            "Epoch 188/250\n",
            "43/43 [==============================] - 1s 14ms/step - loss: 0.1895 - accuracy: 0.9272\n",
            "Epoch 189/250\n",
            "43/43 [==============================] - 1s 15ms/step - loss: 0.1875 - accuracy: 0.9283\n",
            "Epoch 190/250\n",
            "43/43 [==============================] - 1s 14ms/step - loss: 0.1448 - accuracy: 0.9514\n",
            "Epoch 191/250\n",
            "43/43 [==============================] - 1s 14ms/step - loss: 0.1831 - accuracy: 0.9372\n",
            "Epoch 192/250\n",
            "43/43 [==============================] - 1s 14ms/step - loss: 0.1503 - accuracy: 0.9408\n",
            "Epoch 193/250\n",
            "43/43 [==============================] - 1s 14ms/step - loss: 0.1730 - accuracy: 0.9341\n",
            "Epoch 194/250\n",
            "43/43 [==============================] - 1s 14ms/step - loss: 0.1547 - accuracy: 0.9406\n",
            "Epoch 195/250\n",
            "43/43 [==============================] - 1s 14ms/step - loss: 0.1353 - accuracy: 0.9499\n",
            "Epoch 196/250\n",
            "43/43 [==============================] - 1s 14ms/step - loss: 0.1630 - accuracy: 0.9412\n",
            "Epoch 197/250\n",
            "43/43 [==============================] - 1s 14ms/step - loss: 0.1640 - accuracy: 0.9362\n",
            "Epoch 198/250\n",
            "43/43 [==============================] - 1s 14ms/step - loss: 0.1488 - accuracy: 0.9436\n",
            "Epoch 199/250\n",
            "43/43 [==============================] - 1s 14ms/step - loss: 0.1672 - accuracy: 0.9454\n",
            "Epoch 200/250\n",
            "43/43 [==============================] - 1s 14ms/step - loss: 0.1451 - accuracy: 0.9498\n",
            "Epoch 201/250\n",
            "43/43 [==============================] - 1s 15ms/step - loss: 0.1527 - accuracy: 0.9501\n",
            "Epoch 202/250\n",
            "43/43 [==============================] - 1s 14ms/step - loss: 0.1696 - accuracy: 0.9438\n",
            "Epoch 203/250\n",
            "43/43 [==============================] - 1s 14ms/step - loss: 0.2125 - accuracy: 0.9250\n",
            "Epoch 204/250\n",
            "43/43 [==============================] - 1s 14ms/step - loss: 0.2217 - accuracy: 0.9308\n",
            "Epoch 205/250\n",
            "43/43 [==============================] - 1s 14ms/step - loss: 0.2249 - accuracy: 0.9247\n",
            "Epoch 206/250\n",
            "43/43 [==============================] - 1s 14ms/step - loss: 0.1936 - accuracy: 0.9305\n",
            "Epoch 207/250\n",
            "43/43 [==============================] - 1s 14ms/step - loss: 0.1797 - accuracy: 0.9369\n",
            "Epoch 208/250\n",
            "43/43 [==============================] - 1s 14ms/step - loss: 0.1930 - accuracy: 0.9275\n",
            "Epoch 209/250\n",
            "43/43 [==============================] - 1s 14ms/step - loss: 0.1980 - accuracy: 0.9311\n",
            "Epoch 210/250\n",
            "43/43 [==============================] - 1s 14ms/step - loss: 0.1614 - accuracy: 0.9411\n",
            "Epoch 211/250\n",
            "43/43 [==============================] - 1s 14ms/step - loss: 0.2109 - accuracy: 0.9365\n",
            "Epoch 212/250\n",
            "43/43 [==============================] - 1s 14ms/step - loss: 0.1770 - accuracy: 0.9342\n",
            "Epoch 213/250\n",
            "43/43 [==============================] - 1s 14ms/step - loss: 0.1891 - accuracy: 0.9326\n",
            "Epoch 214/250\n",
            "43/43 [==============================] - 1s 15ms/step - loss: 0.2075 - accuracy: 0.9335\n",
            "Epoch 215/250\n",
            "43/43 [==============================] - 1s 14ms/step - loss: 0.1560 - accuracy: 0.9482\n",
            "Epoch 216/250\n",
            "43/43 [==============================] - 1s 14ms/step - loss: 0.1505 - accuracy: 0.9507\n",
            "Epoch 217/250\n",
            "43/43 [==============================] - 1s 14ms/step - loss: 0.1654 - accuracy: 0.9458\n",
            "Epoch 218/250\n",
            "43/43 [==============================] - 1s 14ms/step - loss: 0.2254 - accuracy: 0.9247\n",
            "Epoch 219/250\n",
            "43/43 [==============================] - 1s 14ms/step - loss: 0.1878 - accuracy: 0.9193\n",
            "Epoch 220/250\n",
            "43/43 [==============================] - 1s 14ms/step - loss: 0.1516 - accuracy: 0.9473\n",
            "Epoch 221/250\n",
            "43/43 [==============================] - 1s 14ms/step - loss: 0.1502 - accuracy: 0.9532\n",
            "Epoch 222/250\n",
            "43/43 [==============================] - 1s 15ms/step - loss: 0.1307 - accuracy: 0.9638\n",
            "Epoch 223/250\n",
            "43/43 [==============================] - 1s 14ms/step - loss: 0.1612 - accuracy: 0.9483\n",
            "Epoch 224/250\n",
            "43/43 [==============================] - 1s 15ms/step - loss: 0.1992 - accuracy: 0.9307\n",
            "Epoch 225/250\n",
            "43/43 [==============================] - 1s 14ms/step - loss: 0.2513 - accuracy: 0.9204\n",
            "Epoch 226/250\n",
            "43/43 [==============================] - 1s 14ms/step - loss: 0.1907 - accuracy: 0.9399\n",
            "Epoch 227/250\n",
            "43/43 [==============================] - 1s 15ms/step - loss: 0.2079 - accuracy: 0.9312\n",
            "Epoch 228/250\n",
            "43/43 [==============================] - 1s 14ms/step - loss: 0.1981 - accuracy: 0.9369\n",
            "Epoch 229/250\n",
            "43/43 [==============================] - 1s 14ms/step - loss: 0.1851 - accuracy: 0.9419\n",
            "Epoch 230/250\n",
            "43/43 [==============================] - 1s 14ms/step - loss: 0.1970 - accuracy: 0.9401\n",
            "Epoch 231/250\n",
            "43/43 [==============================] - 1s 14ms/step - loss: 0.2175 - accuracy: 0.9234\n",
            "Epoch 232/250\n",
            "43/43 [==============================] - 1s 14ms/step - loss: 0.1715 - accuracy: 0.9443\n",
            "Epoch 233/250\n",
            "43/43 [==============================] - 1s 14ms/step - loss: 0.1676 - accuracy: 0.9481\n",
            "Epoch 234/250\n",
            "43/43 [==============================] - 1s 14ms/step - loss: 0.1970 - accuracy: 0.9328\n",
            "Epoch 235/250\n",
            "43/43 [==============================] - 1s 14ms/step - loss: 0.1751 - accuracy: 0.9423\n",
            "Epoch 236/250\n",
            "43/43 [==============================] - 1s 14ms/step - loss: 0.1843 - accuracy: 0.9458\n",
            "Epoch 237/250\n",
            "43/43 [==============================] - 1s 14ms/step - loss: 0.1724 - accuracy: 0.9481\n",
            "Epoch 238/250\n",
            "43/43 [==============================] - 1s 14ms/step - loss: 0.1721 - accuracy: 0.9521\n",
            "Epoch 239/250\n",
            "43/43 [==============================] - 1s 14ms/step - loss: 0.1740 - accuracy: 0.9424\n",
            "Epoch 240/250\n",
            "43/43 [==============================] - 1s 14ms/step - loss: 0.1811 - accuracy: 0.9331\n",
            "Epoch 241/250\n",
            "43/43 [==============================] - 1s 15ms/step - loss: 0.1497 - accuracy: 0.9585\n",
            "Epoch 242/250\n",
            "43/43 [==============================] - 1s 14ms/step - loss: 0.1677 - accuracy: 0.9465\n",
            "Epoch 243/250\n",
            "43/43 [==============================] - 1s 14ms/step - loss: 0.1624 - accuracy: 0.9483\n",
            "Epoch 244/250\n",
            "43/43 [==============================] - 1s 14ms/step - loss: 0.1327 - accuracy: 0.9581\n",
            "Epoch 245/250\n",
            "43/43 [==============================] - 1s 14ms/step - loss: 0.2039 - accuracy: 0.9307\n",
            "Epoch 246/250\n",
            "43/43 [==============================] - 1s 14ms/step - loss: 0.1615 - accuracy: 0.9453\n",
            "Epoch 247/250\n",
            "43/43 [==============================] - 1s 14ms/step - loss: 0.1535 - accuracy: 0.9448\n",
            "Epoch 248/250\n",
            "43/43 [==============================] - 1s 14ms/step - loss: 0.1376 - accuracy: 0.9550\n",
            "Epoch 249/250\n",
            "43/43 [==============================] - 1s 14ms/step - loss: 0.1489 - accuracy: 0.9373\n",
            "Epoch 250/250\n",
            "43/43 [==============================] - 1s 14ms/step - loss: 0.1081 - accuracy: 0.9638\n"
          ],
          "name": "stdout"
        }
      ]
    },
    {
      "cell_type": "code",
      "metadata": {
        "colab": {
          "base_uri": "https://localhost:8080/"
        },
        "id": "A6BGjnzu-wtp",
        "outputId": "b8e90c65-e62e-41eb-d1f9-65f88ae6d411"
      },
      "source": [
        "history_dict = history.history\n",
        "print(history_dict.keys())\n",
        "# to keep for later \n",
        "%store history_dict"
      ],
      "execution_count": 96,
      "outputs": [
        {
          "output_type": "stream",
          "text": [
            "dict_keys(['loss', 'accuracy'])\n",
            "Stored 'history_dict' (dict)\n"
          ],
          "name": "stdout"
        }
      ]
    },
    {
      "cell_type": "code",
      "metadata": {
        "id": "qjHvIqe1-0zr"
      },
      "source": [
        "# imports \n",
        "import matplotlib.pyplot as plt \n",
        "import matplotlib.image as mpimg"
      ],
      "execution_count": 97,
      "outputs": []
    },
    {
      "cell_type": "code",
      "metadata": {
        "id": "M816JvwK-3GJ"
      },
      "source": [
        "# function to plot training given history dictionary \n",
        "def plot_training(history_dict):\n",
        "\t\"\"\"\n",
        "\tPlots the training accuracy and loss graphs for a Keras model (validation graphs not included). \n",
        "\tParameters:\n",
        "\t\t- history_dict: a dictionary of \"history\" object from Keras \n",
        "\t\"\"\"\n",
        "\t# plot training accuracy graph \n",
        "\tplt.plot(history_dict['accuracy'])\n",
        "\tplt.title('Training Accuracy')\n",
        "\tplt.ylabel('accuracy')\n",
        "\tplt.xlabel('epoch')\n",
        "\tplt.legend(['train'], loc='upper left')\n",
        "\tplt.show()\n",
        "\n",
        "\t# plot training loss graph \n",
        "\tplt.plot(history_dict['loss'])\n",
        "\tplt.title('Training Loss')\n",
        "\tplt.ylabel('loss')\n",
        "\tplt.xlabel('epoch')\n",
        "\tplt.legend(['train'], loc='upper left')\n",
        "\tplt.show()"
      ],
      "execution_count": 98,
      "outputs": []
    },
    {
      "cell_type": "code",
      "metadata": {
        "colab": {
          "base_uri": "https://localhost:8080/",
          "height": 573
        },
        "id": "wTeJt4ZD-4u_",
        "outputId": "38006276-f287-471a-de82-bb8dfd57d8e1"
      },
      "source": [
        "plot_training(history_dict)"
      ],
      "execution_count": 99,
      "outputs": [
        {
          "output_type": "display_data",
          "data": {
            "image/png": "[encoded data removed]",
            "text/plain": [
              "<Figure size 432x288 with 1 Axes>"
            ]
          },
          "metadata": {
            "tags": [],
            "needs_background": "light"
          }
        },
        {
          "output_type": "display_data",
          "data": {
            "image/png": "[encoded data removed]",
            "text/plain": [
              "<Figure size 432x288 with 1 Axes>"
            ]
          },
          "metadata": {
            "tags": [],
            "needs_background": "light"
          }
        }
      ]
    },
    {
      "cell_type": "code",
      "metadata": {
        "colab": {
          "base_uri": "https://localhost:8080/"
        },
        "id": "sgx89I-e-88c",
        "outputId": "8f2ee423-42d3-4e01-e1c6-6d0577f08796"
      },
      "source": [
        "test_loss, test_accuracy = model.evaluate(test_samples,  test_labels, verbose=2)\n",
        "print('Test accuracy:', test_accuracy)"
      ],
      "execution_count": 100,
      "outputs": [
        {
          "output_type": "stream",
          "text": [
            "5/5 - 1s - loss: 0.2222 - accuracy: 0.9067\n",
            "Test accuracy: 0.9066666960716248\n"
          ],
          "name": "stdout"
        }
      ]
    },
    {
      "cell_type": "code",
      "metadata": {
        "colab": {
          "base_uri": "https://localhost:8080/"
        },
        "id": "t7yd5t-U-9Xf",
        "outputId": "38afc3f5-c82e-452d-d157-4b3886cef93a"
      },
      "source": [
        "predictions = model.predict_classes(test_samples) # generates a list of predictions"
      ],
      "execution_count": 101,
      "outputs": [
        {
          "output_type": "stream",
          "text": [
            "/usr/local/lib/python3.7/dist-packages/tensorflow/python/keras/engine/sequential.py:450: UserWarning: `model.predict_classes()` is deprecated and will be removed after 2021-01-01. Please use instead:* `np.argmax(model.predict(x), axis=-1)`,   if your model does multi-class classification   (e.g. if it uses a `softmax` last-layer activation).* `(model.predict(x) > 0.5).astype(\"int32\")`,   if your model does binary classification   (e.g. if it uses a `sigmoid` last-layer activation).\n",
            "  warnings.warn('`model.predict_classes()` is deprecated and '\n"
          ],
          "name": "stderr"
        }
      ]
    },
    {
      "cell_type": "code",
      "metadata": {
        "colab": {
          "base_uri": "https://localhost:8080/"
        },
        "id": "brlBgmRU--5Z",
        "outputId": "e24f6175-1e04-4a54-c114-589ad379fb84"
      },
      "source": [
        "print(\"Test labels: \\n\", test_labels)\n",
        "print(\"Test predictions: \\n\", predictions)"
      ],
      "execution_count": 102,
      "outputs": [
        {
          "output_type": "stream",
          "text": [
            "Test labels: \n",
            " [0 0 0 0 0 0 0 0 0 0 0 0 0 0 0 0 0 0 0 0 0 0 0 0 0 0 0 0 0 0 0 0 0 0 0 0 0\n",
            " 0 0 0 0 0 0 0 0 0 0 0 0 0 1 1 1 1 1 1 1 1 1 1 1 1 1 1 1 1 1 1 1 1 1 1 1 1\n",
            " 1 1 1 1 1 1 1 1 1 1 1 1 1 1 1 1 1 1 1 1 1 1 1 1 1 1 2 2 2 2 2 2 2 2 2 2 2\n",
            " 2 2 2 2 2 2 2 2 2 2 2 2 2 2 2 2 2 2 2 2 2 2 2 2 2 2 2 2 2 2 2 2 2 2 2 2 2\n",
            " 2 2]\n",
            "Test predictions: \n",
            " [0 0 0 0 0 0 2 0 0 0 0 0 0 0 0 0 0 0 0 0 0 0 0 0 0 0 0 0 0 0 2 0 0 0 0 0 0\n",
            " 0 0 0 0 0 0 0 0 0 0 0 0 0 1 1 1 1 1 1 1 1 1 1 1 1 1 1 1 1 1 1 1 1 1 1 1 1\n",
            " 1 1 1 0 1 1 1 1 1 1 1 1 1 1 1 1 1 1 1 0 1 1 1 0 1 1 2 0 2 2 2 2 2 0 2 2 2\n",
            " 2 2 2 2 2 2 0 2 2 2 2 0 0 2 2 2 2 0 2 2 2 0 2 2 2 2 2 2 2 2 2 2 0 2 2 2 2\n",
            " 2 0]\n"
          ],
          "name": "stdout"
        }
      ]
    },
    {
      "cell_type": "code",
      "metadata": {
        "id": "_-1hBrbZ_BXu"
      },
      "source": [
        "correct = 0\n",
        "for i in range(len(predictions)):\n",
        "  if predictions[i] == test_labels[i]:\n",
        "    correct += 1"
      ],
      "execution_count": 103,
      "outputs": []
    },
    {
      "cell_type": "code",
      "metadata": {
        "colab": {
          "base_uri": "https://localhost:8080/"
        },
        "id": "H-1Qo1cg_Fmw",
        "outputId": "bec835c4-ca80-4daa-ac05-52de047761cb"
      },
      "source": [
        "predictions_accuracy = correct/len(test_labels)\n",
        "predictions_accuracy"
      ],
      "execution_count": 104,
      "outputs": [
        {
          "output_type": "execute_result",
          "data": {
            "text/plain": [
              "0.9066666666666666"
            ]
          },
          "metadata": {
            "tags": []
          },
          "execution_count": 104
        }
      ]
    },
    {
      "cell_type": "code",
      "metadata": {
        "colab": {
          "base_uri": "https://localhost:8080/"
        },
        "id": "UgWb9OpT_IAO",
        "outputId": "3e74f977-d5af-4465-dfdb-9d3eee300f29"
      },
      "source": [
        "print(\"The accuracy is: \" + str(round(predictions_accuracy * 100, 1)) + \"%\")"
      ],
      "execution_count": 105,
      "outputs": [
        {
          "output_type": "stream",
          "text": [
            "The accuracy is: 90.7%\n"
          ],
          "name": "stdout"
        }
      ]
    },
    {
      "cell_type": "code",
      "metadata": {
        "colab": {
          "base_uri": "https://localhost:8080/"
        },
        "id": "ZO9-r5vWMdLR",
        "outputId": "94b08a75-6efa-4639-83c1-f63530481132"
      },
      "source": [
        "c = 0\n",
        "for elem in test_labels:\n",
        "  if elem == 1:\n",
        "    c += 1\n",
        "print(c)"
      ],
      "execution_count": null,
      "outputs": [
        {
          "output_type": "stream",
          "text": [
            "50\n"
          ],
          "name": "stdout"
        }
      ]
    },
    {
      "cell_type": "markdown",
      "metadata": {
        "id": "7Af0AohIK7HM"
      },
      "source": [
        "Now on the speech samples: "
      ]
    },
    {
      "cell_type": "code",
      "metadata": {
        "id": "tGn8qYWV_KOY"
      },
      "source": [
        "speech_correct = 0\n",
        "for i in range(len(test_labels[:249])):\n",
        "    if predictions[i] == test_labels[i]:\n",
        "      speech_correct += 1"
      ],
      "execution_count": null,
      "outputs": []
    },
    {
      "cell_type": "code",
      "metadata": {
        "colab": {
          "base_uri": "https://localhost:8080/"
        },
        "id": "-Ab7lBOm_NXD",
        "outputId": "ebc2a467-2bd3-4821-af34-9e1da0ae3354"
      },
      "source": [
        "speech_correct/len(test_labels[:249])"
      ],
      "execution_count": null,
      "outputs": [
        {
          "output_type": "execute_result",
          "data": {
            "text/plain": [
              "1.0"
            ]
          },
          "metadata": {
            "tags": []
          },
          "execution_count": 22
        }
      ]
    },
    {
      "cell_type": "markdown",
      "metadata": {
        "id": "OfEYvOZtM3NK"
      },
      "source": [
        "Wow! 98.7% on the speech samples! "
      ]
    },
    {
      "cell_type": "code",
      "metadata": {
        "id": "wED00VHTNDx3"
      },
      "source": [
        "no_speech_correct = 0\n",
        "for i in range(len(test_labels[249:])):\n",
        "    if predictions[i] == test_labels[i]:\n",
        "      no_speech_correct += 1"
      ],
      "execution_count": null,
      "outputs": []
    },
    {
      "cell_type": "code",
      "metadata": {
        "colab": {
          "base_uri": "https://localhost:8080/"
        },
        "id": "Y50VI_0pNJKT",
        "outputId": "daab0fcc-e007-4d1b-d27c-70b007fe0c20"
      },
      "source": [
        "print(no_speech_correct/249)"
      ],
      "execution_count": null,
      "outputs": [
        {
          "output_type": "stream",
          "text": [
            "0.0\n"
          ],
          "name": "stdout"
        }
      ]
    },
    {
      "cell_type": "markdown",
      "metadata": {
        "id": "z2exh8oLNMcm"
      },
      "source": [
        "Same with no speech samples. Looking above, only three wrong for both categories and six wrong total. "
      ]
    },
    {
      "cell_type": "markdown",
      "metadata": {
        "id": "nRgjX9_LM9WX"
      },
      "source": [
        "### Confusion matrix and classification report"
      ]
    },
    {
      "cell_type": "code",
      "metadata": {
        "id": "IScycLKDNBR7"
      },
      "source": [
        "import numpy as np\n",
        "import itertools\n",
        "from sklearn.metrics import confusion_matrix"
      ],
      "execution_count": 106,
      "outputs": []
    },
    {
      "cell_type": "code",
      "metadata": {
        "id": "nouK1rWUNb5W"
      },
      "source": [
        "cm = confusion_matrix(test_labels, predictions)"
      ],
      "execution_count": 107,
      "outputs": []
    },
    {
      "cell_type": "code",
      "metadata": {
        "id": "TSOeK4p4NdX2"
      },
      "source": [
        "def plot_cm(cm, classes, normalize=False, title='Confusion Matrix', cmap=plt.cm.Blues):\n",
        "  plt.imshow(cm, interpolation='nearest', cmap=cmap)\n",
        "  plt.title(title)\n",
        "  plt.colorbar()\n",
        "  tick_marks = np.arange(len(classes))\n",
        "  plt.xticks(tick_marks, classes, rotation=45)\n",
        "  plt.yticks(tick_marks, classes)\n",
        "\n",
        "  if normalize:\n",
        "    cm = cm.astypea('float') / cm.sum(axis=1)[:, np.newaxis]\n",
        "    print('Normalized confusion matrix')\n",
        "  else:\n",
        "    print('Confusion matrix without normalization')\n",
        "\n",
        "  print(cm)\n",
        "\n",
        "  thresh = cm.max()/2.\n",
        "  for i, j in itertools.product(range(cm.shape[0]), range(cm.shape[1])):\n",
        "      plt.text(j, i, cm[i, j],\n",
        "               horizontalalignment=\"center\",\n",
        "               color=\"white\" if cm[i, j] > thresh else \"black\")\n",
        "  \n",
        "  plt.tight_layout()\n",
        "  plt.ylabel('True label')\n",
        "  plt.xlabel('Predicted label')"
      ],
      "execution_count": 108,
      "outputs": []
    },
    {
      "cell_type": "code",
      "metadata": {
        "colab": {
          "base_uri": "https://localhost:8080/",
          "height": 379
        },
        "id": "jm9eZ_gMNe6y",
        "outputId": "4d8203cd-6cce-4ec8-e8d7-99aa64c6d11a"
      },
      "source": [
        "plot_cm(cm, ['speech', 'snore','no speech'], title='Test Samples Confusion Matrix')"
      ],
      "execution_count": 110,
      "outputs": [
        {
          "output_type": "stream",
          "text": [
            "Confusion matrix without normalization\n",
            "[[48  0  2]\n",
            " [ 3 47  0]\n",
            " [ 9  0 41]]\n"
          ],
          "name": "stdout"
        },
        {
          "output_type": "display_data",
          "data": {
            "image/png": "[encoded data removed]",
            "text/plain": [
              "<Figure size 432x288 with 2 Axes>"
            ]
          },
          "metadata": {
            "tags": [],
            "needs_background": "light"
          }
        }
      ]
    },
    {
      "cell_type": "code",
      "metadata": {
        "colab": {
          "base_uri": "https://localhost:8080/"
        },
        "id": "pU1gOl1bNgim",
        "outputId": "c46b0461-8f93-43ee-98ea-ce8ed2be95a0"
      },
      "source": [
        "from sklearn.metrics import classification_report\n",
        "print(classification_report(test_labels, predictions, target_names=['no speech','speech']))"
      ],
      "execution_count": null,
      "outputs": [
        {
          "output_type": "stream",
          "text": [
            "              precision    recall  f1-score   support\n",
            "\n",
            "   no speech       1.00      1.00      1.00        50\n",
            "      speech       1.00      1.00      1.00        50\n",
            "\n",
            "    accuracy                           1.00       100\n",
            "   macro avg       1.00      1.00      1.00       100\n",
            "weighted avg       1.00      1.00      1.00       100\n",
            "\n"
          ],
          "name": "stdout"
        }
      ]
    }
  ]
}