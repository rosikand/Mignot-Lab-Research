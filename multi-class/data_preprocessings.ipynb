{
  "nbformat": 4,
  "nbformat_minor": 0,
  "metadata": {
    "accelerator": "GPU",
    "colab": {
      "name": "data_preprocessings.ipynb",
      "provenance": []
    },
    "kernelspec": {
      "display_name": "Python 3",
      "language": "python",
      "name": "python3"
    },
    "language_info": {
      "codemirror_mode": {
        "name": "ipython",
        "version": 3
      },
      "file_extension": ".py",
      "mimetype": "text/x-python",
      "name": "python",
      "nbconvert_exporter": "python",
      "pygments_lexer": "ipython3",
      "version": "3.7.4"
    }
  },
  "cells": [
    {
      "cell_type": "markdown",
      "metadata": {
        "id": "cGjLM64ViAr_"
      },
      "source": [
        "## Data Preprocessing"
      ]
    },
    {
      "cell_type": "code",
      "metadata": {
        "id": "Nvz1foP-1WW1"
      },
      "source": [
        "import numpy as np\n",
        "from glob import glob\n",
        "import librosa \n",
        "import matplotlib.pyplot as plt\n",
        "import pandas as pd\n",
        "import pylab\n",
        "import librosa.display"
      ],
      "execution_count": 1,
      "outputs": []
    },
    {
      "cell_type": "code",
      "metadata": {
        "colab": {
          "base_uri": "https://localhost:8080/"
        },
        "id": "r98TTZXw2B8U",
        "outputId": "0dbd73af-30b1-4a86-82d0-8b23c45bfd09"
      },
      "source": [
        "from google.colab import drive\n",
        "drive.mount('/content/drive')"
      ],
      "execution_count": 2,
      "outputs": [
        {
          "output_type": "stream",
          "text": [
            "Mounted at /content/drive\n"
          ],
          "name": "stdout"
        }
      ]
    },
    {
      "cell_type": "markdown",
      "metadata": {
        "id": "uJ4ayawG1WW5"
      },
      "source": [
        "### Data preprocessing"
      ]
    },
    {
      "cell_type": "code",
      "metadata": {
        "id": "C0WDaZ6R1WW5"
      },
      "source": [
        "# get paths to files \n",
        "speech_directory = '/content/drive/MyDrive/Mignot Lab Research/Experiments/one_sample/one-second-splits/speech'"
      ],
      "execution_count": 3,
      "outputs": []
    },
    {
      "cell_type": "code",
      "metadata": {
        "id": "CLQrWfxF1WW5"
      },
      "source": [
        "# create a list of all of the files in the folder using glob \n",
        "speech_subset = glob(speech_directory + '/*.wav')"
      ],
      "execution_count": 4,
      "outputs": []
    },
    {
      "cell_type": "code",
      "metadata": {
        "colab": {
          "base_uri": "https://localhost:8080/"
        },
        "id": "3nFYNc2j1WW5",
        "outputId": "62ba8dfc-4cd2-4529-aeed-b62c8df988d2"
      },
      "source": [
        "print(len(speech_subset))"
      ],
      "execution_count": 5,
      "outputs": [
        {
          "output_type": "stream",
          "text": [
            "2487\n"
          ],
          "name": "stdout"
        }
      ]
    },
    {
      "cell_type": "code",
      "metadata": {
        "id": "_fv0zYae6meg"
      },
      "source": [
        "speech_subset = speech_subset[:500] # for class balancing "
      ],
      "execution_count": 6,
      "outputs": []
    },
    {
      "cell_type": "code",
      "metadata": {
        "colab": {
          "base_uri": "https://localhost:8080/"
        },
        "id": "jIC16Cc81WW6",
        "outputId": "62a9c563-1db9-40dd-e9d8-20ca8e53b266"
      },
      "source": [
        "train_num_speech = round(.90*len(speech_subset))\n",
        "print(train_num_speech)"
      ],
      "execution_count": 8,
      "outputs": [
        {
          "output_type": "stream",
          "text": [
            "450\n"
          ],
          "name": "stdout"
        }
      ]
    },
    {
      "cell_type": "code",
      "metadata": {
        "colab": {
          "base_uri": "https://localhost:8080/"
        },
        "id": "bZ9UEmn31WW6",
        "outputId": "97c5d895-b1d9-4995-f962-cb40e3e3075d"
      },
      "source": [
        "speech_train = speech_subset[0:train_num_speech]\n",
        "print(len(speech_train))"
      ],
      "execution_count": 9,
      "outputs": [
        {
          "output_type": "stream",
          "text": [
            "450\n"
          ],
          "name": "stdout"
        }
      ]
    },
    {
      "cell_type": "code",
      "metadata": {
        "id": "rnw1-8PS1WW6"
      },
      "source": [
        "temp_speech_labels = []\n",
        "for i in range(len(speech_train)):\n",
        "    temp_speech_labels.append(0) # 0 = speech"
      ],
      "execution_count": 10,
      "outputs": []
    },
    {
      "cell_type": "markdown",
      "metadata": {
        "id": "XOBKLELt7KBy"
      },
      "source": [
        "Now for snore samples "
      ]
    },
    {
      "cell_type": "code",
      "metadata": {
        "id": "dNws6xQ77N1L"
      },
      "source": [
        "snore_directory = '/content/drive/MyDrive/Mignot Lab Research/Experiments/speech-vs-snore/1'"
      ],
      "execution_count": 12,
      "outputs": []
    },
    {
      "cell_type": "code",
      "metadata": {
        "id": "20KsjMFJ7Tld"
      },
      "source": [
        "# create a list of all of the files in the folder using glob \n",
        "snore_subset = glob(snore_directory + '/*.wav')"
      ],
      "execution_count": 13,
      "outputs": []
    },
    {
      "cell_type": "code",
      "metadata": {
        "colab": {
          "base_uri": "https://localhost:8080/"
        },
        "id": "qKmINZkB7Tnj",
        "outputId": "8580b3da-8bb1-457e-cb96-51f66dee6e27"
      },
      "source": [
        "print(len(snore_subset))"
      ],
      "execution_count": 14,
      "outputs": [
        {
          "output_type": "stream",
          "text": [
            "500\n"
          ],
          "name": "stdout"
        }
      ]
    },
    {
      "cell_type": "code",
      "metadata": {
        "colab": {
          "base_uri": "https://localhost:8080/"
        },
        "id": "zMh6j7KR7Tpu",
        "outputId": "d462c58a-7021-430d-d2f2-1f73b74a87c6"
      },
      "source": [
        "train_num_snore = round(.90*len(snore_subset))\n",
        "print(train_num_snore)"
      ],
      "execution_count": 15,
      "outputs": [
        {
          "output_type": "stream",
          "text": [
            "450\n"
          ],
          "name": "stdout"
        }
      ]
    },
    {
      "cell_type": "code",
      "metadata": {
        "colab": {
          "base_uri": "https://localhost:8080/"
        },
        "id": "nPXCM0-O7Trr",
        "outputId": "d9670994-dfb5-4d43-edfa-4121fdb82296"
      },
      "source": [
        "snore_train = snore_subset[0:train_num_snore]\n",
        "print(len(snore_train))"
      ],
      "execution_count": 16,
      "outputs": [
        {
          "output_type": "stream",
          "text": [
            "450\n"
          ],
          "name": "stdout"
        }
      ]
    },
    {
      "cell_type": "code",
      "metadata": {
        "id": "gIc5sefx7Tt1"
      },
      "source": [
        "temp_snore_labels = []\n",
        "for i in range(len(snore_train)):\n",
        "    temp_snore_labels.append(1) # 1 = speech"
      ],
      "execution_count": 17,
      "outputs": []
    },
    {
      "cell_type": "code",
      "metadata": {
        "id": "qMalhvk41WW6"
      },
      "source": [
        "train_data_points_raw = speech_train + snore_train"
      ],
      "execution_count": 18,
      "outputs": []
    },
    {
      "cell_type": "code",
      "metadata": {
        "id": "6WwcI2ny1WW6"
      },
      "source": [
        "train_labels = temp_speech_labels + temp_snore_labels\n",
        "train_labels = np.array(train_labels)"
      ],
      "execution_count": 19,
      "outputs": []
    },
    {
      "cell_type": "code",
      "metadata": {
        "colab": {
          "base_uri": "https://localhost:8080/"
        },
        "id": "fVSlJ-1NUNRW",
        "outputId": "99289a3d-73e9-4e90-8f47-01f0a40e9538"
      },
      "source": [
        "len(train_data_points_raw)"
      ],
      "execution_count": 20,
      "outputs": [
        {
          "output_type": "execute_result",
          "data": {
            "text/plain": [
              "900"
            ]
          },
          "metadata": {
            "tags": []
          },
          "execution_count": 20
        }
      ]
    },
    {
      "cell_type": "code",
      "metadata": {
        "colab": {
          "base_uri": "https://localhost:8080/"
        },
        "id": "exFXVFMo5XdO",
        "outputId": "2766ec84-3cd2-41af-9947-f4aaf3154e61"
      },
      "source": [
        "len(train_labels)"
      ],
      "execution_count": 21,
      "outputs": [
        {
          "output_type": "execute_result",
          "data": {
            "text/plain": [
              "900"
            ]
          },
          "metadata": {
            "tags": []
          },
          "execution_count": 21
        }
      ]
    },
    {
      "cell_type": "markdown",
      "metadata": {
        "id": "pWV7fksR8zsZ"
      },
      "source": [
        "### Pickle Training Labels"
      ]
    },
    {
      "cell_type": "code",
      "metadata": {
        "id": "afN8-0PV8y5A"
      },
      "source": [
        "import pickle\n",
        "out_file = open(\"/content/drive/MyDrive/Mignot Lab Research/Experiments/speech-vs-snore/train_labels.pkl\", \"wb\")\n",
        "pickle.dump(train_labels, out_file)\n",
        "out_file.close()"
      ],
      "execution_count": 24,
      "outputs": []
    },
    {
      "cell_type": "markdown",
      "metadata": {
        "id": "-anVnp6U1WW7"
      },
      "source": [
        "### Generate Mel Spectrograms"
      ]
    },
    {
      "cell_type": "code",
      "metadata": {
        "id": "-xKvECgrBvPq"
      },
      "source": [
        "train = []"
      ],
      "execution_count": 25,
      "outputs": []
    },
    {
      "cell_type": "code",
      "metadata": {
        "id": "bxucndJN1WW7"
      },
      "source": [
        "for elem in train_data_points_raw:\n",
        "    y, sr = librosa.load(elem)\n",
        "    time = np.arange(0, len(y)) / sr\n",
        "    S = librosa.feature.melspectrogram(y=y, sr=sr, n_mels=128,\n",
        "                                    fmax=8000)\n",
        "    train.append(S)"
      ],
      "execution_count": 26,
      "outputs": []
    },
    {
      "cell_type": "code",
      "metadata": {
        "id": "6NNjEPNLhfus"
      },
      "source": [
        "train = np.array(train)"
      ],
      "execution_count": 27,
      "outputs": []
    },
    {
      "cell_type": "code",
      "metadata": {
        "id": "zSemBZnQhdqM"
      },
      "source": [
        "out_file = open(\"/content/drive/MyDrive/Mignot Lab Research/Experiments/speech-vs-snore/train_samples.pkl\", \"wb\")\n",
        "pickle.dump(train, out_file)\n",
        "out_file.close()"
      ],
      "execution_count": 28,
      "outputs": []
    },
    {
      "cell_type": "markdown",
      "metadata": {
        "id": "tI_nb-Ts8ke-"
      },
      "source": [
        "---"
      ]
    },
    {
      "cell_type": "markdown",
      "metadata": {
        "id": "jlweTvWl8lH6"
      },
      "source": [
        "### Test data preprocessing"
      ]
    },
    {
      "cell_type": "code",
      "metadata": {
        "id": "ri23vu2L8m_l"
      },
      "source": [
        "# get paths to files \n",
        "speech_directory = '/content/drive/MyDrive/Mignot Lab Research/Experiments/one_sample/one-second-splits/speech'"
      ],
      "execution_count": 40,
      "outputs": []
    },
    {
      "cell_type": "code",
      "metadata": {
        "id": "M4Bnr4lf804U"
      },
      "source": [
        "# create a list of all of the files in the folder using glob \n",
        "speech_testset = glob(speech_directory + '/*.wav')"
      ],
      "execution_count": 41,
      "outputs": []
    },
    {
      "cell_type": "code",
      "metadata": {
        "colab": {
          "base_uri": "https://localhost:8080/"
        },
        "id": "4plAITJb83b2",
        "outputId": "3e33195a-a07f-44c0-e6be-cebdae8ae79e"
      },
      "source": [
        "print(len(speech_testset))"
      ],
      "execution_count": 42,
      "outputs": [
        {
          "output_type": "stream",
          "text": [
            "2487\n"
          ],
          "name": "stdout"
        }
      ]
    },
    {
      "cell_type": "code",
      "metadata": {
        "id": "DI77AvpA84qb"
      },
      "source": [
        "speech_testset = speech_testset[500:550] # for class balancing "
      ],
      "execution_count": 43,
      "outputs": []
    },
    {
      "cell_type": "code",
      "metadata": {
        "colab": {
          "base_uri": "https://localhost:8080/"
        },
        "id": "sPVjTzaA9UuM",
        "outputId": "44a700a1-f77f-4562-f5c2-bae0baed7262"
      },
      "source": [
        "print(len(speech_testset))"
      ],
      "execution_count": 44,
      "outputs": [
        {
          "output_type": "stream",
          "text": [
            "50\n"
          ],
          "name": "stdout"
        }
      ]
    },
    {
      "cell_type": "code",
      "metadata": {
        "id": "Pb5r6PAx9lRw"
      },
      "source": [
        "test_speech_labels = []\n",
        "for i in range(len(speech_testset)):\n",
        "    test_speech_labels.append(0) # 0 is equal to speech"
      ],
      "execution_count": 45,
      "outputs": []
    },
    {
      "cell_type": "code",
      "metadata": {
        "id": "vm0fIrw2949u"
      },
      "source": [
        "test_snore_labels = []\n",
        "for i in range(len(speech_testset)):\n",
        "    test_snore_labels.append(1) # 1 is equal to snore"
      ],
      "execution_count": 48,
      "outputs": []
    },
    {
      "cell_type": "code",
      "metadata": {
        "colab": {
          "base_uri": "https://localhost:8080/"
        },
        "id": "RxqxuiQs90HK",
        "outputId": "58fa6ef7-ba68-4c88-d3c1-31661ee8597f"
      },
      "source": [
        "len(test_snore_labels)"
      ],
      "execution_count": 49,
      "outputs": [
        {
          "output_type": "execute_result",
          "data": {
            "text/plain": [
              "50"
            ]
          },
          "metadata": {
            "tags": []
          },
          "execution_count": 49
        }
      ]
    },
    {
      "cell_type": "code",
      "metadata": {
        "id": "mTXBVapV-AI1"
      },
      "source": [
        "test_labels_official = test_speech_labels + test_snore_labels"
      ],
      "execution_count": 50,
      "outputs": []
    },
    {
      "cell_type": "code",
      "metadata": {
        "id": "PfZobnem-DV8"
      },
      "source": [
        "test_labels = np.array(test_labels_official)"
      ],
      "execution_count": 51,
      "outputs": []
    },
    {
      "cell_type": "code",
      "metadata": {
        "id": "nXneyGc1-J1C"
      },
      "source": [
        "import pickle\n",
        "out_file = open(\"/content/drive/MyDrive/Mignot Lab Research/Experiments/speech-vs-snore/test_labels.pkl\", \"wb\")\n",
        "pickle.dump(test_labels, out_file)\n",
        "out_file.close()"
      ],
      "execution_count": 52,
      "outputs": []
    },
    {
      "cell_type": "markdown",
      "metadata": {
        "id": "dkPa9hc6-jdS"
      },
      "source": [
        "Now again for snore samples"
      ]
    },
    {
      "cell_type": "code",
      "metadata": {
        "id": "Wt4BH8g7-hoE"
      },
      "source": [
        "snore_directory = '/content/drive/MyDrive/Mignot Lab Research/Experiments/speech-vs-snore/1'"
      ],
      "execution_count": 54,
      "outputs": []
    },
    {
      "cell_type": "code",
      "metadata": {
        "id": "JCzez9Ju-lMX"
      },
      "source": [
        "# create a list of all of the files in the folder using glob \n",
        "snore_subset = glob(snore_directory + '/*.wav')"
      ],
      "execution_count": 55,
      "outputs": []
    },
    {
      "cell_type": "code",
      "metadata": {
        "id": "HuwYsVU9-nr-"
      },
      "source": [
        "snore_test = snore_subset[450:]"
      ],
      "execution_count": 56,
      "outputs": []
    },
    {
      "cell_type": "code",
      "metadata": {
        "id": "mWHtdA70-wVY"
      },
      "source": [
        "final_test = speech_testset + snore_test"
      ],
      "execution_count": 58,
      "outputs": []
    },
    {
      "cell_type": "code",
      "metadata": {
        "id": "4rGbf4TH-6Zi"
      },
      "source": [
        "test = []"
      ],
      "execution_count": 60,
      "outputs": []
    },
    {
      "cell_type": "code",
      "metadata": {
        "id": "WP4kMNhL-7Rc"
      },
      "source": [
        "for elem in final_test:\n",
        "    y, sr = librosa.load(elem)\n",
        "    time = np.arange(0, len(y)) / sr\n",
        "    S = librosa.feature.melspectrogram(y=y, sr=sr, n_mels=128,\n",
        "                                    fmax=8000)\n",
        "    test.append(S)"
      ],
      "execution_count": 61,
      "outputs": []
    },
    {
      "cell_type": "code",
      "metadata": {
        "id": "eQ7javbI_Bk2"
      },
      "source": [
        "test = np.array(test)"
      ],
      "execution_count": 62,
      "outputs": []
    },
    {
      "cell_type": "code",
      "metadata": {
        "id": "PK-YtTll_Ef1"
      },
      "source": [
        "out_file = open(\"/content/drive/MyDrive/Mignot Lab Research/Experiments/speech-vs-snore/test_samples.pkl\", \"wb\")\n",
        "pickle.dump(test, out_file)\n",
        "out_file.close()"
      ],
      "execution_count": 63,
      "outputs": []
    }
  ]
}